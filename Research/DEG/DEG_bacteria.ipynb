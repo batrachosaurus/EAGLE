{
 "cells": [
  {
   "cell_type": "code",
   "execution_count": 1,
   "metadata": {},
   "outputs": [
    {
     "name": "stderr",
     "output_type": "stream",
     "text": [
      "/media/denis/Data/Data/Bioinf/Projects/Annotation/comparative/EAGLE_run_venv/local/lib/python2.7/site-packages/eagle/lib/general.py:81: YAMLLoadWarning: calling yaml.load() without Loader=... is deprecated, as the default Loader is unsafe. Please read https://msg.pyyaml.org/load for full details.\n",
      "  config = yaml.load(string)\n"
     ]
    }
   ],
   "source": [
    "# imports\n",
    "import os\n",
    "import re\n",
    "import json\n",
    "\n",
    "import pandas as pd\n",
    "from Bio.Seq import Seq\n",
    "\n",
    "from eagle.lib.seqs import SeqsDict"
   ]
  },
  {
   "cell_type": "code",
   "execution_count": 2,
   "metadata": {},
   "outputs": [],
   "source": [
    "# constants\n",
    "WORK_DIR = \"bacteria\"\n",
    "\n",
    "essential_nucl_fasta = \"bacteria/deg_essential/degseq-p.dat\"\n",
    "essential_annot = \"bacteria/deg_essential/degannotation-p.dat\"\n",
    "\n",
    "nonessential_nucl_fasta = \"bacteria/deg_nonessential/degseq-np.dat\"\n",
    "nonessential_annot = \"bacteria/deg_nonessential/degannotation-np.dat\"\n",
    "\n",
    "chr_id_path = \"bacteria/chr_id.txt\"\n",
    "summary_path = \"bacteria/summary_table.txt\""
   ]
  },
  {
   "cell_type": "code",
   "execution_count": 3,
   "metadata": {},
   "outputs": [],
   "source": [
    "# lib\n",
    "def get_gtfs(chr_dict, deg_annot_path, deg_seqs_fasta, deg_essential):\n",
    "    annot_df = pd.read_csv(deg_annot_path, sep=\"\\t\")\n",
    "    seqs_dict = SeqsDict.load_from_file(deg_seqs_fasta, low_memory=True)\n",
    "\n",
    "    gtfs_df = pd.DataFrame(list(annot_df.apply(prepare_deg_annot_line, axis=1, args=(chr_dict, seqs_dict))))\n",
    "    summary_list = list()\n",
    "    for deg_org in gtfs_df.groupby(\"org_DEG_ID\"):\n",
    "        summary_list.append(deg_org[1].iloc[0][[\"org_DEG_ID\", \"chr_id\", \"org_name\"]].to_dict())\n",
    "        gtf_df = deg_org[1][pd.notna(deg_org[1][\"seqid\"])][[\"seqid\", \"source\", \"type\", \"start\", \"end\", \"score\", \"strand\", \"frame\", \"attribute\"]]\n",
    "        \n",
    "        if deg_essential:\n",
    "            gtf_path = os.path.join(WORK_DIR, deg_org[0]+\"_essential.gtf\")\n",
    "            summary_list[-1].update({\"essential_genes\": gtf_df.shape[0], \"essential_genes_gtf\": gtf_path})\n",
    "        else:\n",
    "            gtf_path = os.path.join(WORK_DIR, deg_org[0]+\"_nonessential.gtf\")\n",
    "            summary_list[-1].update({\"nonessential_genes\": gtf_df.shape[0], \"nonessential_genes_gtf\": gtf_path})\n",
    "        if not gtf_df.empty:\n",
    "            gtf_df.to_csv(gtf_path, sep=\"\\t\", index=False, quotechar=\"'\")\n",
    "        gtf_path = None\n",
    "        \n",
    "        print(summary_list[-1])\n",
    "    return pd.DataFrame(summary_list)\n",
    "\n",
    "\n",
    "def prepare_deg_annot_line(row, chr_dict, ess_seqs_dict):\n",
    "    result_dict = {\n",
    "        \"org_DEG_ID\": row[\"#DEG_ORG\"],\n",
    "        \"chr_id\": row[\"#Refseq\"],\n",
    "        \"org_name\": row[\"#Organism\"],\n",
    "        # gtf fields\n",
    "        \"seqid\": None,\n",
    "        \"source\": \"DEG\",\n",
    "        \"type\": \"gene\",\n",
    "        \"start\": int(),\n",
    "        \"end\": int(),\n",
    "        \"score\": \"-\",\n",
    "        \"strand\": None,\n",
    "        \"frame\": \".\",\n",
    "        \"attribute\": json.dumps({\"gene_name\": row[\"#Gene_Name\"]}),\n",
    "    }\n",
    "    if row[\"#Refseq\"] not in chr_dict:\n",
    "        return result_dict    \n",
    "    ori = 1\n",
    "    match = search_in_chr(ess_seqs_dict[row[\"#DEG_AC\"]], chr_dict[row[\"#Refseq\"]])\n",
    "    if match is None:\n",
    "        match = search_in_chr(str(Seq(ess_seqs_dict[row[\"#DEG_AC\"]]).reverse_complement()), chr_dict[row[\"#Refseq\"]])\n",
    "        ori = -1\n",
    "    if match is not None:\n",
    "        result_dict[\"seqid\"] = match[0]\n",
    "        result_dict[\"start\"] = match[1] + 1\n",
    "        result_dict[\"end\"] = match[2]\n",
    "        if ori > 0:\n",
    "            result_dict[\"strand\"] = \"+\"\n",
    "        else:\n",
    "            result_dict[\"strand\"] = \"-\"\n",
    "    return result_dict\n",
    "\n",
    "\n",
    "def search_in_chr(seq, chr_seq_dict):\n",
    "    for seq_name in chr_seq_dict:\n",
    "        match = re.search(seq.lower(), chr_seq_dict[seq_name].lower())\n",
    "        if match is not None:\n",
    "            return seq_name.split()[0], match.start(), match.end()\n"
   ]
  },
  {
   "cell_type": "code",
   "execution_count": 4,
   "metadata": {},
   "outputs": [
    {
     "name": "stdout",
     "output_type": "stream",
     "text": [
      "{'org_name': 'Bacillus subtilis 168', 'essential_genes': 0, 'essential_genes_gtf': 'bacteria/DEG1001_essential.gtf', 'org_DEG_ID': 'DEG1001', 'chr_id': 'NC_000964'}\n",
      "{'org_name': 'Staphylococcus aureus N315', 'essential_genes': 0, 'essential_genes_gtf': 'bacteria/DEG1002_essential.gtf', 'org_DEG_ID': 'DEG1002', 'chr_id': 'NC_002745'}\n",
      "{'org_name': 'Vibrio cholerae N16961', 'essential_genes': 0, 'essential_genes_gtf': 'bacteria/DEG1003_essential.gtf', 'org_DEG_ID': 'DEG1003', 'chr_id': 'NC_002505'}\n",
      "{'org_name': 'Haemophilus influenzae Rd KW20', 'essential_genes': 0, 'essential_genes_gtf': 'bacteria/DEG1005_essential.gtf', 'org_DEG_ID': 'DEG1005', 'chr_id': 'NC_000907'}\n",
      "{'org_name': 'Mycoplasma genitalium G37', 'essential_genes': 0, 'essential_genes_gtf': 'bacteria/DEG1006_essential.gtf', 'org_DEG_ID': 'DEG1006', 'chr_id': 'NC_000908'}\n",
      "{'org_name': 'Streptococcus pneumoniae', 'essential_genes': 0, 'essential_genes_gtf': 'bacteria/DEG1007_essential.gtf', 'org_DEG_ID': 'DEG1007', 'chr_id': 'NC_003028'}\n",
      "{'org_name': 'Helicobacter pylori 26695', 'essential_genes': 0, 'essential_genes_gtf': 'bacteria/DEG1008_essential.gtf', 'org_DEG_ID': 'DEG1008', 'chr_id': 'NC_000915'}\n",
      "{'org_name': 'Mycobacterium tuberculosis H37Rv', 'essential_genes': 0, 'essential_genes_gtf': 'bacteria/DEG1010_essential.gtf', 'org_DEG_ID': 'DEG1010', 'chr_id': 'NC_000962'}\n",
      "{'org_name': 'Salmonella typhimurium LT2', 'essential_genes': 0, 'essential_genes_gtf': 'bacteria/DEG1011_essential.gtf', 'org_DEG_ID': 'DEG1011', 'chr_id': 'NC_003197'}\n",
      "{'org_name': 'Francisella novicida U112', 'essential_genes': 0, 'essential_genes_gtf': 'bacteria/DEG1012_essential.gtf', 'org_DEG_ID': 'DEG1012', 'chr_id': 'NC_008601'}\n",
      "{'org_name': 'Acinetobacter baylyi ADP1', 'essential_genes': 0, 'essential_genes_gtf': 'bacteria/DEG1013_essential.gtf', 'org_DEG_ID': 'DEG1013', 'chr_id': 'NC_005966'}\n",
      "{'org_name': 'Mycoplasma pulmonis UAB CTIP', 'essential_genes': 0, 'essential_genes_gtf': 'bacteria/DEG1014_essential.gtf', 'org_DEG_ID': 'DEG1014', 'chr_id': 'NC_002771'}\n",
      "{'org_name': 'Pseudomonas aeruginosa UCBPP-PA14', 'essential_genes': 0, 'essential_genes_gtf': 'bacteria/DEG1015_essential.gtf', 'org_DEG_ID': 'DEG1015', 'chr_id': 'NC_008463'}\n",
      "{'org_name': 'Salmonella enterica serovar Typhi', 'essential_genes': 0, 'essential_genes_gtf': 'bacteria/DEG1016_essential.gtf', 'org_DEG_ID': 'DEG1016', 'chr_id': 'NC_004631'}\n",
      "{'org_name': 'Staphylococcus aureus NCTC 8325', 'essential_genes': 0, 'essential_genes_gtf': 'bacteria/DEG1017_essential.gtf', 'org_DEG_ID': 'DEG1017', 'chr_id': 'NC_007795'}\n",
      "{'org_name': 'Escherichia coli MG1655 I', 'essential_genes': 309, 'essential_genes_gtf': 'bacteria/DEG1018_essential.gtf', 'org_DEG_ID': 'DEG1018', 'chr_id': 'NC_000913'}\n",
      "{'org_name': 'Escherichia coli MG1655 II', 'essential_genes': 0, 'essential_genes_gtf': 'bacteria/DEG1019_essential.gtf', 'org_DEG_ID': 'DEG1019', 'chr_id': 'NC_000913'}\n",
      "{'org_name': 'Caulobacter crescentus', 'essential_genes': 0, 'essential_genes_gtf': 'bacteria/DEG1020_essential.gtf', 'org_DEG_ID': 'DEG1020', 'chr_id': 'NC_011916'}\n",
      "{'org_name': 'Streptococcus sanguinis', 'essential_genes': 0, 'essential_genes_gtf': 'bacteria/DEG1021_essential.gtf', 'org_DEG_ID': 'DEG1021', 'chr_id': 'NC_009009'}\n",
      "{'org_name': 'Porphyromonas gingivalis ATCC 33277', 'essential_genes': 0, 'essential_genes_gtf': 'bacteria/DEG1022_essential.gtf', 'org_DEG_ID': 'DEG1022', 'chr_id': 'NC_010729'}\n",
      "{'org_name': 'Bacteroides thetaiotaomicron VPI-5482', 'essential_genes': 0, 'essential_genes_gtf': 'bacteria/DEG1023_essential.gtf', 'org_DEG_ID': 'DEG1023', 'chr_id': 'NC_004663'}\n",
      "{'org_name': 'Burkholderia thailandensis E264', 'essential_genes': 0, 'essential_genes_gtf': 'bacteria/DEG1024_essential.gtf', 'org_DEG_ID': 'DEG1024', 'chr_id': 'NC_007651'}\n",
      "{'org_name': 'Mycobacterium tuberculosis H37Rv II', 'essential_genes': 0, 'essential_genes_gtf': 'bacteria/DEG1025_essential.gtf', 'org_DEG_ID': 'DEG1025', 'chr_id': 'NC_000962'}\n",
      "{'org_name': 'Salmonella enterica subsp. enterica serovar Typhimurium str. 14028S', 'essential_genes': 0, 'essential_genes_gtf': 'bacteria/DEG1026_essential.gtf', 'org_DEG_ID': 'DEG1026', 'chr_id': 'NC_016856'}\n",
      "{'org_name': 'Mycobacterium tuberculosis H37Rv III', 'essential_genes': 0, 'essential_genes_gtf': 'bacteria/DEG1027_essential.gtf', 'org_DEG_ID': 'DEG1027', 'chr_id': 'NC_000962'}\n",
      "{'org_name': 'Sphingomonas wittichii RW1', 'essential_genes': 0, 'essential_genes_gtf': 'bacteria/DEG1028_essential.gtf', 'org_DEG_ID': 'DEG1028', 'chr_id': 'NC_009511'}\n",
      "{'org_name': 'Shewanella oneidensis MR-1', 'essential_genes': 0, 'essential_genes_gtf': 'bacteria/DEG1029_essential.gtf', 'org_DEG_ID': 'DEG1029', 'chr_id': 'NC_004347'}\n",
      "{'org_name': 'Pseudomonas aeruginosa PAO1', 'essential_genes': 0, 'essential_genes_gtf': 'bacteria/DEG1030_essential.gtf', 'org_DEG_ID': 'DEG1030', 'chr_id': 'NC_002516'}\n",
      "{'org_name': 'Campylobacter jejuni subsp. jejuni NCTC 11168 = ATCC 700819', 'essential_genes': 0, 'essential_genes_gtf': 'bacteria/DEG1031_essential.gtf', 'org_DEG_ID': 'DEG1031', 'chr_id': 'NC_002163'}\n",
      "{'org_name': 'Salmonella enterica serovar Typhimurium SL1344', 'essential_genes': 0, 'essential_genes_gtf': 'bacteria/DEG1032_essential.gtf', 'org_DEG_ID': 'DEG1032', 'chr_id': 'NC_016810'}\n",
      "{'org_name': 'Salmonella enterica serovar Typhi Ty2', 'essential_genes': 0, 'essential_genes_gtf': 'bacteria/DEG1033_essential.gtf', 'org_DEG_ID': 'DEG1033', 'chr_id': 'NC_004631'}\n",
      "{'org_name': 'Bacteroides fragilis 638R', 'essential_genes': 0, 'essential_genes_gtf': 'bacteria/DEG1034_essential.gtf', 'org_DEG_ID': 'DEG1034', 'chr_id': 'NC_016776'}\n",
      "{'org_name': 'Burkholderia pseudomallei K96243', 'essential_genes': 0, 'essential_genes_gtf': 'bacteria/DEG1035_essential.gtf', 'org_DEG_ID': 'DEG1035', 'chr_id': 'NC_006350'}\n",
      "{'org_name': 'Pseudomonas aeruginosa PAO1', 'essential_genes': 0, 'essential_genes_gtf': 'bacteria/DEG1036_essential.gtf', 'org_DEG_ID': 'DEG1036', 'chr_id': 'NC_002516'}\n",
      "{'org_name': 'Streptococcus pyogenes MGAS5448', 'essential_genes': 0, 'essential_genes_gtf': 'bacteria/DEG1037_essential.gtf', 'org_DEG_ID': 'DEG1037', 'chr_id': 'NC_007297'}\n",
      "{'org_name': 'Streptococcus pyogenes NZ131', 'essential_genes': 0, 'essential_genes_gtf': 'bacteria/DEG1038_essential.gtf', 'org_DEG_ID': 'DEG1038', 'chr_id': 'NC_011375'}\n",
      "{'org_name': 'Porphyromonas gingivalis ATCC 33277', 'essential_genes': 0, 'essential_genes_gtf': 'bacteria/DEG1039_essential.gtf', 'org_DEG_ID': 'DEG1039', 'chr_id': 'NC_010729'}\n",
      "{'org_name': 'Synechococcus elongatus PCC 7942', 'essential_genes': 0, 'essential_genes_gtf': 'bacteria/DEG1040_essential.gtf', 'org_DEG_ID': 'DEG1040', 'chr_id': 'NC_007604'}\n",
      "{'org_name': 'Rhodopseudomonas palustris CGA009', 'essential_genes': 0, 'essential_genes_gtf': 'bacteria/DEG1041_essential.gtf', 'org_DEG_ID': 'DEG1041', 'chr_id': 'NC_005296'}\n",
      "{'org_name': 'Streptococcus agalactiae A909', 'essential_genes': 0, 'essential_genes_gtf': 'bacteria/DEG1042_essential.gtf', 'org_DEG_ID': 'DEG1042', 'chr_id': 'NC_007432'}\n",
      "{'org_name': 'Acinetobacter baumannii ATCC 17978', 'essential_genes': 0, 'essential_genes_gtf': 'bacteria/DEG1043_essential.gtf', 'org_DEG_ID': 'DEG1043', 'chr_id': 'NC_009085'}\n",
      "{'org_name': 'Acinetobacter baumannii ATCC 17978', 'essential_genes': 0, 'essential_genes_gtf': 'bacteria/DEG1044_essential.gtf', 'org_DEG_ID': 'DEG1044', 'chr_id': 'NC_009085'}\n",
      "{'org_name': 'NC_003062', 'essential_genes': 0, 'essential_genes_gtf': 'bacteria/DEG1045_essential.gtf', 'org_DEG_ID': 'DEG1045', 'chr_id': 'Agrobacterium f'}\n",
      "{'org_name': 'Brevundimonas subvibrioides ATCC 15264', 'essential_genes': 0, 'essential_genes_gtf': 'bacteria/DEG1046_essential.gtf', 'org_DEG_ID': 'DEG1046', 'chr_id': 'NC_014375'}\n",
      "{'org_name': 'Bacillus thuringiensis BMB171', 'essential_genes': 0, 'essential_genes_gtf': 'bacteria/DEG1047_essential.gtf', 'org_DEG_ID': 'DEG1047', 'chr_id': 'NC_014171'}\n",
      "{'org_name': 'Escherichia coli ST131 strain EC958', 'essential_genes': 0, 'essential_genes_gtf': 'bacteria/DEG1048_essential.gtf', 'org_DEG_ID': 'DEG1048', 'chr_id': 'HG941718'}\n",
      "{'org_name': 'Campylobacter jejuni subsp. jejuni NCTC 11168 = ATCC 700819', 'essential_genes': 0, 'essential_genes_gtf': 'bacteria/DEG1049_essential.gtf', 'org_DEG_ID': 'DEG1049', 'chr_id': 'NC_002163'}\n",
      "{'org_name': 'Campylobacter jejuni subsp. jejuni 81-176', 'essential_genes': 0, 'essential_genes_gtf': 'bacteria/DEG1050_essential.gtf', 'org_DEG_ID': 'DEG1050', 'chr_id': 'NC_008787'}\n",
      "got essential summary\n"
     ]
    },
    {
     "name": "stderr",
     "output_type": "stream",
     "text": [
      "/media/denis/Data/Data/Bioinf/Projects/Annotation/comparative/EAGLE_run_venv/local/lib/python2.7/site-packages/IPython/core/interactiveshell.py:2818: DtypeWarning: Columns (3) have mixed types. Specify dtype option on import or set low_memory=False.\n",
      "  if self.run_code(code, result):\n"
     ]
    },
    {
     "ename": "KeyboardInterrupt",
     "evalue": "",
     "output_type": "error",
     "traceback": [
      "\u001b[0;31m---------------------------------------------------------------------------\u001b[0m",
      "\u001b[0;31mKeyboardInterrupt\u001b[0m                         Traceback (most recent call last)",
      "\u001b[0;32m<ipython-input-4-a8843bac59ed>\u001b[0m in \u001b[0;36m<module>\u001b[0;34m()\u001b[0m\n\u001b[1;32m      7\u001b[0m \u001b[0messential_summary_df\u001b[0m \u001b[0;34m=\u001b[0m \u001b[0mget_gtfs\u001b[0m\u001b[0;34m(\u001b[0m\u001b[0mchr_dict\u001b[0m\u001b[0;34m=\u001b[0m\u001b[0mchr_dict\u001b[0m\u001b[0;34m,\u001b[0m \u001b[0mdeg_annot_path\u001b[0m\u001b[0;34m=\u001b[0m\u001b[0messential_annot\u001b[0m\u001b[0;34m,\u001b[0m \u001b[0mdeg_seqs_fasta\u001b[0m\u001b[0;34m=\u001b[0m\u001b[0messential_nucl_fasta\u001b[0m\u001b[0;34m,\u001b[0m \u001b[0mdeg_essential\u001b[0m\u001b[0;34m=\u001b[0m\u001b[0mTrue\u001b[0m\u001b[0;34m)\u001b[0m\u001b[0;34m\u001b[0m\u001b[0m\n\u001b[1;32m      8\u001b[0m \u001b[0;32mprint\u001b[0m\u001b[0;34m(\u001b[0m\u001b[0;34m\"got essential summary\"\u001b[0m\u001b[0;34m)\u001b[0m\u001b[0;34m\u001b[0m\u001b[0m\n\u001b[0;32m----> 9\u001b[0;31m \u001b[0mnonessential_summary_df\u001b[0m \u001b[0;34m=\u001b[0m \u001b[0mget_gtfs\u001b[0m\u001b[0;34m(\u001b[0m\u001b[0mchr_dict\u001b[0m\u001b[0;34m=\u001b[0m\u001b[0mchr_dict\u001b[0m\u001b[0;34m,\u001b[0m \u001b[0mdeg_annot_path\u001b[0m\u001b[0;34m=\u001b[0m\u001b[0mnonessential_annot\u001b[0m\u001b[0;34m,\u001b[0m \u001b[0mdeg_seqs_fasta\u001b[0m\u001b[0;34m=\u001b[0m\u001b[0mnonessential_nucl_fasta\u001b[0m\u001b[0;34m,\u001b[0m \u001b[0mdeg_essential\u001b[0m\u001b[0;34m=\u001b[0m\u001b[0mTrue\u001b[0m\u001b[0;34m)\u001b[0m\u001b[0;34m\u001b[0m\u001b[0m\n\u001b[0m\u001b[1;32m     10\u001b[0m \u001b[0mnonessential_summary_df\u001b[0m\u001b[0;34m[\u001b[0m\u001b[0;34m\"org_DEG_ID\"\u001b[0m\u001b[0;34m]\u001b[0m \u001b[0;34m=\u001b[0m \u001b[0mnonessential_summary_df\u001b[0m\u001b[0;34m[\u001b[0m\u001b[0;34m\"org_DEG_ID\"\u001b[0m\u001b[0;34m]\u001b[0m\u001b[0;34m.\u001b[0m\u001b[0mapply\u001b[0m\u001b[0;34m(\u001b[0m\u001b[0;32mlambda\u001b[0m \u001b[0morg_deg_id\u001b[0m\u001b[0;34m:\u001b[0m \u001b[0morg_deg_id\u001b[0m\u001b[0;34m.\u001b[0m\u001b[0mreplace\u001b[0m\u001b[0;34m(\u001b[0m\u001b[0;34m\"DNEG\"\u001b[0m\u001b[0;34m,\u001b[0m \u001b[0;34m\"DEG\"\u001b[0m\u001b[0;34m)\u001b[0m\u001b[0;34m)\u001b[0m\u001b[0;34m\u001b[0m\u001b[0m\n\u001b[1;32m     11\u001b[0m \u001b[0;34m\u001b[0m\u001b[0m\n",
      "\u001b[0;32m<ipython-input-3-6d368811626e>\u001b[0m in \u001b[0;36mget_gtfs\u001b[0;34m(chr_dict, deg_annot_path, deg_seqs_fasta, deg_essential)\u001b[0m\n\u001b[1;32m      2\u001b[0m \u001b[0;32mdef\u001b[0m \u001b[0mget_gtfs\u001b[0m\u001b[0;34m(\u001b[0m\u001b[0mchr_dict\u001b[0m\u001b[0;34m,\u001b[0m \u001b[0mdeg_annot_path\u001b[0m\u001b[0;34m,\u001b[0m \u001b[0mdeg_seqs_fasta\u001b[0m\u001b[0;34m,\u001b[0m \u001b[0mdeg_essential\u001b[0m\u001b[0;34m)\u001b[0m\u001b[0;34m:\u001b[0m\u001b[0;34m\u001b[0m\u001b[0m\n\u001b[1;32m      3\u001b[0m     \u001b[0mannot_df\u001b[0m \u001b[0;34m=\u001b[0m \u001b[0mpd\u001b[0m\u001b[0;34m.\u001b[0m\u001b[0mread_csv\u001b[0m\u001b[0;34m(\u001b[0m\u001b[0mdeg_annot_path\u001b[0m\u001b[0;34m,\u001b[0m \u001b[0msep\u001b[0m\u001b[0;34m=\u001b[0m\u001b[0;34m\"\\t\"\u001b[0m\u001b[0;34m)\u001b[0m\u001b[0;34m\u001b[0m\u001b[0m\n\u001b[0;32m----> 4\u001b[0;31m     \u001b[0mseqs_dict\u001b[0m \u001b[0;34m=\u001b[0m \u001b[0mSeqsDict\u001b[0m\u001b[0;34m.\u001b[0m\u001b[0mload_from_file\u001b[0m\u001b[0;34m(\u001b[0m\u001b[0mdeg_seqs_fasta\u001b[0m\u001b[0;34m,\u001b[0m \u001b[0mlow_memory\u001b[0m\u001b[0;34m=\u001b[0m\u001b[0mTrue\u001b[0m\u001b[0;34m)\u001b[0m\u001b[0;34m\u001b[0m\u001b[0m\n\u001b[0m\u001b[1;32m      5\u001b[0m \u001b[0;34m\u001b[0m\u001b[0m\n\u001b[1;32m      6\u001b[0m     \u001b[0mgtfs_df\u001b[0m \u001b[0;34m=\u001b[0m \u001b[0mpd\u001b[0m\u001b[0;34m.\u001b[0m\u001b[0mDataFrame\u001b[0m\u001b[0;34m(\u001b[0m\u001b[0mlist\u001b[0m\u001b[0;34m(\u001b[0m\u001b[0mannot_df\u001b[0m\u001b[0;34m.\u001b[0m\u001b[0mapply\u001b[0m\u001b[0;34m(\u001b[0m\u001b[0mprepare_deg_annot_line\u001b[0m\u001b[0;34m,\u001b[0m \u001b[0maxis\u001b[0m\u001b[0;34m=\u001b[0m\u001b[0;36m1\u001b[0m\u001b[0;34m,\u001b[0m \u001b[0margs\u001b[0m\u001b[0;34m=\u001b[0m\u001b[0;34m(\u001b[0m\u001b[0mchr_dict\u001b[0m\u001b[0;34m,\u001b[0m \u001b[0mseqs_dict\u001b[0m\u001b[0;34m)\u001b[0m\u001b[0;34m)\u001b[0m\u001b[0;34m)\u001b[0m\u001b[0;34m)\u001b[0m\u001b[0;34m\u001b[0m\u001b[0m\n",
      "\u001b[0;32m/media/denis/Data/Data/Bioinf/Projects/Annotation/comparative/EAGLE_run_venv/local/lib/python2.7/site-packages/eagle/lib/seqs.py\u001b[0m in \u001b[0;36mload_from_file\u001b[0;34m(cls, seqs_path, seqs_format, low_memory, **kwargs)\u001b[0m\n\u001b[1;32m    145\u001b[0m                                                    \u001b[0mmode\u001b[0m\u001b[0;34m=\u001b[0m\u001b[0;34m'r+'\u001b[0m\u001b[0;34m,\u001b[0m\u001b[0;34m\u001b[0m\u001b[0m\n\u001b[1;32m    146\u001b[0m                                                    \u001b[0mshape\u001b[0m\u001b[0;34m=\u001b[0m\u001b[0mseqs_array\u001b[0m\u001b[0;34m.\u001b[0m\u001b[0mshape\u001b[0m\u001b[0;34m[\u001b[0m\u001b[0;36m0\u001b[0m\u001b[0;34m]\u001b[0m\u001b[0;34m+\u001b[0m\u001b[0mread_chunk_size\u001b[0m\u001b[0;34m,\u001b[0m\u001b[0;34m\u001b[0m\u001b[0m\n\u001b[0;32m--> 147\u001b[0;31m                                                    order='C')\n\u001b[0m\u001b[1;32m    148\u001b[0m                         \u001b[0;32melse\u001b[0m\u001b[0;34m:\u001b[0m\u001b[0;34m\u001b[0m\u001b[0m\n\u001b[1;32m    149\u001b[0m                             \u001b[0mseqs_array\u001b[0m \u001b[0;34m=\u001b[0m \u001b[0mnp\u001b[0m\u001b[0;34m.\u001b[0m\u001b[0mconcatenate\u001b[0m\u001b[0;34m(\u001b[0m\u001b[0;34m(\u001b[0m\u001b[0mseqs_array\u001b[0m\u001b[0;34m,\u001b[0m \u001b[0mnp\u001b[0m\u001b[0;34m.\u001b[0m\u001b[0mzeros\u001b[0m\u001b[0;34m(\u001b[0m\u001b[0mread_chunk_size\u001b[0m\u001b[0;34m,\u001b[0m \u001b[0mdtype\u001b[0m\u001b[0;34m=\u001b[0m\u001b[0mseqs_array\u001b[0m\u001b[0;34m.\u001b[0m\u001b[0mdtype\u001b[0m\u001b[0;34m)\u001b[0m\u001b[0;34m)\u001b[0m\u001b[0;34m)\u001b[0m\u001b[0;34m\u001b[0m\u001b[0m\n",
      "\u001b[0;32m/media/denis/Data/Data/Bioinf/Projects/Annotation/comparative/EAGLE_run_venv/local/lib/python2.7/site-packages/numpy/core/memmap.pyc\u001b[0m in \u001b[0;36m__new__\u001b[0;34m(subtype, filename, dtype, mode, offset, shape, order)\u001b[0m\n\u001b[1;32m    250\u001b[0m                 \u001b[0mfid\u001b[0m\u001b[0;34m.\u001b[0m\u001b[0mseek\u001b[0m\u001b[0;34m(\u001b[0m\u001b[0mbytes\u001b[0m \u001b[0;34m-\u001b[0m \u001b[0;36m1\u001b[0m\u001b[0;34m,\u001b[0m \u001b[0;36m0\u001b[0m\u001b[0;34m)\u001b[0m\u001b[0;34m\u001b[0m\u001b[0m\n\u001b[1;32m    251\u001b[0m                 \u001b[0mfid\u001b[0m\u001b[0;34m.\u001b[0m\u001b[0mwrite\u001b[0m\u001b[0;34m(\u001b[0m\u001b[0;34mb'\\0'\u001b[0m\u001b[0;34m)\u001b[0m\u001b[0;34m\u001b[0m\u001b[0m\n\u001b[0;32m--> 252\u001b[0;31m                 \u001b[0mfid\u001b[0m\u001b[0;34m.\u001b[0m\u001b[0mflush\u001b[0m\u001b[0;34m(\u001b[0m\u001b[0;34m)\u001b[0m\u001b[0;34m\u001b[0m\u001b[0m\n\u001b[0m\u001b[1;32m    253\u001b[0m \u001b[0;34m\u001b[0m\u001b[0m\n\u001b[1;32m    254\u001b[0m             \u001b[0;32mif\u001b[0m \u001b[0mmode\u001b[0m \u001b[0;34m==\u001b[0m \u001b[0;34m'c'\u001b[0m\u001b[0;34m:\u001b[0m\u001b[0;34m\u001b[0m\u001b[0m\n",
      "\u001b[0;31mKeyboardInterrupt\u001b[0m: "
     ]
    }
   ],
   "source": [
    "# main\n",
    "chr_dict = dict()\n",
    "chr_id_df = pd.read_csv(chr_id_path, sep=\"\\t\", index_col=\"chr_id\")\n",
    "for chr_id in chr_id_df.index:\n",
    "    chr_dict[chr_id] = SeqsDict.load_from_file(chr_id_df.loc[chr_id][\"fna_path\"], low_memory=True)\n",
    "\n",
    "essential_summary_df = get_gtfs(chr_dict=chr_dict, deg_annot_path=essential_annot, deg_seqs_fasta=essential_nucl_fasta, deg_essential=True)\n",
    "print(\"got essential summary\")\n",
    "nonessential_summary_df = get_gtfs(chr_dict=chr_dict, deg_annot_path=nonessential_annot, deg_seqs_fasta=nonessential_nucl_fasta, deg_essential=True)\n",
    "nonessential_summary_df[\"org_DEG_ID\"] = nonessential_summary_df[\"org_DEG_ID\"].apply(lambda org_deg_id: org_deg_id.replace(\"DNEG\", \"DEG\"))\n",
    "\n",
    "summary_df = essential_summary_df.merge(nonessential_summary_df, on=\"org_DEG_ID\")\n",
    "# summary_df[\"fna_path\"] = sammary_df[\"chr_id\"].apply(lambda chr_id: chr_id_df.loc[chr_id][\"fna_path\"])\n",
    "summary_df.merge(chr_id_df, on=\"chr_id\")\n",
    "sammary_df.to_csv(os.path.join(WORK_DIR, \"summary_table.txt\"))"
   ]
  },
  {
   "cell_type": "code",
   "execution_count": 21,
   "metadata": {
    "scrolled": true
   },
   "outputs": [
    {
     "data": {
      "text/plain": [
       "Index([u'#DEG_ORG', u'#DEG_AC', u'#Gene_Name', u'#Gene_Ref', u'#COG',\n",
       "       u'#Class', u'#Function', u'#Organism', u'#Refseq', u'#Condition', u'#-',\n",
       "       u'#GO', u'#UNIPROT_AC'],\n",
       "      dtype='object')"
      ]
     },
     "execution_count": 21,
     "metadata": {},
     "output_type": "execute_result"
    }
   ],
   "source": [
    "ess_annot_df.head(10).T.index"
   ]
  }
 ],
 "metadata": {
  "kernelspec": {
   "display_name": "Python 2",
   "language": "python",
   "name": "python2"
  },
  "language_info": {
   "codemirror_mode": {
    "name": "ipython",
    "version": 2
   },
   "file_extension": ".py",
   "mimetype": "text/x-python",
   "name": "python",
   "nbconvert_exporter": "python",
   "pygments_lexer": "ipython2",
   "version": "2.7.15rc1"
  }
 },
 "nbformat": 4,
 "nbformat_minor": 2
}
