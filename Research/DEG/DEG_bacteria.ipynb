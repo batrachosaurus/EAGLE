{
 "cells": [
  {
   "cell_type": "code",
   "execution_count": 1,
   "metadata": {},
   "outputs": [
    {
     "name": "stderr",
     "output_type": "stream",
     "text": [
      "/media/denis/Data/Data/Bioinf/Projects/Annotation/comparative/EAGLE_run_venv/local/lib/python2.7/site-packages/eagle/lib/general.py:81: YAMLLoadWarning: calling yaml.load() without Loader=... is deprecated, as the default Loader is unsafe. Please read https://msg.pyyaml.org/load for full details.\n",
      "  config = yaml.load(string)\n"
     ]
    }
   ],
   "source": [
    "# imports\n",
    "import os\n",
    "import re\n",
    "\n",
    "import pandas as pd\n",
    "from Bio.Seq import Seq\n",
    "\n",
    "from eagle.lib.seqs import SeqsDict"
   ]
  },
  {
   "cell_type": "code",
   "execution_count": 5,
   "metadata": {},
   "outputs": [],
   "source": [
    "# constants\n",
    "essential_nucl_fasta = \"bacteria/deg_essential/degseq-p.dat\"\n",
    "essential_annot = \"bacteria/deg_essential/degannotation-p.dat\"\n",
    "\n",
    "nonessential_nucl_fasta = \"bacteria/deg_nonessential/degseq-np.dat\"\n",
    "nonessential_annot = \"bacteria/deg_nonessential/degannotation-np.dat\"\n",
    "\n",
    "chr_id_path = \"bacteria/chr_id.txt\"\n",
    "summary_path = \"bacteria/summary_table.txt\""
   ]
  },
  {
   "cell_type": "code",
   "execution_count": 7,
   "metadata": {},
   "outputs": [],
   "source": [
    "# lib\n",
    "def get_gtfs(chr_dict, deg_annot_path, deg_seqs_fasta, deg_essential):\n",
    "    annot_df = pd.read_csv(deg_annot_path, sep=\"\\t\")\n",
    "    seqs_dict = SeqsDict.load_from_file(deg_seqs_fasta)\n",
    "    ess_rev_seqs_dict = SeqsDict.load_from_dict({deg_ac: str(Seq(seqs_dict[deg_ac]).reverse_complement()) for deg_ac in seqs_dict})\n",
    "\n",
    "    gtfs_df = pd.DataFrame(list(annot_df.apply(prepare_deg_annot_line, axis=1, args=(chr_dict, seqs_dict, rev_seqs_dict))))\n",
    "    \n",
    "    return\n",
    "\n",
    "\n",
    "def prepare_deg_annot_line(row, chr_dict, ess_seqs_dict, ess_rev_seqs_dict):\n",
    "    return"
   ]
  },
  {
   "cell_type": "code",
   "execution_count": 4,
   "metadata": {},
   "outputs": [],
   "source": [
    "# main\n",
    "chr_dict = dict()\n",
    "chr_id_df = pd.read_csv(chr_id_path, sep=\"\\t\", index_col=\"chr_id\")\n",
    "for chr_id in chr_id_df.index:\n",
    "    chr_dict[chr_id] = SeqsDict.load_from_file(chr_id_df.loc[chr_id][\"fna_path\"])\n",
    "\n",
    "essential_summary_df = get_gtfs(chr_dict=chr_dict, deg_annot_path=essential_annot, deg_seqs_fasta=essential_nucl_fasta, deg_essential=True)\n",
    "nonessential_summary_df = get_gtfs(chr_dict=chr_dict, deg_annot_path=nonessential_annot, deg_seqs_fasta=nonessential_nucl_fasta, deg_essential=True)"
   ]
  },
  {
   "cell_type": "code",
   "execution_count": null,
   "metadata": {},
   "outputs": [],
   "source": []
  },
  {
   "cell_type": "code",
   "execution_count": 21,
   "metadata": {
    "scrolled": true
   },
   "outputs": [
    {
     "data": {
      "text/plain": [
       "Index([u'#DEG_ORG', u'#DEG_AC', u'#Gene_Name', u'#Gene_Ref', u'#COG',\n",
       "       u'#Class', u'#Function', u'#Organism', u'#Refseq', u'#Condition', u'#-',\n",
       "       u'#GO', u'#UNIPROT_AC'],\n",
       "      dtype='object')"
      ]
     },
     "execution_count": 21,
     "metadata": {},
     "output_type": "execute_result"
    }
   ],
   "source": [
    "ess_annot_df.head(10).T.index"
   ]
  }
 ],
 "metadata": {
  "kernelspec": {
   "display_name": "Python 2",
   "language": "python",
   "name": "python2"
  },
  "language_info": {
   "codemirror_mode": {
    "name": "ipython",
    "version": 2
   },
   "file_extension": ".py",
   "mimetype": "text/x-python",
   "name": "python",
   "nbconvert_exporter": "python",
   "pygments_lexer": "ipython2",
   "version": "2.7.15rc1"
  }
 },
 "nbformat": 4,
 "nbformat_minor": 2
}
