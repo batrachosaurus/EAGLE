{
 "cells": [
  {
   "cell_type": "code",
   "execution_count": 65,
   "metadata": {},
   "outputs": [],
   "source": [
    "import wget\n",
    "import gzip\n",
    "import sys\n",
    "import os\n",
    "import platform\n",
    "import json\n",
    "import pickle\n",
    "import subprocess\n",
    "import multiprocessing as mp\n",
    "from collections import OrderedDict, defaultdict\n",
    "import redis\n",
    "\n",
    "import numpy as np\n",
    "import pandas\n",
    "from Bio import Phylo\n",
    "from matplotlib import pyplot as plt\n",
    "\n",
    "from EAGLE.constants import EAGLE_logger\n",
    "from EAGLE.lib.seqs import shred_seqs, dump_fasta_dict, load_fasta_to_dict\n",
    "from EAGLE.lib.phylo import PhyloTree, compare_trees\n",
    "from EAGLE.lib.alignment import MultAln"
   ]
  },
  {
   "cell_type": "code",
   "execution_count": 11,
   "metadata": {},
   "outputs": [
    {
     "name": "stdout",
     "output_type": "stream",
     "text": [
      "Erwiniaceae\n",
      "Rhodospirillaceae\n",
      "Helicobacteraceae\n",
      "Halomonadaceae\n",
      "Alteromonadaceae\n",
      "Sphingomonadaceae\n",
      "Rhodobacteraceae\n",
      "Pseudonocardiaceae\n",
      "Bradyrhizobiaceae\n",
      "Burkholderiaceae\n",
      "Vibrionaceae\n",
      "Oxalobacteraceae\n",
      "Comamonadaceae\n",
      "Enterobacteriaceae\n",
      "Alcaligenaceae\n",
      "Flavobacteriaceae\n",
      "Erythrobacteraceae\n",
      "Micrococcaceae\n",
      "Microbacteriaceae\n",
      "Planococcaceae\n",
      "Ectothiorhodospiraceae\n",
      "Spirochaetaceae\n",
      "Acetobacteraceae\n",
      "Peptococcaceae\n",
      "Morganellaceae\n",
      "Lachnospiraceae\n",
      "Xanthomonadaceae\n",
      "Cytophagaceae\n",
      "Bifidobacteriaceae\n",
      "Thermaceae\n",
      "336\n",
      "750\n",
      "1388\n",
      "1399\n"
     ]
    }
   ],
   "source": [
    "fams_dict = json.load(open(\"EAGLEdb/bacteria/bact_fam.json\"))\n",
    "genera_num_list = list()\n",
    "sp_num_list = list()\n",
    "strain_num_list = list()\n",
    "special_keys = (\"16S_rRNA_tree\", \"16S_rRNA_tsv\", \"16S_rRNA_fasta\", \"blastdb\", \"repr_profile\", \"fam_fna\", \"chr_id\")\n",
    "fam_num = 0\n",
    "for fam_name in fams_dict.keys():\n",
    "    if fam_name in (\"db_dir\", \"db_repr_profiles\", \"fam_fna\"):\n",
    "        continue\n",
    "    fam_num += 1\n",
    "    genera_num = 0\n",
    "    sp_num = 0\n",
    "    strain_num = 0\n",
    "    for genus in fams_dict[fam_name].keys(): \n",
    "        if genus in special_keys:\n",
    "            continue\n",
    "        genera_num += 1\n",
    "        for sp in fams_dict[fam_name][genus].keys():\n",
    "            sp_num += 1\n",
    "            for strain in fams_dict[fam_name][genus][sp].keys():\n",
    "                strain_num += 1\n",
    "    genera_num_list.append(genera_num)\n",
    "    sp_num_list.append(sp_num)\n",
    "    strain_num_list.append(strain_num)\n",
    "    if genera_num >= 4 and strain_num >= 8:\n",
    "        print(fam_name)\n",
    "\n",
    "print(fam_num)\n",
    "print(sum(genera_num_list))\n",
    "print(sum(sp_num_list))    \n",
    "print(sum(strain_num_list))    "
   ]
  },
  {
   "cell_type": "code",
   "execution_count": 13,
   "metadata": {},
   "outputs": [],
   "source": [
    "def list_to_txt(in_list, txt_path):\n",
    "    f = open(txt_path, 'w')\n",
    "    for elm in in_list:\n",
    "        f.write(str(elm)+\"\\n\")\n",
    "    f.close()\n",
    "    \n",
    "\n",
    "list_to_txt(strain_num_list, \"strain_num.txt\")"
   ]
  },
  {
   "cell_type": "code",
   "execution_count": 66,
   "metadata": {},
   "outputs": [],
   "source": [
    "gtf_df = pandas.read_csv(\"runs/example_genomes/erwin_result/NC_013961.fasta.gtf\", sep=\"\\t\")\n",
    "gtf_df[\"p_uniformity\"] = gtf_df.apply(lambda row: json.loads(row[\"attribute\"].replace(\"None\", \"null\").replace(\"'\", '\"'))[\"p_uniformity\"], axis=1)"
   ]
  },
  {
   "cell_type": "code",
   "execution_count": 76,
   "metadata": {},
   "outputs": [
    {
     "data": {
      "text/plain": [
       "Text(0,0.5,'ORFs number')"
      ]
     },
     "execution_count": 76,
     "metadata": {},
     "output_type": "execute_result"
    },
    {
     "data": {
      "image/png": "[encoded data removed]",
      "text/plain": [
       "<Figure size 432x288 with 1 Axes>"
      ]
     },
     "metadata": {},
     "output_type": "display_data"
    }
   ],
   "source": [
    "ax = gtf_df[\"p_uniformity\"].hist(bins=25);\n",
    "ax.set_xlabel(\"Chi-squared P-value\")\n",
    "ax.set_ylabel(\"ORFs number\")"
   ]
  },
  {
   "cell_type": "code",
   "execution_count": 78,
   "metadata": {},
   "outputs": [
    {
     "name": "stdout",
     "output_type": "stream",
     "text": [
      "13.1661442006\n"
     ]
    }
   ],
   "source": [
    "proc_bact = json.load(open(\"processed_bact.json\"))\n",
    "resp_bact = json.load(open(\"responsed_bacteria.json\"))\n",
    "n_t = 0\n",
    "n = 0\n",
    "for i in range(len(resp_bact)):\n",
    "    if resp_bact[i] == proc_bact[i]:\n",
    "        n_t += 1\n",
    "    n += 1\n",
    "print(100.0*float(n_t)/float(n))"
   ]
  },
  {
   "cell_type": "code",
   "execution_count": 6,
   "metadata": {},
   "outputs": [
    {
     "data": {
      "text/plain": [
       "u'EAGLEdb/bacteria/db_repr_profiles'"
      ]
     },
     "execution_count": 6,
     "metadata": {},
     "output_type": "execute_result"
    }
   ],
   "source": [
    "fams_dict[\"db_repr_profiles\"]"
   ]
  },
  {
   "cell_type": "code",
   "execution_count": 11,
   "metadata": {},
   "outputs": [
    {
     "name": "stdout",
     "output_type": "stream",
     "text": [
      "[Clade(branch_length=0.089128, name='seend__x__'), Clade(branch_length=-1e-06, name='Cenet__x_2'), Clade(branch_length=0.0, name='Cenet__x_3'), Clade(branch_length=-0.0, name='Cenet__x_4'), Clade(branch_length=-3e-06, name='Cenet__x_0'), Clade(branch_length=-1.9e-05, name='Cenet__x_5'), Clade(branch_length=-5.9e-05, name='Cenet__x__'), Clade(branch_length=-0.000214, name='Cenet__x_1'), Clade(branch_length=-0.0, name='Kosac__x_2'), Clade(branch_length=0.0, name='Kosac__x_0'), Clade(branch_length=-0.0, name='Kosac__x_1'), Clade(branch_length=-2e-06, name='Kosac__x_5'), Clade(branch_length=-1.9e-05, name='Kosac__x__'), Clade(branch_length=-2.5e-05, name='Kosac__x_3'), Clade(branch_length=-7.9e-05, name='Kosac__x_4'), Clade(branch_length=-1.1e-05, name='Plger__x__'), Clade(branch_length=-1e-06, name='Plger__x_4'), Clade(branch_length=0.0, name='Plger__x_5'), Clade(branch_length=-0.0, name='Plger__x_2'), Clade(branch_length=0.0, name='Plger__x_1'), Clade(branch_length=-1e-06, name='Plger__x_0'), Clade(branch_length=-6.3e-05, name='Plger__x_3'), Clade(branch_length=-5e-06, name='Kocow__x_4'), Clade(branch_length=-4e-06, name='Kocow__x_2'), Clade(branch_length=-4e-06, name='Kocow__x_5'), Clade(branch_length=4e-06, name='Kocow__x_3'), Clade(branch_length=-9e-06, name='Kocow__x__'), Clade(branch_length=-1.9e-05, name='Kocow__x_0'), Clade(branch_length=-7e-05, name='Kocow__x_1'), Clade(branch_length=-0.000518, name='Shbla__x_1'), Clade(branch_length=-1.5e-05, name='Shbla__x_2'), Clade(branch_length=1.5e-05, name='Shbla__x_4'), Clade(branch_length=-5.4e-05, name='Shbla__x__'), Clade(branch_length=3.4e-05, name='Shbla__x_0'), Clade(branch_length=-3.4e-05, name='Shbla__x_3'), Clade(branch_length=-3.7e-05, name='Shbla__x_6'), Clade(branch_length=-4.7e-05, name='Shbla__x_5'), Clade(branch_length=1e-06, name='Crsak__x__'), Clade(branch_length=-1e-06, name='Crsak__x_2'), Clade(branch_length=-2e-06, name='Crsak__x_5'), Clade(branch_length=-2e-06, name='Crsak__x_0'), Clade(branch_length=-1.2e-05, name='Crsak__x_4'), Clade(branch_length=-4.2e-05, name='Crsak__x_1'), Clade(branch_length=-0.000435, name='Crsak__x_3'), Clade(branch_length=-0.000937, name='Plsta__x_0'), Clade(branch_length=-1.6e-05, name='Plsta__x_4'), Clade(branch_length=-1.1e-05, name='Plsta__x_2'), Clade(branch_length=-9e-06, name='Plsta__x_3'), Clade(branch_length=-7e-06, name='Plsta__x_1'), Clade(branch_length=7e-06, name='Plsta__x__')]\n",
      "[Clade(branch_length=0.089128, name='seend__x__'), Clade(branch_length=0.0496245, name='Plsta__x_0'), Clade(branch_length=0.0514825, name='Plsta__x_4'), Clade(branch_length=0.0515035, name='Plsta__x_2'), Clade(branch_length=0.0519255, name='Crsak__x_3'), Clade(branch_length=0.0556955, name='Shbla__x_1'), Clade(branch_length=0.0522885, name='Cenet__x_1'), Clade(branch_length=0.0515165, name='Plsta__x_3'), Clade(branch_length=0.0527535, name='Crsak__x_1'), Clade(branch_length=0.0506885, name='Kocow__x_1'), Clade(branch_length=0.0526575, name='Cenet__x__'), Clade(branch_length=0.0515415, name='Plsta__x__'), Clade(branch_length=0.0515275, name='Plsta__x_1'), Clade(branch_length=0.0528255, name='Crsak__x_4'), Clade(branch_length=0.0566955, name='Shbla__x_5'), Clade(branch_length=0.0566655, name='Shbla__x__'), Clade(branch_length=0.0508095, name='Kocow__x_0'), Clade(branch_length=0.0505325, name='Plger__x_3'), Clade(branch_length=0.0490605, name='Kosac__x_4'), Clade(branch_length=0.0527565, name='Cenet__x_5'), Clade(branch_length=0.0528475, name='Crsak__x_0'), Clade(branch_length=0.0567525, name='Shbla__x_6'), Clade(branch_length=0.0567885, name='Sh_bact_4'), Clade(branch_length=0.0567585, name='Shbla__x_2'), Clade(branch_length=0.0508385, name='Kocow__x__'), Clade(branch_length=0.0506475, name='Plger__x__'), Clade(branch_length=0.0491935, name='Kosac__x_3'), Clade(branch_length=0.0527915, name='Ce_bact_0'), Clade(branch_length=0.0528495, name='Crsak__x_5'), Clade(branch_length=0.0567925, name='Shbla__x_3'), Clade(branch_length=0.0568605, name='Shbla__x_0'), Clade(branch_length=0.0508515, name='Kocow__x_4'), Clade(branch_length=0.0506685, name='Plger__x_0'), Clade(branch_length=0.0492245, name='Kosac__x__'), Clade(branch_length=0.0527965, name='Cenet__x_2'), Clade(branch_length=0.0528525, name='Crsak__x_2'), Clade(branch_length=0.0528545, name='Crsak__x__'), Clade(branch_length=0.0508575, name='Kocow__x_2'), Clade(branch_length=0.0506695, name='Plger__x_4'), Clade(branch_length=0.0492605, name='Kosac__x_5'), Clade(branch_length=0.0527985, name='Cenet__x_4'), Clade(branch_length=0.0527985, name='Cenet__x_3'), Clade(branch_length=0.0508695, name='Kocow__x_3'), Clade(branch_length=0.0508615, name='Kocow__x_5'), Clade(branch_length=0.0506715, name='Plger__x_5'), Clade(branch_length=0.0492645, name='Ko_bact_2'), Clade(branch_length=0.0506715, name='Plger__x_1'), Clade(branch_length=0.0506715, name='Plger__x_2'), Clade(branch_length=0.0492645, name='Kosac__x_1'), Clade(branch_length=0.0492645, name='Kosac__x_0')]\n"
     ]
    }
   ],
   "source": [
    "phylo_tree = PhyloTree.load_tree(tree_file=\"btax_tree.nwk\")\n",
    "print(phylo_tree.tree.get_terminals())\n",
    "phylo_tree.full_seq_names = {\"Kosac__x_2\": \"Ko_bact_2\", \"Cenet__x_0\": \"Ce_bact_0\", \"Shbla__x_4\": \"Sh_bact_4\"}\n",
    "phylo_tree.set_full_names(inplace=True)\n",
    "print(phylo_tree.tree.get_terminals())"
   ]
  },
  {
   "cell_type": "code",
   "execution_count": 2,
   "metadata": {},
   "outputs": [
    {
     "ename": "NameError",
     "evalue": "name 'phylo_tree' is not defined",
     "output_type": "error",
     "traceback": [
      "\u001b[0;31m\u001b[0m",
      "\u001b[0;31mNameError\u001b[0mTraceback (most recent call last)",
      "\u001b[0;32m<ipython-input-2-8a601613c218>\u001b[0m in \u001b[0;36m<module>\u001b[0;34m()\u001b[0m\n\u001b[0;32m----> 1\u001b[0;31m \u001b[0mphylo_tree\u001b[0m\u001b[0;34m.\u001b[0m\u001b[0mtree\u001b[0m\u001b[0;34m.\u001b[0m\u001b[0mcollapse\u001b[0m\u001b[0;34m(\u001b[0m\u001b[0;32mlambda\u001b[0m \u001b[0mc\u001b[0m\u001b[0;34m:\u001b[0m \u001b[0mc\u001b[0m\u001b[0;34m.\u001b[0m\u001b[0mname\u001b[0m \u001b[0;32min\u001b[0m \u001b[0mphylo_tree\u001b[0m\u001b[0;34m.\u001b[0m\u001b[0mfull_seq_names\u001b[0m\u001b[0;34m.\u001b[0m\u001b[0mvalues\u001b[0m\u001b[0;34m(\u001b[0m\u001b[0;34m)\u001b[0m\u001b[0;34m)\u001b[0m\u001b[0;34m\u001b[0m\u001b[0m\n\u001b[0m\u001b[1;32m      2\u001b[0m \u001b[0mphylo_tree\u001b[0m\u001b[0;34m.\u001b[0m\u001b[0mtree\u001b[0m\u001b[0;34m.\u001b[0m\u001b[0mget_terminals\u001b[0m\u001b[0;34m(\u001b[0m\u001b[0;34m)\u001b[0m\u001b[0;34m\u001b[0m\u001b[0m\n",
      "\u001b[0;31mNameError\u001b[0m: name 'phylo_tree' is not defined"
     ]
    }
   ],
   "source": [
    "phylo_tree.tree.collapse(lambda c: c.name in phylo_tree.full_seq_names.values())\n",
    "phylo_tree.tree.get_terminals()"
   ]
  },
  {
   "cell_type": "code",
   "execution_count": 23,
   "metadata": {},
   "outputs": [
    {
     "name": "stdout",
     "output_type": "stream",
     "text": [
      "[Clade(branch_length=0.089128, name='seend__x__'), Clade(branch_length=-1e-06, name='Cenet__x_2'), Clade(branch_length=0.0, name='Cenet__x_3'), Clade(branch_length=-0.0, name='Cenet__x_4'), Clade(branch_length=-3e-06, name='Cenet__x_0'), Clade(branch_length=-1.9e-05, name='Cenet__x_5'), Clade(branch_length=-5.9e-05, name='Cenet__x__'), Clade(branch_length=-0.000214, name='Cenet__x_1'), Clade(branch_length=-0.0, name='Kosac__x_2'), Clade(branch_length=0.0, name='Kosac__x_0'), Clade(branch_length=-0.0, name='Kosac__x_1'), Clade(branch_length=-2e-06, name='Kosac__x_5'), Clade(branch_length=-1.9e-05, name='Kosac__x__'), Clade(branch_length=-2.5e-05, name='Kosac__x_3'), Clade(branch_length=-7.9e-05, name='Kosac__x_4'), Clade(branch_length=-1.1e-05, name='Plger__x__'), Clade(branch_length=-1e-06, name='Plger__x_4'), Clade(branch_length=0.0, name='Plger__x_5'), Clade(branch_length=-0.0, name='Plger__x_2'), Clade(branch_length=0.0, name='Plger__x_1'), Clade(branch_length=-1e-06, name='Plger__x_0'), Clade(branch_length=-6.3e-05, name='Plger__x_3'), Clade(branch_length=-5e-06, name='Kocow__x_4'), Clade(branch_length=-4e-06, name='Kocow__x_2'), Clade(branch_length=-4e-06, name='Kocow__x_5'), Clade(branch_length=4e-06, name='Kocow__x_3'), Clade(branch_length=-9e-06, name='Kocow__x__'), Clade(branch_length=-1.9e-05, name='Kocow__x_0'), Clade(branch_length=-7e-05, name='Kocow__x_1'), Clade(branch_length=-0.000518, name='Shbla__x_1'), Clade(branch_length=-1.5e-05, name='Shbla__x_2'), Clade(branch_length=1.5e-05, name='Shbla__x_4'), Clade(branch_length=-5.4e-05, name='Shbla__x__'), Clade(branch_length=3.4e-05, name='Shbla__x_0'), Clade(branch_length=-3.4e-05, name='Shbla__x_3'), Clade(branch_length=-3.7e-05, name='Shbla__x_6'), Clade(branch_length=-4.7e-05, name='Shbla__x_5'), Clade(branch_length=1e-06, name='Crsak__x__'), Clade(branch_length=-1e-06, name='Crsak__x_2'), Clade(branch_length=-2e-06, name='Crsak__x_5'), Clade(branch_length=-2e-06, name='Crsak__x_0'), Clade(branch_length=-1.2e-05, name='Crsak__x_4'), Clade(branch_length=-4.2e-05, name='Crsak__x_1'), Clade(branch_length=-0.000435, name='Crsak__x_3'), Clade(branch_length=-0.000937, name='Plsta__x_0'), Clade(branch_length=-1.6e-05, name='Plsta__x_4'), Clade(branch_length=-1.1e-05, name='Plsta__x_2'), Clade(branch_length=-9e-06, name='Plsta__x_3'), Clade(branch_length=-7e-06, name='Plsta__x_1'), Clade(branch_length=7e-06, name='Plsta__x__')]\n",
      "[Clade(branch_length=0.089128, name='seend__x__'), Clade(branch_length=0.0, name='Cenet__x_3'), Clade(branch_length=-0.0, name='Cenet__x_4'), Clade(branch_length=-3e-06, name='Cenet__x_0'), Clade(branch_length=-1.9e-05, name='Cenet__x_5'), Clade(branch_length=-5.9e-05, name='Cenet__x__'), Clade(branch_length=-0.000214, name='Cenet__x_1'), Clade(branch_length=-0.0, name='Kosac__x_2'), Clade(branch_length=0.0, name='Kosac__x_0'), Clade(branch_length=-0.0, name='Kosac__x_1'), Clade(branch_length=-2e-06, name='Kosac__x_5'), Clade(branch_length=-1.9e-05, name='Kosac__x__'), Clade(branch_length=-2.5e-05, name='Kosac__x_3'), Clade(branch_length=-7.9e-05, name='Kosac__x_4'), Clade(branch_length=-1.1e-05, name='Plger__x__'), Clade(branch_length=-1e-06, name='Plger__x_4'), Clade(branch_length=0.0, name='Plger__x_5'), Clade(branch_length=-0.0, name='Plger__x_2'), Clade(branch_length=0.0, name='Plger__x_1'), Clade(branch_length=-1e-06, name='Plger__x_0'), Clade(branch_length=-6.3e-05, name='Plger__x_3'), Clade(branch_length=-5e-06, name='Kocow__x_4'), Clade(branch_length=-4e-06, name='Kocow__x_2'), Clade(branch_length=-4e-06, name='Kocow__x_5'), Clade(branch_length=4e-06, name='Kocow__x_3'), Clade(branch_length=-9e-06, name='Kocow__x__'), Clade(branch_length=-1.9e-05, name='Kocow__x_0'), Clade(branch_length=-7e-05, name='Kocow__x_1'), Clade(branch_length=-0.000518, name='Shbla__x_1'), Clade(branch_length=-1.5e-05, name='Shbla__x_2'), Clade(branch_length=1.5e-05, name='Shbla__x_4'), Clade(branch_length=-5.4e-05, name='Shbla__x__'), Clade(branch_length=3.4e-05, name='Shbla__x_0'), Clade(branch_length=-3.4e-05, name='Shbla__x_3'), Clade(branch_length=-3.7e-05, name='Shbla__x_6'), Clade(branch_length=-4.7e-05, name='Shbla__x_5'), Clade(branch_length=1e-06, name='Crsak__x__'), Clade(branch_length=-1e-06, name='Crsak__x_2'), Clade(branch_length=-2e-06, name='Crsak__x_5'), Clade(branch_length=-2e-06, name='Crsak__x_0'), Clade(branch_length=-1.2e-05, name='Crsak__x_4'), Clade(branch_length=-4.2e-05, name='Crsak__x_1'), Clade(branch_length=-0.000435, name='Crsak__x_3'), Clade(branch_length=-0.000937, name='Plsta__x_0'), Clade(branch_length=-1.6e-05, name='Plsta__x_4'), Clade(branch_length=-1.1e-05, name='Plsta__x_2'), Clade(branch_length=-9e-06, name='Plsta__x_3'), Clade(branch_length=-7e-06, name='Plsta__x_1'), Clade(branch_length=7e-06, name='Plsta__x__')]\n"
     ]
    }
   ],
   "source": [
    "btax_tree = PhyloTree.load_tree(tree_file=\"btax_tree.nwk\")\n",
    "print(btax_tree.tree.get_terminals())\n",
    "btax_tree.tree.collapse(lambda c: c.name[0:5] == \"Cenet\")\n",
    "print(btax_tree.tree.get_terminals())"
   ]
  },
  {
   "cell_type": "code",
   "execution_count": 17,
   "metadata": {},
   "outputs": [
    {
     "data": {
      "text/plain": [
       "[Clade(branch_length=1e-05),\n",
       " Clade(branch_length=-0.00094, name='Plautia_stali_symbiont'),\n",
       " Clade(branch_length=-0.00044, name='Cronobacter_sakazakii'),\n",
       " Clade(branch_length=0.0),\n",
       " Clade(branch_length=4e-05),\n",
       " Clade(branch_length=5e-05),\n",
       " Clade(branch_length=-7e-05, name='Kosakonia_cowanii'),\n",
       " Clade(branch_length=0.0),\n",
       " Clade(branch_length=0.0),\n",
       " Clade(branch_length=0.0),\n",
       " Clade(branch_length=0.0)]"
      ]
     },
     "execution_count": 17,
     "metadata": {},
     "output_type": "execute_result"
    }
   ],
   "source": [
    "phylo_tree1 = PhyloTree.load_tree(tree_file=\"to_comp1.nwk\")\n",
    "phylo_tree2 = PhyloTree.load_tree(tree_file=\"to_comp2.nwk\")\n",
    "phylo_tree2.tree.get_terminals()\n",
    "#phylo_tree2.dump_tree(\"to_comp2.1.nwk\")\n",
    "#compare_trees(phylo_tree1=phylo_tree1, phylo_tree2=phylo_tree2)"
   ]
  },
  {
   "cell_type": "code",
   "execution_count": 3,
   "metadata": {},
   "outputs": [
    {
     "name": "stdout",
     "output_type": "stream",
     "text": [
      "Calculate distances between trees\r\n",
      "\r\n",
      "Output written to file \"tmp/comp.res\"\r\n",
      "\r\n",
      "Done.\r\n",
      "\r\n"
     ]
    }
   ],
   "source": [
    "!export PATH=$PATH:/home/loven-doo/tools/bin && ftreedist tmp/to_comp.nwk tmp/comp.res -dtype s"
   ]
  },
  {
   "cell_type": "code",
   "execution_count": 91,
   "metadata": {},
   "outputs": [
    {
     "name": "stdout",
     "output_type": "stream",
     "text": [
      "set(['Plautia_stali_symbiont', 'Kosakonia_cowanii', 'Cronobacter_sakazakii'])\n"
     ]
    },
    {
     "data": {
      "text/plain": [
       "['Plautia_stali_symbiont', 'Cronobacter_sakazakii', 'Kosakonia_cowanii']"
      ]
     },
     "execution_count": 91,
     "metadata": {},
     "output_type": "execute_result"
    }
   ],
   "source": [
    "names_to_remain = set(phylo_tree1.names) & set(phylo_tree2.names)\n",
    "print(names_to_remain)\n",
    "while True:\n",
    "    try:\n",
    "        phylo_tree2.tree.collapse(lambda c: c.name in (set(phylo_tree2.names) - names_to_remain))\n",
    "    except ValueError:\n",
    "        break\n",
    "phylo_tree2.names"
   ]
  },
  {
   "cell_type": "code",
   "execution_count": 13,
   "metadata": {},
   "outputs": [
    {
     "name": "stdout",
     "output_type": "stream",
     "text": [
      "('cons_cols_by_windows', array([0, 0, 0, 0, 0, 0, 0, 0, 0, 0, 0, 0, 0, 0, 0, 0, 0, 0, 0, 0, 0, 0,\n",
      "       0, 0]))\n"
     ]
    },
    {
     "ename": "TypeError",
     "evalue": "ufunc 'isnan' not supported for the input types, and the inputs could not be safely coerced to any supported types according to the casting rule ''safe''",
     "output_type": "error",
     "traceback": [
      "\u001b[0;31m\u001b[0m",
      "\u001b[0;31mTypeError\u001b[0mTraceback (most recent call last)",
      "\u001b[0;32m<ipython-input-13-d1496d6a7af5>\u001b[0m in \u001b[0;36m<module>\u001b[0;34m()\u001b[0m\n\u001b[1;32m      1\u001b[0m \u001b[0mmult_aln\u001b[0m \u001b[0;34m=\u001b[0m \u001b[0mMultAln\u001b[0m\u001b[0;34m.\u001b[0m\u001b[0mload_alignment\u001b[0m\u001b[0;34m(\u001b[0m\u001b[0maln_fasta_path\u001b[0m\u001b[0;34m=\u001b[0m\u001b[0;34m\"runs/NC_011750_576818-577147_mult_aln.fasta\"\u001b[0m\u001b[0;34m)\u001b[0m\u001b[0;34m\u001b[0m\u001b[0m\n\u001b[1;32m      2\u001b[0m \u001b[0mpv\u001b[0m \u001b[0;34m=\u001b[0m \u001b[0mmult_aln\u001b[0m\u001b[0;34m.\u001b[0m\u001b[0mimprove_aln\u001b[0m\u001b[0;34m(\u001b[0m\u001b[0minplace\u001b[0m\u001b[0;34m=\u001b[0m\u001b[0mFalse\u001b[0m\u001b[0;34m)\u001b[0m\u001b[0;34m.\u001b[0m\u001b[0mestimate_uniformity\u001b[0m\u001b[0;34m(\u001b[0m\u001b[0;34m)\u001b[0m\u001b[0;34m\u001b[0m\u001b[0m\n\u001b[0;32m----> 3\u001b[0;31m \u001b[0;32mif\u001b[0m \u001b[0mnp\u001b[0m\u001b[0;34m.\u001b[0m\u001b[0misnan\u001b[0m\u001b[0;34m(\u001b[0m\u001b[0mdict\u001b[0m\u001b[0;34m(\u001b[0m\u001b[0;34m)\u001b[0m\u001b[0;34m)\u001b[0m\u001b[0;34m:\u001b[0m\u001b[0;34m\u001b[0m\u001b[0m\n\u001b[0m\u001b[1;32m      4\u001b[0m     \u001b[0;32mprint\u001b[0m\u001b[0;34m(\u001b[0m\u001b[0;34m\"OK\"\u001b[0m\u001b[0;34m)\u001b[0m\u001b[0;34m\u001b[0m\u001b[0m\n\u001b[1;32m      5\u001b[0m \u001b[0;32mprint\u001b[0m\u001b[0;34m(\u001b[0m\u001b[0mtype\u001b[0m\u001b[0;34m(\u001b[0m\u001b[0mpv\u001b[0m\u001b[0;34m)\u001b[0m\u001b[0;34m)\u001b[0m\u001b[0;34m\u001b[0m\u001b[0m\n",
      "\u001b[0;31mTypeError\u001b[0m: ufunc 'isnan' not supported for the input types, and the inputs could not be safely coerced to any supported types according to the casting rule ''safe''"
     ]
    }
   ],
   "source": [
    "mult_aln = MultAln.load_alignment(aln_fasta_path=\"runs/NC_011750_576818-577147_mult_aln.fasta\")\n",
    "pv = mult_aln.improve_aln(inplace=False).estimate_uniformity()\n",
    "if np.isnan(dict()):\n",
    "    print(\"OK\")\n",
    "print(type(pv))"
   ]
  },
  {
   "cell_type": "code",
   "execution_count": 2,
   "metadata": {
    "scrolled": true
   },
   "outputs": [
    {
     "name": "stdout",
     "output_type": "stream",
     "text": [
      "2018-05-23 00:02:19,148 - INFO - hmmscan started\n",
      "2018-05-23 00:02:19,153 - INFO - hmmscan finished\n"
     ]
    },
    {
     "data": {
      "text/plain": [
       "{'EAGLEdb/bacteria_test/Acetoanaerobium_sticklandii_16S_rRNA': u'Peptostreptococcaceae'}"
      ]
     },
     "execution_count": 2,
     "metadata": {},
     "output_type": "execute_result"
    }
   ],
   "source": [
    "from EAGLE.eag_location_explorer import get_btax\n",
    "\n",
    "#in_fasta = \"EAGLEdb/bacteria_test/GCF_002005165.1_ASM200516v1_genomic.fna\"\n",
    "in_fasta = \"EAGLEdb/bacteria_test/Acetoanaerobium_sticklandii_16S_rRNA.fasta\"\n",
    "db_json = \"EAGLEdb/bacteria/bact_fam.json\"\n",
    "db_info = json.load(open(db_json))\n",
    "get_btax(in_fasta,\n",
    "         db_info[\"db_repr_profiles\"],\n",
    "         btax_names=db_info.keys(),\n",
    "         hmmer_inst_dir=\"/home/loven-doo/tools/bin\",\n",
    "         remove_scan_out=False)"
   ]
  },
  {
   "cell_type": "code",
   "execution_count": 17,
   "metadata": {},
   "outputs": [],
   "source": [
    "fna_dict = load_fasta_to_dict(\"check_bactdb/GCA_003369875.1_ASM336987v1_genomic.fna\")\n",
    "shredded_fna_dict = shred_seqs(fna_dict)\n",
    "\n",
    "fasta_to_scan_dict = OrderedDict()\n",
    "for seq_id in shredded_fna_dict:\n",
    "    i = 1\n",
    "    for seq in shredded_fna_dict[seq_id]:\n",
    "        fasta_to_scan_dict[seq_id+\"_\"+str(i)] = seq\n",
    "        i += 1\n",
    "dump_fasta_dict(fasta_dict=fasta_to_scan_dict, fasta_path=\"check_bactdb/GCA_003369875.1_ASM336987v1_genomic.fna.shr\")"
   ]
  },
  {
   "cell_type": "code",
   "execution_count": 107,
   "metadata": {
    "scrolled": true
   },
   "outputs": [
    {
     "name": "stdout",
     "output_type": "stream",
     "text": [
      "0.379063\n",
      "Index([u'Seq1abcdef', u'Seq2abcd', u'Seq3abcdef'], dtype='object')\n"
     ]
    }
   ],
   "source": [
    "def load_phylip_dist_matrix(matrix_path):\n",
    "    matr_f = open(matrix_path)\n",
    "    lines_dict = OrderedDict()\n",
    "    seqs_list = list()\n",
    "    for line_ in matr_f:\n",
    "        line = None\n",
    "        line = line_.strip()\n",
    "        if not line:\n",
    "            continue\n",
    "        line_list = filter_list(line.split())\n",
    "        if len(line_list) == 1:\n",
    "            continue\n",
    "        seqs_list.append(line_list[0])\n",
    "        lines_dict[line_list[0]] = line_list[1:]\n",
    "    matrix = pandas.DataFrame.from_dict(data=lines_dict, orient='index')\n",
    "    matrix.columns = seqs_list\n",
    "    return matrix\n",
    "\n",
    "\n",
    "def filter_list(in_list):\n",
    "    filtered_list = list()\n",
    "    for elm_ in in_list:\n",
    "        elm = None\n",
    "        elm = elm_.strip()\n",
    "        if elm:\n",
    "            filtered_list.append(elm)\n",
    "    return filtered_list\n",
    "    \n",
    "    \n",
    "matr_f_path = 'dist_matr.ph'\n",
    "dist_matrix = load_phylip_dist_matrix(matr_f_path)\n",
    "print sum(map(float, list(dist_matrix.loc['Seq1abcdef'])))\n",
    "print(dist_matrix.index)"
   ]
  },
  {
   "cell_type": "code",
   "execution_count": 207,
   "metadata": {},
   "outputs": [],
   "source": [
    "bacteria_json_f = open(\"EAGLEdb/bacteria/bacteria.json\")\n",
    "bacteria_info_list = json.load(bacteria_json_f)\n",
    "bacteria_json_f.close()\n",
    "analyzed_bacteria = mp.Manager().dict()\n",
    "for bacterium_info in bacteria_info_list:\n",
    "    if os.path.exists(bacterium_info[u'16S_rRNA_file']):\n",
    "        analyzed_bacteria[bacterium_info[u'strain'].replace(\"_\", \" \")] = True\n",
    "analyzed_bacteria_f = open(\"analyzed_bacteria.p\", 'wb')\n",
    "pickle.dump(analyzed_bacteria, analyzed_bacteria_f)\n",
    "analyzed_bacteria_f.close()"
   ]
  },
  {
   "cell_type": "code",
   "execution_count": 213,
   "metadata": {},
   "outputs": [
    {
     "data": {
      "text/plain": [
       "True"
      ]
     },
     "execution_count": 213,
     "metadata": {},
     "output_type": "execute_result"
    }
   ],
   "source": [
    "analyzed_bacteria[\"Buchnera_aphidicola_str._Bp_(Baizongia_pistaciae)\".replace(\"_\", \" \")]"
   ]
  },
  {
   "cell_type": "code",
   "execution_count": 119,
   "metadata": {},
   "outputs": [
    {
     "data": {
      "text/plain": [
       "[('k2', 1), ('k1', 2), ('k3', 3)]"
      ]
     },
     "execution_count": 119,
     "metadata": {},
     "output_type": "execute_result"
    }
   ],
   "source": [
    "test_dict = {\"k1\": 2, \"k2\": 1, \"k3\": 3}\n",
    "sorted(test_dict.items(), key=lambda x: x[1])"
   ]
  },
  {
   "cell_type": "code",
   "execution_count": 132,
   "metadata": {},
   "outputs": [
    {
     "name": "stdout",
     "output_type": "stream",
     "text": [
      "{'set1': [('k2', 1), ('k1', 2), ('k3', 3)], 'set2': [('k6', 2), ('k4', 3), ('k5', 6)]}\n"
     ]
    },
    {
     "data": {
      "text/plain": [
       "[('k2', 'b'), ('k6', 'f')]"
      ]
     },
     "execution_count": 132,
     "metadata": {},
     "output_type": "execute_result"
    }
   ],
   "source": [
    "test_dict = {\"set1\": {\"k1\": 2, \"k2\": 1, \"k3\": 3}, \n",
    "             \"set2\": {\"k4\": 3, \"k5\": 6, \"k6\": 2}}\n",
    "for key in test_dict.keys():\n",
    "    test_dict[key] = sorted(test_dict[key].items(), key=lambda x: x[1])\n",
    "print test_dict\n",
    "falsh_dict = {\"k1\": \"a\", \"k2\": \"b\", \"k3\": \"c\", \"k4\": \"d\", \"k5\": \"e\", \"k6\": \"f\"}\n",
    "trans_dict = {\"k1\": \"set1\", \"k2\": \"set1\", \"k3\": \"set1\", \"k4\": \"set2\", \"k5\": \"set2\", \"k6\": \"set2\"}\n",
    "filter(lambda x: x[0] == test_dict[trans_dict[x[0]]][0][0], falsh_dict.items())\n"
   ]
  },
  {
   "cell_type": "code",
   "execution_count": 141,
   "metadata": {},
   "outputs": [
    {
     "name": "stdout",
     "output_type": "stream",
     "text": [
      "((None, None), (None, None))\n"
     ]
    }
   ],
   "source": [
    "print ((None, None), (None, None))"
   ]
  },
  {
   "cell_type": "code",
   "execution_count": 18,
   "metadata": {},
   "outputs": [
    {
     "name": "stdout",
     "output_type": "stream",
     "text": [
      "   A  B\n",
      "0  3  4\n",
      "1  4  2\n"
     ]
    },
    {
     "data": {
      "text/html": [
       "<div>\n",
       "<style scoped>\n",
       "    .dataframe tbody tr th:only-of-type {\n",
       "        vertical-align: middle;\n",
       "    }\n",
       "\n",
       "    .dataframe tbody tr th {\n",
       "        vertical-align: top;\n",
       "    }\n",
       "\n",
       "    .dataframe thead th {\n",
       "        text-align: right;\n",
       "    }\n",
       "</style>\n",
       "<table border=\"1\" class=\"dataframe\">\n",
       "  <thead>\n",
       "    <tr style=\"text-align: right;\">\n",
       "      <th></th>\n",
       "      <th>A</th>\n",
       "      <th>B</th>\n",
       "    </tr>\n",
       "  </thead>\n",
       "  <tbody>\n",
       "    <tr>\n",
       "      <th>1</th>\n",
       "      <td>4</td>\n",
       "      <td>2</td>\n",
       "    </tr>\n",
       "    <tr>\n",
       "      <th>0</th>\n",
       "      <td>3</td>\n",
       "      <td>4</td>\n",
       "    </tr>\n",
       "  </tbody>\n",
       "</table>\n",
       "</div>"
      ],
      "text/plain": [
       "   A  B\n",
       "1  4  2\n",
       "0  3  4"
      ]
     },
     "execution_count": 18,
     "metadata": {},
     "output_type": "execute_result"
    }
   ],
   "source": [
    "pd_dict = {\"Key1\": {\"A\": 4, \"B\": 2},\n",
    "           \"Key2\": {\"A\": 3, \"B\": 4}}\n",
    "df1 = pandas.DataFrame.from_dict(data=pd_dict, orient=\"index\")\n",
    "df2 = pandas.DataFrame(pd_dict.values())\n",
    "print(df2)\n",
    "df2.sort_values(\"B\")"
   ]
  },
  {
   "cell_type": "code",
   "execution_count": 159,
   "metadata": {},
   "outputs": [
    {
     "name": "stdout",
     "output_type": "stream",
     "text": [
      "0\n",
      "1\n",
      "1 0 ['k2']\n"
     ]
    }
   ],
   "source": [
    "d = {\"k1\": 1, \"k2\": 2}\n",
    "d = defaultdict(int)\n",
    "d[\"k1\"] = 1\n",
    "d[\"k2\"] = 2\n",
    "print(d[\"A\"])\n",
    "if d.pop(\"k1\") == 1:\n",
    "    print 1\n",
    "a = d.pop(\"A\")\n",
    "print k1, a, d.keys()"
   ]
  },
  {
   "cell_type": "code",
   "execution_count": 168,
   "metadata": {},
   "outputs": [
    {
     "data": {
      "text/plain": [
       "{'k1': {'k3': ['k6', 'k5'], 'k4': ['k8', 'k7']},\n",
       " 'k2': {'k10': ['k13', 'k14'], 'k9': ['k12', 'k11']}}"
      ]
     },
     "execution_count": 168,
     "metadata": {},
     "output_type": "execute_result"
    }
   ],
   "source": [
    "def get_tree_from_dict(input_dict, stop_level=2):\n",
    "    tree = dict()\n",
    "    if stop_level == 1:\n",
    "        return input_dict.keys()\n",
    "    for key in input_dict.keys():\n",
    "        tree[key] = get_tree_from_dict(input_dict[key], stop_level=stop_level-1)\n",
    "    return tree\n",
    "\n",
    "d = {\"k1\": {\"k3\": {\"k5\": 5,\n",
    "                   \"k6\": 6},\n",
    "            \"k4\": {\"k7\": 7,\n",
    "                   \"k8\": 8}},\n",
    "     \"k2\": {\"k9\": {\"k11\": 11,\n",
    "                   \"k12\": 12},\n",
    "            \"k10\": {\"k13\": 13,\n",
    "                    \"k14\": 14}}}\n",
    "get_tree_from_dict(d, 3)"
   ]
  },
  {
   "cell_type": "code",
   "execution_count": 177,
   "metadata": {},
   "outputs": [
    {
     "name": "stdout",
     "output_type": "stream",
     "text": [
      "   col1  col2  col3\n",
      "0     1     2     3\n",
      "1     4     5     6\n",
      "2     7     8     9\n"
     ]
    },
    {
     "data": {
      "text/plain": [
       "[None, (4, 5), (7, 8)]"
      ]
     },
     "execution_count": 177,
     "metadata": {},
     "output_type": "execute_result"
    }
   ],
   "source": [
    "dicts_list = [{\"col1\": 1, \"col2\": 2, \"col3\": 3},\n",
    "              {\"col1\": 4, \"col2\": 5, \"col3\": 6},\n",
    "              {\"col1\": 7, \"col2\": 8, \"col3\": 9}]\n",
    "appl_df = pandas.DataFrame(dicts_list)\n",
    "print(appl_df)\n",
    "list(appl_df.apply(lambda x: (x[\"col1\"], x[\"col2\"]) if x[\"col3\"] > 5 else None, axis=1))"
   ]
  },
  {
   "cell_type": "code",
   "execution_count": 92,
   "metadata": {},
   "outputs": [],
   "source": [
    "def dump_phylip_dist_matrix(dist_matrix, matrix_path):\n",
    "    matr_f = open(matrix_path, 'w')\n",
    "    matr_f.write(\"    %s\\n\" % len(dist_matrix.columns))\n",
    "    for seq in dist_matrix.index:\n",
    "        num_spaces_to_add = 10 - len(seq)\n",
    "        spaces_to_add = [\" \" for i in range(num_spaces_to_add)]\n",
    "        matr_f.write(\"%s %s\\n\" % (seq+\"\".join(spaces_to_add), \" \".join(dist_matrix.loc[seq].tolist())))\n",
    "    matr_f.close()\n",
    "    \n",
    "\n",
    "dump_phylip_dist_matrix(dist_matrix, \"dumped_matrix.ph\")"
   ]
  },
  {
   "cell_type": "code",
   "execution_count": null,
   "metadata": {},
   "outputs": [],
   "source": [
    "def reduce_seq_names(fasta_dict, num_letters=10, num_words=4):\n",
    "    if num_letters < 6:\n",
    "        print(\"Number of letters must be at least 6\")\n",
    "        return 1\n",
    "    if num_words < 2:\n",
    "        print(\"Number of words must be at least 2\")\n",
    "        return 1\n",
    "    splitters_repl = {\"\\t\": \" \",\n",
    "                      \",\": \" \",\n",
    "                      \";\": \" \",\n",
    "                      \".\": \" \",\n",
    "                      \":\": \" \",\n",
    "                      \"|\": \" \",\n",
    "                      \"/\": \" \",\n",
    "                      \"\\\\\": \" \"}\n",
    "    parts_size_list = get_part_size_list(num_letters, num_words)\n",
    "    reduced_fasta_dict = dict()\n",
    "    seq_names_dict = dict()\n",
    "    for seq_name in fasta_dict.keys():\n",
    "        reduced_seq_name = None\n",
    "        seq_name_list = filter_list(\"\".join([splitters_repl.get(s, s) for s in seq_name]).split())\n",
    "        parts = list()\n",
    "        for i in range(num_words):\n",
    "            try:\n",
    "                parts.append(seq_name_list[i][:parts_size_list[i]])\n",
    "            except IndexError:\n",
    "                break\n",
    "        reduced_seq_name = \"\".join(parts)\n",
    "        res_len = num_letters - len(reduced_seq_name)\n",
    "        un_num = 1\n",
    "        un_fix = get_un_fix(un_num, res_len)\n",
    "        while seq_names_dict.get(reduced_seq_name+un_fix, None):\n",
    "            un_fix = None\n",
    "            un_num += 1\n",
    "            un_fix = get_un_fix(un_num, res_len)\n",
    "        reduced_fasta_dict[reduced_seq_name+un_fix] = fasta_dict[seq_name]\n",
    "        seq_names_dict[reduced_seq_name+un_fix] = seq_name \n",
    "    return reduced_fasta_dict, seq_names_dict\n",
    "\n",
    "\n",
    "def get_part_size_list(num_letters, num_words):\n",
    "    if num_letters == 6: \n",
    "        return [2, 3]\n",
    "    if num_letters == 7:\n",
    "        if num_words >= 3:\n",
    "            return [2, 3, 1]\n",
    "        else:\n",
    "            return [2, 3]\n",
    "    if num_letters == 8:\n",
    "        if num_words >= 4:\n",
    "            return [2, 3, 1, 1]\n",
    "        elif num_words == 3:\n",
    "            return [3, 3, 1]\n",
    "        else:\n",
    "            return [3, 3]\n",
    "    if num_letters == 9:\n",
    "        if num_words >= 4:\n",
    "            return [3, 3, 1, 1]\n",
    "        elif num_words == 3:\n",
    "            return [3, 3, 1]\n",
    "        else:\n",
    "            return [3, 4]\n",
    "    if num_letters == 10:\n",
    "        if num_words >= 4:\n",
    "            return [3, 4, 1, 1]\n",
    "        elif num_words == 3:\n",
    "            return [3, 4, 1]\n",
    "        else:\n",
    "            return [4, 4]\n",
    "    if num_letters >= 11:\n",
    "        if num_words >= 4:\n",
    "            return [3, 4, 1, 1]\n",
    "        elif num_words == 3:\n",
    "            return [4, 4, 1]\n",
    "        else:\n",
    "            return [4, 5]\n",
    "\n",
    "\n",
    "def get_un_fix(un_num, fix_len):\n",
    "    un_codes = [\"_\", '0', '1', '2', '3', '4', '5', '6', '7', '8', '9', 'A', 'B', 'C', 'D', 'E']\n",
    "    # 'N' - undefined (num duplicates is bigger than len(un_codes))\n",
    "    if fix_len == 1:\n",
    "        try:\n",
    "            return un_codes[un_num-1]\n",
    "        except IndexError:\n",
    "            return 'N'\n",
    "    elif fix_len == 0:\n",
    "        return \"\"\n",
    "    elif un_num <= len(un_codes):\n",
    "        return un_codes[0] + get_un_fix(un_num, fix_len-1)\n",
    "    else:\n",
    "        filled_rank = len(un_codes)**(fix_len-1)\n",
    "        return un_codes[un_num//filled_rank - 1] + get_un_fix(un_num%filled_rank, fix_len-1)\n",
    "    \n",
    "\n",
    "fasta_dict = {\"seq1abc_defghi jkhhg\": \"ACGTTGCGGTAA\", \n",
    "              \"seq2hgft asdad.fdggjh fgjgh fgjhd\": \"GGTTAAG\",\n",
    "              \"seq3hgft asdad fdggjh\\fgjgh fkn\": \"GGTTAAG\"}\n",
    "reduce_seq_names(fasta_dict)"
   ]
  },
  {
   "cell_type": "code",
   "execution_count": 4,
   "metadata": {},
   "outputs": [
    {
     "ename": "TypeError",
     "evalue": "float() argument must be a string or a number",
     "output_type": "error",
     "traceback": [
      "\u001b[0;31m\u001b[0m",
      "\u001b[0;31mTypeError\u001b[0mTraceback (most recent call last)",
      "\u001b[0;32m<ipython-input-4-b14d5e084cce>\u001b[0m in \u001b[0;36m<module>\u001b[0;34m()\u001b[0m\n\u001b[0;32m----> 1\u001b[0;31m \u001b[0mfloat\u001b[0m\u001b[0;34m(\u001b[0m\u001b[0mNone\u001b[0m\u001b[0;34m)\u001b[0m\u001b[0;34m\u001b[0m\u001b[0m\n\u001b[0m",
      "\u001b[0;31mTypeError\u001b[0m: float() argument must be a string or a number"
     ]
    }
   ],
   "source": [
    "float(None)"
   ]
  }
 ],
 "metadata": {
  "kernelspec": {
   "display_name": "Python 2",
   "language": "python",
   "name": "python2"
  },
  "language_info": {
   "codemirror_mode": {
    "name": "ipython",
    "version": 2
   },
   "file_extension": ".py",
   "mimetype": "text/x-python",
   "name": "python",
   "nbconvert_exporter": "python",
   "pygments_lexer": "ipython2",
   "version": "2.7.13"
  }
 },
 "nbformat": 4,
 "nbformat_minor": 2
}
