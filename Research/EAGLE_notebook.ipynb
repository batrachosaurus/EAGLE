{
 "cells": [
  {
   "cell_type": "code",
   "execution_count": 2,
   "metadata": {},
   "outputs": [],
   "source": [
    "import wget\n",
    "import gzip\n",
    "import sys\n",
    "import os\n",
    "import platform\n",
    "import json\n",
    "import pickle\n",
    "import subprocess\n",
    "import multiprocessing as mp\n",
    "from collections import OrderedDict, defaultdict\n",
    "import redis\n",
    "\n",
    "import numpy as np\n",
    "import pandas\n",
    "from Bio.Seq import Seq\n",
    "import dendropy\n",
    "from matplotlib import pyplot as plt\n",
    "\n",
    "from EAGLE.constants import EAGLE_logger\n",
    "from EAGLE.lib.seqs import shred_seqs, dump_fasta_dict, load_fasta_to_dict\n",
    "from EAGLE.lib.phylo import PhyloTree, compare_trees\n",
    "from EAGLE.lib.alignment import MultAln"
   ]
  },
  {
   "cell_type": "code",
   "execution_count": 27,
   "metadata": {},
   "outputs": [
    {
     "name": "stdout",
     "output_type": "stream",
     "text": [
      "Collecting git+https://github.com/loven-doo/EAGLE.git@dev\n",
      "  Cloning https://github.com/loven-doo/EAGLE.git (to revision dev) to /tmp/pip-req-build-O7LFqF\n",
      "Branch dev set up to track remote branch dev from origin.\n",
      "Switched to a new branch 'dev'\n",
      "Requirement already satisfied, skipping upgrade: wget>=3.2 in ./EAGLE_venv/lib/python2.7/site-packages (from EAGLE==0.20.4) (3.2)\n",
      "Requirement already satisfied, skipping upgrade: pyaml>=3.12 in ./EAGLE_venv/lib/python2.7/site-packages (from EAGLE==0.20.4) (17.12.1)\n",
      "Requirement already satisfied, skipping upgrade: numpy>=1.14.3 in ./EAGLE_venv/lib/python2.7/site-packages (from EAGLE==0.20.4) (1.15.3)\n",
      "Requirement already satisfied, skipping upgrade: pandas==0.22.0 in ./EAGLE_venv/lib/python2.7/site-packages (from EAGLE==0.20.4) (0.22.0)\n",
      "Requirement already satisfied, skipping upgrade: matplotlib>=2.2.3 in ./EAGLE_venv/lib/python2.7/site-packages (from EAGLE==0.20.4) (2.2.3)\n",
      "Requirement already satisfied, skipping upgrade: scipy>=1.1.0 in ./EAGLE_venv/lib/python2.7/site-packages (from EAGLE==0.20.4) (1.1.0)\n",
      "Requirement already satisfied, skipping upgrade: biopython>=1.72 in ./EAGLE_venv/lib/python2.7/site-packages (from EAGLE==0.20.4) (1.72)\n",
      "Requirement already satisfied, skipping upgrade: DendroPy>=4.4.0 in ./EAGLE_venv/lib/python2.7/site-packages (from EAGLE==0.20.4) (4.4.0)\n",
      "Requirement already satisfied, skipping upgrade: redis>=2.10.6 in ./EAGLE_venv/lib/python2.7/site-packages (from EAGLE==0.20.4) (2.10.6)\n",
      "Requirement already satisfied, skipping upgrade: PyYAML in ./EAGLE_venv/lib/python2.7/site-packages (from pyaml>=3.12->EAGLE==0.20.4) (3.12)\n",
      "Requirement already satisfied, skipping upgrade: python-dateutil in ./EAGLE_venv/lib/python2.7/site-packages (from pandas==0.22.0->EAGLE==0.20.4) (2.6.1)\n",
      "Requirement already satisfied, skipping upgrade: pytz>=2011k in ./EAGLE_venv/lib/python2.7/site-packages (from pandas==0.22.0->EAGLE==0.20.4) (2018.4)\n",
      "Requirement already satisfied, skipping upgrade: pyparsing!=2.0.4,!=2.1.2,!=2.1.6,>=2.0.1 in ./EAGLE_venv/lib/python2.7/site-packages (from matplotlib>=2.2.3->EAGLE==0.20.4) (2.3.0)\n",
      "Requirement already satisfied, skipping upgrade: backports.functools-lru-cache in ./EAGLE_venv/lib/python2.7/site-packages (from matplotlib>=2.2.3->EAGLE==0.20.4) (1.5)\n",
      "Requirement already satisfied, skipping upgrade: subprocess32 in ./EAGLE_venv/lib/python2.7/site-packages (from matplotlib>=2.2.3->EAGLE==0.20.4) (3.5.3)\n",
      "Requirement already satisfied, skipping upgrade: six>=1.10 in ./EAGLE_venv/lib/python2.7/site-packages (from matplotlib>=2.2.3->EAGLE==0.20.4) (1.11.0)\n",
      "Requirement already satisfied, skipping upgrade: kiwisolver>=1.0.1 in ./EAGLE_venv/lib/python2.7/site-packages (from matplotlib>=2.2.3->EAGLE==0.20.4) (1.0.1)\n",
      "Requirement already satisfied, skipping upgrade: cycler>=0.10 in ./EAGLE_venv/lib/python2.7/site-packages (from matplotlib>=2.2.3->EAGLE==0.20.4) (0.10.0)\n",
      "Requirement already satisfied, skipping upgrade: setuptools in ./EAGLE_venv/lib/python2.7/site-packages (from DendroPy>=4.4.0->EAGLE==0.20.4) (39.0.1)\n",
      "Building wheels for collected packages: EAGLE\n",
      "  Running setup.py bdist_wheel for EAGLE ... \u001b[?25ldone\n",
      "\u001b[?25h  Stored in directory: /tmp/pip-ephem-wheel-cache-rj3eKu/wheels/d9/64/81/24ad9bd2aa49b45da7cb44955cef1a75d5708726fd75060d44\n",
      "Successfully built EAGLE\n",
      "Installing collected packages: EAGLE\n",
      "  Found existing installation: EAGLE 0.20.3\n",
      "    Uninstalling EAGLE-0.20.3:\n",
      "      Successfully uninstalled EAGLE-0.20.3\n",
      "Successfully installed EAGLE-0.20.4\n"
     ]
    }
   ],
   "source": [
    "!pip install git+https://github.com/loven-doo/EAGLE.git@dev --upgrade"
   ]
  },
  {
   "cell_type": "code",
   "execution_count": 11,
   "metadata": {},
   "outputs": [
    {
     "name": "stdout",
     "output_type": "stream",
     "text": [
      "Erwiniaceae\n",
      "Rhodospirillaceae\n",
      "Helicobacteraceae\n",
      "Halomonadaceae\n",
      "Alteromonadaceae\n",
      "Sphingomonadaceae\n",
      "Rhodobacteraceae\n",
      "Pseudonocardiaceae\n",
      "Bradyrhizobiaceae\n",
      "Burkholderiaceae\n",
      "Vibrionaceae\n",
      "Oxalobacteraceae\n",
      "Comamonadaceae\n",
      "Enterobacteriaceae\n",
      "Alcaligenaceae\n",
      "Flavobacteriaceae\n",
      "Erythrobacteraceae\n",
      "Micrococcaceae\n",
      "Microbacteriaceae\n",
      "Planococcaceae\n",
      "Ectothiorhodospiraceae\n",
      "Spirochaetaceae\n",
      "Acetobacteraceae\n",
      "Peptococcaceae\n",
      "Morganellaceae\n",
      "Lachnospiraceae\n",
      "Xanthomonadaceae\n",
      "Cytophagaceae\n",
      "Bifidobacteriaceae\n",
      "Thermaceae\n",
      "336\n",
      "750\n",
      "1388\n",
      "1399\n"
     ]
    }
   ],
   "source": [
    "fams_dict = json.load(open(\"EAGLEdb/bacteria/bact_fam.json\"))\n",
    "genera_num_list = list()\n",
    "sp_num_list = list()\n",
    "strain_num_list = list()\n",
    "special_keys = (\"16S_rRNA_tree\", \"16S_rRNA_tsv\", \"16S_rRNA_fasta\", \"blastdb\", \"repr_profile\", \"fam_fna\", \"chr_id\")\n",
    "fam_num = 0\n",
    "for fam_name in fams_dict.keys():\n",
    "    if fam_name in (\"db_dir\", \"db_repr_profiles\", \"fam_fna\"):\n",
    "        continue\n",
    "    fam_num += 1\n",
    "    genera_num = 0\n",
    "    sp_num = 0\n",
    "    strain_num = 0\n",
    "    for genus in fams_dict[fam_name].keys(): \n",
    "        if genus in special_keys:\n",
    "            continue\n",
    "        genera_num += 1\n",
    "        for sp in fams_dict[fam_name][genus].keys():\n",
    "            sp_num += 1\n",
    "            for strain in fams_dict[fam_name][genus][sp].keys():\n",
    "                strain_num += 1\n",
    "    genera_num_list.append(genera_num)\n",
    "    sp_num_list.append(sp_num)\n",
    "    strain_num_list.append(strain_num)\n",
    "    if genera_num >= 4 and strain_num >= 8:\n",
    "        print(fam_name)\n",
    "\n",
    "print(fam_num)\n",
    "print(sum(genera_num_list))\n",
    "print(sum(sp_num_list))    \n",
    "print(sum(strain_num_list))    "
   ]
  },
  {
   "cell_type": "code",
   "execution_count": 13,
   "metadata": {},
   "outputs": [],
   "source": [
    "def list_to_txt(in_list, txt_path):\n",
    "    f = open(txt_path, 'w')\n",
    "    for elm in in_list:\n",
    "        f.write(str(elm)+\"\\n\")\n",
    "    f.close()\n",
    "    \n",
    "\n",
    "list_to_txt(strain_num_list, \"strain_num.txt\")"
   ]
  },
  {
   "cell_type": "code",
   "execution_count": 40,
   "metadata": {},
   "outputs": [],
   "source": [
    "gtf_df = pandas.read_csv(\"runs/example_genomes/erwin_result/NC_013961.fasta.gtf\", sep=\"\\t\")\n",
    "gtf_df[\"uniformity_std\"] = gtf_df.apply(lambda row: json.loads(row[\"attribute\"])[\"p_uniformity\"], axis=1)  # rename \"p_uniformity\" to \"uniformity_std\"\n",
    "gtf_df[\"phylo_diff\"] = gtf_df.apply(lambda row: json.loads(row[\"attribute\"])[\"phylo_diff\"], axis=1)"
   ]
  },
  {
   "cell_type": "code",
   "execution_count": 60,
   "metadata": {},
   "outputs": [],
   "source": [
    "gtf_df = gtf_df[[\"uniformity_std\", \"phylo_diff\"]].apply(lambda row: None if np.isnan(row[\"uniformity_std\"]) or np.isnan(row[\"phylo_diff\"]) else row, axis=1)"
   ]
  },
  {
   "cell_type": "code",
   "execution_count": 61,
   "metadata": {
    "scrolled": true
   },
   "outputs": [
    {
     "data": {
      "text/plain": [
       "Text(0,0.5,'ORFs number')"
      ]
     },
     "execution_count": 61,
     "metadata": {},
     "output_type": "execute_result"
    },
    {
     "data": {
      "image/png": "[encoded data removed]",
      "text/plain": [
       "<Figure size 432x288 with 1 Axes>"
      ]
     },
     "metadata": {},
     "output_type": "display_data"
    }
   ],
   "source": [
    "ax = pandas.Series(filter(lambda x: not np.isnan(x), gtf_df[\"uniformity_std\"])).hist(bins=35);\n",
    "ax.set_xlabel(\"Standard Deviation\")\n",
    "ax.set_ylabel(\"ORFs number\")"
   ]
  },
  {
   "cell_type": "code",
   "execution_count": 62,
   "metadata": {},
   "outputs": [
    {
     "data": {
      "text/plain": [
       "Text(0,0.5,'ORFs number')"
      ]
     },
     "execution_count": 62,
     "metadata": {},
     "output_type": "execute_result"
    },
    {
     "data": {
      "image/png": "[encoded data removed]",
      "text/plain": [
       "<Figure size 432x288 with 1 Axes>"
      ]
     },
     "metadata": {},
     "output_type": "display_data"
    }
   ],
   "source": [
    "ax = pandas.Series(filter(lambda x: not np.isnan(x), gtf_df[\"phylo_diff\"])).hist(bins=15);\n",
    "ax.set_xlabel(\"RF distance\")\n",
    "ax.set_ylabel(\"ORFs number\")"
   ]
  },
  {
   "cell_type": "code",
   "execution_count": 68,
   "metadata": {},
   "outputs": [
    {
     "data": {
      "image/png": "[encoded data removed]",
      "text/plain": [
       "<Figure size 432x288 with 1 Axes>"
      ]
     },
     "metadata": {},
     "output_type": "display_data"
    }
   ],
   "source": [
    "_df = gtf_df[[]]\n",
    "plt.scatter(x=pandas.Series(filter(lambda x: not np.isnan(x), gtf_df[\"uniformity_std\"])),\n",
    "            y=pandas.Series(filter(lambda x: not np.isnan(x), gtf_df[\"phylo_diff\"])),\n",
    "            s=2)\n",
    "plt.xlabel(\"Standard Deviation\")\n",
    "plt.ylabel(\"RF distance\")\n",
    "plt.show()"
   ]
  },
  {
   "cell_type": "code",
   "execution_count": 78,
   "metadata": {},
   "outputs": [
    {
     "name": "stdout",
     "output_type": "stream",
     "text": [
      "13.1661442006\n"
     ]
    }
   ],
   "source": [
    "proc_bact = json.load(open(\"processed_bact.json\"))\n",
    "resp_bact = json.load(open(\"responsed_bacteria.json\"))\n",
    "n_t = 0\n",
    "n = 0\n",
    "for i in range(len(resp_bact)):\n",
    "    if resp_bact[i] == proc_bact[i]:\n",
    "        n_t += 1\n",
    "    n += 1\n",
    "print(100.0*float(n_t)/float(n))"
   ]
  },
  {
   "cell_type": "code",
   "execution_count": 6,
   "metadata": {},
   "outputs": [
    {
     "data": {
      "text/plain": [
       "u'EAGLEdb/bacteria/db_repr_profiles'"
      ]
     },
     "execution_count": 6,
     "metadata": {},
     "output_type": "execute_result"
    }
   ],
   "source": [
    "fams_dict[\"db_repr_profiles\"]"
   ]
  },
  {
   "cell_type": "code",
   "execution_count": 24,
   "metadata": {},
   "outputs": [
    {
     "name": "stdout",
     "output_type": "stream",
     "text": [
      "[<Node object at 0x7ffad412c2d0: 'None' (None)>, <Node object at 0x7ffad44823d0: 'None' (None)>, <Node object at 0x7ffad41b2850: 'None' (<Taxon 0x7ffad41b2910 'Aa'>)>, <Node object at 0x7ffad41b2a50: 'None' (<Taxon 0x7ffad4257890 'B b'>)>, <Node object at 0x7ffad42578d0: 'None' (None)>, <Node object at 0x7ffad4257750: 'None' (<Taxon 0x7ffad4257c10 'C c'>)>, <Node object at 0x7ffad4257c90: 'None' (<Taxon 0x7ffad4257d10 'D d'>)>]\n",
      "<Node object at 0x7ffad41b2850: 'None' (<Taxon 0x7ffad41b2910 'Aa'>)>\n",
      "                                     /------------------------------------- Aa \n",
      "/------------------------------------+                                         \n",
      "|                                    \\------------------------------------- B b\n",
      "+                                                                              \n",
      "|                                    /------------------------------------- C c\n",
      "\\------------------------------------+                                         \n",
      "                                     \\------------------------------------- D d\n",
      "                                                                               \n",
      "                                                                               \n",
      "(Aa,(C_c,D_d));\n",
      "\n",
      "/-------------------------------------------------------------------------- Aa \n",
      "+                                                                              \n",
      "|                                    /------------------------------------- C c\n",
      "\\------------------------------------+                                         \n",
      "                                     \\------------------------------------- D d\n",
      "                                                                               \n",
      "                                                                               \n",
      "None\n"
     ]
    },
    {
     "data": {
      "text/plain": [
       "3"
      ]
     },
     "execution_count": 24,
     "metadata": {},
     "output_type": "execute_result"
    }
   ],
   "source": [
    "tree = dendropy.Tree.get_from_string(\"((Aa,B_b),(C_c,D_d));\", schema=\"newick\")\n",
    "print(tree.nodes())\n",
    "print(tree.find_node_with_taxon_label(\"Aa\"))\n",
    "print(tree.as_ascii_plot())\n",
    "tree.prune_taxa_with_labels([\"B b\"])\n",
    "print(tree.as_string(schema='newick'))\n",
    "print(tree.as_ascii_plot())\n",
    "nodes = tree.nodes()\n",
    "node = nodes[0]\n",
    "taxon = node.taxon\n",
    "print(taxon)\n",
    "len(tree.leaf_nodes())"
   ]
  },
  {
   "cell_type": "code",
   "execution_count": 110,
   "metadata": {},
   "outputs": [
    {
     "name": "stdout",
     "output_type": "stream",
     "text": [
      "[<Node object at 0x7fcf814e4550: 'None' (None)>, <Node object at 0x7fcf814e45d0: 'None' (None)>, <Node object at 0x7fcf815afd90: 'None' (None)>, <Node object at 0x7fcf815afe10: 'None' (None)>, <Node object at 0x7fcf815afe90: 'None' (None)>, <Node object at 0x7fcf815aff10: 'None' (None)>, <Node object at 0x7fcf815aff90: 'None' (<Taxon 0x7fcf815a7050 'seend  x  '>)>, <Node object at 0x7fcf815a7090: 'None' (None)>, <Node object at 0x7fcf815a7110: 'None' (None)>, <Node object at 0x7fcf815a7190: 'None' (None)>, <Node object at 0x7fcf815a7210: 'None' (None)>, <Node object at 0x7fcf815a7290: 'None' (None)>, <Node object at 0x7fcf815a7310: 'None' (None)>, <Node object at 0x7fcf815a7390: 'None' (None)>, <Node object at 0x7fcf815a7410: 'None' (<Taxon 0x7fcf815a7490 'Cenet  x 2'>)>, <Node object at 0x7fcf815a74d0: 'None' (None)>, <Node object at 0x7fcf815a7550: 'None' (<Taxon 0x7fcf815a75d0 'Cenet  x 3'>)>, <Node object at 0x7fcf815a7610: 'None' (<Taxon 0x7fcf815a7690 'Cenet  x 4'>)>, <Node object at 0x7fcf815a76d0: 'None' (<Taxon 0x7fcf815a7750 'Cenet  x 0'>)>, <Node object at 0x7fcf815a7790: 'None' (<Taxon 0x7fcf815a7810 'Cenet  x 5'>)>, <Node object at 0x7fcf815a7850: 'None' (<Taxon 0x7fcf815a78d0 'Cenet  x  '>)>, <Node object at 0x7fcf815a7910: 'None' (<Taxon 0x7fcf815a7990 'Cenet  x 1'>)>, <Node object at 0x7fcf815a79d0: 'None' (None)>, <Node object at 0x7fcf815a7a50: 'None' (None)>, <Node object at 0x7fcf815a7ad0: 'None' (None)>, <Node object at 0x7fcf815a7b50: 'None' (None)>, <Node object at 0x7fcf815a7bd0: 'None' (None)>, <Node object at 0x7fcf815a7c50: 'None' (None)>, <Node object at 0x7fcf815a7cd0: 'None' (None)>, <Node object at 0x7fcf815a7d50: 'None' (<Taxon 0x7fcf815af1d0 'Kosac  x 2'>)>, <Node object at 0x7fcf815af090: 'None' (None)>, <Node object at 0x7fcf815af210: 'None' (<Taxon 0x7fcf815af190 'Kosac  x 0'>)>, <Node object at 0x7fcf815af150: 'None' (<Taxon 0x7fcf815af050 'Kosac  x 1'>)>, <Node object at 0x7fcf2bfbb550: 'None' (<Taxon 0x7fcf81657390 'Kosac  x 5'>)>, <Node object at 0x7fcf81657850: 'None' (<Taxon 0x7fcf816578d0 'Kosac  x  '>)>, <Node object at 0x7fcf81657310: 'None' (<Taxon 0x7fcf81657890 'Kosac  x 3'>)>, <Node object at 0x7fcf81657810: 'None' (<Taxon 0x7fcf816574d0 'Kosac  x 4'>)>, <Node object at 0x7fcf816577d0: 'None' (None)>, <Node object at 0x7fcf816575d0: 'None' (None)>, <Node object at 0x7fcf81657610: 'None' (<Taxon 0x7fcf81657510 'Plger  x  '>)>, <Node object at 0x7fcf81657410: 'None' (None)>, <Node object at 0x7fcf81657490: 'None' (None)>, <Node object at 0x7fcf81657f90: 'None' (<Taxon 0x7fcf81657fd0 'Plger  x 4'>)>, <Node object at 0x7fcf81657ed0: 'None' (None)>, <Node object at 0x7fcf81657c50: 'None' (<Taxon 0x7fcf81657cd0 'Plger  x 5'>)>, <Node object at 0x7fcf81657c90: 'None' (None)>, <Node object at 0x7fcf81657c10: 'None' (<Taxon 0x7fcf81657590 'Plger  x 2'>)>, <Node object at 0x7fcf81657ad0: 'None' (<Taxon 0x7fcf81657b10 'Plger  x 1'>)>, <Node object at 0x7fcf81657a10: 'None' (<Taxon 0x7fcf81657a50 'Plger  x 0'>)>, <Node object at 0x7fcf816579d0: 'None' (<Taxon 0x7fcf81657950 'Plger  x 3'>)>, <Node object at 0x7fcf81657910: 'None' (None)>, <Node object at 0x7fcf81657710: 'None' (None)>, <Node object at 0x7fcf81657790: 'None' (None)>, <Node object at 0x7fcf814e4350: 'None' (None)>, <Node object at 0x7fcf814e41d0: 'None' (<Taxon 0x7fcf814e4dd0 'Kocow  x 4'>)>, <Node object at 0x7fcf814e4f90: 'None' (None)>, <Node object at 0x7fcf814e4e50: 'None' (<Taxon 0x7fcf814e4e90 'Kocow  x 2'>)>, <Node object at 0x7fcf814e4e10: 'None' (None)>, <Node object at 0x7fcf815a7dd0: 'None' (<Taxon 0x7fcf815a7e50 'Kocow  x 5'>)>, <Node object at 0x7fcf815a7e90: 'None' (<Taxon 0x7fcf815a7f10 'Kocow  x 3'>)>, <Node object at 0x7fcf815a7f50: 'None' (<Taxon 0x7fcf815a7fd0 'Kocow  x  '>)>, <Node object at 0x7fcf8159b050: 'None' (<Taxon 0x7fcf8159b0d0 'Kocow  x 0'>)>, <Node object at 0x7fcf8159b110: 'None' (<Taxon 0x7fcf8159b190 'Kocow  x 1'>)>, <Node object at 0x7fcf8159b1d0: 'None' (None)>, <Node object at 0x7fcf8159b250: 'None' (None)>, <Node object at 0x7fcf8159b2d0: 'None' (<Taxon 0x7fcf8159b350 'Shbla  x 1'>)>, <Node object at 0x7fcf8159b390: 'None' (None)>, <Node object at 0x7fcf8159b410: 'None' (None)>, <Node object at 0x7fcf8159b490: 'None' (None)>, <Node object at 0x7fcf8159b510: 'None' (<Taxon 0x7fcf8159b590 'Shbla  x 2'>)>, <Node object at 0x7fcf8159b5d0: 'None' (<Taxon 0x7fcf8159b650 'Shbla  x 4'>)>, <Node object at 0x7fcf8159b690: 'None' (<Taxon 0x7fcf8159b710 'Shbla  x  '>)>, <Node object at 0x7fcf8159b750: 'None' (None)>, <Node object at 0x7fcf8159b7d0: 'None' (None)>, <Node object at 0x7fcf8159b850: 'None' (None)>, <Node object at 0x7fcf8159b8d0: 'None' (<Taxon 0x7fcf8159b950 'Shbla  x 0'>)>, <Node object at 0x7fcf8159b990: 'None' (<Taxon 0x7fcf8159ba10 'Shbla  x 3'>)>, <Node object at 0x7fcf8159ba50: 'None' (<Taxon 0x7fcf8159bad0 'Shbla  x 6'>)>, <Node object at 0x7fcf8159bb10: 'None' (<Taxon 0x7fcf8159bb90 'Shbla  x 5'>)>, <Node object at 0x7fcf8159bbd0: 'None' (None)>, <Node object at 0x7fcf8159bc50: 'None' (None)>, <Node object at 0x7fcf8159bcd0: 'None' (None)>, <Node object at 0x7fcf8159bd50: 'None' (None)>, <Node object at 0x7fcf8159bdd0: 'None' (None)>, <Node object at 0x7fcf8159be50: 'None' (None)>, <Node object at 0x7fcf8159bed0: 'None' (<Taxon 0x7fcf8159bf50 'Crsak  x  '>)>, <Node object at 0x7fcf8159bf90: 'None' (<Taxon 0x7fcf81588050 'Crsak  x 2'>)>, <Node object at 0x7fcf81588090: 'None' (<Taxon 0x7fcf81588110 'Crsak  x 5'>)>, <Node object at 0x7fcf81588150: 'None' (<Taxon 0x7fcf815881d0 'Crsak  x 0'>)>, <Node object at 0x7fcf81588210: 'None' (<Taxon 0x7fcf81588290 'Crsak  x 4'>)>, <Node object at 0x7fcf815882d0: 'None' (<Taxon 0x7fcf81588350 'Crsak  x 1'>)>, <Node object at 0x7fcf81588390: 'None' (<Taxon 0x7fcf81588410 'Crsak  x 3'>)>, <Node object at 0x7fcf81588450: 'None' (<Taxon 0x7fcf815884d0 'Plsta  x 0'>)>, <Node object at 0x7fcf81588510: 'None' (<Taxon 0x7fcf81588590 'Plsta  x 4'>)>, <Node object at 0x7fcf815885d0: 'None' (<Taxon 0x7fcf81588650 'Plsta  x 2'>)>, <Node object at 0x7fcf81588690: 'None' (<Taxon 0x7fcf81588710 'Plsta  x 3'>)>, <Node object at 0x7fcf81588750: 'None' (<Taxon 0x7fcf815887d0 'Plsta  x 1'>)>, <Node object at 0x7fcf81588810: 'None' (<Taxon 0x7fcf81588890 'Plsta  x  '>)>]\n",
      "((((((seend__x__:0.089128,(((((((Cenet__x_2:-1e-06,(Cenet__x_3:0.0,Cenet__x_4:-0.0):1e-06):3e-06,Cenet__x_0:-3e-06):1.9e-05,Cenet__x_5:-1.9e-05):5.9e-05,Cenet__x__:-5.9e-05):0.000214,Cenet__x_1:-0.000214):0.016438,(((((((Kosac__x_2:-0.0,(Kosac__x_0:0.0,Kosac__x_1:-0.0):0.0):2e-06,Kosac__x_5:-2e-06):1.9e-05,Kosac__x__:-1.9e-05):2.5e-05,Kosac__x_3:-2.5e-05):7.9e-05,Kosac__x_4:-7.9e-05):0.008846,((Plger__x__:-1.1e-05,((Plger__x_4:-1e-06,(Plger__x_5:0.0,(Plger__x_2:-0.0,Plger__x_1:0.0):-0.0):1e-06):1e-06,Plger__x_0:-1e-06):1.1e-05):6.3e-05,Plger__x_3:-6.3e-05):0.010302):0.002742,((((Kocow__x_4:-5e-06,(Kocow__x_2:-4e-06,(Kocow__x_5:-4e-06,Kocow__x_3:4e-06):4e-06):5e-06):9e-06,Kocow__x__:-9e-06):1.9e-05,Kocow__x_0:-1.9e-05):7e-05,Kocow__x_1:-7e-05):0.013207):0.001487):0.00212,((Shbla__x_1:-0.000518,(((Shbla__x_2:-1.5e-05,Shbla__x_4:1.5e-05):5.4e-05,Shbla__x__:-5.4e-05):2.3e-05,(((Shbla__x_0:3.4e-05,Shbla__x_3:-3.4e-05):3.7e-05,Shbla__x_6:-3.7e-05):4.7e-05,Shbla__x_5:-4.7e-05):4.6e-05):0.000483):0.016279,((((((Crsak__x__:1e-06,Crsak__x_2:-1e-06):2e-06,Crsak__x_5:-2e-06):2e-06,Crsak__x_0:-2e-06):1.2e-05,Crsak__x_4:-1.2e-05):4.2e-05,Crsak__x_1:-4.2e-05):0.000435,Crsak__x_3:-0.000435):0.012426):0.00599):0.001677):0.018294,Plsta__x_0:-0.000937):0.000937,Plsta__x_4:-1.6e-05):1.6e-05,Plsta__x_2:-1.1e-05):1.1e-05,Plsta__x_3:-9e-06):9e-06,Plsta__x_1:-7e-06,Plsta__x__:7e-06);\n",
      "\n",
      "None\n",
      "<Node object at 0x7fcf815a7410: 'None' (<Taxon 0x7fcf815a7490 'Cenet  x 2'>)>\n",
      "<Node object at 0x7fcf815a7410: 'None' (<Taxon 0x7fcf815a7490 'new_label'>)>\n"
     ]
    }
   ],
   "source": [
    "tree = dendropy.Tree.get(path=\"btax_tree.nwk\", schema=\"newick\")\n",
    "print(tree.nodes())\n",
    "print(tree.as_string(\"newick\"))\n",
    "print(tree.find_node_with_taxon_label(\"new_label\"))\n",
    "node_to_rename = tree.find_node_with_taxon_label(\"Cenet  x 2\")\n",
    "print(node_to_rename)\n",
    "node_to_rename.taxon.label = \"new_label\"\n",
    "print(tree.find_node_with_taxon_label(\"new_label\"))"
   ]
  },
  {
   "cell_type": "code",
   "execution_count": null,
   "metadata": {},
   "outputs": [],
   "source": []
  },
  {
   "cell_type": "code",
   "execution_count": 4,
   "metadata": {},
   "outputs": [
    {
     "name": "stdout",
     "output_type": "stream",
     "text": [
      "/-------------- Pantoea_ananatis_LMG_20103                                     \n",
      "|                                                                              \n",
      "|          /--- Buchnera_aphidicola_(Aphis_glycines)                           \n",
      "|      /---+                                                                   \n",
      "|      |   \\--- Erwinia_amylovora_CFBP1430                                     \n",
      "|  /---+                                                                       \n",
      "+  |   |   /--- Wigglesworthia_glossinidia_endosymbiont_of_Glossina_brevipalpis\n",
      "|--+   \\---+                                                                   \n",
      "|  |       \\--- Tatumella_citrea                                               \n",
      "|  |                                                                           \n",
      "|  \\----------- Erwinia_billingiae_Eb661                                       \n",
      "|                                                                              \n",
      "\\-------------- Pantoea_alhagi                                                 \n",
      "                                                                               \n",
      "                                                                               \n",
      "            /-- Erwinia_amylovora_CFBP1430                                     \n",
      "/-----------+                                                                  \n",
      "|           \\-- Erwinia_billingiae_Eb661                                       \n",
      "|                                                                              \n",
      "|     /-------- Pantoea_alhagi                                                 \n",
      "+     |                                                                        \n",
      "|  /--+     /-- Buchnera_aphidicola_(Aphis_glycines)                           \n",
      "|  |  |  /--+                                                                  \n",
      "|  |  \\--+  \\-- Wigglesworthia_glossinidia_endosymbiont_of_Glossina_brevipalpis\n",
      "\\--+     |                                                                     \n",
      "   |     \\----- Pantoea_ananatis_LMG_20103                                     \n",
      "   |                                                                           \n",
      "   \\----------- Tatumella_citrea                                               \n",
      "                                                                               \n",
      "                                                                               \n"
     ]
    },
    {
     "data": {
      "text/plain": [
       "8"
      ]
     },
     "execution_count": 4,
     "metadata": {},
     "output_type": "execute_result"
    }
   ],
   "source": [
    "phylo_tree1 = PhyloTree.load_tree(tree_file=\"runs/example_genomes/tmp/tree1_1.nwk\")\n",
    "print(phylo_tree1.tree.as_ascii_plot())\n",
    "phylo_tree2 = PhyloTree.load_tree(tree_file=\"runs/example_genomes/tmp/tree2_1.nwk\")\n",
    "print(phylo_tree2.tree.as_ascii_plot())\n",
    "#phylo_tree2.dump_tree(\"to_comp2.1.nwk\")\n",
    "compare_trees(phylo_tree1=phylo_tree1, phylo_tree2=phylo_tree2)"
   ]
  },
  {
   "cell_type": "code",
   "execution_count": 5,
   "metadata": {},
   "outputs": [
    {
     "name": "stdout",
     "output_type": "stream",
     "text": [
      "          /---- Wigglesworthia_glossinidia_endosymbiont_of_Glossina_brevipalpis\n",
      "/---------+                                                                    \n",
      "|         \\---- Tatumella_citrea                                               \n",
      "|                                                                              \n",
      "|         /---- Buchnera_aphidicola_(Aphis_glycines)                           \n",
      "+---------+                                                                    \n",
      "|         \\---- Erwinia_amylovora_CFBP1430                                     \n",
      "|                                                                              \n",
      "|    /--------- Erwinia_billingiae_Eb661                                       \n",
      "\\----+                                                                         \n",
      "     |    /---- Pantoea_ananatis_LMG_20103                                     \n",
      "     \\----+                                                                    \n",
      "          \\---- Pantoea_alhagi                                                 \n",
      "                                                                               \n",
      "                                                                               \n",
      "[&R] (('Wigglesworthia_glossinidia_endosymbiont_of_Glossina_brevipalpis':0.750299,'Tatumella_citrea':0.29258):2.143341,('Buchnera_aphidicola_(Aphis_glycines)':0.118989,'Erwinia_amylovora_CFBP1430':0.107571):2.72202,('Erwinia_billingiae_Eb661':0.372498,('Pantoea_ananatis_LMG_20103':0.570795,'Pantoea_alhagi':0.448859):0.081171):0.191788);\n",
      "\n"
     ]
    }
   ],
   "source": [
    "taxa = dendropy.TaxonNamespace()\n",
    "tree1 = phylo_tree1.tree\n",
    "tree1.reroot_at_midpoint()\n",
    "print(tree1.as_ascii_plot())\n",
    "print(tree1.as_string(schema='newick'))"
   ]
  },
  {
   "cell_type": "code",
   "execution_count": 3,
   "metadata": {},
   "outputs": [
    {
     "name": "stdout",
     "output_type": "stream",
     "text": [
      "Calculate distances between trees\r\n",
      "\r\n",
      "Output written to file \"tmp/comp.res\"\r\n",
      "\r\n",
      "Done.\r\n",
      "\r\n"
     ]
    }
   ],
   "source": [
    "!export PATH=$PATH:/home/loven-doo/tools/bin && ftreedist tmp/to_comp.nwk tmp/comp.res -dtype s"
   ]
  },
  {
   "cell_type": "code",
   "execution_count": 91,
   "metadata": {},
   "outputs": [
    {
     "name": "stdout",
     "output_type": "stream",
     "text": [
      "set(['Plautia_stali_symbiont', 'Kosakonia_cowanii', 'Cronobacter_sakazakii'])\n"
     ]
    },
    {
     "data": {
      "text/plain": [
       "['Plautia_stali_symbiont', 'Cronobacter_sakazakii', 'Kosakonia_cowanii']"
      ]
     },
     "execution_count": 91,
     "metadata": {},
     "output_type": "execute_result"
    }
   ],
   "source": [
    "names_to_remain = set(phylo_tree1.names) & set(phylo_tree2.names)\n",
    "print(names_to_remain)\n",
    "while True:\n",
    "    try:\n",
    "        phylo_tree2.tree.collapse(lambda c: c.name in (set(phylo_tree2.names) - names_to_remain))\n",
    "    except ValueError:\n",
    "        break\n",
    "phylo_tree2.names"
   ]
  },
  {
   "cell_type": "code",
   "execution_count": 13,
   "metadata": {},
   "outputs": [
    {
     "name": "stdout",
     "output_type": "stream",
     "text": [
      "('cons_cols_by_windows', array([0, 0, 0, 0, 0, 0, 0, 0, 0, 0, 0, 0, 0, 0, 0, 0, 0, 0, 0, 0, 0, 0,\n",
      "       0, 0]))\n"
     ]
    },
    {
     "ename": "TypeError",
     "evalue": "ufunc 'isnan' not supported for the input types, and the inputs could not be safely coerced to any supported types according to the casting rule ''safe''",
     "output_type": "error",
     "traceback": [
      "\u001b[0;31m\u001b[0m",
      "\u001b[0;31mTypeError\u001b[0mTraceback (most recent call last)",
      "\u001b[0;32m<ipython-input-13-d1496d6a7af5>\u001b[0m in \u001b[0;36m<module>\u001b[0;34m()\u001b[0m\n\u001b[1;32m      1\u001b[0m \u001b[0mmult_aln\u001b[0m \u001b[0;34m=\u001b[0m \u001b[0mMultAln\u001b[0m\u001b[0;34m.\u001b[0m\u001b[0mload_alignment\u001b[0m\u001b[0;34m(\u001b[0m\u001b[0maln_fasta_path\u001b[0m\u001b[0;34m=\u001b[0m\u001b[0;34m\"runs/NC_011750_576818-577147_mult_aln.fasta\"\u001b[0m\u001b[0;34m)\u001b[0m\u001b[0;34m\u001b[0m\u001b[0m\n\u001b[1;32m      2\u001b[0m \u001b[0mpv\u001b[0m \u001b[0;34m=\u001b[0m \u001b[0mmult_aln\u001b[0m\u001b[0;34m.\u001b[0m\u001b[0mimprove_aln\u001b[0m\u001b[0;34m(\u001b[0m\u001b[0minplace\u001b[0m\u001b[0;34m=\u001b[0m\u001b[0mFalse\u001b[0m\u001b[0;34m)\u001b[0m\u001b[0;34m.\u001b[0m\u001b[0mestimate_uniformity\u001b[0m\u001b[0;34m(\u001b[0m\u001b[0;34m)\u001b[0m\u001b[0;34m\u001b[0m\u001b[0m\n\u001b[0;32m----> 3\u001b[0;31m \u001b[0;32mif\u001b[0m \u001b[0mnp\u001b[0m\u001b[0;34m.\u001b[0m\u001b[0misnan\u001b[0m\u001b[0;34m(\u001b[0m\u001b[0mdict\u001b[0m\u001b[0;34m(\u001b[0m\u001b[0;34m)\u001b[0m\u001b[0;34m)\u001b[0m\u001b[0;34m:\u001b[0m\u001b[0;34m\u001b[0m\u001b[0m\n\u001b[0m\u001b[1;32m      4\u001b[0m     \u001b[0;32mprint\u001b[0m\u001b[0;34m(\u001b[0m\u001b[0;34m\"OK\"\u001b[0m\u001b[0;34m)\u001b[0m\u001b[0;34m\u001b[0m\u001b[0m\n\u001b[1;32m      5\u001b[0m \u001b[0;32mprint\u001b[0m\u001b[0;34m(\u001b[0m\u001b[0mtype\u001b[0m\u001b[0;34m(\u001b[0m\u001b[0mpv\u001b[0m\u001b[0;34m)\u001b[0m\u001b[0;34m)\u001b[0m\u001b[0;34m\u001b[0m\u001b[0m\n",
      "\u001b[0;31mTypeError\u001b[0m: ufunc 'isnan' not supported for the input types, and the inputs could not be safely coerced to any supported types according to the casting rule ''safe''"
     ]
    }
   ],
   "source": [
    "mult_aln = MultAln.load_alignment(aln_fasta_path=\"runs/NC_011750_576818-577147_mult_aln.fasta\")\n",
    "pv = mult_aln.improve_aln(inplace=False).estimate_uniformity()\n",
    "if np.isnan(dict()):\n",
    "    print(\"OK\")\n",
    "print(type(pv))"
   ]
  },
  {
   "cell_type": "code",
   "execution_count": 2,
   "metadata": {
    "scrolled": true
   },
   "outputs": [
    {
     "name": "stdout",
     "output_type": "stream",
     "text": [
      "2018-05-23 00:02:19,148 - INFO - hmmscan started\n",
      "2018-05-23 00:02:19,153 - INFO - hmmscan finished\n"
     ]
    },
    {
     "data": {
      "text/plain": [
       "{'EAGLEdb/bacteria_test/Acetoanaerobium_sticklandii_16S_rRNA': u'Peptostreptococcaceae'}"
      ]
     },
     "execution_count": 2,
     "metadata": {},
     "output_type": "execute_result"
    }
   ],
   "source": [
    "from EAGLE.eag_location_explorer import get_btax\n",
    "\n",
    "#in_fasta = \"EAGLEdb/bacteria_test/GCF_002005165.1_ASM200516v1_genomic.fna\"\n",
    "in_fasta = \"EAGLEdb/bacteria_test/Acetoanaerobium_sticklandii_16S_rRNA.fasta\"\n",
    "db_json = \"EAGLEdb/bacteria/bact_fam.json\"\n",
    "db_info = json.load(open(db_json))\n",
    "get_btax(in_fasta,\n",
    "         db_info[\"db_repr_profiles\"],\n",
    "         btax_names=db_info.keys(),\n",
    "         hmmer_inst_dir=\"/home/loven-doo/tools/bin\",\n",
    "         remove_scan_out=False)"
   ]
  },
  {
   "cell_type": "code",
   "execution_count": 17,
   "metadata": {},
   "outputs": [],
   "source": [
    "fna_dict = load_fasta_to_dict(\"check_bactdb/GCA_003369875.1_ASM336987v1_genomic.fna\")\n",
    "shredded_fna_dict = shred_seqs(fna_dict)\n",
    "\n",
    "fasta_to_scan_dict = OrderedDict()\n",
    "for seq_id in shredded_fna_dict:\n",
    "    i = 1\n",
    "    for seq in shredded_fna_dict[seq_id]:\n",
    "        fasta_to_scan_dict[seq_id+\"_\"+str(i)] = seq\n",
    "        i += 1\n",
    "dump_fasta_dict(fasta_dict=fasta_to_scan_dict, fasta_path=\"check_bactdb/GCA_003369875.1_ASM336987v1_genomic.fna.shr\")"
   ]
  },
  {
   "cell_type": "code",
   "execution_count": 107,
   "metadata": {
    "scrolled": true
   },
   "outputs": [
    {
     "name": "stdout",
     "output_type": "stream",
     "text": [
      "0.379063\n",
      "Index([u'Seq1abcdef', u'Seq2abcd', u'Seq3abcdef'], dtype='object')\n"
     ]
    }
   ],
   "source": [
    "def load_phylip_dist_matrix(matrix_path):\n",
    "    matr_f = open(matrix_path)\n",
    "    lines_dict = OrderedDict()\n",
    "    seqs_list = list()\n",
    "    for line_ in matr_f:\n",
    "        line = None\n",
    "        line = line_.strip()\n",
    "        if not line:\n",
    "            continue\n",
    "        line_list = filter_list(line.split())\n",
    "        if len(line_list) == 1:\n",
    "            continue\n",
    "        seqs_list.append(line_list[0])\n",
    "        lines_dict[line_list[0]] = line_list[1:]\n",
    "    matrix = pandas.DataFrame.from_dict(data=lines_dict, orient='index')\n",
    "    matrix.columns = seqs_list\n",
    "    return matrix\n",
    "\n",
    "\n",
    "def filter_list(in_list):\n",
    "    filtered_list = list()\n",
    "    for elm_ in in_list:\n",
    "        elm = None\n",
    "        elm = elm_.strip()\n",
    "        if elm:\n",
    "            filtered_list.append(elm)\n",
    "    return filtered_list\n",
    "    \n",
    "    \n",
    "matr_f_path = 'dist_matr.ph'\n",
    "dist_matrix = load_phylip_dist_matrix(matr_f_path)\n",
    "print sum(map(float, list(dist_matrix.loc['Seq1abcdef'])))\n",
    "print(dist_matrix.index)"
   ]
  },
  {
   "cell_type": "code",
   "execution_count": 207,
   "metadata": {},
   "outputs": [],
   "source": [
    "bacteria_json_f = open(\"EAGLEdb/bacteria/bacteria.json\")\n",
    "bacteria_info_list = json.load(bacteria_json_f)\n",
    "bacteria_json_f.close()\n",
    "analyzed_bacteria = mp.Manager().dict()\n",
    "for bacterium_info in bacteria_info_list:\n",
    "    if os.path.exists(bacterium_info[u'16S_rRNA_file']):\n",
    "        analyzed_bacteria[bacterium_info[u'strain'].replace(\"_\", \" \")] = True\n",
    "analyzed_bacteria_f = open(\"analyzed_bacteria.p\", 'wb')\n",
    "pickle.dump(analyzed_bacteria, analyzed_bacteria_f)\n",
    "analyzed_bacteria_f.close()"
   ]
  },
  {
   "cell_type": "code",
   "execution_count": 213,
   "metadata": {},
   "outputs": [
    {
     "data": {
      "text/plain": [
       "True"
      ]
     },
     "execution_count": 213,
     "metadata": {},
     "output_type": "execute_result"
    }
   ],
   "source": [
    "analyzed_bacteria[\"Buchnera_aphidicola_str._Bp_(Baizongia_pistaciae)\".replace(\"_\", \" \")]"
   ]
  },
  {
   "cell_type": "code",
   "execution_count": 119,
   "metadata": {},
   "outputs": [
    {
     "data": {
      "text/plain": [
       "[('k2', 1), ('k1', 2), ('k3', 3)]"
      ]
     },
     "execution_count": 119,
     "metadata": {},
     "output_type": "execute_result"
    }
   ],
   "source": [
    "test_dict = {\"k1\": 2, \"k2\": 1, \"k3\": 3}\n",
    "sorted(test_dict.items(), key=lambda x: x[1])"
   ]
  },
  {
   "cell_type": "code",
   "execution_count": 132,
   "metadata": {},
   "outputs": [
    {
     "name": "stdout",
     "output_type": "stream",
     "text": [
      "{'set1': [('k2', 1), ('k1', 2), ('k3', 3)], 'set2': [('k6', 2), ('k4', 3), ('k5', 6)]}\n"
     ]
    },
    {
     "data": {
      "text/plain": [
       "[('k2', 'b'), ('k6', 'f')]"
      ]
     },
     "execution_count": 132,
     "metadata": {},
     "output_type": "execute_result"
    }
   ],
   "source": [
    "test_dict = {\"set1\": {\"k1\": 2, \"k2\": 1, \"k3\": 3}, \n",
    "             \"set2\": {\"k4\": 3, \"k5\": 6, \"k6\": 2}}\n",
    "for key in test_dict.keys():\n",
    "    test_dict[key] = sorted(test_dict[key].items(), key=lambda x: x[1])\n",
    "print test_dict\n",
    "falsh_dict = {\"k1\": \"a\", \"k2\": \"b\", \"k3\": \"c\", \"k4\": \"d\", \"k5\": \"e\", \"k6\": \"f\"}\n",
    "trans_dict = {\"k1\": \"set1\", \"k2\": \"set1\", \"k3\": \"set1\", \"k4\": \"set2\", \"k5\": \"set2\", \"k6\": \"set2\"}\n",
    "filter(lambda x: x[0] == test_dict[trans_dict[x[0]]][0][0], falsh_dict.items())\n"
   ]
  },
  {
   "cell_type": "code",
   "execution_count": 141,
   "metadata": {},
   "outputs": [
    {
     "name": "stdout",
     "output_type": "stream",
     "text": [
      "((None, None), (None, None))\n"
     ]
    }
   ],
   "source": [
    "print ((None, None), (None, None))"
   ]
  },
  {
   "cell_type": "code",
   "execution_count": 18,
   "metadata": {},
   "outputs": [
    {
     "name": "stdout",
     "output_type": "stream",
     "text": [
      "   A  B\n",
      "0  3  4\n",
      "1  4  2\n"
     ]
    },
    {
     "data": {
      "text/html": [
       "<div>\n",
       "<style scoped>\n",
       "    .dataframe tbody tr th:only-of-type {\n",
       "        vertical-align: middle;\n",
       "    }\n",
       "\n",
       "    .dataframe tbody tr th {\n",
       "        vertical-align: top;\n",
       "    }\n",
       "\n",
       "    .dataframe thead th {\n",
       "        text-align: right;\n",
       "    }\n",
       "</style>\n",
       "<table border=\"1\" class=\"dataframe\">\n",
       "  <thead>\n",
       "    <tr style=\"text-align: right;\">\n",
       "      <th></th>\n",
       "      <th>A</th>\n",
       "      <th>B</th>\n",
       "    </tr>\n",
       "  </thead>\n",
       "  <tbody>\n",
       "    <tr>\n",
       "      <th>1</th>\n",
       "      <td>4</td>\n",
       "      <td>2</td>\n",
       "    </tr>\n",
       "    <tr>\n",
       "      <th>0</th>\n",
       "      <td>3</td>\n",
       "      <td>4</td>\n",
       "    </tr>\n",
       "  </tbody>\n",
       "</table>\n",
       "</div>"
      ],
      "text/plain": [
       "   A  B\n",
       "1  4  2\n",
       "0  3  4"
      ]
     },
     "execution_count": 18,
     "metadata": {},
     "output_type": "execute_result"
    }
   ],
   "source": [
    "pd_dict = {\"Key1\": {\"A\": 4, \"B\": 2},\n",
    "           \"Key2\": {\"A\": 3, \"B\": 4}}\n",
    "df1 = pandas.DataFrame.from_dict(data=pd_dict, orient=\"index\")\n",
    "df2 = pandas.DataFrame(pd_dict.values())\n",
    "print(df2)\n",
    "df2.sort_values(\"B\")"
   ]
  },
  {
   "cell_type": "code",
   "execution_count": 159,
   "metadata": {},
   "outputs": [
    {
     "name": "stdout",
     "output_type": "stream",
     "text": [
      "0\n",
      "1\n",
      "1 0 ['k2']\n"
     ]
    }
   ],
   "source": [
    "d = {\"k1\": 1, \"k2\": 2}\n",
    "d = defaultdict(int)\n",
    "d[\"k1\"] = 1\n",
    "d[\"k2\"] = 2\n",
    "print(d[\"A\"])\n",
    "if d.pop(\"k1\") == 1:\n",
    "    print 1\n",
    "a = d.pop(\"A\")\n",
    "print k1, a, d.keys()"
   ]
  },
  {
   "cell_type": "code",
   "execution_count": 168,
   "metadata": {},
   "outputs": [
    {
     "data": {
      "text/plain": [
       "{'k1': {'k3': ['k6', 'k5'], 'k4': ['k8', 'k7']},\n",
       " 'k2': {'k10': ['k13', 'k14'], 'k9': ['k12', 'k11']}}"
      ]
     },
     "execution_count": 168,
     "metadata": {},
     "output_type": "execute_result"
    }
   ],
   "source": [
    "def get_tree_from_dict(input_dict, stop_level=2):\n",
    "    tree = dict()\n",
    "    if stop_level == 1:\n",
    "        return input_dict.keys()\n",
    "    for key in input_dict.keys():\n",
    "        tree[key] = get_tree_from_dict(input_dict[key], stop_level=stop_level-1)\n",
    "    return tree\n",
    "\n",
    "d = {\"k1\": {\"k3\": {\"k5\": 5,\n",
    "                   \"k6\": 6},\n",
    "            \"k4\": {\"k7\": 7,\n",
    "                   \"k8\": 8}},\n",
    "     \"k2\": {\"k9\": {\"k11\": 11,\n",
    "                   \"k12\": 12},\n",
    "            \"k10\": {\"k13\": 13,\n",
    "                    \"k14\": 14}}}\n",
    "get_tree_from_dict(d, 3)"
   ]
  },
  {
   "cell_type": "code",
   "execution_count": 177,
   "metadata": {},
   "outputs": [
    {
     "name": "stdout",
     "output_type": "stream",
     "text": [
      "   col1  col2  col3\n",
      "0     1     2     3\n",
      "1     4     5     6\n",
      "2     7     8     9\n"
     ]
    },
    {
     "data": {
      "text/plain": [
       "[None, (4, 5), (7, 8)]"
      ]
     },
     "execution_count": 177,
     "metadata": {},
     "output_type": "execute_result"
    }
   ],
   "source": [
    "dicts_list = [{\"col1\": 1, \"col2\": 2, \"col3\": 3},\n",
    "              {\"col1\": 4, \"col2\": 5, \"col3\": 6},\n",
    "              {\"col1\": 7, \"col2\": 8, \"col3\": 9}]\n",
    "appl_df = pandas.DataFrame(dicts_list)\n",
    "print(appl_df)\n",
    "list(appl_df.apply(lambda x: (x[\"col1\"], x[\"col2\"]) if x[\"col3\"] > 5 else None, axis=1))"
   ]
  },
  {
   "cell_type": "code",
   "execution_count": 92,
   "metadata": {},
   "outputs": [],
   "source": [
    "def dump_phylip_dist_matrix(dist_matrix, matrix_path):\n",
    "    matr_f = open(matrix_path, 'w')\n",
    "    matr_f.write(\"    %s\\n\" % len(dist_matrix.columns))\n",
    "    for seq in dist_matrix.index:\n",
    "        num_spaces_to_add = 10 - len(seq)\n",
    "        spaces_to_add = [\" \" for i in range(num_spaces_to_add)]\n",
    "        matr_f.write(\"%s %s\\n\" % (seq+\"\".join(spaces_to_add), \" \".join(dist_matrix.loc[seq].tolist())))\n",
    "    matr_f.close()\n",
    "    \n",
    "\n",
    "dump_phylip_dist_matrix(dist_matrix, \"dumped_matrix.ph\")"
   ]
  },
  {
   "cell_type": "code",
   "execution_count": null,
   "metadata": {},
   "outputs": [],
   "source": [
    "def reduce_seq_names(fasta_dict, num_letters=10, num_words=4):\n",
    "    if num_letters < 6:\n",
    "        print(\"Number of letters must be at least 6\")\n",
    "        return 1\n",
    "    if num_words < 2:\n",
    "        print(\"Number of words must be at least 2\")\n",
    "        return 1\n",
    "    splitters_repl = {\"\\t\": \" \",\n",
    "                      \",\": \" \",\n",
    "                      \";\": \" \",\n",
    "                      \".\": \" \",\n",
    "                      \":\": \" \",\n",
    "                      \"|\": \" \",\n",
    "                      \"/\": \" \",\n",
    "                      \"\\\\\": \" \"}\n",
    "    parts_size_list = get_part_size_list(num_letters, num_words)\n",
    "    reduced_fasta_dict = dict()\n",
    "    seq_names_dict = dict()\n",
    "    for seq_name in fasta_dict.keys():\n",
    "        reduced_seq_name = None\n",
    "        seq_name_list = filter_list(\"\".join([splitters_repl.get(s, s) for s in seq_name]).split())\n",
    "        parts = list()\n",
    "        for i in range(num_words):\n",
    "            try:\n",
    "                parts.append(seq_name_list[i][:parts_size_list[i]])\n",
    "            except IndexError:\n",
    "                break\n",
    "        reduced_seq_name = \"\".join(parts)\n",
    "        res_len = num_letters - len(reduced_seq_name)\n",
    "        un_num = 1\n",
    "        un_fix = get_un_fix(un_num, res_len)\n",
    "        while seq_names_dict.get(reduced_seq_name+un_fix, None):\n",
    "            un_fix = None\n",
    "            un_num += 1\n",
    "            un_fix = get_un_fix(un_num, res_len)\n",
    "        reduced_fasta_dict[reduced_seq_name+un_fix] = fasta_dict[seq_name]\n",
    "        seq_names_dict[reduced_seq_name+un_fix] = seq_name \n",
    "    return reduced_fasta_dict, seq_names_dict\n",
    "\n",
    "\n",
    "def get_part_size_list(num_letters, num_words):\n",
    "    if num_letters == 6: \n",
    "        return [2, 3]\n",
    "    if num_letters == 7:\n",
    "        if num_words >= 3:\n",
    "            return [2, 3, 1]\n",
    "        else:\n",
    "            return [2, 3]\n",
    "    if num_letters == 8:\n",
    "        if num_words >= 4:\n",
    "            return [2, 3, 1, 1]\n",
    "        elif num_words == 3:\n",
    "            return [3, 3, 1]\n",
    "        else:\n",
    "            return [3, 3]\n",
    "    if num_letters == 9:\n",
    "        if num_words >= 4:\n",
    "            return [3, 3, 1, 1]\n",
    "        elif num_words == 3:\n",
    "            return [3, 3, 1]\n",
    "        else:\n",
    "            return [3, 4]\n",
    "    if num_letters == 10:\n",
    "        if num_words >= 4:\n",
    "            return [3, 4, 1, 1]\n",
    "        elif num_words == 3:\n",
    "            return [3, 4, 1]\n",
    "        else:\n",
    "            return [4, 4]\n",
    "    if num_letters >= 11:\n",
    "        if num_words >= 4:\n",
    "            return [3, 4, 1, 1]\n",
    "        elif num_words == 3:\n",
    "            return [4, 4, 1]\n",
    "        else:\n",
    "            return [4, 5]\n",
    "\n",
    "\n",
    "def get_un_fix(un_num, fix_len):\n",
    "    un_codes = [\"_\", '0', '1', '2', '3', '4', '5', '6', '7', '8', '9', 'A', 'B', 'C', 'D', 'E']\n",
    "    # 'N' - undefined (num duplicates is bigger than len(un_codes))\n",
    "    if fix_len == 1:\n",
    "        try:\n",
    "            return un_codes[un_num-1]\n",
    "        except IndexError:\n",
    "            return 'N'\n",
    "    elif fix_len == 0:\n",
    "        return \"\"\n",
    "    elif un_num <= len(un_codes):\n",
    "        return un_codes[0] + get_un_fix(un_num, fix_len-1)\n",
    "    else:\n",
    "        filled_rank = len(un_codes)**(fix_len-1)\n",
    "        return un_codes[un_num//filled_rank - 1] + get_un_fix(un_num%filled_rank, fix_len-1)\n",
    "    \n",
    "\n",
    "fasta_dict = {\"seq1abc_defghi jkhhg\": \"ACGTTGCGGTAA\", \n",
    "              \"seq2hgft asdad.fdggjh fgjgh fgjhd\": \"GGTTAAG\",\n",
    "              \"seq3hgft asdad fdggjh\\fgjgh fkn\": \"GGTTAAG\"}\n",
    "reduce_seq_names(fasta_dict)"
   ]
  },
  {
   "cell_type": "code",
   "execution_count": 5,
   "metadata": {},
   "outputs": [
    {
     "data": {
      "text/plain": [
       "'G!MACGT'"
      ]
     },
     "execution_count": 5,
     "metadata": {},
     "output_type": "execute_result"
    }
   ],
   "source": [
    "seq = \"ACGTK!C\"\n",
    "str(Seq(seq).reverse_complement())"
   ]
  }
 ],
 "metadata": {
  "kernelspec": {
   "display_name": "Python 2",
   "language": "python",
   "name": "python2"
  },
  "language_info": {
   "codemirror_mode": {
    "name": "ipython",
    "version": 2
   },
   "file_extension": ".py",
   "mimetype": "text/x-python",
   "name": "python",
   "nbconvert_exporter": "python",
   "pygments_lexer": "ipython2",
   "version": "2.7.13"
  }
 },
 "nbformat": 4,
 "nbformat_minor": 2
}
