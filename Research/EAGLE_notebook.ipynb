{
 "cells": [
  {
   "cell_type": "code",
   "execution_count": 1,
   "metadata": {},
   "outputs": [],
   "source": [
    "import wget\n",
    "import gzip\n",
    "import sys\n",
    "import os\n",
    "import platform\n",
    "import pandas\n",
    "import json\n",
    "import pickle\n",
    "import multiprocessing as mp\n",
    "from collections import OrderedDict, defaultdict\n",
    "import redis"
   ]
  },
  {
   "cell_type": "code",
   "execution_count": 11,
   "metadata": {},
   "outputs": [
    {
     "name": "stdout",
     "output_type": "stream",
     "text": [
      "Erwiniaceae\n",
      "Rhodospirillaceae\n",
      "Helicobacteraceae\n",
      "Halomonadaceae\n",
      "Alteromonadaceae\n",
      "Sphingomonadaceae\n",
      "Rhodobacteraceae\n",
      "Pseudonocardiaceae\n",
      "Bradyrhizobiaceae\n",
      "Burkholderiaceae\n",
      "Vibrionaceae\n",
      "Oxalobacteraceae\n",
      "Comamonadaceae\n",
      "Enterobacteriaceae\n",
      "Alcaligenaceae\n",
      "Flavobacteriaceae\n",
      "Erythrobacteraceae\n",
      "Micrococcaceae\n",
      "Microbacteriaceae\n",
      "Planococcaceae\n",
      "Ectothiorhodospiraceae\n",
      "Spirochaetaceae\n",
      "Acetobacteraceae\n",
      "Peptococcaceae\n",
      "Morganellaceae\n",
      "Lachnospiraceae\n",
      "Xanthomonadaceae\n",
      "Cytophagaceae\n",
      "Bifidobacteriaceae\n",
      "Thermaceae\n",
      "336\n",
      "750\n",
      "1388\n",
      "1399\n"
     ]
    }
   ],
   "source": [
    "fams_dict = json.load(open(\"EAGLEdb/bacteria/bact_fam.json\"))\n",
    "genera_num_list = list()\n",
    "sp_num_list = list()\n",
    "strain_num_list = list()\n",
    "special_keys = (\"16S_rRNA_tree\", \"16S_rRNA_tsv\", \"16S_rRNA_fasta\", \"blastdb\", \"repr_profile\", \"fam_fna\", \"chr_id\")\n",
    "fam_num = 0\n",
    "for fam_name in fams_dict.keys():\n",
    "    if fam_name in (\"db_dir\", \"db_repr_profiles\", \"fam_fna\"):\n",
    "        continue\n",
    "    fam_num += 1\n",
    "    genera_num = 0\n",
    "    sp_num = 0\n",
    "    strain_num = 0\n",
    "    for genus in fams_dict[fam_name].keys(): \n",
    "        if genus in special_keys:\n",
    "            continue\n",
    "        genera_num += 1\n",
    "        for sp in fams_dict[fam_name][genus].keys():\n",
    "            sp_num += 1\n",
    "            for strain in fams_dict[fam_name][genus][sp].keys():\n",
    "                strain_num += 1\n",
    "    genera_num_list.append(genera_num)\n",
    "    sp_num_list.append(sp_num)\n",
    "    strain_num_list.append(strain_num)\n",
    "    if genera_num >= 4 and strain_num >= 8:\n",
    "        print(fam_name)\n",
    "\n",
    "print(fam_num)\n",
    "print(sum(genera_num_list))\n",
    "print(sum(sp_num_list))    \n",
    "print(sum(strain_num_list))    "
   ]
  },
  {
   "cell_type": "code",
   "execution_count": 13,
   "metadata": {},
   "outputs": [],
   "source": [
    "def list_to_txt(in_list, txt_path):\n",
    "    f = open(txt_path, 'w')\n",
    "    for elm in in_list:\n",
    "        f.write(str(elm)+\"\\n\")\n",
    "    f.close()\n",
    "    \n",
    "\n",
    "list_to_txt(strain_num_list, \"strain_num.txt\")"
   ]
  },
  {
   "cell_type": "code",
   "execution_count": 6,
   "metadata": {},
   "outputs": [
    {
     "data": {
      "text/plain": [
       "u'EAGLEdb/bacteria/db_repr_profiles'"
      ]
     },
     "execution_count": 6,
     "metadata": {},
     "output_type": "execute_result"
    }
   ],
   "source": [
    "fams_dict[\"db_repr_profiles\"]"
   ]
  },
  {
   "cell_type": "code",
   "execution_count": 2,
   "metadata": {
    "scrolled": true
   },
   "outputs": [
    {
     "name": "stdout",
     "output_type": "stream",
     "text": [
      "2018-05-23 00:02:19,148 - INFO - hmmscan started\n",
      "2018-05-23 00:02:19,153 - INFO - hmmscan finished\n"
     ]
    },
    {
     "data": {
      "text/plain": [
       "{'EAGLEdb/bacteria_test/Acetoanaerobium_sticklandii_16S_rRNA': u'Peptostreptococcaceae'}"
      ]
     },
     "execution_count": 2,
     "metadata": {},
     "output_type": "execute_result"
    }
   ],
   "source": [
    "from EAGLE.eag_location_explorer import get_btax\n",
    "\n",
    "#in_fasta = \"EAGLEdb/bacteria_test/GCF_002005165.1_ASM200516v1_genomic.fna\"\n",
    "in_fasta = \"EAGLEdb/bacteria_test/Acetoanaerobium_sticklandii_16S_rRNA.fasta\"\n",
    "db_json = \"EAGLEdb/bacteria/bact_fam.json\"\n",
    "db_info = json.load(open(db_json))\n",
    "get_btax(in_fasta,\n",
    "         db_info[\"db_repr_profiles\"],\n",
    "         btax_names=db_info.keys(),\n",
    "         hmmer_inst_dir=\"/home/loven-doo/tools/bin\",\n",
    "         remove_scan_out=False)"
   ]
  },
  {
   "cell_type": "code",
   "execution_count": 107,
   "metadata": {
    "scrolled": true
   },
   "outputs": [
    {
     "name": "stdout",
     "output_type": "stream",
     "text": [
      "0.379063\n",
      "Index([u'Seq1abcdef', u'Seq2abcd', u'Seq3abcdef'], dtype='object')\n"
     ]
    }
   ],
   "source": [
    "def load_phylip_dist_matrix(matrix_path):\n",
    "    matr_f = open(matrix_path)\n",
    "    lines_dict = OrderedDict()\n",
    "    seqs_list = list()\n",
    "    for line_ in matr_f:\n",
    "        line = None\n",
    "        line = line_.strip()\n",
    "        if not line:\n",
    "            continue\n",
    "        line_list = filter_list(line.split())\n",
    "        if len(line_list) == 1:\n",
    "            continue\n",
    "        seqs_list.append(line_list[0])\n",
    "        lines_dict[line_list[0]] = line_list[1:]\n",
    "    matrix = pandas.DataFrame.from_dict(data=lines_dict, orient='index')\n",
    "    matrix.columns = seqs_list\n",
    "    return matrix\n",
    "\n",
    "\n",
    "def filter_list(in_list):\n",
    "    filtered_list = list()\n",
    "    for elm_ in in_list:\n",
    "        elm = None\n",
    "        elm = elm_.strip()\n",
    "        if elm:\n",
    "            filtered_list.append(elm)\n",
    "    return filtered_list\n",
    "    \n",
    "    \n",
    "matr_f_path = 'dist_matr.ph'\n",
    "dist_matrix = load_phylip_dist_matrix(matr_f_path)\n",
    "print sum(map(float, list(dist_matrix.loc['Seq1abcdef'])))\n",
    "print(dist_matrix.index)"
   ]
  },
  {
   "cell_type": "code",
   "execution_count": 207,
   "metadata": {},
   "outputs": [],
   "source": [
    "bacteria_json_f = open(\"EAGLEdb/bacteria/bacteria.json\")\n",
    "bacteria_info_list = json.load(bacteria_json_f)\n",
    "bacteria_json_f.close()\n",
    "analyzed_bacteria = mp.Manager().dict()\n",
    "for bacterium_info in bacteria_info_list:\n",
    "    if os.path.exists(bacterium_info[u'16S_rRNA_file']):\n",
    "        analyzed_bacteria[bacterium_info[u'strain'].replace(\"_\", \" \")] = True\n",
    "analyzed_bacteria_f = open(\"analyzed_bacteria.p\", 'wb')\n",
    "pickle.dump(analyzed_bacteria, analyzed_bacteria_f)\n",
    "analyzed_bacteria_f.close()"
   ]
  },
  {
   "cell_type": "code",
   "execution_count": 213,
   "metadata": {},
   "outputs": [
    {
     "data": {
      "text/plain": [
       "True"
      ]
     },
     "execution_count": 213,
     "metadata": {},
     "output_type": "execute_result"
    }
   ],
   "source": [
    "analyzed_bacteria[\"Buchnera_aphidicola_str._Bp_(Baizongia_pistaciae)\".replace(\"_\", \" \")]"
   ]
  },
  {
   "cell_type": "code",
   "execution_count": 119,
   "metadata": {},
   "outputs": [
    {
     "data": {
      "text/plain": [
       "[('k2', 1), ('k1', 2), ('k3', 3)]"
      ]
     },
     "execution_count": 119,
     "metadata": {},
     "output_type": "execute_result"
    }
   ],
   "source": [
    "test_dict = {\"k1\": 2, \"k2\": 1, \"k3\": 3}\n",
    "sorted(test_dict.items(), key=lambda x: x[1])"
   ]
  },
  {
   "cell_type": "code",
   "execution_count": 132,
   "metadata": {},
   "outputs": [
    {
     "name": "stdout",
     "output_type": "stream",
     "text": [
      "{'set1': [('k2', 1), ('k1', 2), ('k3', 3)], 'set2': [('k6', 2), ('k4', 3), ('k5', 6)]}\n"
     ]
    },
    {
     "data": {
      "text/plain": [
       "[('k2', 'b'), ('k6', 'f')]"
      ]
     },
     "execution_count": 132,
     "metadata": {},
     "output_type": "execute_result"
    }
   ],
   "source": [
    "test_dict = {\"set1\": {\"k1\": 2, \"k2\": 1, \"k3\": 3}, \n",
    "             \"set2\": {\"k4\": 3, \"k5\": 6, \"k6\": 2}}\n",
    "for key in test_dict.keys():\n",
    "    test_dict[key] = sorted(test_dict[key].items(), key=lambda x: x[1])\n",
    "print test_dict\n",
    "falsh_dict = {\"k1\": \"a\", \"k2\": \"b\", \"k3\": \"c\", \"k4\": \"d\", \"k5\": \"e\", \"k6\": \"f\"}\n",
    "trans_dict = {\"k1\": \"set1\", \"k2\": \"set1\", \"k3\": \"set1\", \"k4\": \"set2\", \"k5\": \"set2\", \"k6\": \"set2\"}\n",
    "filter(lambda x: x[0] == test_dict[trans_dict[x[0]]][0][0], falsh_dict.items())\n"
   ]
  },
  {
   "cell_type": "code",
   "execution_count": 141,
   "metadata": {},
   "outputs": [
    {
     "name": "stdout",
     "output_type": "stream",
     "text": [
      "((None, None), (None, None))\n"
     ]
    }
   ],
   "source": [
    "print ((None, None), (None, None))"
   ]
  },
  {
   "cell_type": "code",
   "execution_count": 136,
   "metadata": {},
   "outputs": [
    {
     "data": {
      "text/html": [
       "<div>\n",
       "<style scoped>\n",
       "    .dataframe tbody tr th:only-of-type {\n",
       "        vertical-align: middle;\n",
       "    }\n",
       "\n",
       "    .dataframe tbody tr th {\n",
       "        vertical-align: top;\n",
       "    }\n",
       "\n",
       "    .dataframe thead th {\n",
       "        text-align: right;\n",
       "    }\n",
       "</style>\n",
       "<table border=\"1\" class=\"dataframe\">\n",
       "  <thead>\n",
       "    <tr style=\"text-align: right;\">\n",
       "      <th></th>\n",
       "      <th>A</th>\n",
       "      <th>B</th>\n",
       "    </tr>\n",
       "  </thead>\n",
       "  <tbody>\n",
       "    <tr>\n",
       "      <th>Key1</th>\n",
       "      <td>1</td>\n",
       "      <td>2</td>\n",
       "    </tr>\n",
       "    <tr>\n",
       "      <th>Key2</th>\n",
       "      <td>3</td>\n",
       "      <td>4</td>\n",
       "    </tr>\n",
       "  </tbody>\n",
       "</table>\n",
       "</div>"
      ],
      "text/plain": [
       "      A  B\n",
       "Key1  1  2\n",
       "Key2  3  4"
      ]
     },
     "execution_count": 136,
     "metadata": {},
     "output_type": "execute_result"
    }
   ],
   "source": [
    "pd_dict = {\"Key1\": {\"A\": 1, \"B\": 2},\n",
    "           \"Key2\": {\"A\": 3, \"B\": 4}}\n",
    "pandas.DataFrame.from_dict(data=pd_dict, orient=\"index\")"
   ]
  },
  {
   "cell_type": "code",
   "execution_count": 159,
   "metadata": {},
   "outputs": [
    {
     "name": "stdout",
     "output_type": "stream",
     "text": [
      "0\n",
      "1\n",
      "1 0 ['k2']\n"
     ]
    }
   ],
   "source": [
    "d = {\"k1\": 1, \"k2\": 2}\n",
    "d = defaultdict(int)\n",
    "d[\"k1\"] = 1\n",
    "d[\"k2\"] = 2\n",
    "print(d[\"A\"])\n",
    "if d.pop(\"k1\") == 1:\n",
    "    print 1\n",
    "a = d.pop(\"A\")\n",
    "print k1, a, d.keys()"
   ]
  },
  {
   "cell_type": "code",
   "execution_count": 168,
   "metadata": {},
   "outputs": [
    {
     "data": {
      "text/plain": [
       "{'k1': {'k3': ['k6', 'k5'], 'k4': ['k8', 'k7']},\n",
       " 'k2': {'k10': ['k13', 'k14'], 'k9': ['k12', 'k11']}}"
      ]
     },
     "execution_count": 168,
     "metadata": {},
     "output_type": "execute_result"
    }
   ],
   "source": [
    "def get_tree_from_dict(input_dict, stop_level=2):\n",
    "    tree = dict()\n",
    "    if stop_level == 1:\n",
    "        return input_dict.keys()\n",
    "    for key in input_dict.keys():\n",
    "        tree[key] = get_tree_from_dict(input_dict[key], stop_level=stop_level-1)\n",
    "    return tree\n",
    "\n",
    "d = {\"k1\": {\"k3\": {\"k5\": 5,\n",
    "                   \"k6\": 6},\n",
    "            \"k4\": {\"k7\": 7,\n",
    "                   \"k8\": 8}},\n",
    "     \"k2\": {\"k9\": {\"k11\": 11,\n",
    "                   \"k12\": 12},\n",
    "            \"k10\": {\"k13\": 13,\n",
    "                    \"k14\": 14}}}\n",
    "get_tree_from_dict(d, 3)"
   ]
  },
  {
   "cell_type": "code",
   "execution_count": 177,
   "metadata": {},
   "outputs": [
    {
     "name": "stdout",
     "output_type": "stream",
     "text": [
      "   col1  col2  col3\n",
      "0     1     2     3\n",
      "1     4     5     6\n",
      "2     7     8     9\n"
     ]
    },
    {
     "data": {
      "text/plain": [
       "[None, (4, 5), (7, 8)]"
      ]
     },
     "execution_count": 177,
     "metadata": {},
     "output_type": "execute_result"
    }
   ],
   "source": [
    "dicts_list = [{\"col1\": 1, \"col2\": 2, \"col3\": 3},\n",
    "              {\"col1\": 4, \"col2\": 5, \"col3\": 6},\n",
    "              {\"col1\": 7, \"col2\": 8, \"col3\": 9}]\n",
    "appl_df = pandas.DataFrame(dicts_list)\n",
    "print(appl_df)\n",
    "list(appl_df.apply(lambda x: (x[\"col1\"], x[\"col2\"]) if x[\"col3\"] > 5 else None, axis=1))"
   ]
  },
  {
   "cell_type": "code",
   "execution_count": 92,
   "metadata": {},
   "outputs": [],
   "source": [
    "def dump_phylip_dist_matrix(dist_matrix, matrix_path):\n",
    "    matr_f = open(matrix_path, 'w')\n",
    "    matr_f.write(\"    %s\\n\" % len(dist_matrix.columns))\n",
    "    for seq in dist_matrix.index:\n",
    "        num_spaces_to_add = 10 - len(seq)\n",
    "        spaces_to_add = [\" \" for i in range(num_spaces_to_add)]\n",
    "        matr_f.write(\"%s %s\\n\" % (seq+\"\".join(spaces_to_add), \" \".join(dist_matrix.loc[seq].tolist())))\n",
    "    matr_f.close()\n",
    "    \n",
    "\n",
    "dump_phylip_dist_matrix(dist_matrix, \"dumped_matrix.ph\")"
   ]
  },
  {
   "cell_type": "code",
   "execution_count": null,
   "metadata": {},
   "outputs": [],
   "source": [
    "def reduce_seq_names(fasta_dict, num_letters=10, num_words=4):\n",
    "    if num_letters < 6:\n",
    "        print(\"Number of letters must be at least 6\")\n",
    "        return 1\n",
    "    if num_words < 2:\n",
    "        print(\"Number of words must be at least 2\")\n",
    "        return 1\n",
    "    splitters_repl = {\"\\t\": \" \",\n",
    "                      \",\": \" \",\n",
    "                      \";\": \" \",\n",
    "                      \".\": \" \",\n",
    "                      \":\": \" \",\n",
    "                      \"|\": \" \",\n",
    "                      \"/\": \" \",\n",
    "                      \"\\\\\": \" \"}\n",
    "    parts_size_list = get_part_size_list(num_letters, num_words)\n",
    "    reduced_fasta_dict = dict()\n",
    "    seq_names_dict = dict()\n",
    "    for seq_name in fasta_dict.keys():\n",
    "        reduced_seq_name = None\n",
    "        seq_name_list = filter_list(\"\".join([splitters_repl.get(s, s) for s in seq_name]).split())\n",
    "        parts = list()\n",
    "        for i in range(num_words):\n",
    "            try:\n",
    "                parts.append(seq_name_list[i][:parts_size_list[i]])\n",
    "            except IndexError:\n",
    "                break\n",
    "        reduced_seq_name = \"\".join(parts)\n",
    "        res_len = num_letters - len(reduced_seq_name)\n",
    "        un_num = 1\n",
    "        un_fix = get_un_fix(un_num, res_len)\n",
    "        while seq_names_dict.get(reduced_seq_name+un_fix, None):\n",
    "            un_fix = None\n",
    "            un_num += 1\n",
    "            un_fix = get_un_fix(un_num, res_len)\n",
    "        reduced_fasta_dict[reduced_seq_name+un_fix] = fasta_dict[seq_name]\n",
    "        seq_names_dict[reduced_seq_name+un_fix] = seq_name \n",
    "    return reduced_fasta_dict, seq_names_dict\n",
    "\n",
    "\n",
    "def get_part_size_list(num_letters, num_words):\n",
    "    if num_letters == 6: \n",
    "        return [2, 3]\n",
    "    if num_letters == 7:\n",
    "        if num_words >= 3:\n",
    "            return [2, 3, 1]\n",
    "        else:\n",
    "            return [2, 3]\n",
    "    if num_letters == 8:\n",
    "        if num_words >= 4:\n",
    "            return [2, 3, 1, 1]\n",
    "        elif num_words == 3:\n",
    "            return [3, 3, 1]\n",
    "        else:\n",
    "            return [3, 3]\n",
    "    if num_letters == 9:\n",
    "        if num_words >= 4:\n",
    "            return [3, 3, 1, 1]\n",
    "        elif num_words == 3:\n",
    "            return [3, 3, 1]\n",
    "        else:\n",
    "            return [3, 4]\n",
    "    if num_letters == 10:\n",
    "        if num_words >= 4:\n",
    "            return [3, 4, 1, 1]\n",
    "        elif num_words == 3:\n",
    "            return [3, 4, 1]\n",
    "        else:\n",
    "            return [4, 4]\n",
    "    if num_letters >= 11:\n",
    "        if num_words >= 4:\n",
    "            return [3, 4, 1, 1]\n",
    "        elif num_words == 3:\n",
    "            return [4, 4, 1]\n",
    "        else:\n",
    "            return [4, 5]\n",
    "\n",
    "\n",
    "def get_un_fix(un_num, fix_len):\n",
    "    un_codes = [\"_\", '0', '1', '2', '3', '4', '5', '6', '7', '8', '9', 'A', 'B', 'C', 'D', 'E']\n",
    "    # 'N' - undefined (num duplicates is bigger than len(un_codes))\n",
    "    if fix_len == 1:\n",
    "        try:\n",
    "            return un_codes[un_num-1]\n",
    "        except IndexError:\n",
    "            return 'N'\n",
    "    elif fix_len == 0:\n",
    "        return \"\"\n",
    "    elif un_num <= len(un_codes):\n",
    "        return un_codes[0] + get_un_fix(un_num, fix_len-1)\n",
    "    else:\n",
    "        filled_rank = len(un_codes)**(fix_len-1)\n",
    "        return un_codes[un_num//filled_rank - 1] + get_un_fix(un_num%filled_rank, fix_len-1)\n",
    "    \n",
    "\n",
    "fasta_dict = {\"seq1abc_defghi jkhhg\": \"ACGTTGCGGTAA\", \n",
    "              \"seq2hgft asdad.fdggjh fgjgh fgjhd\": \"GGTTAAG\",\n",
    "              \"seq3hgft asdad fdggjh\\fgjgh fkn\": \"GGTTAAG\"}\n",
    "reduce_seq_names(fasta_dict)"
   ]
  }
 ],
 "metadata": {
  "kernelspec": {
   "display_name": "Python 2",
   "language": "python",
   "name": "python2"
  },
  "language_info": {
   "codemirror_mode": {
    "name": "ipython",
    "version": 2
   },
   "file_extension": ".py",
   "mimetype": "text/x-python",
   "name": "python",
   "nbconvert_exporter": "python",
   "pygments_lexer": "ipython2",
   "version": "2.7.13"
  }
 },
 "nbformat": 4,
 "nbformat_minor": 2
}
