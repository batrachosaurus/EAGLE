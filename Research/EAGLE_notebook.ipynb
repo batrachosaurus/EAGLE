{
 "cells": [
  {
   "cell_type": "code",
   "execution_count": 1,
   "metadata": {},
   "outputs": [],
   "source": [
    "import wget\n",
    "import gzip\n",
    "import sys\n",
    "import os\n",
    "import platform\n",
    "import pandas\n",
    "import json\n",
    "import pickle\n",
    "import multiprocessing as mp\n",
    "from collections import OrderedDict, defaultdict\n",
    "import redis"
   ]
  },
  {
   "cell_type": "code",
   "execution_count": 10,
   "metadata": {},
   "outputs": [
    {
     "name": "stdout",
     "output_type": "stream",
     "text": [
      "337\n",
      "749\n",
      "1387\n",
      "1406\n"
     ]
    }
   ],
   "source": [
    "fams_dict = json.load(open(\"EAGLEdb_0/bacteria/bact_fam.json\"))\n",
    "genera_num_list = list()\n",
    "sp_num_list = list()\n",
    "strain_num_list = list()\n",
    "special_keys = (\"16S_rRNA_tree\", \"16S_rRNA_tsv\", \"16S_rRNA_fasta\", \"blastdb\", \"repr_profile\")\n",
    "fam_num = 0\n",
    "for fam_name in fams_dict.keys():\n",
    "    if fam_name in (\"db_dir\", \"db_repr_profiles\"):\n",
    "        continue\n",
    "    fam_num += 1\n",
    "    genera_num = 0\n",
    "    sp_num = 0\n",
    "    strain_num = 0\n",
    "    for genus in fams_dict[fam_name].keys(): \n",
    "        if genus in special_keys:\n",
    "            continue\n",
    "        genera_num += 1\n",
    "        for sp in fams_dict[fam_name][genus].keys():\n",
    "            sp_num += 1\n",
    "            for strain in fams_dict[fam_name][genus][sp].keys():\n",
    "                strain_num += 1\n",
    "    genera_num_list.append(genera_num)\n",
    "    sp_num_list.append(sp_num)\n",
    "    strain_num_list.append(strain_num)\n",
    "\n",
    "print(fam_num)\n",
    "print(sum(genera_num_list))\n",
    "print(sum(sp_num_list))    \n",
    "print(sum(strain_num_list))"
   ]
  },
  {
   "cell_type": "code",
   "execution_count": 13,
   "metadata": {},
   "outputs": [],
   "source": [
    "def list_to_txt(in_list, txt_path):\n",
    "    f = open(txt_path, 'w')\n",
    "    for elm in in_list:\n",
    "        f.write(str(elm)+\"\\n\")\n",
    "    f.close()\n",
    "    \n",
    "\n",
    "list_to_txt(strain_num_list, \"strain_num.txt\")"
   ]
  },
  {
   "cell_type": "code",
   "execution_count": 6,
   "metadata": {},
   "outputs": [
    {
     "data": {
      "text/plain": [
       "u'EAGLEdb/bacteria/db_repr_profiles'"
      ]
     },
     "execution_count": 6,
     "metadata": {},
     "output_type": "execute_result"
    }
   ],
   "source": [
    "fams_dict[\"db_repr_profiles\"]"
   ]
  },
  {
   "cell_type": "code",
   "execution_count": 2,
   "metadata": {
    "scrolled": true
   },
   "outputs": [
    {
     "name": "stdout",
     "output_type": "stream",
     "text": [
      "2018-05-23 00:02:19,148 - INFO - hmmscan started\n",
      "2018-05-23 00:02:19,153 - INFO - hmmscan finished\n"
     ]
    },
    {
     "data": {
      "text/plain": [
       "{'EAGLEdb/bacteria_test/Acetoanaerobium_sticklandii_16S_rRNA': u'Peptostreptococcaceae'}"
      ]
     },
     "execution_count": 2,
     "metadata": {},
     "output_type": "execute_result"
    }
   ],
   "source": [
    "from EAGLE.eag_location_explorer import get_btax\n",
    "\n",
    "#in_fasta = \"EAGLEdb/bacteria_test/GCF_002005165.1_ASM200516v1_genomic.fna\"\n",
    "in_fasta = \"EAGLEdb/bacteria_test/Acetoanaerobium_sticklandii_16S_rRNA.fasta\"\n",
    "db_json = \"EAGLEdb/bacteria/bact_fam.json\"\n",
    "db_info = json.load(open(db_json))\n",
    "get_btax(in_fasta,\n",
    "         db_info[\"db_repr_profiles\"],\n",
    "         btax_names=db_info.keys(),\n",
    "         hmmer_inst_dir=\"/home/loven-doo/tools/bin\",\n",
    "         remove_scan_out=False)"
   ]
  },
  {
   "cell_type": "code",
   "execution_count": 219,
   "metadata": {},
   "outputs": [
    {
     "ename": "ConnectionError",
     "evalue": "Error 111 connecting to localhost:6379. Connection refused.",
     "traceback": [
      "\u001b[0;31m\u001b[0m",
      "\u001b[0;31mConnectionError\u001b[0mTraceback (most recent call last)",
      "\u001b[0;32m<ipython-input-219-1c14f343b19f>\u001b[0m in \u001b[0;36m<module>\u001b[0;34m()\u001b[0m\n\u001b[1;32m      1\u001b[0m \u001b[0mredis_conn\u001b[0m \u001b[0;34m=\u001b[0m \u001b[0mredis\u001b[0m\u001b[0;34m.\u001b[0m\u001b[0mStrictRedis\u001b[0m\u001b[0;34m(\u001b[0m\u001b[0;34m)\u001b[0m\u001b[0;34m\u001b[0m\u001b[0m\n\u001b[0;32m----> 2\u001b[0;31m \u001b[0mredis_conn\u001b[0m\u001b[0;34m.\u001b[0m\u001b[0mllen\u001b[0m\u001b[0;34m(\u001b[0m\u001b[0;34m\"bacteria_queue\"\u001b[0m\u001b[0;34m)\u001b[0m\u001b[0;34m\u001b[0m\u001b[0m\n\u001b[0m",
      "\u001b[0;32m/home/loven-doo/EAGLE/EAGLE_venv/lib/python2.7/site-packages/redis/client.pyc\u001b[0m in \u001b[0;36mllen\u001b[0;34m(self, name)\u001b[0m\n\u001b[1;32m   1323\u001b[0m     \u001b[0;32mdef\u001b[0m \u001b[0mllen\u001b[0m\u001b[0;34m(\u001b[0m\u001b[0mself\u001b[0m\u001b[0;34m,\u001b[0m \u001b[0mname\u001b[0m\u001b[0;34m)\u001b[0m\u001b[0;34m:\u001b[0m\u001b[0;34m\u001b[0m\u001b[0m\n\u001b[1;32m   1324\u001b[0m         \u001b[0;34m\"Return the length of the list ``name``\"\u001b[0m\u001b[0;34m\u001b[0m\u001b[0m\n\u001b[0;32m-> 1325\u001b[0;31m         \u001b[0;32mreturn\u001b[0m \u001b[0mself\u001b[0m\u001b[0;34m.\u001b[0m\u001b[0mexecute_command\u001b[0m\u001b[0;34m(\u001b[0m\u001b[0;34m'LLEN'\u001b[0m\u001b[0;34m,\u001b[0m \u001b[0mname\u001b[0m\u001b[0;34m)\u001b[0m\u001b[0;34m\u001b[0m\u001b[0m\n\u001b[0m\u001b[1;32m   1326\u001b[0m \u001b[0;34m\u001b[0m\u001b[0m\n\u001b[1;32m   1327\u001b[0m     \u001b[0;32mdef\u001b[0m \u001b[0mlpop\u001b[0m\u001b[0;34m(\u001b[0m\u001b[0mself\u001b[0m\u001b[0;34m,\u001b[0m \u001b[0mname\u001b[0m\u001b[0;34m)\u001b[0m\u001b[0;34m:\u001b[0m\u001b[0;34m\u001b[0m\u001b[0m\n",
      "\u001b[0;32m/home/loven-doo/EAGLE/EAGLE_venv/lib/python2.7/site-packages/redis/client.pyc\u001b[0m in \u001b[0;36mexecute_command\u001b[0;34m(self, *args, **options)\u001b[0m\n\u001b[1;32m    671\u001b[0m             \u001b[0;32mif\u001b[0m \u001b[0;32mnot\u001b[0m \u001b[0mconnection\u001b[0m\u001b[0;34m.\u001b[0m\u001b[0mretry_on_timeout\u001b[0m \u001b[0;32mand\u001b[0m \u001b[0misinstance\u001b[0m\u001b[0;34m(\u001b[0m\u001b[0me\u001b[0m\u001b[0;34m,\u001b[0m \u001b[0mTimeoutError\u001b[0m\u001b[0;34m)\u001b[0m\u001b[0;34m:\u001b[0m\u001b[0;34m\u001b[0m\u001b[0m\n\u001b[1;32m    672\u001b[0m                 \u001b[0;32mraise\u001b[0m\u001b[0;34m\u001b[0m\u001b[0m\n\u001b[0;32m--> 673\u001b[0;31m             \u001b[0mconnection\u001b[0m\u001b[0;34m.\u001b[0m\u001b[0msend_command\u001b[0m\u001b[0;34m(\u001b[0m\u001b[0;34m*\u001b[0m\u001b[0margs\u001b[0m\u001b[0;34m)\u001b[0m\u001b[0;34m\u001b[0m\u001b[0m\n\u001b[0m\u001b[1;32m    674\u001b[0m             \u001b[0;32mreturn\u001b[0m \u001b[0mself\u001b[0m\u001b[0;34m.\u001b[0m\u001b[0mparse_response\u001b[0m\u001b[0;34m(\u001b[0m\u001b[0mconnection\u001b[0m\u001b[0;34m,\u001b[0m \u001b[0mcommand_name\u001b[0m\u001b[0;34m,\u001b[0m \u001b[0;34m**\u001b[0m\u001b[0moptions\u001b[0m\u001b[0;34m)\u001b[0m\u001b[0;34m\u001b[0m\u001b[0m\n\u001b[1;32m    675\u001b[0m         \u001b[0;32mfinally\u001b[0m\u001b[0;34m:\u001b[0m\u001b[0;34m\u001b[0m\u001b[0m\n",
      "\u001b[0;32m/home/loven-doo/EAGLE/EAGLE_venv/lib/python2.7/site-packages/redis/connection.pyc\u001b[0m in \u001b[0;36msend_command\u001b[0;34m(self, *args)\u001b[0m\n\u001b[1;32m    608\u001b[0m     \u001b[0;32mdef\u001b[0m \u001b[0msend_command\u001b[0m\u001b[0;34m(\u001b[0m\u001b[0mself\u001b[0m\u001b[0;34m,\u001b[0m \u001b[0;34m*\u001b[0m\u001b[0margs\u001b[0m\u001b[0;34m)\u001b[0m\u001b[0;34m:\u001b[0m\u001b[0;34m\u001b[0m\u001b[0m\n\u001b[1;32m    609\u001b[0m         \u001b[0;34m\"Pack and send a command to the Redis server\"\u001b[0m\u001b[0;34m\u001b[0m\u001b[0m\n\u001b[0;32m--> 610\u001b[0;31m         \u001b[0mself\u001b[0m\u001b[0;34m.\u001b[0m\u001b[0msend_packed_command\u001b[0m\u001b[0;34m(\u001b[0m\u001b[0mself\u001b[0m\u001b[0;34m.\u001b[0m\u001b[0mpack_command\u001b[0m\u001b[0;34m(\u001b[0m\u001b[0;34m*\u001b[0m\u001b[0margs\u001b[0m\u001b[0;34m)\u001b[0m\u001b[0;34m)\u001b[0m\u001b[0;34m\u001b[0m\u001b[0m\n\u001b[0m\u001b[1;32m    611\u001b[0m \u001b[0;34m\u001b[0m\u001b[0m\n\u001b[1;32m    612\u001b[0m     \u001b[0;32mdef\u001b[0m \u001b[0mcan_read\u001b[0m\u001b[0;34m(\u001b[0m\u001b[0mself\u001b[0m\u001b[0;34m,\u001b[0m \u001b[0mtimeout\u001b[0m\u001b[0;34m=\u001b[0m\u001b[0;36m0\u001b[0m\u001b[0;34m)\u001b[0m\u001b[0;34m:\u001b[0m\u001b[0;34m\u001b[0m\u001b[0m\n",
      "\u001b[0;32m/home/loven-doo/EAGLE/EAGLE_venv/lib/python2.7/site-packages/redis/connection.pyc\u001b[0m in \u001b[0;36msend_packed_command\u001b[0;34m(self, command)\u001b[0m\n\u001b[1;32m    583\u001b[0m         \u001b[0;34m\"Send an already packed command to the Redis server\"\u001b[0m\u001b[0;34m\u001b[0m\u001b[0m\n\u001b[1;32m    584\u001b[0m         \u001b[0;32mif\u001b[0m \u001b[0;32mnot\u001b[0m \u001b[0mself\u001b[0m\u001b[0;34m.\u001b[0m\u001b[0m_sock\u001b[0m\u001b[0;34m:\u001b[0m\u001b[0;34m\u001b[0m\u001b[0m\n\u001b[0;32m--> 585\u001b[0;31m             \u001b[0mself\u001b[0m\u001b[0;34m.\u001b[0m\u001b[0mconnect\u001b[0m\u001b[0;34m(\u001b[0m\u001b[0;34m)\u001b[0m\u001b[0;34m\u001b[0m\u001b[0m\n\u001b[0m\u001b[1;32m    586\u001b[0m         \u001b[0;32mtry\u001b[0m\u001b[0;34m:\u001b[0m\u001b[0;34m\u001b[0m\u001b[0m\n\u001b[1;32m    587\u001b[0m             \u001b[0;32mif\u001b[0m \u001b[0misinstance\u001b[0m\u001b[0;34m(\u001b[0m\u001b[0mcommand\u001b[0m\u001b[0;34m,\u001b[0m \u001b[0mstr\u001b[0m\u001b[0;34m)\u001b[0m\u001b[0;34m:\u001b[0m\u001b[0;34m\u001b[0m\u001b[0m\n",
      "\u001b[0;32m/home/loven-doo/EAGLE/EAGLE_venv/lib/python2.7/site-packages/redis/connection.pyc\u001b[0m in \u001b[0;36mconnect\u001b[0;34m(self)\u001b[0m\n\u001b[1;32m    487\u001b[0m         \u001b[0;32mexcept\u001b[0m \u001b[0msocket\u001b[0m\u001b[0;34m.\u001b[0m\u001b[0merror\u001b[0m\u001b[0;34m:\u001b[0m\u001b[0;34m\u001b[0m\u001b[0m\n\u001b[1;32m    488\u001b[0m             \u001b[0me\u001b[0m \u001b[0;34m=\u001b[0m \u001b[0msys\u001b[0m\u001b[0;34m.\u001b[0m\u001b[0mexc_info\u001b[0m\u001b[0;34m(\u001b[0m\u001b[0;34m)\u001b[0m\u001b[0;34m[\u001b[0m\u001b[0;36m1\u001b[0m\u001b[0;34m]\u001b[0m\u001b[0;34m\u001b[0m\u001b[0m\n\u001b[0;32m--> 489\u001b[0;31m             \u001b[0;32mraise\u001b[0m \u001b[0mConnectionError\u001b[0m\u001b[0;34m(\u001b[0m\u001b[0mself\u001b[0m\u001b[0;34m.\u001b[0m\u001b[0m_error_message\u001b[0m\u001b[0;34m(\u001b[0m\u001b[0me\u001b[0m\u001b[0;34m)\u001b[0m\u001b[0;34m)\u001b[0m\u001b[0;34m\u001b[0m\u001b[0m\n\u001b[0m\u001b[1;32m    490\u001b[0m \u001b[0;34m\u001b[0m\u001b[0m\n\u001b[1;32m    491\u001b[0m         \u001b[0mself\u001b[0m\u001b[0;34m.\u001b[0m\u001b[0m_sock\u001b[0m \u001b[0;34m=\u001b[0m \u001b[0msock\u001b[0m\u001b[0;34m\u001b[0m\u001b[0m\n",
      "\u001b[0;31mConnectionError\u001b[0m: Error 111 connecting to localhost:6379. Connection refused."
     ],
     "output_type": "error"
    }
   ],
   "source": [
    "redis_conn = redis.StrictRedis()\n",
    "redis_conn.llen(\"bacteria_queue\")"
   ]
  },
  {
   "cell_type": "code",
   "execution_count": 107,
   "metadata": {
    "scrolled": true
   },
   "outputs": [
    {
     "name": "stdout",
     "output_type": "stream",
     "text": [
      "0.379063\n",
      "Index([u'Seq1abcdef', u'Seq2abcd', u'Seq3abcdef'], dtype='object')\n"
     ]
    }
   ],
   "source": [
    "def load_phylip_dist_matrix(matrix_path):\n",
    "    matr_f = open(matrix_path)\n",
    "    lines_dict = OrderedDict()\n",
    "    seqs_list = list()\n",
    "    for line_ in matr_f:\n",
    "        line = None\n",
    "        line = line_.strip()\n",
    "        if not line:\n",
    "            continue\n",
    "        line_list = filter_list(line.split())\n",
    "        if len(line_list) == 1:\n",
    "            continue\n",
    "        seqs_list.append(line_list[0])\n",
    "        lines_dict[line_list[0]] = line_list[1:]\n",
    "    matrix = pandas.DataFrame.from_dict(data=lines_dict, orient='index')\n",
    "    matrix.columns = seqs_list\n",
    "    return matrix\n",
    "\n",
    "\n",
    "def filter_list(in_list):\n",
    "    filtered_list = list()\n",
    "    for elm_ in in_list:\n",
    "        elm = None\n",
    "        elm = elm_.strip()\n",
    "        if elm:\n",
    "            filtered_list.append(elm)\n",
    "    return filtered_list\n",
    "    \n",
    "    \n",
    "matr_f_path = 'dist_matr.ph'\n",
    "dist_matrix = load_phylip_dist_matrix(matr_f_path)\n",
    "print sum(map(float, list(dist_matrix.loc['Seq1abcdef'])))\n",
    "print(dist_matrix.index)"
   ]
  },
  {
   "cell_type": "code",
   "execution_count": 207,
   "metadata": {},
   "outputs": [],
   "source": [
    "bacteria_json_f = open(\"EAGLEdb/bacteria/bacteria.json\")\n",
    "bacteria_info_list = json.load(bacteria_json_f)\n",
    "bacteria_json_f.close()\n",
    "analyzed_bacteria = mp.Manager().dict()\n",
    "for bacterium_info in bacteria_info_list:\n",
    "    if os.path.exists(bacterium_info[u'16S_rRNA_file']):\n",
    "        analyzed_bacteria[bacterium_info[u'strain'].replace(\"_\", \" \")] = True\n",
    "analyzed_bacteria_f = open(\"analyzed_bacteria.p\", 'wb')\n",
    "pickle.dump(analyzed_bacteria, analyzed_bacteria_f)\n",
    "analyzed_bacteria_f.close()"
   ]
  },
  {
   "cell_type": "code",
   "execution_count": 213,
   "metadata": {},
   "outputs": [
    {
     "data": {
      "text/plain": [
       "True"
      ]
     },
     "execution_count": 213,
     "metadata": {},
     "output_type": "execute_result"
    }
   ],
   "source": [
    "analyzed_bacteria[\"Buchnera_aphidicola_str._Bp_(Baizongia_pistaciae)\".replace(\"_\", \" \")]"
   ]
  },
  {
   "cell_type": "code",
   "execution_count": 119,
   "metadata": {},
   "outputs": [
    {
     "data": {
      "text/plain": [
       "[('k2', 1), ('k1', 2), ('k3', 3)]"
      ]
     },
     "execution_count": 119,
     "metadata": {},
     "output_type": "execute_result"
    }
   ],
   "source": [
    "test_dict = {\"k1\": 2, \"k2\": 1, \"k3\": 3}\n",
    "sorted(test_dict.items(), key=lambda x: x[1])"
   ]
  },
  {
   "cell_type": "code",
   "execution_count": 132,
   "metadata": {},
   "outputs": [
    {
     "name": "stdout",
     "output_type": "stream",
     "text": [
      "{'set1': [('k2', 1), ('k1', 2), ('k3', 3)], 'set2': [('k6', 2), ('k4', 3), ('k5', 6)]}\n"
     ]
    },
    {
     "data": {
      "text/plain": [
       "[('k2', 'b'), ('k6', 'f')]"
      ]
     },
     "execution_count": 132,
     "metadata": {},
     "output_type": "execute_result"
    }
   ],
   "source": [
    "test_dict = {\"set1\": {\"k1\": 2, \"k2\": 1, \"k3\": 3}, \n",
    "             \"set2\": {\"k4\": 3, \"k5\": 6, \"k6\": 2}}\n",
    "for key in test_dict.keys():\n",
    "    test_dict[key] = sorted(test_dict[key].items(), key=lambda x: x[1])\n",
    "print test_dict\n",
    "falsh_dict = {\"k1\": \"a\", \"k2\": \"b\", \"k3\": \"c\", \"k4\": \"d\", \"k5\": \"e\", \"k6\": \"f\"}\n",
    "trans_dict = {\"k1\": \"set1\", \"k2\": \"set1\", \"k3\": \"set1\", \"k4\": \"set2\", \"k5\": \"set2\", \"k6\": \"set2\"}\n",
    "filter(lambda x: x[0] == test_dict[trans_dict[x[0]]][0][0], falsh_dict.items())"
   ]
  },
  {
   "cell_type": "code",
   "execution_count": 141,
   "metadata": {},
   "outputs": [
    {
     "name": "stdout",
     "output_type": "stream",
     "text": [
      "((None, None), (None, None))\n"
     ]
    }
   ],
   "source": [
    "print ((None, None), (None, None))"
   ]
  },
  {
   "cell_type": "code",
   "execution_count": 136,
   "metadata": {},
   "outputs": [
    {
     "data": {
      "text/html": [
       "<div>\n",
       "<style scoped>\n",
       "    .dataframe tbody tr th:only-of-type {\n",
       "        vertical-align: middle;\n",
       "    }\n",
       "\n",
       "    .dataframe tbody tr th {\n",
       "        vertical-align: top;\n",
       "    }\n",
       "\n",
       "    .dataframe thead th {\n",
       "        text-align: right;\n",
       "    }\n",
       "</style>\n",
       "<table border=\"1\" class=\"dataframe\">\n",
       "  <thead>\n",
       "    <tr style=\"text-align: right;\">\n",
       "      <th></th>\n",
       "      <th>A</th>\n",
       "      <th>B</th>\n",
       "    </tr>\n",
       "  </thead>\n",
       "  <tbody>\n",
       "    <tr>\n",
       "      <th>Key1</th>\n",
       "      <td>1</td>\n",
       "      <td>2</td>\n",
       "    </tr>\n",
       "    <tr>\n",
       "      <th>Key2</th>\n",
       "      <td>3</td>\n",
       "      <td>4</td>\n",
       "    </tr>\n",
       "  </tbody>\n",
       "</table>\n",
       "</div>"
      ],
      "text/plain": [
       "      A  B\n",
       "Key1  1  2\n",
       "Key2  3  4"
      ]
     },
     "execution_count": 136,
     "metadata": {},
     "output_type": "execute_result"
    }
   ],
   "source": [
    "pd_dict = {\"Key1\": {\"A\": 1, \"B\": 2},\n",
    "           \"Key2\": {\"A\": 3, \"B\": 4}}\n",
    "pandas.DataFrame.from_dict(data=pd_dict, orient=\"index\")"
   ]
  },
  {
   "cell_type": "code",
   "execution_count": 159,
   "metadata": {},
   "outputs": [
    {
     "name": "stdout",
     "output_type": "stream",
     "text": [
      "0\n",
      "1\n",
      "1 0 ['k2']\n"
     ]
    }
   ],
   "source": [
    "d = {\"k1\": 1, \"k2\": 2}\n",
    "d = defaultdict(int)\n",
    "d[\"k1\"] = 1\n",
    "d[\"k2\"] = 2\n",
    "print(d[\"A\"])\n",
    "if d.pop(\"k1\") == 1:\n",
    "    print 1\n",
    "a = d.pop(\"A\")\n",
    "print k1, a, d.keys()"
   ]
  },
  {
   "cell_type": "code",
   "execution_count": 168,
   "metadata": {},
   "outputs": [
    {
     "data": {
      "text/plain": [
       "{'k1': {'k3': ['k6', 'k5'], 'k4': ['k8', 'k7']},\n",
       " 'k2': {'k10': ['k13', 'k14'], 'k9': ['k12', 'k11']}}"
      ]
     },
     "execution_count": 168,
     "metadata": {},
     "output_type": "execute_result"
    }
   ],
   "source": [
    "def get_tree_from_dict(input_dict, stop_level=2):\n",
    "    tree = dict()\n",
    "    if stop_level == 1:\n",
    "        return input_dict.keys()\n",
    "    for key in input_dict.keys():\n",
    "        tree[key] = get_tree_from_dict(input_dict[key], stop_level=stop_level-1)\n",
    "    return tree\n",
    "\n",
    "d = {\"k1\": {\"k3\": {\"k5\": 5,\n",
    "                   \"k6\": 6},\n",
    "            \"k4\": {\"k7\": 7,\n",
    "                   \"k8\": 8}},\n",
    "     \"k2\": {\"k9\": {\"k11\": 11,\n",
    "                   \"k12\": 12},\n",
    "            \"k10\": {\"k13\": 13,\n",
    "                    \"k14\": 14}}}\n",
    "get_tree_from_dict(d, 3)"
   ]
  },
  {
   "cell_type": "code",
   "execution_count": 177,
   "metadata": {},
   "outputs": [
    {
     "name": "stdout",
     "output_type": "stream",
     "text": [
      "   col1  col2  col3\n",
      "0     1     2     3\n",
      "1     4     5     6\n",
      "2     7     8     9\n"
     ]
    },
    {
     "data": {
      "text/plain": [
       "[None, (4, 5), (7, 8)]"
      ]
     },
     "execution_count": 177,
     "metadata": {},
     "output_type": "execute_result"
    }
   ],
   "source": [
    "dicts_list = [{\"col1\": 1, \"col2\": 2, \"col3\": 3},\n",
    "              {\"col1\": 4, \"col2\": 5, \"col3\": 6},\n",
    "              {\"col1\": 7, \"col2\": 8, \"col3\": 9}]\n",
    "appl_df = pandas.DataFrame(dicts_list)\n",
    "print(appl_df)\n",
    "list(appl_df.apply(lambda x: (x[\"col1\"], x[\"col2\"]) if x[\"col3\"] > 5 else None, axis=1))"
   ]
  },
  {
   "cell_type": "code",
   "execution_count": 92,
   "metadata": {},
   "outputs": [],
   "source": [
    "def dump_phylip_dist_matrix(dist_matrix, matrix_path):\n",
    "    matr_f = open(matrix_path, 'w')\n",
    "    matr_f.write(\"    %s\\n\" % len(dist_matrix.columns))\n",
    "    for seq in dist_matrix.index:\n",
    "        num_spaces_to_add = 10 - len(seq)\n",
    "        spaces_to_add = [\" \" for i in range(num_spaces_to_add)]\n",
    "        matr_f.write(\"%s %s\\n\" % (seq+\"\".join(spaces_to_add), \" \".join(dist_matrix.loc[seq].tolist())))\n",
    "    matr_f.close()\n",
    "    \n",
    "\n",
    "dump_phylip_dist_matrix(dist_matrix, \"dumped_matrix.ph\")"
   ]
  },
  {
   "cell_type": "code",
   "execution_count": null,
   "metadata": {},
   "outputs": [],
   "source": [
    "def reduce_seq_names(fasta_dict, num_letters=10, num_words=4):\n",
    "    if num_letters < 6:\n",
    "        print(\"Number of letters must be at least 6\")\n",
    "        return 1\n",
    "    if num_words < 2:\n",
    "        print(\"Number of words must be at least 2\")\n",
    "        return 1\n",
    "    splitters_repl = {\"\\t\": \" \",\n",
    "                      \",\": \" \",\n",
    "                      \";\": \" \",\n",
    "                      \".\": \" \",\n",
    "                      \":\": \" \",\n",
    "                      \"|\": \" \",\n",
    "                      \"/\": \" \",\n",
    "                      \"\\\\\": \" \"}\n",
    "    parts_size_list = get_part_size_list(num_letters, num_words)\n",
    "    reduced_fasta_dict = dict()\n",
    "    seq_names_dict = dict()\n",
    "    for seq_name in fasta_dict.keys():\n",
    "        reduced_seq_name = None\n",
    "        seq_name_list = filter_list(\"\".join([splitters_repl.get(s, s) for s in seq_name]).split())\n",
    "        parts = list()\n",
    "        for i in range(num_words):\n",
    "            try:\n",
    "                parts.append(seq_name_list[i][:parts_size_list[i]])\n",
    "            except IndexError:\n",
    "                break\n",
    "        reduced_seq_name = \"\".join(parts)\n",
    "        res_len = num_letters - len(reduced_seq_name)\n",
    "        un_num = 1\n",
    "        un_fix = get_un_fix(un_num, res_len)\n",
    "        while seq_names_dict.get(reduced_seq_name+un_fix, None):\n",
    "            un_fix = None\n",
    "            un_num += 1\n",
    "            un_fix = get_un_fix(un_num, res_len)\n",
    "        reduced_fasta_dict[reduced_seq_name+un_fix] = fasta_dict[seq_name]\n",
    "        seq_names_dict[reduced_seq_name+un_fix] = seq_name \n",
    "    return reduced_fasta_dict, seq_names_dict\n",
    "\n",
    "\n",
    "def get_part_size_list(num_letters, num_words):\n",
    "    if num_letters == 6: \n",
    "        return [2, 3]\n",
    "    if num_letters == 7:\n",
    "        if num_words >= 3:\n",
    "            return [2, 3, 1]\n",
    "        else:\n",
    "            return [2, 3]\n",
    "    if num_letters == 8:\n",
    "        if num_words >= 4:\n",
    "            return [2, 3, 1, 1]\n",
    "        elif num_words == 3:\n",
    "            return [3, 3, 1]\n",
    "        else:\n",
    "            return [3, 3]\n",
    "    if num_letters == 9:\n",
    "        if num_words >= 4:\n",
    "            return [3, 3, 1, 1]\n",
    "        elif num_words == 3:\n",
    "            return [3, 3, 1]\n",
    "        else:\n",
    "            return [3, 4]\n",
    "    if num_letters == 10:\n",
    "        if num_words >= 4:\n",
    "            return [3, 4, 1, 1]\n",
    "        elif num_words == 3:\n",
    "            return [3, 4, 1]\n",
    "        else:\n",
    "            return [4, 4]\n",
    "    if num_letters >= 11:\n",
    "        if num_words >= 4:\n",
    "            return [3, 4, 1, 1]\n",
    "        elif num_words == 3:\n",
    "            return [4, 4, 1]\n",
    "        else:\n",
    "            return [4, 5]\n",
    "\n",
    "\n",
    "def get_un_fix(un_num, fix_len):\n",
    "    un_codes = [\"_\", '0', '1', '2', '3', '4', '5', '6', '7', '8', '9', 'A', 'B', 'C', 'D', 'E']\n",
    "    # 'N' - undefined (num duplicates is bigger than len(un_codes))\n",
    "    if fix_len == 1:\n",
    "        try:\n",
    "            return un_codes[un_num-1]\n",
    "        except IndexError:\n",
    "            return 'N'\n",
    "    elif fix_len == 0:\n",
    "        return \"\"\n",
    "    elif un_num <= len(un_codes):\n",
    "        return un_codes[0] + get_un_fix(un_num, fix_len-1)\n",
    "    else:\n",
    "        filled_rank = len(un_codes)**(fix_len-1)\n",
    "        return un_codes[un_num//filled_rank - 1] + get_un_fix(un_num%filled_rank, fix_len-1)\n",
    "    \n",
    "\n",
    "fasta_dict = {\"seq1abc_defghi jkhhg\": \"ACGTTGCGGTAA\", \n",
    "              \"seq2hgft asdad.fdggjh fgjgh fgjhd\": \"GGTTAAG\",\n",
    "              \"seq3hgft asdad fdggjh\\fgjgh fkn\": \"GGTTAAG\"}\n",
    "reduce_seq_names(fasta_dict)"
   ]
  },
  {
   "cell_type": "code",
   "execution_count": 182,
   "metadata": {
    "scrolled": true
   },
   "outputs": [
    {
     "data": {
      "text/html": [
       "<div>\n",
       "<style scoped>\n",
       "    .dataframe tbody tr th:only-of-type {\n",
       "        vertical-align: middle;\n",
       "    }\n",
       "\n",
       "    .dataframe tbody tr th {\n",
       "        vertical-align: top;\n",
       "    }\n",
       "\n",
       "    .dataframe thead th {\n",
       "        text-align: right;\n",
       "    }\n",
       "</style>\n",
       "<table border=\"1\" class=\"dataframe\">\n",
       "  <thead>\n",
       "    <tr style=\"text-align: right;\">\n",
       "      <th></th>\n",
       "      <th>org_name</th>\n",
       "      <th>ncbi_link</th>\n",
       "      <th>repr</th>\n",
       "    </tr>\n",
       "  </thead>\n",
       "  <tbody>\n",
       "    <tr>\n",
       "      <th>0</th>\n",
       "      <td>Azorhizobium caulinodans ORS 571</td>\n",
       "      <td>ftp://ftp.ncbi.nlm.nih.gov/genomes/all/GCA/000...</td>\n",
       "      <td>True</td>\n",
       "    </tr>\n",
       "    <tr>\n",
       "      <th>1</th>\n",
       "      <td>Buchnera aphidicola str. Sg (Schizaphis graminum)</td>\n",
       "      <td>ftp://ftp.ncbi.nlm.nih.gov/genomes/all/GCA/000...</td>\n",
       "      <td>True</td>\n",
       "    </tr>\n",
       "    <tr>\n",
       "      <th>2</th>\n",
       "      <td>Buchnera aphidicola str. Bp (Baizongia pistaciae)</td>\n",
       "      <td>ftp://ftp.ncbi.nlm.nih.gov/genomes/all/GCA/000...</td>\n",
       "      <td>True</td>\n",
       "    </tr>\n",
       "    <tr>\n",
       "      <th>3</th>\n",
       "      <td>Buchnera aphidicola str. APS (Acyrthosiphon pi...</td>\n",
       "      <td>ftp://ftp.ncbi.nlm.nih.gov/genomes/all/GCA/000...</td>\n",
       "      <td>False</td>\n",
       "    </tr>\n",
       "    <tr>\n",
       "      <th>4</th>\n",
       "      <td>Buchnera aphidicola str. Tuc7 (Acyrthosiphon p...</td>\n",
       "      <td>ftp://ftp.ncbi.nlm.nih.gov/genomes/all/GCA/000...</td>\n",
       "      <td>False</td>\n",
       "    </tr>\n",
       "    <tr>\n",
       "      <th>5</th>\n",
       "      <td>Buchnera aphidicola str. 5A (Acyrthosiphon pisum)</td>\n",
       "      <td>ftp://ftp.ncbi.nlm.nih.gov/genomes/all/GCA/000...</td>\n",
       "      <td>False</td>\n",
       "    </tr>\n",
       "    <tr>\n",
       "      <th>6</th>\n",
       "      <td>Buchnera aphidicola BCc</td>\n",
       "      <td>ftp://ftp.ncbi.nlm.nih.gov/genomes/all/GCA/000...</td>\n",
       "      <td>True</td>\n",
       "    </tr>\n",
       "    <tr>\n",
       "      <th>7</th>\n",
       "      <td>Buchnera aphidicola str. LL01 (Acyrthosiphon p...</td>\n",
       "      <td>ftp://ftp.ncbi.nlm.nih.gov/genomes/all/GCA/000...</td>\n",
       "      <td>False</td>\n",
       "    </tr>\n",
       "    <tr>\n",
       "      <th>8</th>\n",
       "      <td>Buchnera aphidicola str. TLW03 (Acyrthosiphon ...</td>\n",
       "      <td>ftp://ftp.ncbi.nlm.nih.gov/genomes/all/GCA/000...</td>\n",
       "      <td>False</td>\n",
       "    </tr>\n",
       "    <tr>\n",
       "      <th>9</th>\n",
       "      <td>Buchnera aphidicola str. JF99 (Acyrthosiphon p...</td>\n",
       "      <td>ftp://ftp.ncbi.nlm.nih.gov/genomes/all/GCA/000...</td>\n",
       "      <td>False</td>\n",
       "    </tr>\n",
       "    <tr>\n",
       "      <th>10</th>\n",
       "      <td>Buchnera aphidicola str. JF98 (Acyrthosiphon p...</td>\n",
       "      <td>ftp://ftp.ncbi.nlm.nih.gov/genomes/all/GCA/000...</td>\n",
       "      <td>False</td>\n",
       "    </tr>\n",
       "    <tr>\n",
       "      <th>11</th>\n",
       "      <td>Buchnera aphidicola (Cinara tujafilina)</td>\n",
       "      <td>ftp://ftp.ncbi.nlm.nih.gov/genomes/all/GCA/000...</td>\n",
       "      <td>True</td>\n",
       "    </tr>\n",
       "    <tr>\n",
       "      <th>12</th>\n",
       "      <td>Buchnera aphidicola str. Ak (Acyrthosiphon kon...</td>\n",
       "      <td>ftp://ftp.ncbi.nlm.nih.gov/genomes/all/GCA/000...</td>\n",
       "      <td>True</td>\n",
       "    </tr>\n",
       "    <tr>\n",
       "      <th>13</th>\n",
       "      <td>Buchnera aphidicola str. Ua (Uroleucon ambrosiae)</td>\n",
       "      <td>ftp://ftp.ncbi.nlm.nih.gov/genomes/all/GCA/000...</td>\n",
       "      <td>True</td>\n",
       "    </tr>\n",
       "    <tr>\n",
       "      <th>14</th>\n",
       "      <td>Buchnera aphidicola str. USDA (Myzus persicae)</td>\n",
       "      <td>ftp://ftp.ncbi.nlm.nih.gov/genomes/all/GCA/000...</td>\n",
       "      <td>False</td>\n",
       "    </tr>\n",
       "    <tr>\n",
       "      <th>15</th>\n",
       "      <td>Buchnera aphidicola str. W106 (Myzus persicae)</td>\n",
       "      <td>ftp://ftp.ncbi.nlm.nih.gov/genomes/all/GCA/000...</td>\n",
       "      <td>False</td>\n",
       "    </tr>\n",
       "    <tr>\n",
       "      <th>16</th>\n",
       "      <td>Buchnera aphidicola str. G002 (Myzus persicae)</td>\n",
       "      <td>ftp://ftp.ncbi.nlm.nih.gov/genomes/all/GCA/000...</td>\n",
       "      <td>True</td>\n",
       "    </tr>\n",
       "    <tr>\n",
       "      <th>17</th>\n",
       "      <td>Buchnera aphidicola str. F009 (Myzus persicae)</td>\n",
       "      <td>ftp://ftp.ncbi.nlm.nih.gov/genomes/all/GCA/000...</td>\n",
       "      <td>False</td>\n",
       "    </tr>\n",
       "    <tr>\n",
       "      <th>18</th>\n",
       "      <td>Buchnera aphidicola (Aphis glycines)</td>\n",
       "      <td>ftp://ftp.ncbi.nlm.nih.gov/genomes/all/GCA/001...</td>\n",
       "      <td>True</td>\n",
       "    </tr>\n",
       "    <tr>\n",
       "      <th>19</th>\n",
       "      <td>Buchnera aphidicola (Schlechtendalia chinensis)</td>\n",
       "      <td>ftp://ftp.ncbi.nlm.nih.gov/genomes/all/GCA/001...</td>\n",
       "      <td>True</td>\n",
       "    </tr>\n",
       "  </tbody>\n",
       "</table>\n",
       "</div>"
      ],
      "text/plain": [
       "                                             org_name  \\\n",
       "0                    Azorhizobium caulinodans ORS 571   \n",
       "1   Buchnera aphidicola str. Sg (Schizaphis graminum)   \n",
       "2   Buchnera aphidicola str. Bp (Baizongia pistaciae)   \n",
       "3   Buchnera aphidicola str. APS (Acyrthosiphon pi...   \n",
       "4   Buchnera aphidicola str. Tuc7 (Acyrthosiphon p...   \n",
       "5   Buchnera aphidicola str. 5A (Acyrthosiphon pisum)   \n",
       "6                             Buchnera aphidicola BCc   \n",
       "7   Buchnera aphidicola str. LL01 (Acyrthosiphon p...   \n",
       "8   Buchnera aphidicola str. TLW03 (Acyrthosiphon ...   \n",
       "9   Buchnera aphidicola str. JF99 (Acyrthosiphon p...   \n",
       "10  Buchnera aphidicola str. JF98 (Acyrthosiphon p...   \n",
       "11            Buchnera aphidicola (Cinara tujafilina)   \n",
       "12  Buchnera aphidicola str. Ak (Acyrthosiphon kon...   \n",
       "13  Buchnera aphidicola str. Ua (Uroleucon ambrosiae)   \n",
       "14     Buchnera aphidicola str. USDA (Myzus persicae)   \n",
       "15     Buchnera aphidicola str. W106 (Myzus persicae)   \n",
       "16     Buchnera aphidicola str. G002 (Myzus persicae)   \n",
       "17     Buchnera aphidicola str. F009 (Myzus persicae)   \n",
       "18               Buchnera aphidicola (Aphis glycines)   \n",
       "19    Buchnera aphidicola (Schlechtendalia chinensis)   \n",
       "\n",
       "                                            ncbi_link   repr  \n",
       "0   ftp://ftp.ncbi.nlm.nih.gov/genomes/all/GCA/000...   True  \n",
       "1   ftp://ftp.ncbi.nlm.nih.gov/genomes/all/GCA/000...   True  \n",
       "2   ftp://ftp.ncbi.nlm.nih.gov/genomes/all/GCA/000...   True  \n",
       "3   ftp://ftp.ncbi.nlm.nih.gov/genomes/all/GCA/000...  False  \n",
       "4   ftp://ftp.ncbi.nlm.nih.gov/genomes/all/GCA/000...  False  \n",
       "5   ftp://ftp.ncbi.nlm.nih.gov/genomes/all/GCA/000...  False  \n",
       "6   ftp://ftp.ncbi.nlm.nih.gov/genomes/all/GCA/000...   True  \n",
       "7   ftp://ftp.ncbi.nlm.nih.gov/genomes/all/GCA/000...  False  \n",
       "8   ftp://ftp.ncbi.nlm.nih.gov/genomes/all/GCA/000...  False  \n",
       "9   ftp://ftp.ncbi.nlm.nih.gov/genomes/all/GCA/000...  False  \n",
       "10  ftp://ftp.ncbi.nlm.nih.gov/genomes/all/GCA/000...  False  \n",
       "11  ftp://ftp.ncbi.nlm.nih.gov/genomes/all/GCA/000...   True  \n",
       "12  ftp://ftp.ncbi.nlm.nih.gov/genomes/all/GCA/000...   True  \n",
       "13  ftp://ftp.ncbi.nlm.nih.gov/genomes/all/GCA/000...   True  \n",
       "14  ftp://ftp.ncbi.nlm.nih.gov/genomes/all/GCA/000...  False  \n",
       "15  ftp://ftp.ncbi.nlm.nih.gov/genomes/all/GCA/000...  False  \n",
       "16  ftp://ftp.ncbi.nlm.nih.gov/genomes/all/GCA/000...   True  \n",
       "17  ftp://ftp.ncbi.nlm.nih.gov/genomes/all/GCA/000...  False  \n",
       "18  ftp://ftp.ncbi.nlm.nih.gov/genomes/all/GCA/001...   True  \n",
       "19  ftp://ftp.ncbi.nlm.nih.gov/genomes/all/GCA/001...   True  "
      ]
     },
     "execution_count": 182,
     "metadata": {},
     "output_type": "execute_result"
    }
   ],
   "source": [
    "def prepare_summary_tables(summary_table=None, out_table_path=None):\n",
    "    if not summary_table and not out_table_path:\n",
    "        try:\n",
    "            summary_table = sys.argv[1]\n",
    "            out_table_path = sys.argv[2]\n",
    "        except IndexError:\n",
    "            print(\"Number of arguments must be 2: 1 - summary table path; 2 - output table path\")\n",
    "    summary_df = pandas.read_csv(summary_table, header=1, sep=\"\\t\", dtype=str)\n",
    "    lines_list = summary_df.apply(lambda df_row: {\n",
    "        \"org_name\": df_row['organism_name'],\n",
    "        \"ncbi_link\": df_row['ftp_path'],\n",
    "        \"repr\": True if \"repr\" in df_row['refseq_category'].lower() else False,\n",
    "        } if df_row['assembly_level'].lower() == \"complete genome\" else None, axis=1)\n",
    "    prepared_df = pandas.DataFrame(filter(None, lines_list))\n",
    "    prepared_df = prepared_df[[\"org_name\", \"ncbi_link\", \"repr\"]]\n",
    "    prepared_df.to_csv(out_table_path, sep=\"\\t\", index=False)\n",
    "\n",
    "prepare_summary_tables(summary_table=\"assembly_summary_genbank.txt\", out_table_path=\"genbank_bacteria_table.txt\")\n",
    "prep_df = pandas.read_csv(\"genbank_bacteria_table.txt\", sep=\"\\t\", dtype=str)\n",
    "prep_df.head(20)"
   ]
  },
  {
   "cell_type": "code",
   "execution_count": 183,
   "metadata": {
    "scrolled": true
   },
   "outputs": [
    {
     "name": "stdout",
     "output_type": "stream",
     "text": [
      "org_name\tncbi_link\trepr\r\n",
      "Azorhizobium caulinodans ORS 571\tftp://ftp.ncbi.nlm.nih.gov/genomes/all/GCA/000/010/525/GCA_000010525.1_ASM1052v1\tTrue\r\n",
      "Buchnera aphidicola str. Sg (Schizaphis graminum)\tftp://ftp.ncbi.nlm.nih.gov/genomes/all/GCA/000/007/365/GCA_000007365.1_ASM736v1\tTrue\r\n",
      "Buchnera aphidicola str. Bp (Baizongia pistaciae)\tftp://ftp.ncbi.nlm.nih.gov/genomes/all/GCA/000/007/725/GCA_000007725.1_ASM772v1\tTrue\r\n",
      "Buchnera aphidicola str. APS (Acyrthosiphon pisum)\tftp://ftp.ncbi.nlm.nih.gov/genomes/all/GCA/000/009/605/GCA_000009605.1_ASM960v1\tFalse\r\n",
      "Buchnera aphidicola str. Tuc7 (Acyrthosiphon pisum)\tftp://ftp.ncbi.nlm.nih.gov/genomes/all/GCA/000/021/065/GCA_000021065.1_ASM2106v1\tFalse\r\n",
      "Buchnera aphidicola str. 5A (Acyrthosiphon pisum)\tftp://ftp.ncbi.nlm.nih.gov/genomes/all/GCA/000/021/085/GCA_000021085.1_ASM2108v1\tFalse\r\n",
      "Buchnera aphidicola BCc\tftp://ftp.ncbi.nlm.nih.gov/genomes/all/GCA/000/090/965/GCA_000090965.1_ASM9096v1\tTrue\r\n",
      "Buchnera aphidicola str. LL01 (Acyrthosiphon pisum)\tftp://ftp.ncbi.nlm.nih.gov/genomes/all/GCA/000/183/225/GCA_000183225.1_ASM18322v1\tFalse\r\n",
      "Buchnera aphidicola str. TLW03 (Acyrthosiphon pisum)\tftp://ftp.ncbi.nlm.nih.gov/genomes/all/GCA/000/183/245/GCA_000183245.1_ASM18324v1\tFalse\r\n",
      "Buchnera aphidicola str. JF99 (Acyrthosiphon pisum)\tftp://ftp.ncbi.nlm.nih.gov/genomes/all/GCA/000/183/285/GCA_000183285.1_ASM18328v1\tFalse\r\n",
      "Buchnera aphidicola str. JF98 (Acyrthosiphon pisum)\tftp://ftp.ncbi.nlm.nih.gov/genomes/all/GCA/000/183/305/GCA_000183305.1_ASM18330v1\tFalse\r\n",
      "Buchnera aphidicola (Cinara tujafilina)\tftp://ftp.ncbi.nlm.nih.gov/genomes/all/GCA/000/217/635/GCA_000217635.1_ASM21763v1\tTrue\r\n",
      "Buchnera aphidicola str. Ak (Acyrthosiphon kondoi)\tftp://ftp.ncbi.nlm.nih.gov/genomes/all/GCA/000/225/445/GCA_000225445.1_ASM22544v1\tTrue\r\n",
      "Buchnera aphidicola str. Ua (Uroleucon ambrosiae)\tftp://ftp.ncbi.nlm.nih.gov/genomes/all/GCA/000/225/465/GCA_000225465.1_ASM22546v1\tTrue\r\n",
      "Buchnera aphidicola str. USDA (Myzus persicae)\tftp://ftp.ncbi.nlm.nih.gov/genomes/all/GCA/000/521/525/GCA_000521525.1_ASM52152v1\tFalse\r\n",
      "Buchnera aphidicola str. W106 (Myzus persicae)\tftp://ftp.ncbi.nlm.nih.gov/genomes/all/GCA/000/521/545/GCA_000521545.1_ASM52154v1\tFalse\r\n",
      "Buchnera aphidicola str. G002 (Myzus persicae)\tftp://ftp.ncbi.nlm.nih.gov/genomes/all/GCA/000/521/565/GCA_000521565.1_ASM52156v1\tTrue\r\n",
      "Buchnera aphidicola str. F009 (Myzus persicae)\tftp://ftp.ncbi.nlm.nih.gov/genomes/all/GCA/000/521/585/GCA_000521585.1_ASM52158v1\tFalse\r\n",
      "Buchnera aphidicola (Aphis glycines)\tftp://ftp.ncbi.nlm.nih.gov/genomes/all/GCA/001/280/225/GCA_001280225.1_ASM128022v1\tTrue\r\n",
      "Buchnera aphidicola (Schlechtendalia chinensis)\tftp://ftp.ncbi.nlm.nih.gov/genomes/all/GCA/001/648/115/GCA_001648115.1_ASM164811v1\tTrue\r\n"
     ]
    }
   ],
   "source": [
    "!head -n 21 genbank_bacteria_table.txt"
   ]
  },
  {
   "cell_type": "code",
   "execution_count": 199,
   "metadata": {},
   "outputs": [
    {
     "name": "stdout",
     "output_type": "stream",
     "text": [
      "<type 'str'>\n",
      "10144\n"
     ]
    }
   ],
   "source": [
    "print(type(prep_df.loc[4][\"repr\"]))\n",
    "print(prep_df.shape[0])"
   ]
  },
  {
   "cell_type": "code",
   "execution_count": 93,
   "metadata": {},
   "outputs": [],
   "source": [
    "for i in range(-5):\n",
    "    print(i)"
   ]
  },
  {
   "cell_type": "code",
   "execution_count": 10,
   "metadata": {},
   "outputs": [],
   "source": [
    "try:\n",
    "    wget.download('ftp://ftp.ncbi.nlm.nih.gov/genomes/refseq/bacteria/Abiotrophia_defectiva/representative/GCF_000160075.2_ASM16007v2/GCF_000160075.2_ASM16007v2_rna_from_genomic.fna.gz', out=\"EAGLEdb\")\n",
    "except IOError:\n",
    "    print \"That's it.\""
   ]
  },
  {
   "cell_type": "code",
   "execution_count": 11,
   "metadata": {},
   "outputs": [
    {
     "name": "stdout",
     "output_type": "stream",
     "text": [
      ">lcl|NZ_KI535340.1_trna_1 [locus_tag=GCWU000182_RS00760] [product=tRNA-Leu] [location=157701..157786] [gbkey=tRNA]\n",
      "\n",
      "GCGGAGATGGCGGAACGGCAGACGCGCATGCTTCAGGCGCATGTGTCCAATAGGACGTGAGGGTTCAAATCCCTTTCTCC\n",
      "\n",
      "GCATCA\n",
      "\n",
      ">lcl|NZ_KI535340.1_tmrna_2 [gene=ssrA] [locus_tag=GCWU000182_RS09735] [db_xref=RFAM:RF00023] [product=transfer-messenger RNA] [location=191584..191947] [gbkey=tmRNA]\n",
      "\n",
      "GGGGATGTCACGGTTTCGACAGGTATTGTTCGAGCTTTTGATGCGTCAGGAGGGTTGCGTCCGCCTTAAAACGCTACAGT\n",
      "\n",
      "TAAATATAACTGCAAACAACCAAAACAACTCTTTCGCTTTAGCAGCTTAATAACCTGCAGCGGAAAATCAGCCTAACATC\n",
      "\n",
      "GCCCATGTGCTAGTAGCTGGTTTTATTTAAGTGGGATACGCGTGATTTATCCGTCTGTTAAATCACGAAGAGATAATCAG\n",
      "\n",
      "ACTCGCAAGGATGACAGCCCGTCTAGTGGCGGTCTCTGCGCTAAATCAAATAGCTAGACTATTGACGTAGACTCGATTGT\n",
      "\n",
      "GGCGAGATACTTGGACAGGGGTTCGATTCCCCTCATCTCCATAA\n",
      "\n",
      ">lcl|NZ_KI535340.1_ncrna_3 [gene=rnpB] [locus_tag=GCWU000182_RS09740] [db_xref=RFAM:RF00011] [product=RNase P RNA component class B] [ncRNA_class=RNase_P_RNA] [location=complement(193281..193674)] [gbkey=ncRNA]\n",
      "\n",
      "GATTTTAGGTAATCGCGGCTAGCGATAGTTGAGGAAAGTCCATGCTCGCACAGGCTGAGATGCCTGTAGTGTTCGTGCTT\n",
      "\n",
      "AGCGAAACCATAAGCTAAGGTAGTGCCTAGCGCTAACGGCAGGCAAAAGGTCTAAGGCTTCGGCTATGACTGAGTAACCT\n",
      "\n",
      "CTAAGGTGCCACAGAGACGAGGCTGGTTGGAAACAACTAGCGTGGAACGCGGTAAACCCCTCGAGCGAGCAACCCAAATA\n",
      "\n",
      "GTGACCTAGTTTCTAGGTATACTGGTCGGGGCACTTTTCCTAGGGAAATGAACCGATGGAAGAGGCGGGTCACCTAGTGG\n",
      "\n",
      "CCGGCAGACAGATGATTACCCCACTTAAGGTGTATCGCCTATTTCCCTTAAGTGACAGAACATGGCTTATCGAA\n",
      "\n",
      ">lcl|NZ_KI535340.1_ncrna_4 [gene=ssrS] [locus_tag=GCWU000182_RS09745] [db_xref=RFAM:RF00013] [product=6S RNA] [ncRNA_class=other] [location=295450..295639] [gbkey=ncRNA]\n",
      "\n",
      "GAAGATCTGTGGTGTACGTGACATATACACTGTGTTGACCGAACATTTTTCTTTAGATATAGGGAACCAATTCGGCTGAC\n",
      "\n",
      "TTATGACAGGCCTTTTCACTTGGTAGTCAGCGGTTAGTCGTTAGGTGCCCACCTGCTTAGATTGCGGGTTCAAAACATCT\n",
      "\n",
      "ATATGACCAAACGGCACTAACGGATTTGGG\n",
      "\n",
      ">lcl|NZ_KI535340.1_rrna_5 [gene=rrf] [locus_tag=GCWU000182_RS01545] [db_xref=RFAM:RF00001] [product=5S ribosomal RNA] [location=339355..339470] [gbkey=rRNA]\n",
      "\n",
      "TGTGGTGATTATGGCAAGAAGGACACACCTGTTCCCATTCCGAACACAGTAGTTAAGCTTCTTAGCGCCGATGGTAGTTG\n",
      "\n",
      "GACCTTTGGTCCTGTGAGAGTAGGTCGTTGCCATGC\n",
      "\n",
      ">lcl|NZ_KI535340.1_trna_6 [locus_tag=GCWU000182_RS01915] [product=tRNA-Ser] [location=complement(423288..423375)] [gbkey=tRNA]\n",
      "\n",
      "GGAGACGTACCGAAGAGGCCGTAACGGGAATGACTCGAAATCATTTTGTCGGGCAACCGGCACGTGGGTTCGAATCCCAC\n",
      "\n",
      "CGTCTCCG\n",
      "\n",
      ">lcl|NZ_KI535340.1_trna_7 [locus_tag=GCWU000182_RS02330] [product=tRNA-Lys] [location=complement(519302..519374)] [gbkey=tRNA]\n",
      "\n",
      "GGGGGTATAGCTCAGTTGGTAGAGCAAATGACTCTTAATCATTGGGTCTAGGGTTCGAGTCCCTATACCCCCA\n",
      "\n",
      ">lcl|NZ_KI535340.1_ncrna_8 [gene=ffs] [locus_tag=GCWU000182_RS09845] [db_xref=RFAM:RF00169] [product=signal recognition particle sRNA small type] [ncRNA_class=SRP_RNA] [location=complement(932112..932201)] [gbkey=ncRNA]\n",
      "\n",
      "ATAAGAGTAGGCAATGGCGGCGTCATGAATCGAGTCAGGACCGGAAGGTAGCAGCTATAAGTGACAAAGCCATGTGCTTA\n",
      "\n",
      "TTTTTTTATT\n",
      "\n",
      ">lcl|NZ_KI535340.1_trna_9 [locus_tag=GCWU000182_RS04440] [product=tRNA-Thr] [location=complement(973889..973961)] [gbkey=tRNA]\n",
      "\n",
      "GCCGCTTTAGCTCAGCAGGTAGAGCGCATCCATGGTAAGGATGAGGTCGCCGGTTCAAGCCCGGCAAGTGGCT\n",
      "\n",
      ">lcl|NZ_KI535340.1_trna_10 [locus_tag=GCWU000182_RS04445] [product=tRNA-Asn] [location=complement(973976..974048)] [gbkey=tRNA]\n",
      "\n",
      "TCCGCAATAGCTCAGCTGGCAGAGCGCATGACTGTTAATCATGATGTCGTAGGTTCGAGCCCTACTTGCGGAG\n",
      "\n",
      ">lcl|NZ_KI535340.1_rrna_11 [gene=rrf] [locus_tag=GCWU000182_RS04450] [db_xref=RFAM:RF00001] [product=5S ribosomal RNA] [location=complement(974068..974183)] [gbkey=rRNA]\n",
      "\n",
      "TGTGGTGATTATGGCAAGAAGGACACACCTGTTCCCATTCCGAACACAGCAGTTAAGCTTCTTAGCGCCGATGGTAGTTG\n",
      "\n",
      "GACCTTTGGTCCTGTGAGAGTAGGTCGTTGCCATGC\n",
      "\n",
      ">lcl|NZ_KI535340.1_rrna_12 [locus_tag=GCWU000182_RS09855] [product=23S ribosomal RNA] [pseudo=true] [location=complement(974252..976779)] [gbkey=rRNA]\n",
      "\n",
      "AAAACTGATTTGTACCTAAGAGTATCCTGAGTACGGCGGAACACGTGGAATTCCGTCGGAATCCGCCAGGACCATCTGGC\n",
      "\n",
      "AAGGCTAAATACTCCCTAGTGACCGATAGTGAACCAGTACCGTGAGGGAAAGGTGAAAAGCACCCCGGGAGGGGAGTGAA\n",
      "\n",
      "AGAGTACCTGAAACCGTGTGCTTACAAGTAGTCAGAGCCCGTTAAGGGGTGATGGCGTACCTTTTGTAGAATGGACCGGC\n",
      "\n",
      "GAGTGACGATAGTTGGCGAGGTTAAGTTGAAGAAACGGAGCCGTAGCGAAAGCGAGTCTGAATAGGGCGAAAGTCAGGTG\n",
      "\n",
      "TCGTCGACCCGAAACCAAGTGACCTACCCATGTGCAGGTTGAAGGTGCGGTAAGACGCACTGGAGGACCGAACCAGGACA\n",
      "\n",
      "CGTTGAAAAGTGTTTGGATGACGTGTGGGTAGCGGAGAAATTCCAATCGAACTTGGAGATAGCTGGTTCTCTCCGAAATA\n",
      "\n",
      "GCTTTAGGGCTAGCCTCAGAGTAAGAGTCATGGAGGTAGAGCACTGTTTGGACTAGGGGGGCTCACGCTTTACCGAATCC\n",
      "\n",
      "AGATAAACTCCGAATGCCAAGGACTCATCTCTGGGAGTCAGACTGCGAGTGATAAGATCCGTAGTCGAAAGGGAAACAGC\n",
      "\n",
      "CCAGACCACCAGCTAAGGTCCCAAAGTAACTGTTAAGTGGAAAAGGATGTGGAGTTGCATAGACAACTAGGATGTTGGCT\n",
      "\n",
      "TAGAAGCAGCCACCATTCAAAGAGTGCGTAATAGCTCACTAGTCGAGTGACTCCGCGCCGAAAATGTACCGGGGCTAAAC\n",
      "\n",
      "AGTACACCGAAGCTGTGGATTCAATTTTAAAATTGAGTGGTAGGAGAGCGTTCTAAGGGCGGTGAAGGCATACCGAAAGG\n",
      "\n",
      "AGTGTTGGAGCGCTTAGAAGTGAGAATGCCGGTATGAGTAGCGAAAGACGGGTGAGAATCCCGTCCACCGATAGACTAAG\n",
      "\n",
      "GTTTCCTGGGGAAGGCTCGTCCGCCCAGGGTTAGTCGGGACCTAAGCCGAGGCCGACAGGCGTAGGCGATGGACAACAGG\n",
      "\n",
      "TAGAGATTCCTGTACTTGTTAACAATGTTTGAGCGATGGAGGGACGCAGGAGGCGACGCCACGCAGACGGATGGAAGTGT\n",
      "\n",
      "CTGTAGAAGCACGAAGTGGTGGTATGAGTCAAATGCTTATACCTATAACCGTGACGTGTGACCTGGAGCGAAATTTAAGT\n",
      "\n",
      "AGCGAAGGTGGCTAATCAAACTGCCGAGAAAAGCTTCTAGTGAGTTGTTAACAACCCGTACCGCAAACCGACACAGGTAG\n",
      "\n",
      "TCAAGTGGAGAACACTAAGGTGAGCGAGAGAACTCTCGTTAAGGAACTCGGCAAAATGACCCCGTAACTTCGGGAGAAGG\n",
      "\n",
      "GGTGCTGACAGCGATGTCAGCCGCAGTGAATAGGCCCAGGCGACTGTTTATCAAAAACACAGGTCTCTGCAAAATCGAAA\n",
      "\n",
      "GATGACGTATAGGGGCTGACGCCTGCCCGGTGCTGGAAGGTTAAGAGGAGTGCTTAGGCGAAATCCGAAGGTACGAATTG\n",
      "\n",
      "AAGCCCCAGTAAACGGCGGCCGTAACTATAACGGTCCTAAGGTAGCGAAATTCCTTGTCGGGTAAGTTCCGACCCGCACG\n",
      "\n",
      "AAAGGCGTAACGATCTGGGCACTGTCTCAACGAGAGACTCGGTGAAATTATAGTACCTGTGAAGATGCAGGTTACCCGCG\n",
      "\n",
      "ACAGGACGGAAAGACCCCATGGAGCTTTACTGTAGCTTGATATTGAGTGTTTGTATGGCATGTACAGGATAGGTAGGAGC\n",
      "\n",
      "TGAAGAAGTGTGGACGCCAGTCTACACGGAGGCGCTGGTGGGATACTACCCTTGTGATGCGGACCCTCTAACCCACGTGT\n",
      "\n",
      "AACAGCACGGGAGACAGTGTCAGGTGGGCAGTTTGACTGGGGCGGTCGCCTCCTAAAGAGTAACGGAGGCGCCCAAAGGT\n",
      "\n",
      "TCCCTCAGAATGGTTGGAAATCATTCGCAGAGTGTAAAGGCAGAAGGGAGCTTGACTGCGAGACCTACAAGTCGAGCAGG\n",
      "\n",
      "GACGAAAGTCGGGCTTAGTGATCCGGTGGTACCGTATGGAAGGGCCATCGCTCAACGGATAAAAGCTACCCTGGGGATAA\n",
      "\n",
      "CAGGCTTATCTCCCCCAAGAGTTCACATCGACGGGGAGGTTTGGCACCTCGATGTCGGCTCATCGCATCCTGGGGCTGAA\n",
      "\n",
      "GTCGGTCCCAAGGGTTGGGCTGTTCGCCCATTAAAGCGGTACGCGAGCTGGGTTCAGAACGTCGTGAGACAGTTCGGTCC\n",
      "\n",
      "CTATCCGTCGCGGGCGTAGGAAATTTGAGAAGAGCTATCCTTAGTACGAGAGGACCGGGATGGACGCACCGCTGGTGTAC\n",
      "\n",
      "CAGTTGTTCTGCCAAGGGCATCGCTGGGTAGCTATGTGCGGGATGGATAAGCGCTGAAAGCATCTAAGCGTGAAGCCAGC\n",
      "\n",
      "TTCAAGATGAGATTTCCCATTCGAAAGAAGTAAGACCCCTGAGAGACGATCAGGTAGATAGGCTAGAAGTGGAAGTGGAG\n",
      "\n",
      "TGATCCATGGAGCGGACTAGTACTAATCGGTCGAGGTCTTAACCACAA\n",
      "\n",
      ">lcl|NZ_KI535340.1_trna_13 [locus_tag=GCWU000182_RS04760] [product=tRNA-Arg] [location=1034039..1034115] [gbkey=tRNA]\n",
      "\n",
      "GTCCCCGTACCTCAGTAGGATAGAGGATTCGCCTCCTAAGCGGAATGCCGCAGGTTCAATTCCTGCCGGGGACGTCA\n",
      "\n",
      ">lcl|NZ_KI535340.1_trna_14 [locus_tag=GCWU000182_RS05250] [product=tRNA-Arg] [location=1133447..1133520] [gbkey=tRNA]\n",
      "\n",
      "GTCTCAGTAGCTCAGCTGGATAGAGCATTCGCCTTCTAAGCGAACGGTCGGGGGTTCGAATCCCTCCTGGGATG\n",
      "\n",
      ">lcl|NZ_KI535340.1_trna_15 [locus_tag=GCWU000182_RS05780] [product=tRNA-Arg] [location=1243411..1243482] [gbkey=tRNA]\n",
      "\n",
      "GTCGCCGTAGTGTAAAGGATATCACACAAGATTCCGGTTCTTGTAATGGGGGTTCGATTCCCTCCGGCGATG\n",
      "\n",
      ">lcl|NZ_KI535341.1_trna_16 [locus_tag=GCWU000182_RS07475] [product=tRNA-Leu] [location=complement(11174..11259)] [gbkey=tRNA]\n",
      "\n",
      "GCGGTCATGGCGGAATGGCAGACGCGCTGTCTTGAGGGGGCAGTGGGGGTATCCCCGTGGAAGTTCGAGTCTTCTTGGCC\n",
      "\n",
      "GCATCA\n",
      "\n",
      ">lcl|NZ_KI535341.1_trna_17 [locus_tag=GCWU000182_RS07740] [product=tRNA-Leu] [location=complement(69544..69627)] [gbkey=tRNA]\n",
      "\n",
      "GCCGGCGTGGCGGAATTGGCAGACGCGCTGGACTCAAAATCCAGTGCCCGCGAGGGCGTGCCGGTTCGACCCCGGCCGCC\n",
      "\n",
      "GGTA\n",
      "\n",
      ">lcl|NZ_KI535341.1_trna_18 [locus_tag=GCWU000182_RS07745] [product=tRNA-Cys] [location=complement(69648..69719)] [gbkey=tRNA]\n",
      "\n",
      "GGCGGTATAGCCAAGTGGTAAGGCAAGGGTCTGCAAAACCCTCATTCACCGGTTCAAATCCGGTTACCGCCT\n",
      "\n",
      ">lcl|NZ_KI535341.1_trna_19 [locus_tag=GCWU000182_RS07750] [product=tRNA-Gln] [location=complement(69738..69809)] [gbkey=tRNA]\n",
      "\n",
      "TGGGGTATAGCCAAGCGGTAAGGCAACGGACTTTGACTCCGTCATTCGTTGGTTCGAATCCAGCTACCCCAG\n",
      "\n",
      ">lcl|NZ_KI535341.1_trna_20 [locus_tag=GCWU000182_RS07755] [product=tRNA-His] [location=complement(69826..69898)] [gbkey=tRNA]\n",
      "\n",
      "GCGATCGTGGCGAAGTGGTTAACGCATCGGTTTGTGGCACCGACATTCGGGGGTTCGATTCCCCTCGTTCGCC\n",
      "\n",
      ">lcl|NZ_KI535341.1_trna_21 [locus_tag=GCWU000182_RS07760] [product=tRNA-Trp] [location=complement(69912..69982)] [gbkey=tRNA]\n",
      "\n",
      "AGGGACATAGTTTAACGGTAGAACAACGGTCTCCAAAACCGTTAGTGTGGGTTCGATTCCTACTGTCCCTG\n",
      "\n",
      ">lcl|NZ_KI535341.1_trna_22 [locus_tag=GCWU000182_RS07765] [product=tRNA-Tyr] [location=complement(70018..70098)] [gbkey=tRNA]\n",
      "\n",
      "GGAGGGATAGCGAAGTGGCTAAACGCGGCGGACTGTAAATCCGCTCCTTAGGGTTCGGCAGTTCGAATCTGCCTCCCTCC\n",
      "\n",
      "A\n",
      "\n",
      ">lcl|NZ_KI535341.1_trna_23 [locus_tag=GCWU000182_RS07770] [product=tRNA-Phe] [location=complement(70101..70173)] [gbkey=tRNA]\n",
      "\n",
      "GGCTTGGTAGCTCAGTTGGTAGAGCATTTGATTGAAGCTCAAAGTGTCGGCGGTTCGATTCCGTCCCAAGCCA\n",
      "\n",
      ">lcl|NZ_KI535341.1_trna_24 [locus_tag=GCWU000182_RS07775] [product=tRNA-Asp] [location=complement(70178..70250)] [gbkey=tRNA]\n",
      "\n",
      "GGTTCCGTGGTGTAGGGGTTAACATGCCTGCCTGTCACGCAGGAGATCGCGGGTTCAAATCCCGTCGGGACCG\n",
      "\n",
      ">lcl|NZ_KI535341.1_trna_25 [locus_tag=GCWU000182_RS07780] [product=tRNA-Val] [location=complement(70261..70333)] [gbkey=tRNA]\n",
      "\n",
      "GGAGGTTTAGCTCAGCTGGGAGAGCATCTGCCTTACAAGCAGAGGGTCAGCGGTTCGATCCCGTTAACCTCCA\n",
      "\n",
      ">lcl|NZ_KI535341.1_trna_26 [locus_tag=GCWU000182_RS07785] [product=tRNA-Glu] [location=complement(70364..70435)] [gbkey=tRNA]\n",
      "\n",
      "GGTCCGTTGGTCAAGTGGTTAAGACACCGCCCTTTCACGGCGGTAACACGGGTTCGAATCCCGTACGGATCA\n",
      "\n",
      ">lcl|NZ_KI535341.1_trna_27 [locus_tag=GCWU000182_RS07790] [product=tRNA-Ser] [location=complement(70443..70532)] [gbkey=tRNA]\n",
      "\n",
      "GGAGAGTTGTCCGAGCTGGCCGAAGGAGCACGATTGGAAATCGTGTAGGCGGGTAACACTGTCTCATGGGTTCGAATCCC\n",
      "\n",
      "ATACTCTCCG\n",
      "\n",
      ">lcl|NZ_KI535341.1_trna_28 [locus_tag=GCWU000182_RS07795] [product=tRNA-Asn] [location=complement(70543..70615)] [gbkey=tRNA]\n",
      "\n",
      "TCCGCAATAGCTCAGCTGGCAGAGCGCATGACTGTTAATCATGATGTCGTAGGTTCGAGCCCTACTTGCGGAG\n",
      "\n",
      ">lcl|NZ_KI535341.1_rrna_29 [gene=rrf] [locus_tag=GCWU000182_RS07800] [db_xref=RFAM:RF00001] [product=5S ribosomal RNA] [location=complement(70635..70750)] [gbkey=rRNA]\n",
      "\n",
      "TGTGGTGATTATGGCAAGAAGGACACACCTGTTCCCATTCCGAACACAGTAGTTAAGCTTCTTAGCGCCGATGGTAGTTG\n",
      "\n",
      "GACCTTTGGTCCTGTGAGAGTAGGTCGTTGCCATGC\n",
      "\n",
      ">lcl|NZ_KI535341.1_rrna_30 [locus_tag=GCWU000182_RS07805] [product=23S ribosomal RNA] [location=complement(70820..73712)] [gbkey=rRNA]\n",
      "\n",
      "TGGTTAAGAAACAAAGGGCGCACGGTGAATGCCTTGGCACTAGGAGCCGAAGAAGGACGTGACGAACGACGAAATGCTTT\n",
      "\n",
      "GGGGAGCTGTAAGTGAGCTAAGATCCAGAGATATCCGAATGGGGGAACCCGGCTAGCGTAATGGCTAGTCACACCTAAGG\n",
      "\n",
      "GTGAGGTAGACGCAGAGAACTGAAACATCTAAGTACCTGCAGGAAGAGAAAGAAAAATCGATTCCCTGAGTAGCGGCGAG\n",
      "\n",
      "CGAAACGGGAAGAGCCCAAACCAGTGTGCATGCACACTGGGGTTGTAGGACTCTAACGTGGACTCAAATGAGTTAGTAGA\n",
      "\n",
      "AGCTGGTGGGAAACAGCGCCAAAGAGGGTGAGAGCCCCGTATGCGAAAACTGATTTGTACCTAAGAGTATCCTGAGTACG\n",
      "\n",
      "GCGGAACACGTGGAATTCCGTCGGAATCCGCCAGGACCATCTGGCAAGGCTAAATACTCCCTAGTGACCGATAGTGAACC\n",
      "\n",
      "AGTACCGTGAGGGAAAGGTGAAAAGCACCCCGGGAGGGGAGTGAAAGAGTACCTGAAACCGTGTGCTTACAAGTAGTCAG\n",
      "\n",
      "AGCCCGTTAAGGGGTGATGGCGTACCTTTTGTAGAATGGACCGGCGAGTGACGATAGTTGGCGAGGTTAAGTTGAAGAAA\n",
      "\n",
      "CGGAGCCGTAGCGAAAGCGAGTCTGAATAGGGCGAAAGTCAGGTGTCGTCGACCCGAAACCAAGTGACCTACCCATGTGC\n",
      "\n",
      "AGGTTGAAGGTGCGGTAAGACGCACTGGAGGACCGAACCAGGACACGTTGAAAAGTGTTTGGATGACGTGTGGGTAGCGG\n",
      "\n",
      "AGAAATTCCAATCGAACTTGGAGATAGCTGGTTCTCTCCGAAATAGCTTTAGGGCTAGCCTCAGAGTAAGAGTCATGGAG\n",
      "\n",
      "GTAGAGCACTGTTTGGACTAGGGGGGCTCACGCTTTACCGAATCCAGATAAACTCCGAATGCCAAGGACTCATCTCTGGG\n",
      "\n",
      "AGTCAGACTGCGAGTGATAAGATCCGTAGTCGAAAGGGAAACAGCCCAGACCACCAGCTAAGGTCCCAAAGTAACTGTTA\n",
      "\n",
      "AGTGGAAAAGGATGTGGAGTTGCATAGACAACTAGGATGTTGGCTTAGAAGCAGCCACCATTCAAAGAGTGCGTAATAGC\n",
      "\n",
      "TCACTAGTCGAGTGACTCCGCGCCGAAAATGTACCGGGGCTAAACAGTACACCGAAGCTGTGGATTCAATTTTAAAATTG\n",
      "\n",
      "AGTGGTAGGAGAGCGTTCTAAGGGCGGTGAAGGCATACCGAAAGGAGTGTTGGAGCGCTTAGAAGTGAGAATGCCGGTAT\n",
      "\n",
      "GAGTAGCGAAAGACGGGTGAGAATCCCGTCCACCGATAGACTAAGGTTTCCTGGGGAAGGCTCGTCCGCCCAGGGTTAGT\n",
      "\n",
      "CGGGACCTAAGCCGAGGCCGACAGGCGTAGGCGATGGACAACAGGTAGAGATTCCTGTACTTGTTAACAATGTTTGAGCG\n",
      "\n",
      "ATGGAGGGACGCAGGAGGCGACGCCACGCAGACGGATGGAAGTGTCTGTAGAAGCACGAAGTGGTGGTATGAGTCAAATG\n",
      "\n",
      "CTTATACCTATAACCGTGACGTGTGACCTGGAGCGAAATTTAAGTAGCGAAGGTGGCTAATCAAACTGCCGAGAAAAGCT\n",
      "\n",
      "TCTAGTGAGTTGTTAACAACCCGTACCGCAAACCGACACAGGTAGTCAAGTGGAGAACACTAAGGTGAGCGAGAGAACTC\n",
      "\n",
      "TCGTTAAGGAACTCGGCAAAATGACCCCGTAACTTCGGGAGAAGGGGTGCTGACAGCGATGTCAGCCGCAGTGAATAGGC\n",
      "\n",
      "CCAGGCGACTGTTTATCAAAAACACAGGTCTCTGCAAAATCGAAAGATGACGTATAGGGGCTGACGCCTGCCCGGTGCTG\n",
      "\n",
      "GAAGGTTAAGAGGAGTGCTTAGGAGCAATCCGAAGGTACGAATTGAAGCCCCAGTAAACGGCGGCCGTAACTATAACGGT\n",
      "\n",
      "CCTAAGGTAGCGAAATTCCTTGTCGGGTAAGTTCCGACCCGCACGAAAGGCGTAACGATCTGGGCACTGTCTCAACGAGA\n",
      "\n",
      "GACTCGGTGAAATTATAGTACCTGTGAAGATGCAGGTTACCCGCGACAGGACGGAAAGACCCCATGGAGCTTTACTGTAG\n",
      "\n",
      "CTTGATATTGAGTGTTTGTATGGCATGTACAGGATAGGTAGGAGCTGAAGAAGTGTGGACGCCAGTCTACACGGAGGCGC\n",
      "\n",
      "TGGTGGGATACTACCCTTGTGATGCGGACCCTCTAACCCACGTGTAACAGCACGGGAGACAGTGTCAGGTGGGCAGTTTG\n",
      "\n",
      "ACTGGGGCGGTCGCCTCCTAAAGAGTAACGGAGGCGCCCAAAGGTTCCCTCAGAATGGTTGGAAATCATTCGCAGAGTGT\n",
      "\n",
      "AAAGGCAGAAGGGAGCTTGACTGCGAGACCTACAAGTCGAGCAGGGACGAAAGTCGGGCTTAGTGATCCGGTGGTACCGT\n",
      "\n",
      "ATGGAAGGGCCATCGCTCAACGGATAAAAGCTACCCTGGGGATAACAGGCTTATCTCCCCCAAGAGTTCACATCGACGGG\n",
      "\n",
      "GAGGTTTGGCACCTCGATGTCGGCTCATCGCATCCTGGGGCTGAAGTCGGTCCCAAGGGTTGGGCTGTTCGCCCATTAAA\n",
      "\n",
      "GCGGTACGCGAGCTGGGTTCAGAACGTCGTGAGACAGTTCGGTCCCTATCCGTCGCGGGCGTAGGAAATTTGAGAAGAGC\n",
      "\n",
      "TATCCTTAGTACGAGAGGACCGGGATGGACGCACCGCTGGTGTACCAGTTGTTCTGCCAAGGGCATCGCTGGGTAGCTAT\n",
      "\n",
      "GTGCGGGATGGATAAGCGCTGAAAGCATCTAAGCGTGAAGCCAGCTTCAAGATGAGATTTCCCATTCGAAAGAAGTAAGA\n",
      "\n",
      "CCCCTGAGAGACGATCAGGTAGATAGGCTAGAAGTGGAAGTGGAGTGATCCATGGAGCGGACTAGTACTAATCGGTCGAG\n",
      "\n",
      "GTCTTAACCACAA\n",
      "\n",
      ">lcl|NZ_KI535341.1_trna_31 [locus_tag=GCWU000182_RS08280] [product=tRNA-Ala] [location=complement(179734..179806)] [gbkey=tRNA]\n",
      "\n",
      "GGGGGATTAGCTCAGCTGGGAGAGCGCCTGCTTTGCACGCAGGAGGTCAGCGGTTCGATCCCGCTATTCTCCA\n",
      "\n",
      ">lcl|NZ_KI535341.1_trna_32 [locus_tag=GCWU000182_RS08285] [product=tRNA-Ile] [location=complement(179833..179906)] [gbkey=tRNA]\n",
      "\n",
      "GGGCCTATAGCTCAGCTGGTTAGAGCGCACCCCTGATAAGGGTGAGGTCGATGGTTCGAGTCCATTTAGGCCCA\n",
      "\n",
      ">lcl|NZ_KI535341.1_rrna_33 [locus_tag=GCWU000182_RS08290] [product=16S ribosomal RNA] [location=complement(179989..181551)] [gbkey=rRNA]\n",
      "\n",
      "TTTTCATGAGAGTTTGATCCTGGCTCAGGACGAACGCTGGCGGCGTGCCTAATACATGCAAGTCGAACGAACCGCGACTG\n",
      "\n",
      "AGTGCTTGCACTTGGTCAAGGTGAGTGGCGAACGGGTGAGTAACACGTGGGTAACCTACCTCATAGTGGGGGATAACAGT\n",
      "\n",
      "CGGAAACGACTGCTAATACCGCATAGGACATGGGATCACATGATTCTGTGAGGAAAGGTGGCGCAAGCTATCGCTAAGAG\n",
      "\n",
      "ATGGACCCGCGGTGCATTAGCTAGTTGGTAGGGTAAGGGCCTACCAAGGCGATGATGCATAGCCGACCTGAGAGGGTGAT\n",
      "\n",
      "CGGCCACATTGGGACTGAGACACGGCCCAAACTCCTACGGGAGGCAGCAGTAGGGAATCTTCCGCAATGGACGCAAGTCT\n",
      "\n",
      "GACGGAGCAACGCCGCGTGAGTGAAGAAGGTCTTCGGATCGTAAAGCTCTGTTGTTAGAGAAGAACAGCGCATAGAGTAA\n",
      "\n",
      "CTGCTATGCGTGTGACGGTATCTAACCAGAAAGCCACGGCTAACTACGTGCCAGCAGCCGCGGTAATACGTAGGTGGCGA\n",
      "\n",
      "GCGTTGTCCGGATTTATTGGGCGTAAAGGGAGTGTAGGCGGTCTTTTAAGTCTGATGTGAAAGCCCACGGCTCAACCGTG\n",
      "\n",
      "GAGGGTCATTGGAAACTGGGAGACTTGAGTGCAGAAGAGGAGAGCGGAATTCCATGTGTAGCGGTGAAATGCGTAGATAT\n",
      "\n",
      "ATGGAGGAACACCAGTGGCGAAGGCGGCTCTCTGGTCTGTAACTGACGCTGAGGCTCGAAAGCGTGGGGAGCAAACAGGA\n",
      "\n",
      "TTAGATACCCTGGTAGTCCACGCCGTAAACGATGAGTGCTAAGTGTTGGAGGGGTTCCACCCTTCAGTGCTGGAGTTAAC\n",
      "\n",
      "GCAATAAGCACTCCGCCTGGGGAGTACGGCCGCAAGGCTGAAACTCAAAGGAATTGACGGGGACCCGCACAAGCGGTGGA\n",
      "\n",
      "GCATGTGGTTTAATTCGAAGCAACGCGAAGAACCTTACCAGGTCTTGACATCCCGACGACCGCTCTAGAGATAGAGTTTT\n",
      "\n",
      "TCTTCGGAACGTCGGTGACAGGTGGTGCATGGTTGTCGTCAGCTCGTGTCGTGAGATGTTGGGTTAAGTCCCGCAACGAG\n",
      "\n",
      "CGCAACCCCTATAACTAGTTGCCAGCATTGAGATGGGGACTCTAGTTAGACTGCCGGTGACAAACCGGAGGAAGGTGGGG\n",
      "\n",
      "ATGACGTCAAATCATCATGCCCCTTATGACCTGGGCTACACACGTGCTACAATGGATGGTACAACGAGCAGCGAACTCGC\n",
      "\n",
      "GAGGGTAAGCGAATCTCTAAAAGCCATTCTCAGTTCGGATTGTAGTCTGCAACTCGACTACATGAAGCCGGAATCGCTAG\n",
      "\n",
      "TAATCGCGGATCAGCACGCCGCGGTGAATACGTTCCCGGGTCTTGTACACACCGCCCGTCACACCACGAGAGTTTGTAAC\n",
      "\n",
      "ACCCGAAGCCGGTGGCCTAACCTTTTAGGAGGGAGCCGTCGAAGGTGGGATAGATGATTGGGGTGAAGTCGTAACAAGGT\n",
      "\n",
      "AGCCGTATCGGAAGGTGCGGCTGGATCACCTCCTTTCTAAGGA\n",
      "\n",
      ">lcl|NZ_KI535341.1_trna_34 [locus_tag=GCWU000182_RS08715] [product=tRNA-Gly] [location=complement(282871..282941)] [gbkey=tRNA]\n",
      "\n",
      "GCGGGTGTAGTTTAGTGGTAAAACTACAGCTTCCCATGCTGTCGTCGCGAGTTCGATTCTCGTCACCCGCT\n",
      "\n",
      ">lcl|NZ_KI535341.1_trna_35 [locus_tag=GCWU000182_RS08720] [product=tRNA-Asp] [location=complement(282943..283018)] [gbkey=tRNA]\n",
      "\n",
      "GGTTCCGTGGTGTAGGGGTTAACATGCCTGCCTGTCACGCAGGAGATCGCGGGTTCAAATCCCGTCGGGACCGCCA\n",
      "\n",
      ">lcl|NZ_KI535341.1_trna_36 [locus_tag=GCWU000182_RS08725] [product=tRNA-Met] [location=complement(283021..283093)] [gbkey=tRNA]\n",
      "\n",
      "CGCGGGGTGGAGAAGTTGGCATCTCGTCGGGCTCATAACCCGAAGGTCGCAGGTTCGAGTCCTGCCCCCGCAA\n",
      "\n",
      ">lcl|NZ_KI535341.1_trna_37 [locus_tag=GCWU000182_RS08730] [product=tRNA-Ser] [location=complement(283103..283192)] [gbkey=tRNA]\n",
      "\n",
      "GGAGGATTACCCAAGTCCGGCTGAAGGGAACGGTCTTGAAAACCGTCAGGCGTGTAAAAGCGTGCAAGGGTTCGAATCCC\n",
      "\n",
      "TTATCCTCCT\n",
      "\n",
      ">lcl|NZ_KI535341.1_trna_38 [locus_tag=GCWU000182_RS08735] [product=tRNA-Glu] [location=complement(283205..283276)] [gbkey=tRNA]\n",
      "\n",
      "GGTCCGTTGGTCAAGTGGTTAAGACACCGCCCTTTCACGGCGGTAACACGGGTTCGAATCCCGTACGGATCA\n",
      "\n",
      ">lcl|NZ_KI535341.1_trna_39 [locus_tag=GCWU000182_RS08740] [product=tRNA-Ser] [location=complement(283302..283390)] [gbkey=tRNA]\n",
      "\n",
      "GGGGAAGTACTCAAGAGGCTGAAGAGGCGCCCCTGCTAAGGGTGTAGGTCGGGTAAACCGGCGCGAGGGTTCAAATCCCT\n",
      "\n",
      "CCTTCTCCG\n",
      "\n",
      ">lcl|NZ_KI535341.1_trna_40 [locus_tag=GCWU000182_RS08745] [product=tRNA-Ile] [location=complement(283414..283487)] [gbkey=tRNA]\n",
      "\n",
      "GGGCCTATAGCTCAGCTGGTTAGAGCGCACCCCTGATAAGGGTGAGGTCGATGGTTCGAGTCCATTTAGGCCCA\n",
      "\n",
      ">lcl|NZ_KI535341.1_trna_41 [locus_tag=GCWU000182_RS08750] [product=tRNA-Gly] [location=complement(283505..283575)] [gbkey=tRNA]\n",
      "\n",
      "GCGGGTGTAGTTTAGTGGTAAAACCACAGCCTTCCAAGCTGTTGTCGCGAGTTCGATTCTCGTCACCCGCT\n",
      "\n",
      ">lcl|NZ_KI535341.1_trna_42 [locus_tag=GCWU000182_RS08755] [product=tRNA-Met] [location=complement(283580..283652)] [gbkey=tRNA]\n",
      "\n",
      "CGCGGAGTGGAGAAGTTGGCATCTCGTCGGGCTCATAACCCGAAGGTCGCAGGTTCGAGTCCTGCCTCCGCAA\n",
      "\n",
      ">lcl|NZ_KI535341.1_trna_43 [locus_tag=GCWU000182_RS08760] [product=tRNA-Ser] [location=complement(283662..283751)] [gbkey=tRNA]\n",
      "\n",
      "GGAGGATTACCCAAGTCCGGCTGAAGGGAACGGTCTTGAAAACCGTCAGGCGTGTAAAAGCGTGCAAGGGTTCGAATCCC\n",
      "\n",
      "TTATCCTCCT\n",
      "\n",
      ">lcl|NZ_KI535341.1_trna_44 [locus_tag=GCWU000182_RS08765] [product=tRNA-Met] [location=complement(283776..283849)] [gbkey=tRNA]\n",
      "\n",
      "GGACCTTTAGCTCAGGTGGTTAGAGCAGGCGGCTCATAACCGCCCGGTCGTAGGTTCGAGTCCTACAAGGTCCA\n",
      "\n",
      ">lcl|NZ_KI535341.1_trna_45 [locus_tag=GCWU000182_RS08770] [product=tRNA-Met] [location=complement(283857..283930)] [gbkey=tRNA]\n",
      "\n",
      "GGCGGTGTAGCTCAGCTGGCTAGAGCGTCCGGTTCATACCCGGGAGGTCAGGGGTTCGATCCCCTTCGCCGCTA\n",
      "\n",
      ">lcl|NZ_KI535341.1_trna_46 [locus_tag=GCWU000182_RS08775] [product=tRNA-Ala] [location=complement(283945..284017)] [gbkey=tRNA]\n",
      "\n",
      "GGGGCCTTAGCTCAGCTGGGAGAGCGCCTGCTTTGCACGCAGGAGGTCAGCGGTTCGATCCCGCTAGGCTCCA\n",
      "\n",
      ">lcl|NZ_KI535341.1_trna_47 [locus_tag=GCWU000182_RS08780] [product=tRNA-Pro] [location=complement(284028..284101)] [gbkey=tRNA]\n",
      "\n",
      "CGGGAAGTAGCTCAGCTTGGTAGAGCACTTGGTTTGGGACCAAGGGGTCGCAGGTTCGAATCCTGTCTTCCCGA\n",
      "\n",
      ">lcl|NZ_KI535341.1_trna_48 [locus_tag=GCWU000182_RS08785] [product=tRNA-Arg] [location=complement(284111..284184)] [gbkey=tRNA]\n",
      "\n",
      "GCACCCATAGCTCAATTGGATAGAGTACTTGACTACGAATCAAGCGGTTGCAGGTTCGACTCCTGCTGGGTGTA\n",
      "\n",
      ">lcl|NZ_KI535341.1_trna_49 [locus_tag=GCWU000182_RS08790] [product=tRNA-Leu] [location=complement(284216..284301)] [gbkey=tRNA]\n",
      "\n",
      "GCCGGGGTGGCGGAATTGGCAGACGCACAGGACTTAAAATCCTGCGGGTAGTGATACCCGTACCGGTTCGACCCCGGTCC\n",
      "\n",
      "TCGGCA\n",
      "\n",
      ">lcl|NZ_KI535341.1_trna_50 [locus_tag=GCWU000182_RS08795] [product=tRNA-Gly] [location=complement(284320..284391)] [gbkey=tRNA]\n",
      "\n",
      "GCGGAAATAGTTCAGAGGTAGAACATCACCTTGCCAAGGTGGGGGTCGCGGGTTCGAATCCCGTTTTCCGCT\n",
      "\n",
      ">lcl|NZ_KI535341.1_trna_51 [locus_tag=GCWU000182_RS08800] [product=tRNA-Thr] [location=complement(284393..284468)] [gbkey=tRNA]\n",
      "\n",
      "GCCGGCTTAGCTCAGTTGGTAGAGCATCTGATTTGTAATCAGAGGGTCGAGGGTTCAAGTCCTTTAGCCGGCACCA\n",
      "\n",
      ">lcl|NZ_KI535341.1_trna_52 [locus_tag=GCWU000182_RS08805] [product=tRNA-Leu] [location=complement(284483..284564)] [gbkey=tRNA]\n",
      "\n",
      "GCGGATGTGGCGGAATTGGCAGACGCACCAGATTTAGGATCTGGCGCCTTAGGGCGTGGGGGTTCAAGTCCCTTCATCCG\n",
      "\n",
      "CA\n",
      "\n",
      ">lcl|NZ_KI535341.1_trna_53 [locus_tag=GCWU000182_RS08810] [product=tRNA-Lys] [location=complement(284602..284674)] [gbkey=tRNA]\n",
      "\n",
      "GAGTCATTAGCTCAGTTGGTAGAGCATCTGACTTTTAATCAGAGGGTCACAGGTTCGAGCCCTGTATGACTCA\n",
      "\n",
      ">lcl|NZ_KI535341.1_trna_54 [locus_tag=GCWU000182_RS08815] [product=tRNA-Val] [location=complement(284676..284751)] [gbkey=tRNA]\n",
      "\n",
      "GGAGGTTTAGCTCAGCTGGGAGAGCATCTGCCTTACAAGCAGAGGGTCAGCGGTTCGATCCCGTTAACCTCCACCA\n",
      "\n",
      ">lcl|NZ_KI535341.1_rrna_55 [gene=rrf] [locus_tag=GCWU000182_RS08820] [db_xref=RFAM:RF00001] [product=5S ribosomal RNA] [location=complement(284771..284886)] [gbkey=rRNA]\n",
      "\n",
      "TGTGGTGATTATGGCAAGAAGGACACACCTGTTCCCATTCCGAACACAGTAGTTAAGCTTCTTAGCGCCGATGGTAGTTG\n",
      "\n",
      "GACCTTTGGTCCTGTGAGAGTAGGTCGTTGCCATGC\n",
      "\n",
      ">lcl|NZ_KI535342.1_trna_56 [locus_tag=GCWU000182_RS09140] [product=tRNA-Gly] [location=complement(95084..95155)] [gbkey=tRNA]\n",
      "\n",
      "GCGGAAATAGTTCAGAGGTAGAACATCACCTTGCCAAGGTGGGGGTCGCGGGTTCGAATCCCGTTTTCCGCT\n",
      "\n",
      ">lcl|NZ_KI535342.1_trna_57 [locus_tag=GCWU000182_RS09145] [product=tRNA-Thr] [location=complement(95166..95238)] [gbkey=tRNA]\n",
      "\n",
      "GCCGGCTTAGCTCAGTTGGTAGAGCATCTGAATCGTAATCAGAGGGTCGAGGGTTCAAATCCTTTAGCCGGCA\n",
      "\n",
      ">lcl|NZ_KI535342.1_trna_58 [locus_tag=GCWU000182_RS09150] [product=tRNA-Lys] [location=complement(95262..95334)] [gbkey=tRNA]\n",
      "\n",
      "GAGTCATTAGCTCAGTTGGTAGAGCATCTGACTTTTAATCAGAGGGTCACAGGTTCGAGCCCTGTATGACTCA\n",
      "\n",
      ">lcl|NZ_KI535342.1_rrna_59 [locus_tag=GCWU000182_RS09510] [product=16S ribosomal RNA] [location=169454..>169911] [gbkey=rRNA]\n",
      "\n",
      "TTTTCATGAGAGTTTGATCCTGGCTCAGGACGAACGCTGGCGGCGTGCCTAATACATGCAAGTCGAACGAACCGCGACTA\n",
      "\n",
      "GGTGCTTGCACTTGGTCAAGGTGAGTGGCGAACGGGTGAGTAACACGTGGGTAACCTACCTCATAGTGGGGGATAACAGT\n",
      "\n",
      "CGGAAACGACTGCTAATACCGCATAGGACATGGGATCACATGATTCCGTGAGGAAAGGTGGCGCAAGCTATCGCTAAGAG\n",
      "\n",
      "ATGGACCCGCGGTGCATTAGCTAGTTGGTAGGGTAAGGGCCTACCAAGGCGATGATGCATAGCCGACCTGAGAGGGTGAT\n",
      "\n",
      "CGGCCACATTGGGACTGAGACACGGCCCAAACTCCTACGGGAGGCAGCAGTAGGGAATCTTCCGCAATGGACGCAAGTCT\n",
      "\n",
      "GACGGAGCAACGCCGCGTGAGTGAAGAAGGTCTTCGGATCGTAAAGCTCTGTTGTTAG\n",
      "\n"
     ]
    }
   ],
   "source": [
    "f = gzip.open('EAGLEdb/GCF_000160075.2_ASM16007v2_rna_from_genomic.fna.gz', 'rb')\n",
    "for line in f:\n",
    "    print line"
   ]
  },
  {
   "cell_type": "code",
   "execution_count": 17,
   "metadata": {},
   "outputs": [
    {
     "data": {
      "text/plain": [
       "'Linux'"
      ]
     },
     "execution_count": 17,
     "metadata": {},
     "output_type": "execute_result"
    }
   ],
   "source": [
    "platform.system()"
   ]
  },
  {
   "cell_type": "code",
   "execution_count": 215,
   "metadata": {},
   "outputs": [
    {
     "name": "stdout",
     "output_type": "stream",
     "text": [
      "5\n"
     ]
    },
    {
     "ename": "AttributeError",
     "evalue": "MyClass instance has no attribute 'my_method'",
     "traceback": [
      "\u001b[0;31m\u001b[0m",
      "\u001b[0;31mAttributeError\u001b[0mTraceback (most recent call last)",
      "\u001b[0;32m<ipython-input-215-c045ddeea145>\u001b[0m in \u001b[0;36m<module>\u001b[0;34m()\u001b[0m\n\u001b[1;32m      6\u001b[0m \u001b[0mmy_class\u001b[0m \u001b[0;34m=\u001b[0m \u001b[0mMyClass\u001b[0m\u001b[0;34m(\u001b[0m\u001b[0;34m)\u001b[0m\u001b[0;34m\u001b[0m\u001b[0m\n\u001b[1;32m      7\u001b[0m \u001b[0;32mprint\u001b[0m\u001b[0;34m(\u001b[0m\u001b[0mmy_class\u001b[0m\u001b[0;34m.\u001b[0m\u001b[0ma\u001b[0m\u001b[0;34m)\u001b[0m\u001b[0;34m\u001b[0m\u001b[0m\n\u001b[0;32m----> 8\u001b[0;31m \u001b[0mmy_class\u001b[0m\u001b[0;34m.\u001b[0m\u001b[0mmy_method\u001b[0m\u001b[0;34m(\u001b[0m\u001b[0;34m)\u001b[0m\u001b[0;34m\u001b[0m\u001b[0m\n\u001b[0m",
      "\u001b[0;31mAttributeError\u001b[0m: MyClass instance has no attribute 'my_method'"
     ],
     "output_type": "error"
    }
   ],
   "source": [
    "class MyClass:\n",
    "     def __init__(self):\n",
    "        self.a = 5\n",
    "        \n",
    "\n",
    "my_class = MyClass()\n",
    "print(my_class.a)\n",
    "my_class.my_method()"
   ]
  },
  {
   "cell_type": "code",
   "execution_count": 217,
   "metadata": {},
   "outputs": [
    {
     "name": "stdout",
     "output_type": "stream",
     "text": [
      "Full 2\n"
     ]
    }
   ],
   "source": [
    "mplist = mp.Manager().list()\n",
    "if mplist:\n",
    "    print(\"Full 1\")\n",
    "mplist.append(1)\n",
    "if mplist:\n",
    "    print(\"Full 2\")"
   ]
  },
  {
   "cell_type": "code",
   "execution_count": 227,
   "metadata": {
    "scrolled": true
   },
   "outputs": [],
   "source": [
    "from EAGLEdb.lib.db_creator import create_profiles_db\n",
    "\n",
    "\n",
    "families_dict = json.load(open(\"EAGLEdb/bacteria_test/bact_fam.json\"))\n",
    "create_profiles_db(families_dict, \"EAGLEdb/bacteria_test\", hmmer_inst_dir=\"/home/loven-doo/tools/bin\")"
   ]
  },
  {
   "cell_type": "code",
   "execution_count": 231,
   "metadata": {},
   "outputs": [
    {
     "name": "stdout",
     "output_type": "stream",
     "text": [
      "# hmmscan :: search sequence(s) against a profile database\n",
      "# HMMER 3.1b2 (February 2015); http://hmmer.org/\n",
      "# Copyright (C) 2015 Howard Hughes Medical Institute.\n",
      "# Freely distributed under the GNU General Public License (GPLv3).\n",
      "# - - - - - - - - - - - - - - - - - - - - - - - - - - - - - - - - - - - -\n",
      "# query sequence file:             EAGLEdb/bacteria_test/GCF_002005165.1_ASM200516v1_genomic.fna\n",
      "# target HMM database:             EAGLEdb/bacteria_test/db_repr_profiles\n",
      "# number of worker threads:        6\n",
      "# - - - - - - - - - - - - - - - - - - - - - - - - - - - - - - - - - - - -\n",
      "\n",
      "Query:       NZ_CP019699.1  [L=3629225]\n",
      "Description: Novibacillus thermophilus strain SG-1, complete genome\n",
      "^C\n"
     ]
    }
   ],
   "source": [
    "!/home/loven-doo/tools/bin/hmmscan --cpu 6 EAGLEdb/bacteria_test/db_repr_profiles EAGLEdb/bacteria_test/GCF_002005165.1_ASM200516v1_genomic.fna"
   ]
  },
  {
   "cell_type": "code",
   "execution_count": 7,
   "metadata": {},
   "outputs": [
    {
     "data": {
      "text/plain": [
       "True"
      ]
     },
     "execution_count": 7,
     "metadata": {},
     "output_type": "execute_result"
    }
   ],
   "source": [
    "os.path.exists(\"EAGLEdb/bacteria/bact_fam.json\")"
   ]
  }
 ],
 "metadata": {
  "kernelspec": {
   "display_name": "Python 2",
   "language": "python",
   "name": "python2"
  },
  "language_info": {
   "codemirror_mode": {
    "name": "ipython",
    "version": 2.0
   },
   "file_extension": ".py",
   "mimetype": "text/x-python",
   "name": "python",
   "nbconvert_exporter": "python",
   "pygments_lexer": "ipython2",
   "version": "2.7.13"
  }
 },
 "nbformat": 4,
 "nbformat_minor": 0
}