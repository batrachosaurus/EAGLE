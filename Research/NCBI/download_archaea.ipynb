{
 "cells": [
  {
   "cell_type": "code",
   "execution_count": 1,
   "id": "150d1d2a",
   "metadata": {},
   "outputs": [],
   "source": [
    "import os\n",
    "import shutil\n",
    "import json\n",
    "import zlib\n",
    "import urllib.request\n",
    "\n",
    "import pandas as pd\n",
    "from Bio import Entrez\n",
    "\n",
    "from eaglib.alignment import SeqsProfileInfo"
   ]
  },
  {
   "cell_type": "code",
   "execution_count": 3,
   "id": "b0cc9388",
   "metadata": {},
   "outputs": [
    {
     "name": "stdout",
     "output_type": "stream",
     "text": [
      "Found existing installation: wget 3.2\n",
      "Uninstalling wget-3.2:\n",
      "  Successfully uninstalled wget-3.2\n"
     ]
    }
   ],
   "source": [
    "! pip uninstall -y EAGLE\n",
    "! pip install ../../dist/EAGLE-0.0.1-py3-none-any.whl"
   ]
  },
  {
   "cell_type": "code",
   "execution_count": 2,
   "id": "2b07ade5",
   "metadata": {},
   "outputs": [],
   "source": [
    "def get_taxonomy(tax_id):\n",
    "    tax_keys = [\"superkingdom\", \"phylum\", \"clade\", \"class\", \"order\", \"family\", \"genus\", \"species\"]\n",
    "    tax_dict = {tax_key: None for tax_key in tax_keys}\n",
    "    \n",
    "    record = Entrez.efetch(db=\"taxonomy\", id=tax_id, retmode='xml')\n",
    "    tax_info = Entrez.read(record)[0]\n",
    "    tax_dict[\"species\"] = tax_info['ScientificName']\n",
    "    \n",
    "    for lin_tax in tax_info['LineageEx']:\n",
    "        if lin_tax['Rank'] in tax_dict:\n",
    "            tax_dict[lin_tax['Rank']] = lin_tax['ScientificName']\n",
    "            \n",
    "    return [tax_dict[tax_key] for tax_key in tax_keys]"
   ]
  },
  {
   "cell_type": "code",
   "execution_count": 6,
   "id": "7982adc1",
   "metadata": {},
   "outputs": [
    {
     "name": "stdout",
     "output_type": "stream",
     "text": [
      "GCF_000762265.1 Methanobacterium formicicum strain=BRM9 ['Archaea', 'Euryarchaeota', 'Methanomada group', 'Methanobacteria', 'Methanobacteriales', 'Methanobacteriaceae', 'Methanobacterium', 'Methanobacterium formicicum'] ['https://ftp.ncbi.nlm.nih.gov/genomes/all/GCF/000/762/265/GCF_000762265.1_ASM76226v1/GCF_000762265.1_ASM76226v1_genomic.fna.gz']\n",
      "GCF_001458655.1 Methanobacterium formicicum ['Archaea', 'Euryarchaeota', 'Methanomada group', 'Methanobacteria', 'Methanobacteriales', 'Methanobacteriaceae', 'Methanobacterium', 'Methanobacterium formicicum'] ['https://ftp.ncbi.nlm.nih.gov/genomes/all/GCF/001/458/655/GCF_001458655.1_Mb9/GCF_001458655.1_Mb9_genomic.fna.gz']\n",
      "GCF_002813085.1 Methanobrevibacter smithii strain=KB11 ['Archaea', 'Euryarchaeota', 'Methanomada group', 'Methanobacteria', 'Methanobacteriales', 'Methanobacteriaceae', 'Methanobrevibacter', 'Methanobrevibacter smithii'] ['https://ftp.ncbi.nlm.nih.gov/genomes/all/GCF/002/813/085/GCF_002813085.1_ASM281308v1/GCF_002813085.1_ASM281308v1_genomic.fna.gz']\n"
     ]
    }
   ],
   "source": [
    "assembly_summary_path = \"archaea_assembly_summary.txt\"\n",
    "Entrez.email = \"moshenskydenis@gmail.com\"\n",
    "db_dir = \"archaea\"\n",
    "\n",
    "\n",
    "processed_ac = list()\n",
    "arch_df = pd.read_csv(assembly_summary_path, sep=\"\\t\")\n",
    "# arch_df.query(\"assembly_level=='Complete Genome' & refseq_category!='representative genome'\")\n",
    "for _, row in arch_df.query(\"assembly_level=='Complete Genome'\").iterrows():\n",
    "    ac = row['assembly_accession']  # id field in genomes_table\n",
    "    asm = row['asm_name']\n",
    "    taxonomy = get_taxonomy(row['species_taxid'])\n",
    "    name = row['organism_name'] + (\"\" if pd.isna(row['infraspecific_name']) else \" \" + row['infraspecific_name'])\n",
    "    ftp_prefix = row['ftp_path'] + \"/\" + ac + \"_\" + asm\n",
    "    fna_seq = [ftp_prefix+\"_genomic.fna.gz\"]\n",
    "    # fna_seq = [os.path.join(db_dir, ac+\"_genomic.fna\")]\n",
    "    # with open(fna_seq[0], 'wb') as gfna_f:\n",
    "    #     gfna_f.write(zlib.decompress(urllib.request.urlopen(ftp_prefix+\"_genomic.fna.gz\").read(), 15+32))\n",
    "    with open(os.path.join(db_dir, ac+\"_rna_from_genomic.fna\"), 'wb') as rna_f:\n",
    "        rna_f.write(zlib.decompress(urllib.request.urlopen(ftp_prefix+\"_rna_from_genomic.fna.gz\").read(), 15+32))\n",
    "    with open(os.path.join(db_dir, ac+\"_translated_cds.faa\"), 'wb') as tcds_f:\n",
    "        tcds_f.write(zlib.decompress(urllib.request.urlopen(ftp_prefix+\"_translated_cds.faa.gz\").read(), 15+32))\n",
    "    print(ac, name, taxonomy, fna_seq)###\n",
    "    processed_ac.append(ac)\n",
    "    if _ >= 3: break"
   ]
  },
  {
   "cell_type": "code",
   "execution_count": 98,
   "id": "46210919",
   "metadata": {},
   "outputs": [
    {
     "data": {
      "text/plain": [
       "['GCF_000762265.1', 'GCF_001458655.1', 'GCF_002813085.1']"
      ]
     },
     "execution_count": 98,
     "metadata": {},
     "output_type": "execute_result"
    }
   ],
   "source": [
    "processed_ac"
   ]
  },
  {
   "cell_type": "code",
   "execution_count": 3,
   "id": "63fdc307",
   "metadata": {},
   "outputs": [
    {
     "data": {
      "text/plain": [
       "('krymbr', '')"
      ]
     },
     "execution_count": 3,
     "metadata": {},
     "output_type": "execute_result"
    }
   ],
   "source": [
    "os.path.splitext(\"krymbr\")"
   ]
  }
 ],
 "metadata": {
  "kernelspec": {
   "display_name": "Python 3 (ipykernel)",
   "language": "python",
   "name": "python3"
  },
  "language_info": {
   "codemirror_mode": {
    "name": "ipython",
    "version": 3
   },
   "file_extension": ".py",
   "mimetype": "text/x-python",
   "name": "python",
   "nbconvert_exporter": "python",
   "pygments_lexer": "ipython3",
   "version": "3.8.13"
  }
 },
 "nbformat": 4,
 "nbformat_minor": 5
}
