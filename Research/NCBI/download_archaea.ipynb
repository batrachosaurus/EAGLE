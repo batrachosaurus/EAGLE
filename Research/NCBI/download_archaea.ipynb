{
 "cells": [
  {
   "cell_type": "code",
   "execution_count": 16,
   "id": "bd372441",
   "metadata": {},
   "outputs": [],
   "source": [
    "import os\n",
    "import shutil\n",
    "import json\n",
    "import zlib\n",
    "import traceback\n",
    "import urllib.request\n",
    "\n",
    "import pandas as pd\n",
    "from Bio import Entrez\n",
    "from Bio.SearchIO.HmmerIO.hmmer3_text import Hmmer3TextParser\n",
    "\n",
    "from eaglib.alignment import SeqsProfileInfo, SeqsProfile"
   ]
  },
  {
   "cell_type": "code",
   "execution_count": 7,
   "id": "945980e4",
   "metadata": {},
   "outputs": [
    {
     "name": "stdout",
     "output_type": "stream",
     "text": [
      "Found existing installation: EAGLE 0.0.1\n",
      "Uninstalling EAGLE-0.0.1:\n",
      "  Successfully uninstalled EAGLE-0.0.1\n",
      "Processing /media/olga/Data/Denis/EAGLE/dist/EAGLE-0.0.1-py3-none-any.whl\n",
      "Requirement already satisfied: jsondler>=0.0.4 in /home/olga/miniconda3/envs/eagle/lib/python3.8/site-packages (from EAGLE==0.0.1) (0.0.4)\n",
      "Requirement already satisfied: DendroPy>=4.4.0 in /home/olga/miniconda3/envs/eagle/lib/python3.8/site-packages (from EAGLE==0.0.1) (4.5.2)\n",
      "Requirement already satisfied: Deprecated>=1.2.9 in /home/olga/miniconda3/envs/eagle/lib/python3.8/site-packages (from EAGLE==0.0.1) (1.2.13)\n",
      "Requirement already satisfied: pandas>=0.22.0 in /home/olga/miniconda3/envs/eagle/lib/python3.8/site-packages (from EAGLE==0.0.1) (1.4.3)\n",
      "Requirement already satisfied: numpy>=1.14.3 in /home/olga/miniconda3/envs/eagle/lib/python3.8/site-packages (from EAGLE==0.0.1) (1.23.0)\n",
      "Requirement already satisfied: networkx>=2.5 in /home/olga/miniconda3/envs/eagle/lib/python3.8/site-packages (from EAGLE==0.0.1) (2.8.4)\n",
      "Requirement already satisfied: pyaml>=3.12 in /home/olga/miniconda3/envs/eagle/lib/python3.8/site-packages (from EAGLE==0.0.1) (21.10.1)\n",
      "Requirement already satisfied: psutil>=5.6.1 in /home/olga/miniconda3/envs/eagle/lib/python3.8/site-packages (from EAGLE==0.0.1) (5.9.1)\n",
      "Requirement already satisfied: matplotlib>=2.2.3 in /home/olga/miniconda3/envs/eagle/lib/python3.8/site-packages (from EAGLE==0.0.1) (3.5.2)\n",
      "Requirement already satisfied: scipy>=1.1.0 in /home/olga/miniconda3/envs/eagle/lib/python3.8/site-packages (from EAGLE==0.0.1) (1.8.1)\n",
      "Requirement already satisfied: biopython>=1.72 in /home/olga/miniconda3/envs/eagle/lib/python3.8/site-packages (from EAGLE==0.0.1) (1.79)\n",
      "Requirement already satisfied: setuptools in /home/olga/miniconda3/envs/eagle/lib/python3.8/site-packages (from DendroPy>=4.4.0->EAGLE==0.0.1) (62.6.0)\n",
      "Requirement already satisfied: wrapt<2,>=1.10 in /home/olga/miniconda3/envs/eagle/lib/python3.8/site-packages (from Deprecated>=1.2.9->EAGLE==0.0.1) (1.14.1)\n",
      "Requirement already satisfied: pyparsing>=2.2.1 in /home/olga/miniconda3/envs/eagle/lib/python3.8/site-packages (from matplotlib>=2.2.3->EAGLE==0.0.1) (3.0.9)\n",
      "Requirement already satisfied: kiwisolver>=1.0.1 in /home/olga/miniconda3/envs/eagle/lib/python3.8/site-packages (from matplotlib>=2.2.3->EAGLE==0.0.1) (1.4.3)\n",
      "Requirement already satisfied: packaging>=20.0 in /home/olga/miniconda3/envs/eagle/lib/python3.8/site-packages (from matplotlib>=2.2.3->EAGLE==0.0.1) (21.3)\n",
      "Requirement already satisfied: python-dateutil>=2.7 in /home/olga/miniconda3/envs/eagle/lib/python3.8/site-packages (from matplotlib>=2.2.3->EAGLE==0.0.1) (2.8.2)\n",
      "Requirement already satisfied: cycler>=0.10 in /home/olga/miniconda3/envs/eagle/lib/python3.8/site-packages (from matplotlib>=2.2.3->EAGLE==0.0.1) (0.11.0)\n",
      "Requirement already satisfied: pillow>=6.2.0 in /home/olga/miniconda3/envs/eagle/lib/python3.8/site-packages (from matplotlib>=2.2.3->EAGLE==0.0.1) (9.2.0)\n",
      "Requirement already satisfied: fonttools>=4.22.0 in /home/olga/miniconda3/envs/eagle/lib/python3.8/site-packages (from matplotlib>=2.2.3->EAGLE==0.0.1) (4.33.3)\n",
      "Requirement already satisfied: pytz>=2020.1 in /home/olga/miniconda3/envs/eagle/lib/python3.8/site-packages (from pandas>=0.22.0->EAGLE==0.0.1) (2022.1)\n",
      "Requirement already satisfied: PyYAML in /home/olga/miniconda3/envs/eagle/lib/python3.8/site-packages (from pyaml>=3.12->EAGLE==0.0.1) (6.0)\n",
      "Requirement already satisfied: six>=1.5 in /home/olga/miniconda3/envs/eagle/lib/python3.8/site-packages (from python-dateutil>=2.7->matplotlib>=2.2.3->EAGLE==0.0.1) (1.16.0)\n",
      "Installing collected packages: EAGLE\n",
      "Successfully installed EAGLE-0.0.1\n"
     ]
    }
   ],
   "source": [
    "! pip uninstall -y EAGLE\n",
    "! pip install ../../dist/EAGLE-0.0.1-py3-none-any.whl"
   ]
  },
  {
   "cell_type": "code",
   "execution_count": 14,
   "id": "9b769097",
   "metadata": {},
   "outputs": [],
   "source": [
    "def get_taxonomy(tax_id):\n",
    "    tax_keys = [\"superkingdom\", \"phylum\", \"clade\", \"class\", \"order\", \"family\", \"genus\", \"species\"]\n",
    "    tax_dict = {tax_key: None for tax_key in tax_keys}\n",
    "    \n",
    "    record = Entrez.efetch(db=\"taxonomy\", id=tax_id, retmode='xml')\n",
    "    tax_info = Entrez.read(record)[0]\n",
    "    tax_dict[\"species\"] = tax_info['ScientificName']\n",
    "    \n",
    "    for lin_tax in tax_info['LineageEx']:\n",
    "        if lin_tax['Rank'] in tax_dict:\n",
    "            tax_dict[lin_tax['Rank']] = lin_tax['ScientificName']\n",
    "            \n",
    "    return [tax_dict[tax_key] for tax_key in tax_keys]"
   ]
  },
  {
   "cell_type": "code",
   "execution_count": null,
   "id": "27e82dfc",
   "metadata": {
    "scrolled": true
   },
   "outputs": [
    {
     "name": "stdout",
     "output_type": "stream",
     "text": [
      "GCF_000762265.1 Methanobacterium formicicum strain=BRM9\n",
      "GCF_001458655.1 Methanobacterium formicicum\n",
      "GCF_002813085.1 Methanobrevibacter smithii strain=KB11\n",
      "GCF_022846155.1 Methanobrevibacter smithii strain=CE91-St67\n",
      "GCF_022846175.1 Methanobrevibacter smithii strain=CE91-St68\n",
      "GCF_001889405.1 Methanohalophilus halophilus strain=Z-7982\n",
      "GCF_019263745.1 Methanospirillum hungatei strain=GP1\n",
      "GCF_010706455.1 Methanosarcina mazei strain=zm-15\n",
      "GCF_019669945.1 Methanosarcina mazei strain=TMA\n",
      "GCF_004799605.1 Halobacterium salinarum strain=91-R6\n",
      "GCF_009729015.1 Acidianus ambivalens strain=LEI 10\n",
      "GCF_002215405.1 Sulfolobus acidocaldarius strain=Y14 18-5\n",
      "GCF_002215445.1 Sulfolobus acidocaldarius strain=Y14 20-20\n",
      "GCF_002215485.1 Sulfolobus acidocaldarius strain=Y14 16-22\n",
      "GCF_002215525.1 Sulfolobus acidocaldarius strain=Y14 13-1\n",
      "GCF_002215565.1 Sulfolobus acidocaldarius strain=DG1\n",
      "GCF_019175305.1 Saccharolobus shibatae strain=S38A\n",
      "GCF_019175325.1 Saccharolobus shibatae strain=BEU9\n",
      "GCF_000968355.2 Saccharolobus solfataricus strain=SARC-B\n",
      "GCF_000968395.2 Saccharolobus solfataricus strain=SARC-C\n",
      "GCF_000968435.2 Saccharolobus solfataricus strain=SULA\n",
      "GCF_003852095.1 Saccharolobus solfataricus strain=SARC-O\n",
      "GCF_003852115.1 Saccharolobus solfataricus strain=SUL120\n",
      "GCF_003852135.1 Saccharolobus solfataricus strain=SULG\n",
      "GCF_003852155.1 Saccharolobus solfataricus strain=SULM\n",
      "GCF_003852175.1 Saccharolobus solfataricus strain=SARC-N\n",
      "GCF_003852195.1 Saccharolobus solfataricus strain=SARC-H\n",
      "GCF_003852215.1 Saccharolobus solfataricus strain=SARC-I\n",
      "GCF_900079115.1 Saccharolobus solfataricus strain=P1\n",
      "GCF_902384015.1 Methanosphaera stadtmanae\n",
      "GCF_002355655.1 Halorubrum trapanicum strain=CBA1232\n",
      "GCF_018228765.1 Halorubrum sodomense strain=MBLA0099\n",
      "GCF_001190965.1 Haloferax gibbonsii strain=ARA6\n",
      "GCF_014969745.1 Haloferax gibbonsii strain=LR2-5\n",
      "GCF_002945325.1 Methanococcus maripaludis strain=DSM 2067\n",
      "GCF_003052125.1 Methanococcus maripaludis strain=OS7mut1\n",
      "GCF_019669925.1 Methanobrevibacter arboriphilus strain=SA\n",
      "GCF_003201835.2 Acidianus brierleyi strain=DSM 1651\n",
      "GCF_009729035.1 Stygiolobus azoricus strain=FC6\n",
      "GCF_001266655.1 Metallosphaera sedula strain=ARS50-1\n",
      "GCF_001266675.1 Metallosphaera sedula strain=ARS50-2\n",
      "GCF_001266695.1 Metallosphaera sedula strain=ARS120-1\n",
      "GCF_001266715.1 Metallosphaera sedula strain=ARS120-2\n",
      "GCF_001266735.1 Metallosphaera sedula strain=SARC-M1\n",
      "GCF_005222525.1 Metallosphaera prunae strain=Ron 12/II\n",
      "GCF_002214585.1 Thermococcus profundus strain=DT 5432\n",
      "GCF_001592435.1 Thermococcus peptonophilus strain=OG-1\n",
      "GCF_002214465.1 Thermococcus barossii strain=SHCK-94\n",
      "GCF_014962245.1 Thermosphaera aggregans strain=3507\n",
      "GCF_002214605.1 Thermococcus chitonophagus strain=GC74\n",
      "Traceback (most recent call last):\n",
      "  File \"/tmp/ipykernel_83358/2651093835.py\", line 19, in <cell line: 8>\n",
      "    gfna_f.write(zlib.decompress(urllib.request.urlopen(ftp_prefix+\"_genomic.fna.gz\").read(), 15+32)) #\n",
      "  File \"/home/olga/miniconda3/envs/eagle/lib/python3.8/urllib/request.py\", line 222, in urlopen\n",
      "    return opener.open(url, data, timeout)\n",
      "  File \"/home/olga/miniconda3/envs/eagle/lib/python3.8/urllib/request.py\", line 525, in open\n",
      "    response = self._open(req, data)\n",
      "  File \"/home/olga/miniconda3/envs/eagle/lib/python3.8/urllib/request.py\", line 542, in _open\n",
      "    result = self._call_chain(self.handle_open, protocol, protocol +\n",
      "  File \"/home/olga/miniconda3/envs/eagle/lib/python3.8/urllib/request.py\", line 502, in _call_chain\n",
      "    result = func(*args)\n",
      "  File \"/home/olga/miniconda3/envs/eagle/lib/python3.8/urllib/request.py\", line 1397, in https_open\n",
      "    return self.do_open(http.client.HTTPSConnection, req,\n",
      "  File \"/home/olga/miniconda3/envs/eagle/lib/python3.8/urllib/request.py\", line 1354, in do_open\n",
      "    h.request(req.get_method(), req.selector, req.data, headers,\n",
      "  File \"/home/olga/miniconda3/envs/eagle/lib/python3.8/http/client.py\", line 1256, in request\n",
      "    self._send_request(method, url, body, headers, encode_chunked)\n",
      "  File \"/home/olga/miniconda3/envs/eagle/lib/python3.8/http/client.py\", line 1267, in _send_request\n",
      "    self.putrequest(method, url, **skips)\n",
      "  File \"/home/olga/miniconda3/envs/eagle/lib/python3.8/http/client.py\", line 1101, in putrequest\n",
      "    self._validate_path(url)\n",
      "  File \"/home/olga/miniconda3/envs/eagle/lib/python3.8/http/client.py\", line 1201, in _validate_path\n",
      "    raise InvalidURL(f\"URL can't contain control characters. {url!r} \"\n",
      "http.client.InvalidURL: URL can't contain control characters. '/genomes/all/GCF/900/012/635/GCF_900012635.1_Pyrococcus_chitonophagus_genome_sequence/GCF_900012635.1_Pyrococcus chitonophagus genome sequence_genomic.fna.gz' (found at least ' ')\n",
      "\n",
      "GCF_900012635.1 Thermococcus chitonophagus\n",
      "GCF_001433455.1 Thermococcus barophilus strain=CH5\n",
      "GCF_004803735.1 Halomicrobium mukohataei strain=JP60\n",
      "GCF_002813655.1 Methanobacterium subterraneum strain=MO-MB1\n",
      "GCF_002813695.1 Methanobacterium subterraneum strain=A8p\n",
      "GCF_010692885.1 Halogeometricum borinquense strain=wsp4\n",
      "GCF_004799645.1 Natronorubrum bangense strain=JCM 10635\n",
      "GCF_000006805.1 Halobacterium salinarum NRC-1 strain=NRC-1; ATCC 700922\n",
      "GCF_000009965.1 Thermococcus kodakarensis KOD1 strain=KOD1\n",
      "GCF_005890195.1 Natrinema pallidum strain=BOL6-1\n",
      "GCF_009729055.1 Sulfurisphaera ohwakuensis strain=TA-1\n",
      "GCF_000011105.1 Pyrococcus horikoshii OT3 strain=OT3\n",
      "GCF_002214385.1 Thermococcus gorgonarius strain=W-12\n",
      "GCF_002214485.1 Thermococcus pacificus strain=P-4\n",
      "GCF_002214505.1 Thermococcus siculi strain=RG-20\n",
      "GCF_002078355.1 Ferroplasma acidiphilum strain=Y\n",
      "GCF_000145295.1 Methanothermobacter marburgensis str. Marburg strain=Marburg\n",
      "Traceback (most recent call last):\n",
      "  File \"/tmp/ipykernel_83358/2651093835.py\", line 19, in <cell line: 8>\n",
      "    gfna_f.write(zlib.decompress(urllib.request.urlopen(ftp_prefix+\"_genomic.fna.gz\").read(), 15+32)) #\n",
      "  File \"/home/olga/miniconda3/envs/eagle/lib/python3.8/urllib/request.py\", line 222, in urlopen\n",
      "    return opener.open(url, data, timeout)\n",
      "  File \"/home/olga/miniconda3/envs/eagle/lib/python3.8/urllib/request.py\", line 525, in open\n",
      "    response = self._open(req, data)\n",
      "  File \"/home/olga/miniconda3/envs/eagle/lib/python3.8/urllib/request.py\", line 542, in _open\n",
      "    result = self._call_chain(self.handle_open, protocol, protocol +\n",
      "  File \"/home/olga/miniconda3/envs/eagle/lib/python3.8/urllib/request.py\", line 502, in _call_chain\n",
      "    result = func(*args)\n",
      "  File \"/home/olga/miniconda3/envs/eagle/lib/python3.8/urllib/request.py\", line 1397, in https_open\n",
      "    return self.do_open(http.client.HTTPSConnection, req,\n",
      "  File \"/home/olga/miniconda3/envs/eagle/lib/python3.8/urllib/request.py\", line 1354, in do_open\n",
      "    h.request(req.get_method(), req.selector, req.data, headers,\n",
      "  File \"/home/olga/miniconda3/envs/eagle/lib/python3.8/http/client.py\", line 1256, in request\n",
      "    self._send_request(method, url, body, headers, encode_chunked)\n",
      "  File \"/home/olga/miniconda3/envs/eagle/lib/python3.8/http/client.py\", line 1267, in _send_request\n",
      "    self.putrequest(method, url, **skips)\n",
      "  File \"/home/olga/miniconda3/envs/eagle/lib/python3.8/http/client.py\", line 1101, in putrequest\n",
      "    self._validate_path(url)\n",
      "  File \"/home/olga/miniconda3/envs/eagle/lib/python3.8/http/client.py\", line 1201, in _validate_path\n",
      "    raise InvalidURL(f\"URL can't contain control characters. {url!r} \"\n",
      "http.client.InvalidURL: URL can't contain control characters. '/genomes/all/GCF/900/036/045/GCF_900036045.1_Methanoculleus_sp_MAB1/GCF_900036045.1_Methanoculleus sp MAB1_genomic.fna.gz' (found at least ' ')\n",
      "\n",
      "GCF_900036045.1 Methanoculleus bourgensis\n",
      "GCF_005576615.1 Natrinema versiforme strain=BOL5-4\n",
      "GCF_001006045.1 Geoglobus ahangari strain=234\n",
      "GCF_010692905.1 Haloferax alexandrinus strain=wsp1\n",
      "GCF_900095295.1 Methanobacterium congolense\n",
      "GCF_019669965.1 Methanoculleus chikugoensis strain=MG62\n",
      "GCF_002214525.1 Thermococcus sp. P6 strain=P6\n",
      "GCF_000265525.1 Thermococcus cleftensis strain=CL1\n",
      "GCF_000007225.1 Pyrobaculum aerophilum str. IM2 strain=IM2\n",
      "GCF_022870485.1 Halococcus dombrowskii strain=H4\n",
      "GCF_000007305.1 Pyrococcus furiosus DSM 3638 strain=DSM 3638\n",
      "GCF_008245085.1 Pyrococcus furiosus DSM 3638 strain=DSM 3638\n",
      "GCF_000008645.1 Methanothermobacter thermautotrophicus str. Delta H strain=Delta H\n",
      "GCF_002214565.1 Thermococcus radiotolerans strain=EJ2\n"
     ]
    },
    {
     "name": "stdout",
     "output_type": "stream",
     "text": [
      "GCF_000007345.1 Methanosarcina acetivorans C2A strain=C2A\n",
      "GCF_000007185.1 Methanopyrus kandleri AV19 strain=AV19\n",
      "GCF_000007065.1 Methanosarcina mazei Go1 strain=Go1\n",
      "GCF_000585495.1 Thermococcus nautili strain=30-1\n",
      "GCF_000970205.1 Methanosarcina mazei S-6 strain=S-6\n",
      "GCF_021233435.1 Halobacterium noricense strain=JCM 15102\n",
      "GCF_000008665.1 Archaeoglobus fulgidus DSM 4304 strain=DSM 4304\n",
      "GCF_000404165.1 Methanobrevibacter sp. AbM4 strain=AbM4\n",
      "GCF_001477655.1 Methanobrevibacter millerae strain=SM9\n",
      "GCF_000091665.1 Methanocaldococcus jannaschii DSM 2661 strain=DSM 2661\n",
      "GCF_000151205.2 Thermococcus sp. AM4 strain=AM4\n",
      "GCF_000013725.1 Methanococcoides burtonii DSM 6242 strain=DSM 6242\n",
      "GCF_000008265.1 Picrophilus torridus DSM 9790 strain=DSM 9790\n",
      "GCF_000011585.1 Methanococcus maripaludis S2 strain=S2\n",
      "GCF_000591055.1 Natronomonas moolapensis 8.8.11 strain=8.8.11\n",
      "GCF_000011125.1 Aeropyrum pernix K1 strain=K1\n",
      "GCF_000011085.1 Haloarcula marismortui ATCC 43049 strain=ATCC 43049\n",
      "GCF_005310945.1 Haloarcula marismortui ATCC 43049 strain=ATCC 43049\n",
      "GCF_000195935.2 Pyrococcus abyssi GE5 strain=Orsay\n",
      "GCF_000007005.1 Saccharolobus solfataricus P2 strain=P2\n",
      "GCF_000011205.1 Sulfurisphaera tokodaii str. 7 strain=7\n",
      "GCF_000195915.1 Thermoplasma acidophilum DSM 1728 strain=DSM 1728\n",
      "GCF_000011185.1 Thermoplasma volcanium GSS1 strain=GSS1\n",
      "GCF_002214545.1 Thermococcus thioreducens strain=OGL-20P\n",
      "GCF_002116695.1 Acidianus manzaensis strain=YN-25\n",
      "GCF_001563245.1 Methanobrevibacter olleyae strain=YLM1\n",
      "GCF_000011005.1 Methanocella paludicola SANAE strain=SANAE\n"
     ]
    }
   ],
   "source": [
    "assembly_summary_path = \"archaea_assembly_summary.txt\"\n",
    "Entrez.email = \"moshenskydenis@gmail.com\"\n",
    "db_dir = \"archaea\"\n",
    "\n",
    "processed_ac = list()\n",
    "arch_df = pd.read_csv(assembly_summary_path, sep=\"\\t\")\n",
    "# arch_df.query(\"assembly_level=='Complete Genome' & refseq_category!='representative genome'\")\n",
    "for _, row in arch_df.query(\"assembly_level=='Complete Genome'\").iterrows():\n",
    "    ac = row['assembly_accession']  # id field in genomes_table\n",
    "    asm = row['asm_name']\n",
    "    taxonomy = get_taxonomy(row['species_taxid'])\n",
    "    name = row['organism_name'] + (\"\" if pd.isna(row['infraspecific_name']) else \" \" + row['infraspecific_name'])\n",
    "    ftp_prefix = row['ftp_path'] + \"/\" + ac + \"_\" + asm\n",
    "    # fna_seq = [ftp_prefix+\"_genomic.fna.gz\"]\n",
    "    fna_seq = [os.path.join(db_dir, ac+\"_genomic.fna\")] #\n",
    "    \n",
    "    try:\n",
    "        with open(fna_seq[0], 'wb') as gfna_f: #\n",
    "            gfna_f.write(zlib.decompress(urllib.request.urlopen(ftp_prefix+\"_genomic.fna.gz\").read(), 15+32)) #\n",
    "        with open(os.path.join(db_dir, ac+\"_rna_from_genomic.fna\"), 'wb') as rna_f:\n",
    "            rna_f.write(zlib.decompress(urllib.request.urlopen(ftp_prefix+\"_rna_from_genomic.fna.gz\").read(), 15+32))\n",
    "        with open(os.path.join(db_dir, ac+\"_translated_cds.faa\"), 'wb') as tcds_f:\n",
    "            tcds_f.write(zlib.decompress(urllib.request.urlopen(ftp_prefix+\"_translated_cds.faa.gz\").read(), 15+32))\n",
    "        processed_ac.append({\"id\": ac, \"name\": name, \"taxonomy\": taxonomy, \"btc_seqs\": [], \"fna_seq\": fna_seq})\n",
    "    except:\n",
    "        print(traceback.format_exc())\n",
    "    print(ac, name)"
   ]
  },
  {
   "cell_type": "code",
   "execution_count": 98,
   "id": "aef4f12c",
   "metadata": {},
   "outputs": [
    {
     "data": {
      "text/plain": [
       "['GCF_000762265.1', 'GCF_001458655.1', 'GCF_002813085.1']"
      ]
     },
     "execution_count": 98,
     "metadata": {},
     "output_type": "execute_result"
    }
   ],
   "source": [
    "processed_ac"
   ]
  },
  {
   "cell_type": "code",
   "execution_count": 3,
   "id": "b4dac32f",
   "metadata": {},
   "outputs": [
    {
     "name": "stdout",
     "output_type": "stream",
     "text": [
      "# cmbuild :: covariance model construction from multiple sequence alignments\n",
      "# INFERNAL 1.1.4 (Dec 2020)\n",
      "# Copyright (C) 2020 Howard Hughes Medical Institute.\n",
      "# Freely distributed under the BSD open source license.\n",
      "# - - - - - - - - - - - - - - - - - - - - - - - - - - - - - - - - - - - -\n",
      "# CM file:                                            16S_rRNA_archaea.cm\n",
      "# alignment file:                                     RF01959.fasta\n",
      "# ignore secondary structure, if any:                 yes\n",
      "# - - - - - - - - - - - - - - - - - - - - - - - - - - - - - - - - - - - -\n",
      "#                                                                      rel entropy\n",
      "#                                                                      -----------\n",
      "# idx    name                     nseq eff_nseq   alen  clen  bps bifs    CM   HMM description\n",
      "# ------ -------------------- -------- -------- ------ ----- ---- ---- ----- ----- -----------\n",
      "       1 RF01959                    86     1.86   1958  1478    0    0 0.380 0.380 \n",
      "#\n",
      "# CPU time: 15.47u 0.00s 00:00:15.47 Elapsed: 00:00:15.49\n"
     ]
    }
   ],
   "source": [
    "arch_16s_profile = SeqsProfile.build(mult_aln=\"RF01959.fasta\", name=\"16S_rRNA_archaea\", method=\"infernal\", seqs_type=\"nucl\", noss=True)"
   ]
  },
  {
   "cell_type": "code",
   "execution_count": 3,
   "id": "afc593d6",
   "metadata": {},
   "outputs": [],
   "source": [
    "arch_16s_profile = SeqsProfile(SeqsProfileInfo.load_from_dict({\n",
    "    'name': '16S_rRNA_archaea',\n",
    "    'path': '16S_rRNA_archaea.cm',\n",
    "    'type': 'nucl',\n",
    "    'weight': 1.0,\n",
    "    'method': 'infernal'\n",
    "}))"
   ]
  },
  {
   "cell_type": "code",
   "execution_count": 7,
   "id": "6f6f0578",
   "metadata": {},
   "outputs": [],
   "source": [
    "psr = arch_16s_profile.search(seqdb=\"archaea/GCF_000762265.1_rna_from_genomic.fna\", threads=4)"
   ]
  },
  {
   "cell_type": "code",
   "execution_count": 13,
   "id": "135341fa",
   "metadata": {},
   "outputs": [
    {
     "ename": "KeyboardInterrupt",
     "evalue": "",
     "output_type": "error",
     "traceback": [
      "\u001b[0;31m---------------------------------------------------------------------------\u001b[0m",
      "\u001b[0;31mKeyboardInterrupt\u001b[0m                         Traceback (most recent call last)",
      "Input \u001b[0;32mIn [13]\u001b[0m, in \u001b[0;36m<cell line: 1>\u001b[0;34m()\u001b[0m\n\u001b[1;32m      1\u001b[0m \u001b[38;5;28;01mwith\u001b[39;00m \u001b[38;5;28mopen\u001b[39m(\u001b[38;5;124m\"\u001b[39m\u001b[38;5;124m16S_rRNA_archaea_out_IhcB3eBE5D.psr\u001b[39m\u001b[38;5;124m\"\u001b[39m) \u001b[38;5;28;01mas\u001b[39;00m out_f:\n\u001b[0;32m----> 2\u001b[0m     \u001b[38;5;28;01mfor\u001b[39;00m query \u001b[38;5;129;01min\u001b[39;00m Hmmer3TextParser(out_f):\n\u001b[1;32m      3\u001b[0m         \u001b[38;5;28mprint\u001b[39m(query)\n",
      "File \u001b[0;32m~/miniconda3/envs/eagle/lib/python3.8/site-packages/Bio/SearchIO/HmmerIO/hmmer3_text.py:46\u001b[0m, in \u001b[0;36mHmmer3TextParser.__iter__\u001b[0;34m(self)\u001b[0m\n\u001b[1;32m     44\u001b[0m \u001b[38;5;28;01mdef\u001b[39;00m \u001b[38;5;21m__iter__\u001b[39m(\u001b[38;5;28mself\u001b[39m):\n\u001b[1;32m     45\u001b[0m     \u001b[38;5;124;03m\"\"\"Iterate over query results.\"\"\"\u001b[39;00m\n\u001b[0;32m---> 46\u001b[0m     \u001b[38;5;28;01myield from\u001b[39;00m \u001b[38;5;28mself\u001b[39m\u001b[38;5;241m.\u001b[39m_parse_qresult()\n",
      "File \u001b[0;32m~/miniconda3/envs/eagle/lib/python3.8/site-packages/Bio/SearchIO/HmmerIO/hmmer3_text.py:107\u001b[0m, in \u001b[0;36mHmmer3TextParser._parse_qresult\u001b[0;34m(self)\u001b[0m\n\u001b[1;32m    104\u001b[0m regx \u001b[38;5;241m=\u001b[39m re\u001b[38;5;241m.\u001b[39msearch(_QRE_ID_LEN, \u001b[38;5;28mself\u001b[39m\u001b[38;5;241m.\u001b[39mline)\n\u001b[1;32m    106\u001b[0m \u001b[38;5;28;01mwhile\u001b[39;00m \u001b[38;5;129;01mnot\u001b[39;00m regx:\n\u001b[0;32m--> 107\u001b[0m     \u001b[38;5;28mself\u001b[39m\u001b[38;5;241m.\u001b[39mline \u001b[38;5;241m=\u001b[39m \u001b[43mread_forward\u001b[49m\u001b[43m(\u001b[49m\u001b[38;5;28;43mself\u001b[39;49m\u001b[38;5;241;43m.\u001b[39;49m\u001b[43mhandle\u001b[49m\u001b[43m)\u001b[49m\n\u001b[1;32m    108\u001b[0m     regx \u001b[38;5;241m=\u001b[39m re\u001b[38;5;241m.\u001b[39msearch(_QRE_ID_LEN, \u001b[38;5;28mself\u001b[39m\u001b[38;5;241m.\u001b[39mline)\n\u001b[1;32m    110\u001b[0m \u001b[38;5;66;03m# get query id and length\u001b[39;00m\n",
      "File \u001b[0;32m~/miniconda3/envs/eagle/lib/python3.8/site-packages/Bio/SearchIO/_utils.py:26\u001b[0m, in \u001b[0;36mread_forward\u001b[0;34m(handle)\u001b[0m\n\u001b[1;32m     24\u001b[0m \u001b[38;5;124;03m\"\"\"Read through whitespaces, return the first non-whitespace line.\"\"\"\u001b[39;00m\n\u001b[1;32m     25\u001b[0m \u001b[38;5;28;01mwhile\u001b[39;00m \u001b[38;5;28;01mTrue\u001b[39;00m:\n\u001b[0;32m---> 26\u001b[0m     line \u001b[38;5;241m=\u001b[39m \u001b[43mhandle\u001b[49m\u001b[38;5;241;43m.\u001b[39;49m\u001b[43mreadline\u001b[49m\u001b[43m(\u001b[49m\u001b[43m)\u001b[49m\n\u001b[1;32m     27\u001b[0m     \u001b[38;5;66;03m# if line is empty or line has characters and stripping does not remove\u001b[39;00m\n\u001b[1;32m     28\u001b[0m     \u001b[38;5;66;03m# them, return the line\u001b[39;00m\n\u001b[1;32m     29\u001b[0m     \u001b[38;5;28;01mif\u001b[39;00m (\u001b[38;5;129;01mnot\u001b[39;00m line) \u001b[38;5;129;01mor\u001b[39;00m (line \u001b[38;5;129;01mand\u001b[39;00m line\u001b[38;5;241m.\u001b[39mstrip()):\n",
      "File \u001b[0;32m~/miniconda3/envs/eagle/lib/python3.8/codecs.py:319\u001b[0m, in \u001b[0;36mBufferedIncrementalDecoder.decode\u001b[0;34m(self, input, final)\u001b[0m\n\u001b[1;32m    314\u001b[0m \u001b[38;5;28;01mdef\u001b[39;00m \u001b[38;5;21m_buffer_decode\u001b[39m(\u001b[38;5;28mself\u001b[39m, \u001b[38;5;28minput\u001b[39m, errors, final):\n\u001b[1;32m    315\u001b[0m     \u001b[38;5;66;03m# Overwrite this method in subclasses: It must decode input\u001b[39;00m\n\u001b[1;32m    316\u001b[0m     \u001b[38;5;66;03m# and return an (output, length consumed) tuple\u001b[39;00m\n\u001b[1;32m    317\u001b[0m     \u001b[38;5;28;01mraise\u001b[39;00m \u001b[38;5;167;01mNotImplementedError\u001b[39;00m\n\u001b[0;32m--> 319\u001b[0m \u001b[38;5;28;01mdef\u001b[39;00m \u001b[38;5;21mdecode\u001b[39m(\u001b[38;5;28mself\u001b[39m, \u001b[38;5;28minput\u001b[39m, final\u001b[38;5;241m=\u001b[39m\u001b[38;5;28;01mFalse\u001b[39;00m):\n\u001b[1;32m    320\u001b[0m     \u001b[38;5;66;03m# decode input (taking the buffer into account)\u001b[39;00m\n\u001b[1;32m    321\u001b[0m     data \u001b[38;5;241m=\u001b[39m \u001b[38;5;28mself\u001b[39m\u001b[38;5;241m.\u001b[39mbuffer \u001b[38;5;241m+\u001b[39m \u001b[38;5;28minput\u001b[39m\n\u001b[1;32m    322\u001b[0m     (result, consumed) \u001b[38;5;241m=\u001b[39m \u001b[38;5;28mself\u001b[39m\u001b[38;5;241m.\u001b[39m_buffer_decode(data, \u001b[38;5;28mself\u001b[39m\u001b[38;5;241m.\u001b[39merrors, final)\n",
      "\u001b[0;31mKeyboardInterrupt\u001b[0m: "
     ]
    }
   ],
   "source": [
    "with open(\"16S_rRNA_archaea_out_IhcB3eBE5D.psr\") as out_f:\n",
    "    for query in Hmmer3TextParser(out_f):\n",
    "        print(query)"
   ]
  }
 ],
 "metadata": {
  "kernelspec": {
   "display_name": "Python 3 (ipykernel)",
   "language": "python",
   "name": "python3"
  },
  "language_info": {
   "codemirror_mode": {
    "name": "ipython",
    "version": 3
   },
   "file_extension": ".py",
   "mimetype": "text/x-python",
   "name": "python",
   "nbconvert_exporter": "python",
   "pygments_lexer": "ipython3",
   "version": "3.8.13"
  }
 },
 "nbformat": 4,
 "nbformat_minor": 5
}
