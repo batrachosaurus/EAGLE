{
 "cells": [
  {
   "cell_type": "code",
   "execution_count": 3,
   "metadata": {},
   "outputs": [],
   "source": [
    "# imports\n",
    "import os\n",
    "import json"
   ]
  },
  {
   "cell_type": "code",
   "execution_count": 5,
   "metadata": {},
   "outputs": [],
   "source": [
    "# constants\n",
    "BACTDB_PATH = \"../../EAGLEdb/bacteria\"\n",
    "BACTERIA_LIST_NAME = \"bacteria.json\"\n",
    "BACTERIA_LIST_PATH = os.path.join(BACTDB_PATH, BACTERIA_LIST_NAME)"
   ]
  },
  {
   "cell_type": "code",
   "execution_count": 9,
   "metadata": {},
   "outputs": [
    {
     "name": "stdout",
     "output_type": "stream",
     "text": [
      "number of representative bacterial genomes: 1211\n"
     ]
    }
   ],
   "source": [
    "# create bactdb_repr\n",
    "bactdb_repr_path = BACTDB_PATH + \"_repr\"\n",
    "if not os.path.exists(bactdb_repr_path):\n",
    "    os.makedirs(bactdb_repr_path)\n",
    "\n",
    "with open(BACTERIA_LIST_PATH) as bacteria_list_f:\n",
    "    bacteria_list = json.load(bacteria_list_f)\n",
    "repr_bacteria_list = list()\n",
    "for genome_info in bacteria_list:\n",
    "    if genome_info[\"is_repr\"]:\n",
    "        repr_bacteria_list.append(genome_info)\n",
    "print(\"number of representative bacterial genomes: %s\" % len(repr_bacteria_list))\n",
    "with open(os.path.join(bactdb_repr_path, BACTERIA_LIST_NAME), \"w\") as repr_bacteria_list_f:\n",
    "    json.dump(repr_bacteria_list, repr_bacteria_list_f, indent=2)"
   ]
  }
 ],
 "metadata": {
  "kernelspec": {
   "display_name": "Python 2",
   "language": "python",
   "name": "python2"
  },
  "language_info": {
   "codemirror_mode": {
    "name": "ipython",
    "version": 2
   },
   "file_extension": ".py",
   "mimetype": "text/x-python",
   "name": "python",
   "nbconvert_exporter": "python",
   "pygments_lexer": "ipython2",
   "version": "2.7.15rc1"
  }
 },
 "nbformat": 4,
 "nbformat_minor": 2
}
