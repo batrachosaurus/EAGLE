{
 "cells": [
  {
   "cell_type": "markdown",
   "metadata": {},
   "source": [
    "### Here is the development of some code that will be the part of EAGLE.ovORFs package\n",
    "The check of 4 pairs - candidates into AOGs from AORFs project"
   ]
  },
  {
   "cell_type": "code",
   "execution_count": 1,
   "metadata": {},
   "outputs": [],
   "source": [
    "#imports\n",
    "import os\n",
    "from collections import defaultdict\n",
    "\n",
    "from Bio.Seq import Seq"
   ]
  },
  {
   "cell_type": "code",
   "execution_count": 2,
   "metadata": {},
   "outputs": [],
   "source": [
    "#input\n",
    "work_dir = \"/media/denis/Data/Data/Bioinf/Projects/Reverse_ORFs/special/4AOGs\"\n",
    "\n",
    "fam_fna = {\n",
    "    \"NC_006833\": os.path.join(work_dir, \"fna\", \"NC_006833.fasta\"),\n",
    "    \"NC_011898\": os.path.join(work_dir, \"fna\", \"NC_011898.fasta\"),\n",
    "    \"NC_013156\": os.path.join(work_dir, \"fna\", \"NC_013156.fasta\"),\n",
    "    \"NC_014810\": os.path.join(work_dir, \"fna\", \"NC_014810.fasta\"),\n",
    "}\n",
    "\n",
    "tblastn_res_tab_path = os.path.join(work_dir, \"tblastn_res.bl\")  # outfmt 7; tblastn has been run previously against genomes base used in AORFs project\n",
    "\n",
    "orfs_descr = [  # this list should be formed automatically on the ovORFs detection step\n",
    "    {\"ORF_id\": \"NC_011898|:c1102-653\", \"ORF_start\": 1102, \"ORF_end\": 653, \"ORF_ori\": \"-1\", \"ovORFs\": {\"+2\": None, \"+3\": None, \"-1\": {\"ovORF_id\": \"NC_011898|:27-1349\", \"P-value\": 0.0000014, \"found_without\": False}, \"-2\": None, \"-3\": None}},\n",
    "    {\"ORF_id\": \"NC_011898|:27-1349\", \"ORF_start\": 27, \"ORF_end\": 1349, \"ORF_ori\": \"+1\", \"ovORFs\": {\"+2\": None, \"+3\": None, \"-1\": {\"ovORF_id\": \"NC_011898|:c1102-653\", \"P-value\": 0.0000000412, \"found_without\": False}, \"-2\": None, \"-3\": None}},\n",
    "    {\"ORF_id\": \"NC_013156|:1484335-1484625\", \"ORF_start\": 1484335, \"ORF_end\": 1484625, \"ORF_ori\": \"+1\", \"ovORFs\": {\"+2\": None, \"+3\": None, \"-1\": {\"ovORF_id\": \"NC_013156|:c1485014-1483527\", \"P-value\": 0.000000104, \"found_without\": False}, \"-2\": None, \"-3\": None}},\n",
    "    {\"ORF_id\": \"NC_013156|:c1485014-1483527\", \"ORF_start\": 1485014, \"ORF_end\": 1483527, \"ORF_ori\": \"-1\", \"ovORFs\": {\"+2\": None, \"+3\": None, \"-1\": {\"ovORF_id\": \"NC_013156|:1484335-1484625\", \"P-value\": 0.000000279, \"found_without\": False}, \"-2\": None, \"-3\": None}},    \n",
    "    {\"ORF_id\": \"NC_006833|:c691-290\", \"ORF_start\": 691, \"ORF_end\": 290, \"ORF_ori\": \"-1\", \"ovORFs\": {\"+2\": None, \"+3\": None, \"-1\": {\"ovORF_id\": \"NC_006833|:111-1154\", \"P-value\": 0.000000654, \"found_without\": False}, \"-2\": None, \"-3\": None}},\n",
    "    {\"ORF_id\": \"NC_006833|:111-1154\", \"ORF_start\": 111, \"ORF_end\": 1154, \"ORF_ori\": \"+1\", \"ovORFs\": {\"+2\": None, \"+3\": None, \"-1\": {\"ovORF_id\": \"NC_006833|:c691-290\", \"P-value\": 0.000000642, \"found_without\": False}, \"-2\": None, \"-3\": None}},    \n",
    "    {\"ORF_id\": \"NC_014810|:1059006-1059758\", \"ORF_start\": 1059006, \"ORF_end\": 1059758, \"ORF_ori\": \"+1\", \"ovORFs\": {\"+2\": None, \"+3\": None, \"-1\": None, \"-2\": {\"ovORF_id\": \"NC_014810|:c1059766-1058375\", \"P-value\": 0.000000107, \"found_without\": False}, \"-3\": None}},\n",
    "    {\"ORF_id\": \"NC_014810|:c1059766-1058375\", \"ORF_start\": 1059766, \"ORF_end\": 1058375, \"ORF_ori\": \"-1\", \"ovORFs\": {\"+2\": None, \"+3\": None, \"-1\": None, \"-2\": {\"ovORF_id\": \"NC_014810|:1059006-1059758\", \"P-value\": 0.01194529, \"found_without\": False}, \"-3\": None}},  # no SCA\n",
    "]"
   ]
  },
  {
   "cell_type": "markdown",
   "metadata": {},
   "source": [
    "# WARNING: do not run code from following window!!!"
   ]
  },
  {
   "cell_type": "code",
   "execution_count": 6,
   "metadata": {},
   "outputs": [],
   "source": [
    "#fix fna ids in tblastn_res_tab (not needed step in the package)\n",
    "def fix_fna_ids(blast_res_path, fixed_blast_res_path):\n",
    "    # blast resukts must be in outfmt 7 format\n",
    "    blast_res_f = open(blast_res_path)\n",
    "    fixed_blast_res_f = open(fixed_blast_res_path, 'w')\n",
    "    first_str = False\n",
    "    orf_id = None\n",
    "    \n",
    "    for line_ in blast_res_f:\n",
    "        line = None\n",
    "        line = line_.strip()\n",
    "        if not line:\n",
    "            continue\n",
    "        if line[0] == \"#\":\n",
    "            fixed_blast_res_f.write(line+\"\\n\")\n",
    "            first_str = False\n",
    "            continue\n",
    "        line_list = line.split(\"\\t\")\n",
    "        if not first_str:\n",
    "            first_str = True\n",
    "            orf_id = None\n",
    "            orf_id = line_list[0].strip()\n",
    "            fixed_blast_res_f.write(\"\\t\".join(line_list)+\"\\n\")\n",
    "        elif line_list[0].strip() == \"AORF:\":\n",
    "            line_list[0] = orf_id\n",
    "            line_list[1] = line_list[1].strip().split(\"|\")[-2].split(\".\")[0].strip()\n",
    "            fixed_blast_res_f.write(\"\\t\".join(line_list)+\"\\n\")\n",
    "        else:\n",
    "            fixed_blast_res_f.write(line+\"\\n\")\n",
    "    \n",
    "    blast_res_f.close()\n",
    "    fixed_blast_res_f.close()\n",
    "    \n",
    "\n",
    "fix_fna_ids(blast_res_path=tblastn_res_tab_path, fixed_blast_res_path=tblastn_res_tab_path.replace(\".bl\", \"_fixed.bl\"))"
   ]
  },
  {
   "cell_type": "code",
   "execution_count": 3,
   "metadata": {},
   "outputs": [],
   "source": [
    "#functions from EAGLE.lib to manipulate fasta files\n",
    "def seq_from_fasta(fasta_path, seq_id, ori=+1, start=0, end=-1):\n",
    "    fasta_dict = load_fasta_to_dict(fasta_path)\n",
    "    if end >= start or end == -1:\n",
    "        if ori > 0:\n",
    "            return fasta_dict[seq_id][start-1: end]\n",
    "        else:\n",
    "            return str(Seq(fasta_dict[seq_id][start-1: end]).reverse_complement())       \n",
    "    else:\n",
    "        if ori > 0:\n",
    "            return fasta_dict[seq_id][end-1: start]\n",
    "        else:\n",
    "            return str(Seq(fasta_dict[seq_id][end-1: start]).reverse_complement())       \n",
    "    \n",
    "\n",
    "def load_fasta_to_dict(fasta_path):\n",
    "    fasta_dict = dict()\n",
    "    seq_list = list()\n",
    "    title = None\n",
    "    fasta_f = open(fasta_path)\n",
    "    for line_ in fasta_f:\n",
    "        line = None\n",
    "        line = line_.strip()\n",
    "        if not line:\n",
    "            continue\n",
    "        if line[0] == \">\":\n",
    "            if title:\n",
    "                fasta_dict[title] = \"\".join(seq_list)\n",
    "                seq_list = list()\n",
    "                title = None\n",
    "            title = line[1:]\n",
    "        else:\n",
    "            seq_list.append(line)\n",
    "    if title:\n",
    "        fasta_dict[title] = \"\".join(seq_list)\n",
    "        seq_list = list()\n",
    "        title = None\n",
    "    return fasta_dict"
   ]
  },
  {
   "cell_type": "code",
   "execution_count": 4,
   "metadata": {},
   "outputs": [
    {
     "ename": "KeyError",
     "evalue": "'NC_016627'",
     "output_type": "error",
     "traceback": [
      "\u001b[0;31m---------------------------------------------------------------------------\u001b[0m",
      "\u001b[0;31mKeyError\u001b[0m                                  Traceback (most recent call last)",
      "\u001b[0;32m<ipython-input-4-baefe4399c7c>\u001b[0m in \u001b[0;36m<module>\u001b[0;34m()\u001b[0m\n\u001b[1;32m     77\u001b[0m \u001b[0;34m\u001b[0m\u001b[0m\n\u001b[1;32m     78\u001b[0m \u001b[0;34m\u001b[0m\u001b[0m\n\u001b[0;32m---> 79\u001b[0;31m \u001b[0mdetect_indep_ORFs\u001b[0m\u001b[0;34m(\u001b[0m\u001b[0mtblastn_res_tab_path\u001b[0m\u001b[0;34m,\u001b[0m \u001b[0morfs_descr\u001b[0m\u001b[0;34m,\u001b[0m \u001b[0mfam_fna\u001b[0m\u001b[0;34m)\u001b[0m\u001b[0;34m\u001b[0m\u001b[0m\n\u001b[0m",
      "\u001b[0;32m<ipython-input-4-baefe4399c7c>\u001b[0m in \u001b[0;36mdetect_indep_ORFs\u001b[0;34m(tblastn_res_path, orfs_descr, fam_fna)\u001b[0m\n\u001b[1;32m      4\u001b[0m         \u001b[0;32mfor\u001b[0m \u001b[0morf_hom\u001b[0m \u001b[0;32min\u001b[0m \u001b[0mtblastn_res\u001b[0m\u001b[0;34m[\u001b[0m\u001b[0morf\u001b[0m\u001b[0;34m[\u001b[0m\u001b[0;34m\"ORF_id\"\u001b[0m\u001b[0;34m]\u001b[0m\u001b[0;34m]\u001b[0m\u001b[0;34m:\u001b[0m\u001b[0;34m\u001b[0m\u001b[0m\n\u001b[1;32m      5\u001b[0m             \u001b[0morf_hom_seq\u001b[0m \u001b[0;34m=\u001b[0m \u001b[0mNone\u001b[0m\u001b[0;34m\u001b[0m\u001b[0m\n\u001b[0;32m----> 6\u001b[0;31m             \u001b[0morf_hom_seq\u001b[0m \u001b[0;34m=\u001b[0m \u001b[0mseq_from_fasta\u001b[0m\u001b[0;34m(\u001b[0m\u001b[0mfam_fna\u001b[0m\u001b[0;34m[\u001b[0m\u001b[0morf_hom\u001b[0m\u001b[0;34m[\u001b[0m\u001b[0;34m\"subj_id\"\u001b[0m\u001b[0;34m]\u001b[0m\u001b[0;34m]\u001b[0m\u001b[0;34m,\u001b[0m \u001b[0morf_hom\u001b[0m\u001b[0;34m[\u001b[0m\u001b[0;34m\"subj_id\"\u001b[0m\u001b[0;34m]\u001b[0m\u001b[0;34m,\u001b[0m \u001b[0mget_ori\u001b[0m\u001b[0;34m(\u001b[0m\u001b[0morf_hom\u001b[0m\u001b[0;34m[\u001b[0m\u001b[0;34m\"subj_start\"\u001b[0m\u001b[0;34m]\u001b[0m\u001b[0;34m,\u001b[0m \u001b[0morf_hom\u001b[0m\u001b[0;34m[\u001b[0m\u001b[0;34m\"subj_end\"\u001b[0m\u001b[0;34m]\u001b[0m\u001b[0;34m)\u001b[0m\u001b[0;34m,\u001b[0m \u001b[0morf_hom\u001b[0m\u001b[0;34m[\u001b[0m\u001b[0;34m\"subj_start\"\u001b[0m\u001b[0;34m]\u001b[0m\u001b[0;34m,\u001b[0m \u001b[0morf_hom\u001b[0m\u001b[0;34m[\u001b[0m\u001b[0;34m\"subj_end\"\u001b[0m\u001b[0;34m]\u001b[0m\u001b[0;34m)\u001b[0m\u001b[0;34m\u001b[0m\u001b[0m\n\u001b[0m\u001b[1;32m      7\u001b[0m             \u001b[0morf\u001b[0m\u001b[0;34m[\u001b[0m\u001b[0;34m\"ovORFs\"\u001b[0m\u001b[0;34m]\u001b[0m \u001b[0;34m=\u001b[0m \u001b[0mdefine_indep_orf\u001b[0m\u001b[0;34m(\u001b[0m\u001b[0morf_hom_seq\u001b[0m\u001b[0;34m,\u001b[0m \u001b[0morf\u001b[0m\u001b[0;34m[\u001b[0m\u001b[0;34m\"ovORFs\"\u001b[0m\u001b[0;34m]\u001b[0m\u001b[0;34m)\u001b[0m\u001b[0;34m\u001b[0m\u001b[0m\n\u001b[1;32m      8\u001b[0m     \u001b[0;32mreturn\u001b[0m \u001b[0morfs_descr\u001b[0m\u001b[0;34m\u001b[0m\u001b[0m\n",
      "\u001b[0;31mKeyError\u001b[0m: 'NC_016627'"
     ]
    }
   ],
   "source": [
    "def detect_indep_ORFs(tblastn_res_path, orfs_descr, fam_fna):\n",
    "    tblastn_res = read_blast_out(tblastn_res_path)\n",
    "    for orf in orfs_descr:\n",
    "        for orf_hom in tblastn_res[orf[\"ORF_id\"]]:\n",
    "            orf_hom_seq = None\n",
    "            orf_hom_seq = seq_from_fasta(fam_fna[orf_hom[\"subj_id\"]], orf_hom[\"subj_id\"], get_ori(orf_hom[\"subj_start\"], orf_hom[\"subj_end\"]), orf_hom[\"subj_start\"], orf_hom[\"subj_end\"])\n",
    "            orf[\"ovORFs\"] = define_indep_orf(orf_hom_seq, orf[\"ovORFs\"])\n",
    "    return orfs_descr\n",
    "\n",
    "\n",
    "def read_blast_out(blast_out_path, ev_thr=0.000001, aln_l_thr=180, ident_thr=0.35):\n",
    "    # reads bloust outfmt 6 or 7\n",
    "    blast_res_dict = defaultdict(list)\n",
    "    blast_out_f = open(blast_out_path)\n",
    "    for line_ in blast_out_f:\n",
    "        orf_id = None\n",
    "        line = None\n",
    "        line = line_.strip()\n",
    "        if not line:\n",
    "            continue\n",
    "        if line[0] == \"#\":\n",
    "            continue\n",
    "        line_list = line.split(\"\\t\")\n",
    "        ev = float(line_list[10].strip())\n",
    "        aln_l = abs(int(line_list[9].strip())-int(line_list[8].strip())+1)\n",
    "        ident = float(line_list[2].strip())/100.0\n",
    "        if ev <= ev_thr and aln_l >= aln_l_thr and ident >= ident_thr:\n",
    "            blast_res_dict[line_list[0].strip()].append({\n",
    "                \"subj_id\": line_list[1].strip(),\n",
    "                \"identity\": ident,\n",
    "                \"aln_l\": aln_l,\n",
    "                \"evalue\": ev,\n",
    "                \"subj_start\": int(line_list[8].strip()),\n",
    "                \"subj_end\": int(line_list[9].strip()),\n",
    "            })\n",
    "    return blast_res_dict\n",
    "\n",
    "\n",
    "def get_ori(c1, c2):\n",
    "    try:\n",
    "        if int(c1) <= int(c2):\n",
    "            return +1\n",
    "        else:\n",
    "            return -1\n",
    "    except ValueError:\n",
    "        raise ValueError(\"Coordinates are not numbers: (%s, %s)\" % (str(c1), str(c2)))\n",
    "\n",
    "        \n",
    "def define_indep_orf(orf_hom_seq, orf_ovorfs, orf_l_thr=180):\n",
    "    if orf_ovorfs[\"+2\"]:\n",
    "        orf_ovorfs[\"+2\"][\"found_without\"] = not is_orf(orf_hom_seq[1:-3], orf_l_thr)\n",
    "    if orf_ovorfs[\"+3\"]:\n",
    "        orf_ovorfs[\"+3\"][\"found_without\"] = not is_orf(orf_hom_seq[2:-2], orf_l_thr)\n",
    "    if orf_ovorfs[\"-1\"]:    \n",
    "        orf_ovorfs[\"-1\"][\"found_without\"] = not is_orf(str(Seq(orf_hom_seq).reverse_complement()), orf_l_thr)\n",
    "    if orf_ovorfs[\"-2\"]:\n",
    "        orf_ovorfs[\"-2\"][\"found_without\"] = not is_orf(str(Seq(orf_hom_seq[2:-2]).reverse_complement()), orf_l_thr)\n",
    "    if orf_ovorfs[\"-3\"]:\n",
    "        orf_ovorfs[\"-3\"][\"found_without\"] = not is_orf(str(Seq(orf_hom_seq[1:-3]).reverse_complement()), orf_l_thr)\n",
    "    return orf_ovorfs\n",
    "\n",
    "\n",
    "def is_orf(seq, orf_l_thr):\n",
    "    stop_codons = (\"tga\", \"taa\", \"tag\")\n",
    "    l = 0\n",
    "    n = 0\n",
    "    while n < len(seq):\n",
    "        if seq.lower()[n: n+3] in stop_codons:\n",
    "            l = 0\n",
    "            n += 3\n",
    "            continue\n",
    "        l += 3\n",
    "        if l >= orf_l_thr:\n",
    "            return True\n",
    "        n += 3\n",
    "    return False\n",
    "    \n",
    "    \n",
    "detect_indep_ORFs(tblastn_res_tab_path, orfs_descr, fam_fna)"
   ]
  },
  {
   "cell_type": "code",
   "execution_count": 10,
   "metadata": {},
   "outputs": [
    {
     "data": {
      "text/plain": [
       "False"
      ]
     },
     "execution_count": 10,
     "metadata": {},
     "output_type": "execute_result"
    }
   ],
   "source": [
    "not True"
   ]
  }
 ],
 "metadata": {
  "kernelspec": {
   "display_name": "Python 2",
   "language": "python",
   "name": "python2"
  },
  "language_info": {
   "codemirror_mode": {
    "name": "ipython",
    "version": 2
   },
   "file_extension": ".py",
   "mimetype": "text/x-python",
   "name": "python",
   "nbconvert_exporter": "python",
   "pygments_lexer": "ipython2",
   "version": "2.7.12"
  }
 },
 "nbformat": 4,
 "nbformat_minor": 2
}
