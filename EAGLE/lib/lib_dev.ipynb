{
 "cells": [
  {
   "cell_type": "markdown",
   "metadata": {},
   "source": [
    "# Notebook for EAGLE.lib modules development\n",
    "This notebook should be run from test environvent (not development)"
   ]
  },
  {
   "cell_type": "code",
   "execution_count": 3,
   "metadata": {},
   "outputs": [],
   "source": [
    "# imports\n",
    "import numpy\n",
    "import scipy\n",
    "\n",
    "from EAGLE.lib.seqs import load_fasta_to_dict"
   ]
  },
  {
   "cell_type": "markdown",
   "metadata": {},
   "source": [
    "## Conservative columns irregularity"
   ]
  },
  {
   "cell_type": "code",
   "execution_count": null,
   "metadata": {
    "collapsed": true
   },
   "outputs": [],
   "source": [
    "def estimate_irregularity(mult_aln_dict, cons_thr=0.7, window_l=50, windows_step=25):  # This function will be the MultAln classmethod\n",
    "    # mult_aln_dict will be replaced with self.mult_aln_dict\n",
    "    windows_list = list()\n",
    "    i = 0\n",
    "    while i < (len(mult_aln_dict[mult_aln_dict.keys()[0]])):\n",
    "        windows_list.append(mult_aln_dict[i: i+window_l])#This does not work - it is only the idea\n",
    "        i += windows_step\n",
    "    cons_cols_by_windows = numpy.array(map(, windows_list))\n",
    "    return scipy.chisquere"
   ]
  }
 ],
 "metadata": {
  "kernelspec": {
   "display_name": "Python 2",
   "language": "python",
   "name": "python2"
  }
 },
 "nbformat": 4,
 "nbformat_minor": 2
}
