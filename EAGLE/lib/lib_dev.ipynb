{
 "cells": [
  {
   "cell_type": "markdown",
   "metadata": {},
   "source": [
    "# Notebook for EAGLE.lib modules development\n",
    "This notebook should be run from test environvent (not development)"
   ]
  },
  {
   "cell_type": "code",
   "execution_count": 1,
   "metadata": {},
   "outputs": [],
   "source": [
    "# imports\n",
    "import os\n",
    "from collections import defaultdict\n",
    "\n",
    "import numpy\n",
    "import pandas\n",
    "from scipy.stats import chisquare\n",
    "\n",
    "from EAGLE.lib.seqs import load_fasta_to_dict\n",
    "from EAGLE.lib.alignment import MultAln"
   ]
  },
  {
   "cell_type": "markdown",
   "metadata": {},
   "source": [
    "## Conservative columns uniformity"
   ]
  },
  {
   "cell_type": "code",
   "execution_count": 56,
   "metadata": {},
   "outputs": [],
   "source": [
    "# constants\n",
    "CONS_THR = 1.0\n",
    "\n",
    "# input\n",
    "workdir = \"/media/denis/Data/Data/Bioinf/Projects/Reverse_ORFs/alignments/DnaK/\"\n",
    "dnaK_AORFs_aln_fasta = os.path.join(workdir, \"dnaK_AORFs_aln.fasta\")\n",
    "PF00208_aln_fasta = os.path.join(workdir, \"PF00208_seed_aln.fasta\")\n",
    "PF05088_aln_fasta = os.path.join(workdir, \"PF05088_seed_aln.fasta\")"
   ]
  },
  {
   "cell_type": "code",
   "execution_count": 57,
   "metadata": {
    "scrolled": true
   },
   "outputs": [
    {
     "name": "stdout",
     "output_type": "stream",
     "text": [
      "(array([0, 0, 0, 0, 0, 0, 0, 0, 0, 0, 0, 0, 0, 0, 0, 0, 0, 0, 0, 0, 0, 0,\n",
      "       0, 0, 0, 0, 0, 0, 0, 0, 0, 0, 0, 0, 0, 0, 0, 0, 0, 0, 0, 0, 0, 0,\n",
      "       0, 0, 0, 0, 0, 0, 0, 0, 0, 0, 0, 0, 0, 0, 1, 1, 1, 1, 1, 1, 0, 0,\n",
      "       0, 0, 0, 0, 0, 0, 0, 0, 1, 1, 0, 0, 0, 0, 0, 0, 0, 0, 0, 0, 0, 0,\n",
      "       0, 0, 0, 0, 0, 0, 0, 0, 0, 0, 1, 1, 0, 0, 0, 0, 0, 0, 0, 0, 0, 0,\n",
      "       0, 0, 0, 0, 0, 0, 0, 0, 0, 1, 1, 0, 0, 1, 1, 0, 0, 0, 0, 0, 0, 0,\n",
      "       0, 0, 0, 0, 0, 0, 0, 0, 0, 0, 0, 1, 1, 0, 0, 0, 0, 0, 0, 0, 0, 0,\n",
      "       0, 0, 0, 0, 0, 0, 0, 0, 0, 0, 0, 0, 0, 0, 0, 0, 0, 0]), 0.09302325581395349)\n",
      "Power_divergenceResult(statistic=156.0, pvalue=0.7880827853544203)\n",
      "(array([2, 0, 0, 0, 0, 0, 0, 1, 2, 1, 0, 0, 0, 0, 0, 0, 0, 0, 0, 0, 0, 0,\n",
      "       0, 0, 0, 0, 0, 0, 0, 0, 0, 0, 0, 0, 0, 0, 0, 0, 0, 0, 0, 0, 0, 2,\n",
      "       2, 0, 0, 0, 0, 0, 0, 1, 1, 0, 0, 0, 0, 0, 0, 0, 0, 0, 0, 0, 0, 0,\n",
      "       0, 0, 0, 0, 0]), 0.16901408450704225)\n",
      "Power_divergenceResult(statistic=106.33333333333329, pvalue=0.0033364225866355087)\n",
      "(array([0, 0, 0, 0, 0, 0, 0, 0, 0, 0, 0, 0, 0, 0, 0, 0, 0, 0, 0, 0, 0, 0,\n",
      "       0, 0, 0, 0, 0, 0, 0, 0, 0, 0, 0, 0, 0, 0, 0, 0, 0, 0, 0, 0, 0, 0,\n",
      "       0, 0, 0, 0, 0, 0, 0, 0, 0, 1, 1, 0, 0, 0, 0, 0, 0, 0, 0, 0, 0, 0,\n",
      "       0, 0, 0, 0, 0, 0, 0, 1, 1, 0, 1, 1, 0, 0, 0, 0, 0, 0, 0, 0, 0, 0,\n",
      "       0, 0, 0, 0, 0, 0, 0, 0, 0, 0, 0, 0, 0, 0, 0, 0, 0, 0, 0, 0, 0, 0,\n",
      "       0, 0, 0, 0, 0, 0, 0, 0, 0, 0, 0, 0, 0, 0, 0, 0, 0, 0, 0, 0, 0, 0,\n",
      "       0, 0, 0, 0, 0, 0, 0, 0, 0, 0, 0, 0, 0, 0, 0, 0, 0, 0, 0, 0, 1, 1,\n",
      "       0, 0, 0, 1, 1, 0, 0, 0, 0, 0, 0, 0, 0, 0, 0, 0, 0, 0, 0, 0, 0, 0,\n",
      "       0, 0, 0, 0, 0, 0, 1, 1, 0, 0, 0, 0, 0, 1, 1, 1, 2, 1, 0, 2, 3, 4,\n",
      "       5, 5, 5, 4, 5, 5, 6, 4, 0, 0, 0, 0, 1, 2, 2, 1, 0, 0, 1, 2, 4, 8,\n",
      "       8, 5, 2, 1, 5, 7, 6, 6, 5, 2, 0, 0, 0, 1, 4, 7, 4, 0, 2, 2, 3, 3,\n",
      "       1, 2, 2, 1, 0, 0, 1, 1, 0, 0, 0, 0, 0, 0, 0, 3, 3, 0, 1, 1, 1, 1,\n",
      "       2, 4, 4, 2, 0, 0, 0, 1, 4, 6, 5, 3, 1, 0, 0, 1, 1, 0, 0, 0, 0, 0,\n",
      "       0, 0, 0, 0, 0, 1, 1, 0, 0, 0, 0, 0, 0, 0, 0, 0, 0, 0, 1, 1, 0, 1,\n",
      "       2, 1, 1, 2, 1, 0, 0, 0, 0, 0, 0, 0, 0, 0, 0, 0, 0, 0, 0, 0, 0, 0,\n",
      "       0, 0, 0, 0, 0, 0, 0, 0, 0, 0, 0, 0, 0, 0, 0, 0, 0, 0, 0, 0, 0, 0,\n",
      "       0, 0, 0, 0, 0, 0, 0, 0, 0, 0, 0, 0, 0, 0, 0, 0, 0, 0, 0, 0, 0, 0,\n",
      "       0, 0, 0, 0, 0, 0, 0, 0, 0, 0, 0, 0, 0]), 0.5788113695090439)\n",
      "Power_divergenceResult(statistic=1320.5446428571431, pvalue=1.7093471117856797e-102)\n"
     ]
    }
   ],
   "source": [
    "dnaK_AORFs_aln = MultAln.load_alignment(dnaK_AORFs_aln_fasta).rarefy()\n",
    "PF00208_aln = MultAln.load_alignment(PF00208_aln_fasta)\n",
    "PF05088_aln = MultAln.load_alignment(PF05088_aln_fasta)\n",
    "\n",
    "print(dnaK_AORFs_aln.estimate_uniformity(cons_thr=CONS_THR, window_l=10, windows_step=5))  \n",
    "print(PF00208_aln.estimate_uniformity(cons_thr=CONS_THR, window_l=10, windows_step=5)) \n",
    "print(PF05088_aln.estimate_uniformity(cons_thr=CONS_THR, window_l=10, windows_step=5))  "
   ]
  },
  {
   "cell_type": "code",
   "execution_count": 58,
   "metadata": {},
   "outputs": [
    {
     "name": "stdout",
     "output_type": "stream",
     "text": [
      "(array([0, 0, 0, 0, 0, 0, 0, 0, 0, 0, 0, 0, 0, 0, 0, 0, 0, 0, 0, 0, 0, 0,\n",
      "       0, 0, 0, 0, 0, 0, 0, 0, 0, 0, 0, 0, 0, 0, 0, 0, 0, 0, 0, 0, 0, 0,\n",
      "       0, 0, 0, 0, 0, 0, 0, 0, 0, 0, 0, 0, 0, 0, 0, 1, 1, 1, 1, 0, 0, 0,\n",
      "       0, 0, 0, 0, 0, 0, 0, 1, 1, 0, 0, 0, 0, 0, 0, 0, 0, 0, 0, 0, 0, 0,\n",
      "       0, 0, 0, 0, 0, 0, 0, 0, 0, 1, 1, 0, 0, 0, 0, 0, 0, 0, 0, 0, 0, 0,\n",
      "       0, 0, 0, 0, 0, 0, 0, 0, 0, 0, 0, 0, 1, 1, 0, 0, 0, 0, 0, 0, 0, 0,\n",
      "       0, 0, 0, 0, 0, 0, 0, 0, 0, 0, 0, 0, 0, 0, 0, 0, 0, 0, 0, 0, 0, 0,\n",
      "       0, 0, 0, 0, 0, 0, 0, 0, 0, 0, 0, 0, 0, 0, 0, 0, 0]), 0.05847953216374269)\n",
      "Power_divergenceResult(statistic=161.00000000000003, pvalue=0.6774772533033233)\n",
      "(array([1, 0, 0, 0, 0, 0, 0, 2, 2, 0, 0, 0, 0, 0, 0, 0, 0, 0, 0, 0, 0, 0,\n",
      "       0, 0, 0, 0, 0, 0, 0, 0, 0, 0, 0, 0, 0, 0, 0, 0, 0, 0, 0, 0, 0, 2,\n",
      "       2, 0, 0, 0, 0, 0, 0, 1, 1, 0, 0, 0, 0, 0, 0, 0, 0, 0, 0, 0, 0, 0,\n",
      "       0, 0, 0, 0, 0]), 0.15492957746478872)\n",
      "Power_divergenceResult(statistic=111.6363636363636, pvalue=0.0011520096622918072)\n",
      "(array([0, 0, 0, 0, 0, 0, 0, 0, 0, 0, 0, 0, 0, 0, 0, 0, 0, 0, 0, 0, 0, 0,\n",
      "       0, 0, 0, 0, 0, 0, 0, 0, 0, 0, 0, 0, 0, 0, 0, 0, 0, 0, 0, 0, 0, 0,\n",
      "       0, 0, 0, 0, 0, 0, 0, 0, 0, 1, 1, 0, 0, 0, 0, 0, 0, 0, 0, 0, 0, 0,\n",
      "       0, 0, 0, 0, 0, 0, 1, 1, 0, 1, 1, 0, 0, 0, 0, 0, 0, 0, 0, 0, 0, 0,\n",
      "       0, 0, 0, 0, 0, 0, 0, 0, 0, 0, 0, 0, 0, 0, 0, 0, 0, 0, 0, 0, 0, 0,\n",
      "       0, 0, 0, 0, 0, 0, 0, 0, 0, 0, 0, 0, 0, 0, 0, 0, 0, 0, 0, 0, 0, 0,\n",
      "       0, 0, 0, 0, 0, 0, 0, 0, 0, 0, 0, 0, 0, 0, 0, 0, 0, 0, 0, 1, 1, 0,\n",
      "       0, 0, 0, 1, 1, 0, 0, 0, 0, 0, 0, 0, 0, 0, 0, 0, 0, 0, 0, 0, 0, 0,\n",
      "       0, 0, 0, 0, 0, 0, 1, 1, 0, 0, 0, 0, 0, 1, 1, 1, 2, 1, 0, 2, 4, 5,\n",
      "       5, 4, 5, 5, 4, 5, 6, 3, 0, 0, 0, 1, 1, 1, 2, 1, 0, 0, 1, 3, 5, 8,\n",
      "       7, 4, 2, 2, 6, 6, 5, 6, 5, 2, 0, 0, 0, 2, 5, 6, 3, 0, 2, 3, 3, 2,\n",
      "       2, 2, 1, 1, 0, 0, 1, 1, 0, 0, 0, 0, 0, 0, 0, 3, 3, 0, 1, 2, 1, 0,\n",
      "       2, 4, 4, 2, 0, 0, 0, 2, 5, 5, 5, 3, 0, 0, 1, 1, 0, 0, 0, 0, 0, 0,\n",
      "       0, 0, 0, 0, 0, 1, 1, 0, 0, 0, 0, 0, 0, 0, 0, 0, 0, 1, 1, 0, 0, 2,\n",
      "       2, 0, 1, 2, 1, 0, 0, 0, 0, 0, 0, 0, 0, 0, 0, 0, 0, 0, 0, 0, 0, 0,\n",
      "       0, 0, 0, 0, 0, 0, 0, 0, 0, 0, 0, 0, 0, 0, 0, 0, 0, 0, 0, 0, 0, 0,\n",
      "       0, 0, 0, 0, 0, 0, 0, 0, 0, 0, 0, 0, 0, 0, 0, 0, 0, 0, 0, 0, 0, 0,\n",
      "       0, 0, 0, 0, 0, 0, 0, 0, 0, 0, 0, 0, 0]), 0.5788113695090439)\n",
      "Power_divergenceResult(statistic=1275.6250000000005, pvalue=1.2808890086709018e-95)\n"
     ]
    }
   ],
   "source": [
    "dnaK_AORFs_aln = MultAln.load_alignment(dnaK_AORFs_aln_fasta).rarefy()\n",
    "PF00208_aln = MultAln.load_alignment(PF00208_aln_fasta)\n",
    "PF05088_aln = MultAln.load_alignment(PF05088_aln_fasta)\n",
    "\n",
    "print(dnaK_AORFs_aln.improve_aln().estimate_uniformity(cons_thr=CONS_THR, window_l=10, windows_step=5))\n",
    "print(PF00208_aln.improve_aln().estimate_uniformity(cons_thr=CONS_THR, window_l=10, windows_step=5))\n",
    "print(PF05088_aln.improve_aln().estimate_uniformity(cons_thr=CONS_THR, window_l=10, windows_step=5))"
   ]
  },
  {
   "cell_type": "code",
   "execution_count": 112,
   "metadata": {
    "scrolled": false
   },
   "outputs": [
    {
     "name": "stdout",
     "output_type": "stream",
     "text": [
      "Number of sequences: 100; alignment length 859\n",
      "Number of sequences: 97; alignment length 353\n",
      "Number of sequences: 113; alignment length 1934\n"
     ]
    }
   ],
   "source": [
    "print(\"Number of sequences: %s; alignment length %s\" % (len(dnaK_AORFs_aln_dict), len(dnaK_AORFs_aln_dict[dnaK_AORFs_aln_dict.keys()[0]])))\n",
    "print(\"Number of sequences: %s; alignment length %s\" % (len(PF00208_aln_dict), len(PF00208_aln_dict[PF00208_aln_dict.keys()[0]])))\n",
    "print(\"Number of sequences: %s; alignment length %s\" % (len(PF05088_aln_dict), len(PF05088_aln_dict[PF05088_aln_dict.keys()[0]])))"
   ]
  },
  {
   "cell_type": "code",
   "execution_count": 59,
   "metadata": {
    "scrolled": true
   },
   "outputs": [
    {
     "data": {
      "text/html": [
       "<div>\n",
       "<style scoped>\n",
       "    .dataframe tbody tr th:only-of-type {\n",
       "        vertical-align: middle;\n",
       "    }\n",
       "\n",
       "    .dataframe tbody tr th {\n",
       "        vertical-align: top;\n",
       "    }\n",
       "\n",
       "    .dataframe thead th {\n",
       "        text-align: right;\n",
       "    }\n",
       "</style>\n",
       "<table border=\"1\" class=\"dataframe\">\n",
       "  <thead>\n",
       "    <tr style=\"text-align: right;\">\n",
       "      <th></th>\n",
       "      <th>PF00208_P</th>\n",
       "      <th>PF05088_P</th>\n",
       "      <th>cons</th>\n",
       "      <th>dnaK_AORFs_P</th>\n",
       "    </tr>\n",
       "  </thead>\n",
       "  <tbody>\n",
       "    <tr>\n",
       "      <th>0</th>\n",
       "      <td>0.000019</td>\n",
       "      <td>0</td>\n",
       "      <td>80%</td>\n",
       "      <td>3.300000e-12</td>\n",
       "    </tr>\n",
       "    <tr>\n",
       "      <th>1</th>\n",
       "      <td>0.000045</td>\n",
       "      <td>0</td>\n",
       "      <td>90%</td>\n",
       "      <td>1.900000e-04</td>\n",
       "    </tr>\n",
       "    <tr>\n",
       "      <th>2</th>\n",
       "      <td>0.000036</td>\n",
       "      <td>0</td>\n",
       "      <td>95%</td>\n",
       "      <td>7.070000e-03</td>\n",
       "    </tr>\n",
       "    <tr>\n",
       "      <th>3</th>\n",
       "      <td>0.000083</td>\n",
       "      <td>0</td>\n",
       "      <td>98%</td>\n",
       "      <td>5.268000e-01</td>\n",
       "    </tr>\n",
       "    <tr>\n",
       "      <th>4</th>\n",
       "      <td>0.001150</td>\n",
       "      <td>0</td>\n",
       "      <td>100%</td>\n",
       "      <td>6.774800e-01</td>\n",
       "    </tr>\n",
       "  </tbody>\n",
       "</table>\n",
       "</div>"
      ],
      "text/plain": [
       "   PF00208_P  PF05088_P  cons  dnaK_AORFs_P\n",
       "0   0.000019          0   80%  3.300000e-12\n",
       "1   0.000045          0   90%  1.900000e-04\n",
       "2   0.000036          0   95%  7.070000e-03\n",
       "3   0.000083          0   98%  5.268000e-01\n",
       "4   0.001150          0  100%  6.774800e-01"
      ]
     },
     "execution_count": 59,
     "metadata": {},
     "output_type": "execute_result"
    }
   ],
   "source": [
    "res = [\n",
    "    {\"cons\": \"80%\", \"dnaK_AORFs_P\": 3.3e-12, \"PF00208_P\": 1.86e-05, \"PF05088_P\": 0},  # 8.94e-71\n",
    "    {\"cons\": \"90%\", \"dnaK_AORFs_P\": 0.00019, \"PF00208_P\": 4.54e-05, \"PF05088_P\": 0},  # 3.4e-94\n",
    "    {\"cons\": \"95%\", \"dnaK_AORFs_P\": 0.00707, \"PF00208_P\": 3.64e-05, \"PF05088_P\": 0},  # 9.01e-104\n",
    "    {\"cons\": \"98%\", \"dnaK_AORFs_P\": 0.5268, \"PF00208_P\": 8.33e-05, \"PF05088_P\": 0},  # 5.32e-102\n",
    "    {\"cons\": \"100%\", \"dnaK_AORFs_P\": 0.67748, \"PF00208_P\": 0.00115, \"PF05088_P\": 0},  # 1.28e-95\n",
    "]\n",
    "pandas.DataFrame(res)"
   ]
  },
  {
   "cell_type": "code",
   "execution_count": 5,
   "metadata": {},
   "outputs": [
    {
     "data": {
      "text/plain": [
       "\"Hello! I'm a test file\\n\""
      ]
     },
     "execution_count": 5,
     "metadata": {},
     "output_type": "execute_result"
    }
   ],
   "source": [
    "f = open(\"../tests/test_data/lib/f1.txt\")\n",
    "f.readline()"
   ]
  },
  {
   "cell_type": "code",
   "execution_count": 19,
   "metadata": {},
   "outputs": [
    {
     "data": {
      "text/plain": [
       "''"
      ]
     },
     "execution_count": 19,
     "metadata": {},
     "output_type": "execute_result"
    }
   ],
   "source": [
    "f."
   ]
  }
 ],
 "metadata": {
  "kernelspec": {
   "display_name": "Python 2",
   "language": "python",
   "name": "python2"
  },
  "language_info": {
   "codemirror_mode": {
    "name": "ipython",
    "version": 2
   },
   "file_extension": ".py",
   "mimetype": "text/x-python",
   "name": "python",
   "nbconvert_exporter": "python",
   "pygments_lexer": "ipython2",
   "version": "2.7.12"
  }
 },
 "nbformat": 4,
 "nbformat_minor": 2
}
