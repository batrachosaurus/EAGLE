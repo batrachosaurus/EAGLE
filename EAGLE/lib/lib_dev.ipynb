{
 "cells": [
  {
   "cell_type": "markdown",
   "metadata": {},
   "source": [
    "# Notebook for EAGLE.lib modules development\n",
    "This notebook should be run from test environvent (not development)"
   ]
  },
  {
   "cell_type": "code",
   "execution_count": 28,
   "metadata": {},
   "outputs": [],
   "source": [
    "# imports\n",
    "import os\n",
    "import io\n",
    "from collections import defaultdict\n",
    "\n",
    "import numpy\n",
    "import pandas\n",
    "from scipy.stats import chisquare\n",
    "from Bio import Phylo\n",
    "\n",
    "from EAGLE.lib.seqs import load_fasta_to_dict\n",
    "from EAGLE.lib.alignment import MultAln"
   ]
  },
  {
   "cell_type": "markdown",
   "metadata": {},
   "source": [
    "## Conservative columns uniformity"
   ]
  },
  {
   "cell_type": "code",
   "execution_count": 2,
   "metadata": {},
   "outputs": [],
   "source": [
    "# constants\n",
    "CONS_THR = 1.0\n",
    "\n",
    "# input\n",
    "workdir = \"/media/denis/Data/Data/Bioinf/Projects/Reverse_ORFs/alignments/DnaK/\"\n",
    "dnaK_AORFs_aln_fasta = os.path.join(workdir, \"dnaK_AORFs_aln.fasta\")\n",
    "PF00208_aln_fasta = os.path.join(workdir, \"PF00208_seed_aln.fasta\")\n",
    "PF05088_aln_fasta = os.path.join(workdir, \"PF05088_seed_aln.fasta\")"
   ]
  },
  {
   "cell_type": "code",
   "execution_count": 3,
   "metadata": {
    "scrolled": true
   },
   "outputs": [
    {
     "name": "stdout",
     "output_type": "stream",
     "text": [
      "0.6769742940888603\n",
      "0.0033364225866355087\n",
      "1.7093471117856797e-102\n"
     ]
    }
   ],
   "source": [
    "dnaK_AORFs_aln = MultAln.load_alignment(dnaK_AORFs_aln_fasta).rarefy(seqs_to_remain=100)\n",
    "PF00208_aln = MultAln.load_alignment(PF00208_aln_fasta)\n",
    "PF05088_aln = MultAln.load_alignment(PF05088_aln_fasta)\n",
    "\n",
    "print(dnaK_AORFs_aln.estimate_uniformity(cons_thr=CONS_THR, window_l=10, windows_step=5))  \n",
    "print(PF00208_aln.estimate_uniformity(cons_thr=CONS_THR, window_l=10, windows_step=5)) \n",
    "print(PF05088_aln.estimate_uniformity(cons_thr=CONS_THR, window_l=10, windows_step=5))  "
   ]
  },
  {
   "cell_type": "code",
   "execution_count": 4,
   "metadata": {},
   "outputs": [
    {
     "name": "stdout",
     "output_type": "stream",
     "text": [
      "0.788807249484195\n",
      "0.0011520096622918072\n",
      "1.2808890086709018e-95\n"
     ]
    }
   ],
   "source": [
    "dnaK_AORFs_aln = MultAln.load_alignment(dnaK_AORFs_aln_fasta).rarefy(seqs_to_remain=100)\n",
    "PF00208_aln = MultAln.load_alignment(PF00208_aln_fasta)\n",
    "PF05088_aln = MultAln.load_alignment(PF05088_aln_fasta)\n",
    "\n",
    "print(dnaK_AORFs_aln.improve_aln().estimate_uniformity(cons_thr=CONS_THR, \n",
    "                                                       window_l=10, \n",
    "                                                       windows_step=5))\n",
    "print(PF00208_aln.improve_aln().estimate_uniformity(cons_thr=CONS_THR, \n",
    "                                                    window_l=10, \n",
    "                                                    windows_step=5))\n",
    "print(PF05088_aln.improve_aln().estimate_uniformity(cons_thr=CONS_THR, \n",
    "                                                    window_l=10, \n",
    "                                                    windows_step=5))"
   ]
  },
  {
   "cell_type": "code",
   "execution_count": 6,
   "metadata": {
    "scrolled": false
   },
   "outputs": [
    {
     "name": "stdout",
     "output_type": "stream",
     "text": [
      "Number of sequences: 100; alignment length 859\n",
      "Number of sequences: 97; alignment length 353\n",
      "Number of sequences: 113; alignment length 1934\n"
     ]
    }
   ],
   "source": [
    "print(\"Number of sequences: %s; alignment length %s\" % (dnaK_AORFs_aln.num_seqs, \n",
    "                                                        dnaK_AORFs_aln.length))\n",
    "print(\"Number of sequences: %s; alignment length %s\" % (PF00208_aln.num_seqs, \n",
    "                                                        PF00208_aln.length))\n",
    "print(\"Number of sequences: %s; alignment length %s\" % (PF05088_aln.num_seqs, \n",
    "                                                        PF05088_aln.length))"
   ]
  },
  {
   "cell_type": "code",
   "execution_count": 59,
   "metadata": {
    "scrolled": true
   },
   "outputs": [
    {
     "data": {
      "text/html": [
       "<div>\n",
       "<style scoped>\n",
       "    .dataframe tbody tr th:only-of-type {\n",
       "        vertical-align: middle;\n",
       "    }\n",
       "\n",
       "    .dataframe tbody tr th {\n",
       "        vertical-align: top;\n",
       "    }\n",
       "\n",
       "    .dataframe thead th {\n",
       "        text-align: right;\n",
       "    }\n",
       "</style>\n",
       "<table border=\"1\" class=\"dataframe\">\n",
       "  <thead>\n",
       "    <tr style=\"text-align: right;\">\n",
       "      <th></th>\n",
       "      <th>PF00208_P</th>\n",
       "      <th>PF05088_P</th>\n",
       "      <th>cons</th>\n",
       "      <th>dnaK_AORFs_P</th>\n",
       "    </tr>\n",
       "  </thead>\n",
       "  <tbody>\n",
       "    <tr>\n",
       "      <th>0</th>\n",
       "      <td>0.000019</td>\n",
       "      <td>0</td>\n",
       "      <td>80%</td>\n",
       "      <td>3.300000e-12</td>\n",
       "    </tr>\n",
       "    <tr>\n",
       "      <th>1</th>\n",
       "      <td>0.000045</td>\n",
       "      <td>0</td>\n",
       "      <td>90%</td>\n",
       "      <td>1.900000e-04</td>\n",
       "    </tr>\n",
       "    <tr>\n",
       "      <th>2</th>\n",
       "      <td>0.000036</td>\n",
       "      <td>0</td>\n",
       "      <td>95%</td>\n",
       "      <td>7.070000e-03</td>\n",
       "    </tr>\n",
       "    <tr>\n",
       "      <th>3</th>\n",
       "      <td>0.000083</td>\n",
       "      <td>0</td>\n",
       "      <td>98%</td>\n",
       "      <td>5.268000e-01</td>\n",
       "    </tr>\n",
       "    <tr>\n",
       "      <th>4</th>\n",
       "      <td>0.001150</td>\n",
       "      <td>0</td>\n",
       "      <td>100%</td>\n",
       "      <td>6.774800e-01</td>\n",
       "    </tr>\n",
       "  </tbody>\n",
       "</table>\n",
       "</div>"
      ],
      "text/plain": [
       "   PF00208_P  PF05088_P  cons  dnaK_AORFs_P\n",
       "0   0.000019          0   80%  3.300000e-12\n",
       "1   0.000045          0   90%  1.900000e-04\n",
       "2   0.000036          0   95%  7.070000e-03\n",
       "3   0.000083          0   98%  5.268000e-01\n",
       "4   0.001150          0  100%  6.774800e-01"
      ]
     },
     "execution_count": 59,
     "metadata": {},
     "output_type": "execute_result"
    }
   ],
   "source": [
    "res = [\n",
    "    {\"cons\": \"80%\", \"dnaK_AORFs_P\": 3.3e-12, \"PF00208_P\": 1.86e-05, \"PF05088_P\": 0},  # 8.94e-71\n",
    "    {\"cons\": \"90%\", \"dnaK_AORFs_P\": 0.00019, \"PF00208_P\": 4.54e-05, \"PF05088_P\": 0},  # 3.4e-94\n",
    "    {\"cons\": \"95%\", \"dnaK_AORFs_P\": 0.00707, \"PF00208_P\": 3.64e-05, \"PF05088_P\": 0},  # 9.01e-104\n",
    "    {\"cons\": \"98%\", \"dnaK_AORFs_P\": 0.5268, \"PF00208_P\": 8.33e-05, \"PF05088_P\": 0},  # 5.32e-102\n",
    "    {\"cons\": \"100%\", \"dnaK_AORFs_P\": 0.67748, \"PF00208_P\": 0.00115, \"PF05088_P\": 0},  # 1.28e-95\n",
    "]\n",
    "pandas.DataFrame(res)"
   ]
  },
  {
   "cell_type": "code",
   "execution_count": 38,
   "metadata": {},
   "outputs": [],
   "source": [
    "entero_data = {\n",
    "    \"Enterobacteriaceae\": {\n",
    "        \"chr_id\": {\n",
    "            \"NC_022534.1\": [\"Plautia\", \"Plautia_stali\", \"Plautia_stali_symbiont\"], \n",
    "            \"NC_022546.1\": [\"Plautia\", \"Plautia_stali\", \"Plautia_stali_symbiont\"], \n",
    "            \"NZ_CP011049.1\": [\"Cronobacter\", \"Cronobacter_sakazakii\", \"Cronobacter_sakazakii\"], \n",
    "            \"NZ_CP011048.1\": [\"Cronobacter\", \"Cronobacter_sakazakii\", \"Cronobacter_sakazakii\"], \n",
    "            \"NZ_CP019445.1\": [\"Kosakonia\", \"Kosakonia_cowanii\", \"Kosakonia_cowanii\"], \n",
    "            \"NZ_CP011047.1\": [\"Cronobacter\", \"Cronobacter_sakazakii\", \"Cronobacter_sakazakii\"], \n",
    "            \"NZ_CP011050.1\": [\"Cronobacter\", \"Cronobacter_sakazakii\", \"Cronobacter_sakazakii\"], \n",
    "            \"NZ_CP019446.1\": [\"Kosakonia\", \"Kosakonia_cowanii\", \"Kosakonia_cowanii\"], \n",
    "            \"NZ_CP009451.1\": [\"Cedecea\", \"Cedecea_neteri\", \"Cedecea_neteri\"], \n",
    "            \"LT594522.1\": [\"secondary\", \"secondary_endosymbiont\", \"secondary_endosymbiont_of_Trabutina_mannipara\"], \n",
    "            \"NC_022533.1\": [\"Plautia\", \"Plautia_stali\", \"Plautia_stali_symbiont\"], \n",
    "            \"CP009450.1\": [\"Pluralibacter\", \"Pluralibacter_gergoviae\", \"Pluralibacter_gergoviae\"], \n",
    "            \"NZ_CP019447.1\": [\"Kosakonia\", \"Kosakonia_cowanii\", \"Kosakonia_cowanii\"], \n",
    "            \"NC_017910.1\": [\"Shimwellia\", \"Shimwellia_blattae\", \"Shimwellia_blattae_DSM_4481_=_NBRC_105725\"], \n",
    "            \"CP007215.3\": [\"Kosakonia\", \"Kosakonia_sacchari\", \"Kosakonia_sacchari_SP1\"]\n",
    "        }, \n",
    "        \"Plautia\": {\n",
    "            \"Plautia_stali\": {\n",
    "                \"Plautia_stali_symbiont\": {\n",
    "                    \"16S_rRNA_file\": \"EAGLEdb/bacteria/Plautia_stali_symbiont_16S_rRNA.fasta\", \n",
    "                    \"fna_file\": \"EAGLEdb/bacteria/GCF_000180175.2_ASM18017v2_genomic.fna\", \n",
    "                    \"download_prefix\": \"ftp://ftp.ncbi.nlm.nih.gov/genomes/all/GCF/000/180/175/GCF_000180175.2_ASM18017v2/GCF_000180175.2_ASM18017v2\", \n",
    "                    \"source_db\": \"refseq\", \n",
    "                    \"repr\": True\n",
    "                }\n",
    "            }\n",
    "        },\n",
    "        \"Cedecea\": {\n",
    "            \"Cedecea_neteri\": {\n",
    "                \"Cedecea_neteri\": {\n",
    "                    \"16S_rRNA_file\": \"EAGLEdb/bacteria/Cedecea_neteri_16S_rRNA.fasta\", \n",
    "                    \"fna_file\": \"EAGLEdb/bacteria/GCF_000757825.1_ASM75782v1_genomic.fna\", \n",
    "                    \"download_prefix\": \"ftp://ftp.ncbi.nlm.nih.gov/genomes/all/GCF/000/757/825/GCF_000757825.1_ASM75782v1/GCF_000757825.1_ASM75782v1\", \n",
    "                    \"source_db\": \"refseq\", \n",
    "                    \"repr\": True\n",
    "                }\n",
    "            }\n",
    "        },\n",
    "        \"Kosakonia\": {\n",
    "            \"Kosakonia_sacchari\": {\n",
    "                \"Kosakonia_sacchari_SP1\": {\n",
    "                    \"16S_rRNA_file\": \"EAGLEdb/bacteria/Kosakonia_sacchari_SP1_16S_rRNA.fasta\", \n",
    "                    \"fna_file\": \"EAGLEdb/bacteria/GCA_000300455.4_ASM30045v4_genomic.fna\", \n",
    "                    \"download_prefix\": \"ftp://ftp.ncbi.nlm.nih.gov/genomes/all/GCA/000/300/455/GCA_000300455.4_ASM30045v4/GCA_000300455.4_ASM30045v4\", \n",
    "                    \"source_db\": \"genbank\", \n",
    "                    \"repr\": True\n",
    "                }\n",
    "            }, \n",
    "            \"Kosakonia_cowanii\": {\n",
    "                \"Kosakonia_cowanii\": {\n",
    "                    \"16S_rRNA_file\": \"EAGLEdb/bacteria/Kosakonia_cowanii_16S_rRNA.fasta\", \n",
    "                    \"fna_file\": \"EAGLEdb/bacteria/GCF_001975225.1_ASM197522v1_genomic.fna\", \n",
    "                    \"download_prefix\": \"ftp://ftp.ncbi.nlm.nih.gov/genomes/all/GCF/001/975/225/GCF_001975225.1_ASM197522v1/GCF_001975225.1_ASM197522v1\", \n",
    "                    \"source_db\": \"refseq\", \n",
    "                    \"repr\": True\n",
    "                }\n",
    "            }\n",
    "        },\n",
    "        \"Pluralibacter\": {\n",
    "            \"Pluralibacter_gergoviae\": {\n",
    "                \"Pluralibacter_gergoviae\": {\n",
    "                    \"16S_rRNA_file\": \"EAGLEdb/bacteria/Pluralibacter_gergoviae_16S_rRNA.fasta\", \n",
    "                    \"fna_file\": \"EAGLEdb/bacteria/GCA_000757785.1_ASM75778v1_genomic.fna\", \n",
    "                    \"download_prefix\": \n",
    "                    \"ftp://ftp.ncbi.nlm.nih.gov/genomes/all/GCA/000/757/785/GCA_000757785.1_ASM75778v1/GCA_000757785.1_ASM75778v1\", \n",
    "                    \"source_db\": \"genbank\", \n",
    "                    \"repr\": True\n",
    "                }\n",
    "            }\n",
    "        }, \n",
    "        \"Shimwellia\": {\n",
    "            \"Shimwellia_blattae\": {\n",
    "                \"Shimwellia_blattae_DSM_4481_=_NBRC_105725\": {\n",
    "                    \"16S_rRNA_file\": \"EAGLEdb/bacteria/Shimwellia_blattae_DSM_4481_=_NBRC_105725_16S_rRNA.fasta\", \n",
    "                    \"fna_file\": \"EAGLEdb/bacteria/GCF_000262305.1_ASM26230v1_genomic.fna\", \n",
    "                    \"download_prefix\": \"ftp://ftp.ncbi.nlm.nih.gov/genomes/all/GCF/000/262/305/GCF_000262305.1_ASM26230v1/GCF_000262305.1_ASM26230v1\", \n",
    "                    \"source_db\": \"refseq\", \n",
    "                    \"repr\": True\n",
    "                }\n",
    "            }\n",
    "        }, \n",
    "        \"secondary\": {\n",
    "            \"secondary_endosymbiont\": {\n",
    "                \"secondary_endosymbiont_of_Trabutina_mannipara\": {\n",
    "                    \"16S_rRNA_file\": \"EAGLEdb/bacteria/secondary_endosymbiont_of_Trabutina_mannipara_16S_rRNA.fasta\", \n",
    "                    \"fna_file\": \"EAGLEdb/bacteria/GCA_900090215.1_TRABTM_genomic.fna\", \n",
    "                    \"download_prefix\": \"ftp://ftp.ncbi.nlm.nih.gov/genomes/all/GCA/900/090/215/GCA_900090215.1_TRABTM/GCA_900090215.1_TRABTM\", \n",
    "                    \"source_db\": \"genbank\", \n",
    "                    \"repr\": True\n",
    "                }\n",
    "            }\n",
    "        },\n",
    "        \"Cronobacter\": {\n",
    "            \"Cronobacter_sakazakii\": {\n",
    "                \"Cronobacter_sakazakii\": {\n",
    "                    \"16S_rRNA_file\": \"EAGLEdb/bacteria/Cronobacter_sakazakii_16S_rRNA.fasta\", \n",
    "                    \"fna_file\": \"EAGLEdb/bacteria/GCF_000982825.1_ASM98282v1_genomic.fna\", \n",
    "                    \"download_prefix\": \"ftp://ftp.ncbi.nlm.nih.gov/genomes/all/GCF/000/982/825/GCF_000982825.1_ASM98282v1/GCF_000982825.1_ASM98282v1\", \n",
    "                    \"source_db\": \"refseq\", \n",
    "                    \"repr\": True\n",
    "                }\n",
    "            }\n",
    "        },\n",
    "        \"repr_profile\": \"EAGLEdb/bacteria/Enterobacteriaceae.hmm\", \n",
    "        \"16S_rRNA_tsv\": \"EAGLEdb/bacteria/Enterobacteriaceae_16S_rRNA.tsv\", \n",
    "        \"fam_fna\": \"EAGLEdb/bacteria/Enterobacteriaceae.fasta\", \n",
    "        \"16S_rRNA_fasta\": \"EAGLEdb/bacteria/Enterobacteriaceae_16S_rRNA.fasta\", \n",
    "        \"blastdb\": \"EAGLEdb/bacteria/Enterobacteriaceae_blastdb/Enterobacteriaceae\", \n",
    "        \"16S_rRNA_tree\": {\n",
    "            \"full_seq_names\": {\n",
    "                \"Plsta__x_0\": {\"organism_name\": \"Plautia_stali_symbiont\"}, \n",
    "                \"Crsak__x_3\": {\"organism_name\": \"Cronobacter_sakazakii\"}, \n",
    "                \"Shbla__x_1\": {\"organism_name\": \"Shimwellia_blattae_DSM_4481_=_NBRC_105725\"}, \n",
    "                \"Plger__x_5\": {\"organism_name\": \"Pluralibacter_gergoviae\"}, \n",
    "                \"seend__x__\": {\"organism_name\": \"secondary_endosymbiont_of_Trabutina_mannipara\"}, \n",
    "                \"Kocow__x_1\": {\"organism_name\": \"Kosakonia_cowanii\"}, \n",
    "                \"Kosac__x_4\": {\"organism_name\": \"Kosakonia_sacchari_SP1\"}, \n",
    "                \"Cenet__x_1\": {\"organism_name\": \"Cedecea_neteri\"}\n",
    "            }, \n",
    "            \"newick\": \"((((((seend__x__:0.089128,(((((((Cenet__x_2:-0.000001,(Cenet__x_3:0.000000,Cenet__x_4:-0.000000):0.000001):0.000003,Cenet__x_0:-0.000003):0.000019,Cenet__x_5:-0.000019):0.000059,Cenet__x__:-0.000059):0.000214,Cenet__x_1:-0.000214):0.016438,(((((((Kosac__x_2:-0.000000,(Kosac__x_0:0.000000,Kosac__x_1:-0.000000):0.000000):0.000002,Kosac__x_5:-0.000002):0.000019,Kosac__x__:-0.000019):0.000025,Kosac__x_3:-0.000025):0.000079,Kosac__x_4:-0.000079):0.008846,((Plger__x__:-0.000011,((Plger__x_4:-0.000001,(Plger__x_5:0.000000,(Plger__x_2:-0.000000,Plger__x_1:0.000000):-0.000000):0.000001):0.000001,Plger__x_0:-0.000001):0.000011):0.000063,Plger__x_3:-0.000063):0.010302):0.002742,((((Kocow__x_4:-0.000005,(Kocow__x_2:-0.000004,(Kocow__x_5:-0.000004,Kocow__x_3:0.000004):0.000004):0.000005):0.000009,Kocow__x__:-0.000009):0.000019,Kocow__x_0:-0.000019):0.000070,Kocow__x_1:-0.000070):0.013207):0.001487):0.002120,((Shbla__x_1:-0.000518,(((Shbla__x_2:-0.000015,Shbla__x_4:0.000015):0.000054,Shbla__x__:-0.000054):0.000023,(((Shbla__x_0:0.000034,Shbla__x_3:-0.000034):0.000037,Shbla__x_6:-0.000037):0.000047,Shbla__x_5:-0.000047):0.000046):0.000483):0.016279,((((((Crsak__x__:0.000001,Crsak__x_2:-0.000001):0.000002,Crsak__x_5:-0.000002):0.000002,Crsak__x_0:-0.000002):0.000012,Crsak__x_4:-0.000012):0.000042,Crsak__x_1:-0.000042):0.000435,Crsak__x_3:-0.000435):0.012426):0.005990):0.001677):0.018294,Plsta__x_0:-0.000937):0.000937,Plsta__x_4:-0.000016):0.000016,Plsta__x_2:-0.000011):0.000011,Plsta__x_3:-0.000009):0.000009,Plsta__x_1:-0.000007,Plsta__x__:0.000007);\"\n",
    "        } \n",
    "    }\n",
    "}\n",
    "\n",
    "btax_data = entero_data[\"Enterobacteriaceae\"]"
   ]
  },
  {
   "cell_type": "code",
   "execution_count": 49,
   "metadata": {},
   "outputs": [
    {
     "data": {
      "text/plain": [
       "<bound method Tree.get_nonterminals of Tree(rooted=False, weight=1.0)>"
      ]
     },
     "execution_count": 49,
     "metadata": {},
     "output_type": "execute_result"
    }
   ],
   "source": [
    "tree = Phylo.read(\"../../../entero_tree.nwk\", \"newick\")"
   ]
  },
  {
   "cell_type": "code",
   "execution_count": 20,
   "metadata": {},
   "outputs": [
    {
     "name": "stdout",
     "output_type": "stream",
     "text": [
      "1\n",
      "{'C': 3, 'B': 2}\n"
     ]
    }
   ],
   "source": [
    "class C(object):\n",
    "    \n",
    "    def __init__(self, d):\n",
    "        self.d = d\n",
    "    \n",
    "    def __getitem__(self, d_id):\n",
    "        return self.d[d_id]\n",
    "    \n",
    "    def __setitem__(self, d_id, d_data):\n",
    "        self.d[d_id] = d_data\n",
    "    \n",
    "    def __delitem__(self, d_id):\n",
    "        del self.d[d_id]\n",
    "\n",
    "c = C({\"A\": 1, \"B\": 2})\n",
    "c[\"C\"] = 3\n",
    "print(c[\"A\"])\n",
    "del c[\"A\"]\n",
    "print(c.d)"
   ]
  },
  {
   "cell_type": "code",
   "execution_count": 50,
   "metadata": {},
   "outputs": [
    {
     "data": {
      "text/plain": [
       "[4]"
      ]
     },
     "execution_count": 50,
     "metadata": {},
     "output_type": "execute_result"
    }
   ],
   "source": [
    "l = [1,2,3,4]\n",
    "filter(lambda x: x > 3, l)"
   ]
  }
 ],
 "metadata": {
  "kernelspec": {
   "display_name": "Python 2",
   "language": "python",
   "name": "python2"
  },
  "language_info": {
   "codemirror_mode": {
    "name": "ipython",
    "version": 2
   },
   "file_extension": ".py",
   "mimetype": "text/x-python",
   "name": "python",
   "nbconvert_exporter": "python",
   "pygments_lexer": "ipython2",
   "version": "2.7.12"
  }
 },
 "nbformat": 4,
 "nbformat_minor": 2
}
