{
 "cells": [
  {
   "cell_type": "markdown",
   "metadata": {},
   "source": [
    "# Notebook for EAGLE.lib modules development\n",
    "This notebook should be run from test environvent (not development)"
   ]
  },
  {
   "cell_type": "code",
   "execution_count": 1,
   "metadata": {},
   "outputs": [],
   "source": [
    "# imports\n",
    "import os\n",
    "from collections import defaultdict\n",
    "\n",
    "import numpy\n",
    "import pandas\n",
    "from scipy.stats import chisquare\n",
    "\n",
    "from EAGLE.lib.seqs import load_fasta_to_dict\n",
    "from EAGLE.lib.alignment import MultAln"
   ]
  },
  {
   "cell_type": "markdown",
   "metadata": {},
   "source": [
    "## Conservative columns uniformity"
   ]
  },
  {
   "cell_type": "code",
   "execution_count": 2,
   "metadata": {},
   "outputs": [],
   "source": [
    "# constants\n",
    "CONS_THR = 1.0\n",
    "\n",
    "# input\n",
    "workdir = \"/media/denis/Data/Data/Bioinf/Projects/Reverse_ORFs/alignments/DnaK/\"\n",
    "dnaK_AORFs_aln_fasta = os.path.join(workdir, \"dnaK_AORFs_aln.fasta\")\n",
    "PF00208_aln_fasta = os.path.join(workdir, \"PF00208_seed_aln.fasta\")\n",
    "PF05088_aln_fasta = os.path.join(workdir, \"PF05088_seed_aln.fasta\")"
   ]
  },
  {
   "cell_type": "code",
   "execution_count": 16,
   "metadata": {},
   "outputs": [],
   "source": [
    "def estimate_irregularity(mult_aln_dict, cons_thr=CONS_THR, window_l=150, windows_step=75):  # This function will be the MultAln classmethod\n",
    "    # mult_aln_dict will be replaced with self.mult_aln_dict\n",
    "    windows_list = list()\n",
    "    i = 0\n",
    "    while i < (len(mult_aln_dict[mult_aln_dict.keys()[0]])):\n",
    "        windows_list.append(dict((seq_id, mult_aln_dict[seq_id][i: i+window_l]) for seq_id in mult_aln_dict))\n",
    "        i += windows_step\n",
    "    cons_cols_by_windows = numpy.array([cons_cols_num(w, cons_thr=cons_thr) for w in windows_list])\n",
    "    print(cons_cols_by_windows, cons_cols_by_windows.mean())\n",
    "    return chisquare(cons_cols_by_windows)\n",
    "\n",
    "\n",
    "def cons_cols_num(mult_aln_dict, cons_thr=CONS_THR):\n",
    "    cln = 0\n",
    "    for i in range(len(mult_aln_dict[mult_aln_dict.keys()[0]])):\n",
    "        s_num_dict = defaultdict(int)\n",
    "        for seq_id in mult_aln_dict:\n",
    "            s_num_dict[mult_aln_dict[seq_id][i].lower()] += 1\n",
    "        all_s_num = sum(s_num_dict.values())\n",
    "        if float(s_num_dict.get(\"-\", 0))/float(all_s_num) <= 1.0-cons_thr:\n",
    "            if float(sorted(s_num_dict.values(), reverse=True)[0])/float(all_s_num) >= cons_thr:\n",
    "                cln += 1\n",
    "    return cln\n",
    "\n",
    "\n",
    "def rarefy(mult_aln_dict, seqs_to_remain=100):\n",
    "    seqs_ids = mult_aln_dict.keys()\n",
    "    if len(seqs_ids) <= seqs_to_remain:\n",
    "        return mult_aln_dict\n",
    "    rarefyed_aln_dict = dict()\n",
    "    for i in range(seqs_to_remain):\n",
    "        seq_id = None\n",
    "        seq_id = seqs_ids.pop(numpy.random.randint(len(seqs_ids)))\n",
    "        rarefyed_aln_dict[seq_id] = mult_aln_dict[seq_id]\n",
    "    return rarefyed_aln_dict"
   ]
  },
  {
   "cell_type": "code",
   "execution_count": 4,
   "metadata": {},
   "outputs": [
    {
     "ename": "TypeError",
     "evalue": "coercing to Unicode: need string or buffer, dict found",
     "output_type": "error",
     "traceback": [
      "\u001b[0;31m---------------------------------------------------------------------------\u001b[0m",
      "\u001b[0;31mTypeError\u001b[0m                                 Traceback (most recent call last)",
      "\u001b[0;32m<ipython-input-4-64f8ea070e8b>\u001b[0m in \u001b[0;36m<module>\u001b[0;34m()\u001b[0m\n\u001b[1;32m      1\u001b[0m \u001b[0;31m#dnaK_AORFs_aln_dict = MultAln(MultAln.load_alignment(dnaK_AORFs_aln_fasta).rarefy())\u001b[0m\u001b[0;34m\u001b[0m\u001b[0;34m\u001b[0m\u001b[0m\n\u001b[0;32m----> 2\u001b[0;31m \u001b[0mPF00208_aln_dict\u001b[0m \u001b[0;34m=\u001b[0m \u001b[0mMultAln\u001b[0m\u001b[0;34m.\u001b[0m\u001b[0mload_alignment\u001b[0m\u001b[0;34m(\u001b[0m\u001b[0mPF00208_aln_fasta\u001b[0m\u001b[0;34m)\u001b[0m\u001b[0;34m\u001b[0m\u001b[0m\n\u001b[0m\u001b[1;32m      3\u001b[0m \u001b[0mPF05088_aln_dict\u001b[0m \u001b[0;34m=\u001b[0m \u001b[0mMultAln\u001b[0m\u001b[0;34m.\u001b[0m\u001b[0mload_alignment\u001b[0m\u001b[0;34m(\u001b[0m\u001b[0mPF05088_aln_fasta\u001b[0m\u001b[0;34m)\u001b[0m\u001b[0;34m\u001b[0m\u001b[0m\n\u001b[1;32m      4\u001b[0m \u001b[0;34m\u001b[0m\u001b[0m\n\u001b[1;32m      5\u001b[0m \u001b[0;32mprint\u001b[0m\u001b[0;34m(\u001b[0m\u001b[0mestimate_irregularity\u001b[0m\u001b[0;34m(\u001b[0m\u001b[0mmult_aln_dict\u001b[0m\u001b[0;34m=\u001b[0m\u001b[0mdnaK_AORFs_aln_dict\u001b[0m\u001b[0;34m,\u001b[0m \u001b[0mwindow_l\u001b[0m\u001b[0;34m=\u001b[0m\u001b[0;36m50\u001b[0m\u001b[0;34m,\u001b[0m \u001b[0mwindows_step\u001b[0m\u001b[0;34m=\u001b[0m\u001b[0;36m25\u001b[0m\u001b[0;34m)\u001b[0m\u001b[0;34m)\u001b[0m  \u001b[0;31m# 150; 75\u001b[0m\u001b[0;34m\u001b[0m\u001b[0m\n",
      "\u001b[0;32m/media/denis/Data/Data/Bioinf/Projects/Annotation/comparative/EAGLE_run_venv/local/lib/python2.7/site-packages/EAGLE/lib/alignment.pyc\u001b[0m in \u001b[0;36mload_alignment\u001b[0;34m(cls, aln_fasta_path, aln_type, aln_name, config_path, logger)\u001b[0m\n\u001b[1;32m     70\u001b[0m                    \u001b[0maln_name\u001b[0m\u001b[0;34m=\u001b[0m\u001b[0maln_name\u001b[0m\u001b[0;34m,\u001b[0m\u001b[0;34m\u001b[0m\u001b[0m\n\u001b[1;32m     71\u001b[0m                    \u001b[0mconfig_path\u001b[0m\u001b[0;34m=\u001b[0m\u001b[0mconfig_path\u001b[0m\u001b[0;34m,\u001b[0m\u001b[0;34m\u001b[0m\u001b[0m\n\u001b[0;32m---> 72\u001b[0;31m                    logger=logger)\n\u001b[0m\u001b[1;32m     73\u001b[0m \u001b[0;34m\u001b[0m\u001b[0m\n\u001b[1;32m     74\u001b[0m     def improve_aln(self,\n",
      "\u001b[0;32m/media/denis/Data/Data/Bioinf/Projects/Annotation/comparative/EAGLE_run_venv/local/lib/python2.7/site-packages/EAGLE/lib/alignment.pyc\u001b[0m in \u001b[0;36m__init__\u001b[0;34m(self, mult_aln_dict, aln_type, states_seq, aln_name, tmp_dir, emboss_inst_dir, hmmer_inst_dir, config_path, logger)\u001b[0m\n\u001b[1;32m     40\u001b[0m         \u001b[0mself\u001b[0m\u001b[0;34m.\u001b[0m\u001b[0maln_type\u001b[0m \u001b[0;34m=\u001b[0m \u001b[0maln_type\u001b[0m\u001b[0;34m\u001b[0m\u001b[0m\n\u001b[1;32m     41\u001b[0m         \u001b[0;32mif\u001b[0m \u001b[0;32mnot\u001b[0m \u001b[0mself\u001b[0m\u001b[0;34m.\u001b[0m\u001b[0maln_type\u001b[0m\u001b[0;34m:\u001b[0m\u001b[0;34m\u001b[0m\u001b[0m\n\u001b[0;32m---> 42\u001b[0;31m             \u001b[0mself\u001b[0m\u001b[0;34m.\u001b[0m\u001b[0maln_type\u001b[0m \u001b[0;34m=\u001b[0m \u001b[0mdetect_seqs_type\u001b[0m\u001b[0;34m(\u001b[0m\u001b[0mself\u001b[0m\u001b[0;34m.\u001b[0m\u001b[0mmult_aln_dict\u001b[0m\u001b[0;34m)\u001b[0m\u001b[0;34m\u001b[0m\u001b[0m\n\u001b[0m\u001b[1;32m     43\u001b[0m         \u001b[0mself\u001b[0m\u001b[0;34m.\u001b[0m\u001b[0mdistance_matrix\u001b[0m \u001b[0;34m=\u001b[0m \u001b[0mNone\u001b[0m\u001b[0;34m\u001b[0m\u001b[0m\n\u001b[1;32m     44\u001b[0m         \u001b[0mself\u001b[0m\u001b[0;34m.\u001b[0m\u001b[0maln_name\u001b[0m \u001b[0;34m=\u001b[0m \u001b[0maln_name\u001b[0m\u001b[0;34m\u001b[0m\u001b[0m\n",
      "\u001b[0;32m/media/denis/Data/Data/Bioinf/Projects/Annotation/comparative/EAGLE_run_venv/local/lib/python2.7/site-packages/EAGLE/lib/alignment.pyc\u001b[0m in \u001b[0;36mdetect_seqs_type\u001b[0;34m(fasta_path, fasta_dict, nuc_freq_thr)\u001b[0m\n\u001b[1;32m    493\u001b[0m     \u001b[0msumm_l\u001b[0m \u001b[0;34m=\u001b[0m \u001b[0;36m0\u001b[0m\u001b[0;34m\u001b[0m\u001b[0m\n\u001b[1;32m    494\u001b[0m     \u001b[0;32mif\u001b[0m \u001b[0;32mnot\u001b[0m \u001b[0mfasta_dict\u001b[0m \u001b[0;32mand\u001b[0m \u001b[0mfasta_path\u001b[0m\u001b[0;34m:\u001b[0m\u001b[0;34m\u001b[0m\u001b[0m\n\u001b[0;32m--> 495\u001b[0;31m         \u001b[0mfasta_dict\u001b[0m \u001b[0;34m=\u001b[0m \u001b[0mload_fasta_to_dict\u001b[0m\u001b[0;34m(\u001b[0m\u001b[0mfasta_path\u001b[0m\u001b[0;34m)\u001b[0m\u001b[0;34m.\u001b[0m\u001b[0mlower\u001b[0m\u001b[0;34m(\u001b[0m\u001b[0;34m)\u001b[0m\u001b[0;34m.\u001b[0m\u001b[0mreplace\u001b[0m\u001b[0;34m(\u001b[0m\u001b[0;34m\"-\"\u001b[0m\u001b[0;34m,\u001b[0m \u001b[0;34m\"\"\u001b[0m\u001b[0;34m)\u001b[0m\u001b[0;34m\u001b[0m\u001b[0m\n\u001b[0m\u001b[1;32m    496\u001b[0m         \u001b[0;32mfor\u001b[0m \u001b[0mseq_key\u001b[0m \u001b[0;32min\u001b[0m \u001b[0mfasta_dict\u001b[0m\u001b[0;34m.\u001b[0m\u001b[0mkeys\u001b[0m\u001b[0;34m(\u001b[0m\u001b[0;34m)\u001b[0m\u001b[0;34m:\u001b[0m\u001b[0;34m\u001b[0m\u001b[0m\n\u001b[1;32m    497\u001b[0m             \u001b[0mseqs_list\u001b[0m\u001b[0;34m.\u001b[0m\u001b[0mappend\u001b[0m\u001b[0;34m(\u001b[0m\u001b[0mfasta_dict\u001b[0m\u001b[0;34m[\u001b[0m\u001b[0mseq_key\u001b[0m\u001b[0;34m]\u001b[0m\u001b[0;34m)\u001b[0m\u001b[0;34m\u001b[0m\u001b[0m\n",
      "\u001b[0;32m/media/denis/Data/Data/Bioinf/Projects/Annotation/comparative/EAGLE_run_venv/local/lib/python2.7/site-packages/EAGLE/lib/seqs.pyc\u001b[0m in \u001b[0;36mload_fasta_to_dict\u001b[0;34m(fasta_path)\u001b[0m\n\u001b[1;32m     50\u001b[0m     \u001b[0mseq_list\u001b[0m \u001b[0;34m=\u001b[0m \u001b[0mlist\u001b[0m\u001b[0;34m(\u001b[0m\u001b[0;34m)\u001b[0m\u001b[0;34m\u001b[0m\u001b[0m\n\u001b[1;32m     51\u001b[0m     \u001b[0mtitle\u001b[0m \u001b[0;34m=\u001b[0m \u001b[0mNone\u001b[0m\u001b[0;34m\u001b[0m\u001b[0m\n\u001b[0;32m---> 52\u001b[0;31m     \u001b[0mfasta_f\u001b[0m \u001b[0;34m=\u001b[0m \u001b[0mopen\u001b[0m\u001b[0;34m(\u001b[0m\u001b[0mfasta_path\u001b[0m\u001b[0;34m)\u001b[0m\u001b[0;34m\u001b[0m\u001b[0m\n\u001b[0m\u001b[1;32m     53\u001b[0m     \u001b[0;32mfor\u001b[0m \u001b[0mline_\u001b[0m \u001b[0;32min\u001b[0m \u001b[0mfasta_f\u001b[0m\u001b[0;34m:\u001b[0m\u001b[0;34m\u001b[0m\u001b[0m\n\u001b[1;32m     54\u001b[0m         \u001b[0mline\u001b[0m \u001b[0;34m=\u001b[0m \u001b[0mNone\u001b[0m\u001b[0;34m\u001b[0m\u001b[0m\n",
      "\u001b[0;31mTypeError\u001b[0m: coercing to Unicode: need string or buffer, dict found"
     ]
    }
   ],
   "source": [
    "#dnaK_AORFs_aln_dict = MultAln(MultAln.load_alignment(dnaK_AORFs_aln_fasta).rarefy())\n",
    "PF00208_aln_dict = MultAln.load_alignment(PF00208_aln_fasta)\n",
    "PF05088_aln_dict = MultAln.load_alignment(PF05088_aln_fasta)\n",
    "\n",
    "print(estimate_irregularity(mult_aln_dict=dnaK_AORFs_aln_dict, window_l=50, windows_step=25))  # 150; 75\n",
    "print(estimate_irregularity(mult_aln_dict=PF00208_aln_dict, window_l=50, windows_step=25))  # 60; 30\n",
    "print(estimate_irregularity(mult_aln_dict=PF05088_aln_dict, window_l=50, windows_step=25))  # 300; 150"
   ]
  },
  {
   "cell_type": "code",
   "execution_count": 112,
   "metadata": {
    "scrolled": false
   },
   "outputs": [
    {
     "name": "stdout",
     "output_type": "stream",
     "text": [
      "Number of sequences: 100; alignment length 859\n",
      "Number of sequences: 97; alignment length 353\n",
      "Number of sequences: 113; alignment length 1934\n"
     ]
    }
   ],
   "source": [
    "print(\"Number of sequences: %s; alignment length %s\" % (len(dnaK_AORFs_aln_dict), len(dnaK_AORFs_aln_dict[dnaK_AORFs_aln_dict.keys()[0]])))\n",
    "print(\"Number of sequences: %s; alignment length %s\" % (len(PF00208_aln_dict), len(PF00208_aln_dict[PF00208_aln_dict.keys()[0]])))\n",
    "print(\"Number of sequences: %s; alignment length %s\" % (len(PF05088_aln_dict), len(PF05088_aln_dict[PF05088_aln_dict.keys()[0]])))"
   ]
  },
  {
   "cell_type": "code",
   "execution_count": 18,
   "metadata": {
    "scrolled": true
   },
   "outputs": [
    {
     "data": {
      "text/html": [
       "<div>\n",
       "<style scoped>\n",
       "    .dataframe tbody tr th:only-of-type {\n",
       "        vertical-align: middle;\n",
       "    }\n",
       "\n",
       "    .dataframe tbody tr th {\n",
       "        vertical-align: top;\n",
       "    }\n",
       "\n",
       "    .dataframe thead th {\n",
       "        text-align: right;\n",
       "    }\n",
       "</style>\n",
       "<table border=\"1\" class=\"dataframe\">\n",
       "  <thead>\n",
       "    <tr style=\"text-align: right;\">\n",
       "      <th></th>\n",
       "      <th>PF00208_P</th>\n",
       "      <th>PF05088_P</th>\n",
       "      <th>cons</th>\n",
       "      <th>dnaK_AORFs_P</th>\n",
       "    </tr>\n",
       "  </thead>\n",
       "  <tbody>\n",
       "    <tr>\n",
       "      <th>0</th>\n",
       "      <td>0.00010</td>\n",
       "      <td>0</td>\n",
       "      <td>80%</td>\n",
       "      <td>0.000000e+00</td>\n",
       "    </tr>\n",
       "    <tr>\n",
       "      <th>1</th>\n",
       "      <td>0.00610</td>\n",
       "      <td>0</td>\n",
       "      <td>90%</td>\n",
       "      <td>2.070000e-10</td>\n",
       "    </tr>\n",
       "    <tr>\n",
       "      <th>2</th>\n",
       "      <td>0.01630</td>\n",
       "      <td>0</td>\n",
       "      <td>95%</td>\n",
       "      <td>3.600000e-04</td>\n",
       "    </tr>\n",
       "    <tr>\n",
       "      <th>3</th>\n",
       "      <td>0.03900</td>\n",
       "      <td>0</td>\n",
       "      <td>98%</td>\n",
       "      <td>2.500000e-04</td>\n",
       "    </tr>\n",
       "    <tr>\n",
       "      <th>4</th>\n",
       "      <td>0.02994</td>\n",
       "      <td>0</td>\n",
       "      <td>100%</td>\n",
       "      <td>4.360000e-01</td>\n",
       "    </tr>\n",
       "  </tbody>\n",
       "</table>\n",
       "</div>"
      ],
      "text/plain": [
       "   PF00208_P  PF05088_P  cons  dnaK_AORFs_P\n",
       "0    0.00010          0   80%  0.000000e+00\n",
       "1    0.00610          0   90%  2.070000e-10\n",
       "2    0.01630          0   95%  3.600000e-04\n",
       "3    0.03900          0   98%  2.500000e-04\n",
       "4    0.02994          0  100%  4.360000e-01"
      ]
     },
     "execution_count": 18,
     "metadata": {},
     "output_type": "execute_result"
    }
   ],
   "source": [
    "res = [\n",
    "    {\"cons\": \"80%\", \"dnaK_AORFs_P\": 0, \"PF00208_P\": 0.0001, \"PF05088_P\": 0},  # 2.8e-102\n",
    "    {\"cons\": \"90%\", \"dnaK_AORFs_P\": 2.07e-10, \"PF00208_P\": 0.0061, \"PF05088_P\": 0},  # 1.22e-116\n",
    "    {\"cons\": \"95%\", \"dnaK_AORFs_P\": 0.00036, \"PF00208_P\": 0.0163, \"PF05088_P\": 0},  # 7.04e-124\n",
    "    {\"cons\": \"98%\", \"dnaK_AORFs_P\": 0.00025, \"PF00208_P\": 0.039, \"PF05088_P\": 0},  # 1.56e-125\n",
    "    {\"cons\": \"100%\", \"dnaK_AORFs_P\": 0.436, \"PF00208_P\": 0.02994, \"PF05088_P\": 0},  # 2.54e-116\n",
    "]\n",
    "pandas.DataFrame(res)"
   ]
  },
  {
   "cell_type": "code",
   "execution_count": 5,
   "metadata": {},
   "outputs": [
    {
     "data": {
      "text/plain": [
       "\"Hello! I'm a test file\\n\""
      ]
     },
     "execution_count": 5,
     "metadata": {},
     "output_type": "execute_result"
    }
   ],
   "source": [
    "f = open(\"../tests/test_data/lib/f1.txt\")\n",
    "f.readline()"
   ]
  },
  {
   "cell_type": "code",
   "execution_count": 19,
   "metadata": {},
   "outputs": [
    {
     "data": {
      "text/plain": [
       "''"
      ]
     },
     "execution_count": 19,
     "metadata": {},
     "output_type": "execute_result"
    }
   ],
   "source": [
    "f."
   ]
  }
 ],
 "metadata": {
  "kernelspec": {
   "display_name": "Python 2",
   "language": "python",
   "name": "python2"
  },
  "language_info": {
   "codemirror_mode": {
    "name": "ipython",
    "version": 2
   },
   "file_extension": ".py",
   "mimetype": "text/x-python",
   "name": "python",
   "nbconvert_exporter": "python",
   "pygments_lexer": "ipython2",
   "version": "2.7.12"
  }
 },
 "nbformat": 4,
 "nbformat_minor": 2
}
